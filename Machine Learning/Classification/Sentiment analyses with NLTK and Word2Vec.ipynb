{
 "cells": [
  {
   "cell_type": "markdown",
   "metadata": {},
   "source": [
    "### Imports"
   ]
  },
  {
   "cell_type": "code",
   "execution_count": 12,
   "metadata": {},
   "outputs": [
    {
     "name": "stderr",
     "output_type": "stream",
     "text": [
      "[nltk_data] Downloading package stopwords to /home/jovyan/nltk_data...\n",
      "[nltk_data]   Package stopwords is already up-to-date!\n"
     ]
    }
   ],
   "source": [
    "from gensim.models import Word2Vec, KeyedVectors\n",
    "import logging\n",
    "import matplotlib as mpl\n",
    "import matplotlib.pyplot as plt\n",
    "import nltk\n",
    "from nltk.corpus import stopwords \n",
    "nltk.download('stopwords')\n",
    "import numpy as np\n",
    "import pandas as pd\n",
    "import seaborn as sns\n",
    "from sklearn.neighbors import KNeighborsClassifier\n",
    "from sklearn.linear_model import Perceptron\n",
    "from sklearn.metrics import accuracy_score, precision_score, recall_score, f1_score # Métricas\n",
    "from sklearn.model_selection import train_test_split\n",
    "import string\n",
    "\n",
    "\n",
    "mpl.rcParams['figure.figsize'] = (10, 7)"
   ]
  },
  {
   "cell_type": "markdown",
   "metadata": {},
   "source": [
    "### Data"
   ]
  },
  {
   "cell_type": "code",
   "execution_count": 13,
   "metadata": {},
   "outputs": [
    {
     "data": {
      "text/html": [
       "<div>\n",
       "<style scoped>\n",
       "    .dataframe tbody tr th:only-of-type {\n",
       "        vertical-align: middle;\n",
       "    }\n",
       "\n",
       "    .dataframe tbody tr th {\n",
       "        vertical-align: top;\n",
       "    }\n",
       "\n",
       "    .dataframe thead th {\n",
       "        text-align: right;\n",
       "    }\n",
       "</style>\n",
       "<table border=\"1\" class=\"dataframe\">\n",
       "  <thead>\n",
       "    <tr style=\"text-align: right;\">\n",
       "      <th></th>\n",
       "      <th>author_id</th>\n",
       "      <th>created_at</th>\n",
       "      <th>id</th>\n",
       "      <th>lang</th>\n",
       "      <th>retweet_count</th>\n",
       "      <th>text</th>\n",
       "      <th>sinal</th>\n",
       "    </tr>\n",
       "  </thead>\n",
       "  <tbody>\n",
       "    <tr>\n",
       "      <th>0</th>\n",
       "      <td>1,46E+18</td>\n",
       "      <td>2022-08-08T01:08:23Z</td>\n",
       "      <td>1,56E+18</td>\n",
       "      <td>pt</td>\n",
       "      <td>45</td>\n",
       "      <td>RT @EdegarPretto O meu candidato vice-governad...</td>\n",
       "      <td>1.0</td>\n",
       "    </tr>\n",
       "    <tr>\n",
       "      <th>1</th>\n",
       "      <td>1,51E+18</td>\n",
       "      <td>2022-08-08T01:08:23Z</td>\n",
       "      <td>1,56E+18</td>\n",
       "      <td>pt</td>\n",
       "      <td>0</td>\n",
       "      <td>Periga o Argenta chamar o Simon pra responder ...</td>\n",
       "      <td>NaN</td>\n",
       "    </tr>\n",
       "    <tr>\n",
       "      <th>2</th>\n",
       "      <td>1,06E+18</td>\n",
       "      <td>2022-08-08T01:08:21Z</td>\n",
       "      <td>1,56E+18</td>\n",
       "      <td>pt</td>\n",
       "      <td>14</td>\n",
       "      <td>RT @WinstonLing Segue o link para assistirem o...</td>\n",
       "      <td>1.0</td>\n",
       "    </tr>\n",
       "    <tr>\n",
       "      <th>3</th>\n",
       "      <td>7,15E+17</td>\n",
       "      <td>2022-08-08T01:08:20Z</td>\n",
       "      <td>1,56E+18</td>\n",
       "      <td>pt</td>\n",
       "      <td>88</td>\n",
       "      <td>RT @EdegarPretto Eu quero dizer aos gaúchos e ...</td>\n",
       "      <td>NaN</td>\n",
       "    </tr>\n",
       "    <tr>\n",
       "      <th>4</th>\n",
       "      <td>1455004730</td>\n",
       "      <td>2022-08-08T01:08:20Z</td>\n",
       "      <td>1,56E+18</td>\n",
       "      <td>pt</td>\n",
       "      <td>0</td>\n",
       "      <td>@wmfigueiredo @evertonvf @bandrs @EduardoLeite...</td>\n",
       "      <td>0.0</td>\n",
       "    </tr>\n",
       "  </tbody>\n",
       "</table>\n",
       "</div>"
      ],
      "text/plain": [
       "    author_id            created_at        id lang  retweet_count  \\\n",
       "0    1,46E+18  2022-08-08T01:08:23Z  1,56E+18   pt             45   \n",
       "1    1,51E+18  2022-08-08T01:08:23Z  1,56E+18   pt              0   \n",
       "2    1,06E+18  2022-08-08T01:08:21Z  1,56E+18   pt             14   \n",
       "3    7,15E+17  2022-08-08T01:08:20Z  1,56E+18   pt             88   \n",
       "4  1455004730  2022-08-08T01:08:20Z  1,56E+18   pt              0   \n",
       "\n",
       "                                                text  sinal  \n",
       "0  RT @EdegarPretto O meu candidato vice-governad...    1.0  \n",
       "1  Periga o Argenta chamar o Simon pra responder ...    NaN  \n",
       "2  RT @WinstonLing Segue o link para assistirem o...    1.0  \n",
       "3  RT @EdegarPretto Eu quero dizer aos gaúchos e ...    NaN  \n",
       "4  @wmfigueiredo @evertonvf @bandrs @EduardoLeite...    0.0  "
      ]
     },
     "metadata": {},
     "output_type": "display_data"
    },
    {
     "data": {
      "text/plain": [
       "(3000, 7)"
      ]
     },
     "metadata": {},
     "output_type": "display_data"
    }
   ],
   "source": [
    "debate_gov = pd.read_csv('government_debate_twitter.csv', sep=',', encoding='utf-8')\n",
    "display(debate_gov.head())\n",
    "display(debate_gov.shape)"
   ]
  },
  {
   "cell_type": "markdown",
   "metadata": {},
   "source": [
    "#### Selecting only texts and labels"
   ]
  },
  {
   "cell_type": "code",
   "execution_count": 14,
   "metadata": {},
   "outputs": [
    {
     "data": {
      "text/html": [
       "<div>\n",
       "<style scoped>\n",
       "    .dataframe tbody tr th:only-of-type {\n",
       "        vertical-align: middle;\n",
       "    }\n",
       "\n",
       "    .dataframe tbody tr th {\n",
       "        vertical-align: top;\n",
       "    }\n",
       "\n",
       "    .dataframe thead th {\n",
       "        text-align: right;\n",
       "    }\n",
       "</style>\n",
       "<table border=\"1\" class=\"dataframe\">\n",
       "  <thead>\n",
       "    <tr style=\"text-align: right;\">\n",
       "      <th></th>\n",
       "      <th>text</th>\n",
       "      <th>sinal</th>\n",
       "    </tr>\n",
       "  </thead>\n",
       "  <tbody>\n",
       "    <tr>\n",
       "      <th>0</th>\n",
       "      <td>RT @EdegarPretto O meu candidato vice-governad...</td>\n",
       "      <td>1.0</td>\n",
       "    </tr>\n",
       "    <tr>\n",
       "      <th>1</th>\n",
       "      <td>Periga o Argenta chamar o Simon pra responder ...</td>\n",
       "      <td>NaN</td>\n",
       "    </tr>\n",
       "    <tr>\n",
       "      <th>2</th>\n",
       "      <td>RT @WinstonLing Segue o link para assistirem o...</td>\n",
       "      <td>1.0</td>\n",
       "    </tr>\n",
       "    <tr>\n",
       "      <th>3</th>\n",
       "      <td>RT @EdegarPretto Eu quero dizer aos gaúchos e ...</td>\n",
       "      <td>NaN</td>\n",
       "    </tr>\n",
       "    <tr>\n",
       "      <th>4</th>\n",
       "      <td>@wmfigueiredo @evertonvf @bandrs @EduardoLeite...</td>\n",
       "      <td>0.0</td>\n",
       "    </tr>\n",
       "  </tbody>\n",
       "</table>\n",
       "</div>"
      ],
      "text/plain": [
       "                                                text  sinal\n",
       "0  RT @EdegarPretto O meu candidato vice-governad...    1.0\n",
       "1  Periga o Argenta chamar o Simon pra responder ...    NaN\n",
       "2  RT @WinstonLing Segue o link para assistirem o...    1.0\n",
       "3  RT @EdegarPretto Eu quero dizer aos gaúchos e ...    NaN\n",
       "4  @wmfigueiredo @evertonvf @bandrs @EduardoLeite...    0.0"
      ]
     },
     "execution_count": 14,
     "metadata": {},
     "output_type": "execute_result"
    }
   ],
   "source": [
    "debate_gov = debate_gov[['text', 'sinal']]\n",
    "debate_gov.head()"
   ]
  },
  {
   "cell_type": "markdown",
   "metadata": {},
   "source": [
    "## Data cleaning"
   ]
  },
  {
   "cell_type": "markdown",
   "metadata": {},
   "source": [
    "#### Removing null data"
   ]
  },
  {
   "cell_type": "code",
   "execution_count": 15,
   "metadata": {},
   "outputs": [
    {
     "data": {
      "text/plain": [
       "(1372, 2)"
      ]
     },
     "execution_count": 15,
     "metadata": {},
     "output_type": "execute_result"
    }
   ],
   "source": [
    "debate_gov.dropna(inplace=True)\n",
    "debate_gov.shape"
   ]
  },
  {
   "cell_type": "markdown",
   "metadata": {},
   "source": [
    "Verificando o balanceamento do nosso Dataset"
   ]
  },
  {
   "cell_type": "code",
   "execution_count": 16,
   "metadata": {},
   "outputs": [
    {
     "data": {
      "image/png": "[encoded data removed]",
      "text/plain": [
       "<Figure size 1000x700 with 1 Axes>"
      ]
     },
     "metadata": {},
     "output_type": "display_data"
    }
   ],
   "source": [
    "debate_gov['sinal'].value_counts().plot(kind='bar', color=['red', 'green']);\n",
    "plt.title('Class distribution', fontsize=20);\n",
    "plt.xlabel('Class', fontsize=15);\n",
    "plt.ylabel('Amount', fontsize=15);\n",
    "sns.set_style(\"whitegrid\");"
   ]
  },
  {
   "cell_type": "markdown",
   "metadata": {},
   "source": [
    "#### Apart from stop words, punctuations, numbers..."
   ]
  },
  {
   "cell_type": "code",
   "execution_count": 17,
   "metadata": {},
   "outputs": [],
   "source": [
    "def pre_process_text(texto):\n",
    "    palavras_extras = ['bandrs', 'band', 'link', 'rt', 'debate']\n",
    "    nopont = [char for char in texto if char not in string.punctuation]\n",
    "    nopont = ''.join(nopont)\n",
    "    sms = [word for word in nopont.split() if not word.isnumeric()]\n",
    "    sms = [word for word in sms if word.lower() not in palavras_extras]\n",
    "    sms = [word for word in sms if word.lower() not in stopwords.words('portuguese')]\n",
    "    sms = ' '.join(sms)\n",
    "    return sms\n",
    "\n",
    "\n",
    "textos_processados = debate_gov['text'].apply(pre_process_text)"
   ]
  },
  {
   "cell_type": "markdown",
   "metadata": {},
   "source": [
    "#### New DataFrame processed"
   ]
  },
  {
   "cell_type": "code",
   "execution_count": 18,
   "metadata": {},
   "outputs": [
    {
     "data": {
      "text/html": [
       "<div>\n",
       "<style scoped>\n",
       "    .dataframe tbody tr th:only-of-type {\n",
       "        vertical-align: middle;\n",
       "    }\n",
       "\n",
       "    .dataframe tbody tr th {\n",
       "        vertical-align: top;\n",
       "    }\n",
       "\n",
       "    .dataframe thead th {\n",
       "        text-align: right;\n",
       "    }\n",
       "</style>\n",
       "<table border=\"1\" class=\"dataframe\">\n",
       "  <thead>\n",
       "    <tr style=\"text-align: right;\">\n",
       "      <th></th>\n",
       "      <th>text</th>\n",
       "      <th>sinal</th>\n",
       "    </tr>\n",
       "  </thead>\n",
       "  <tbody>\n",
       "    <tr>\n",
       "      <th>0</th>\n",
       "      <td>EdegarPretto candidato vicegovernador PedroRua...</td>\n",
       "      <td>1.0</td>\n",
       "    </tr>\n",
       "    <tr>\n",
       "      <th>2</th>\n",
       "      <td>WinstonLing Segue assistirem hoje internet vam...</td>\n",
       "      <td>1.0</td>\n",
       "    </tr>\n",
       "    <tr>\n",
       "      <th>4</th>\n",
       "      <td>wmfigueiredo evertonvf EduardoLeite gostam gov...</td>\n",
       "      <td>0.0</td>\n",
       "    </tr>\n",
       "    <tr>\n",
       "      <th>5</th>\n",
       "      <td>EduardoLeite 🤡</td>\n",
       "      <td>0.0</td>\n",
       "    </tr>\n",
       "    <tr>\n",
       "      <th>6</th>\n",
       "      <td>governamos Rio Grande Sul oliviodutra tarsogen...</td>\n",
       "      <td>0.0</td>\n",
       "    </tr>\n",
       "  </tbody>\n",
       "</table>\n",
       "</div>"
      ],
      "text/plain": [
       "                                                text  sinal\n",
       "0  EdegarPretto candidato vicegovernador PedroRua...    1.0\n",
       "2  WinstonLing Segue assistirem hoje internet vam...    1.0\n",
       "4  wmfigueiredo evertonvf EduardoLeite gostam gov...    0.0\n",
       "5                                     EduardoLeite 🤡    0.0\n",
       "6  governamos Rio Grande Sul oliviodutra tarsogen...    0.0"
      ]
     },
     "execution_count": 18,
     "metadata": {},
     "output_type": "execute_result"
    }
   ],
   "source": [
    "debate_gov_processado = pd.DataFrame(\n",
    "    {'text': textos_processados,\n",
    "    'sinal': debate_gov['sinal']}    \n",
    ")\n",
    "\n",
    "debate_gov_processado.head()"
   ]
  },
  {
   "cell_type": "markdown",
   "metadata": {},
   "source": [
    "# Modeling"
   ]
  },
  {
   "cell_type": "markdown",
   "metadata": {},
   "source": [
    "## Word vectors using Word2Vec"
   ]
  },
  {
   "cell_type": "markdown",
   "metadata": {},
   "source": [
    "#### Configuring parameters"
   ]
  },
  {
   "cell_type": "code",
   "execution_count": 20,
   "metadata": {},
   "outputs": [],
   "source": [
    "w2v = Word2Vec(sg=1, window=5, vector_size=200, min_count=3, alpha=0.03, min_alpha=0.0010)"
   ]
  },
  {
   "cell_type": "markdown",
   "metadata": {},
   "source": [
    "#### Building vocabulary"
   ]
  },
  {
   "cell_type": "code",
   "execution_count": 21,
   "metadata": {},
   "outputs": [
    {
     "name": "stderr",
     "output_type": "stream",
     "text": [
      "2023-03-12 19:41:32,869 : INFO : collecting all words and their counts\n",
      "2023-03-12 19:41:32,872 : INFO : PROGRESS: at sentence #0, processed 0 words, keeping 0 word types\n",
      "2023-03-12 19:41:32,875 : INFO : PROGRESS: at sentence #1000, processed 12317 words, keeping 3683 word types\n",
      "2023-03-12 19:41:32,877 : INFO : collected 4387 word types from a corpus of 16577 raw words and 1372 sentences\n",
      "2023-03-12 19:41:32,878 : INFO : Creating a fresh vocabulary\n",
      "2023-03-12 19:41:32,886 : INFO : Word2Vec lifecycle event {'msg': 'effective_min_count=3 retains 1194 unique words (27.22% of original 4387, drops 3193)', 'datetime': '2023-03-12T19:41:32.885424', 'gensim': '4.3.1', 'python': '3.10.9 | packaged by conda-forge | (main, Feb  2 2023, 20:20:04) [GCC 11.3.0]', 'platform': 'Linux-5.10.102.1-microsoft-standard-WSL2-x86_64-with-glibc2.35', 'event': 'prepare_vocab'}\n",
      "2023-03-12 19:41:32,887 : INFO : Word2Vec lifecycle event {'msg': 'effective_min_count=3 leaves 12736 word corpus (76.83% of original 16577, drops 3841)', 'datetime': '2023-03-12T19:41:32.887229', 'gensim': '4.3.1', 'python': '3.10.9 | packaged by conda-forge | (main, Feb  2 2023, 20:20:04) [GCC 11.3.0]', 'platform': 'Linux-5.10.102.1-microsoft-standard-WSL2-x86_64-with-glibc2.35', 'event': 'prepare_vocab'}\n",
      "2023-03-12 19:41:32,894 : INFO : deleting the raw counts dictionary of 4387 items\n",
      "2023-03-12 19:41:32,895 : INFO : sample=0.001 downsamples 63 most-common words\n",
      "2023-03-12 19:41:32,897 : INFO : Word2Vec lifecycle event {'msg': 'downsampling leaves estimated 10661.327799014973 word corpus (83.7%% of prior 12736)', 'datetime': '2023-03-12T19:41:32.897138', 'gensim': '4.3.1', 'python': '3.10.9 | packaged by conda-forge | (main, Feb  2 2023, 20:20:04) [GCC 11.3.0]', 'platform': 'Linux-5.10.102.1-microsoft-standard-WSL2-x86_64-with-glibc2.35', 'event': 'prepare_vocab'}\n",
      "2023-03-12 19:41:32,906 : INFO : estimated required memory for 1194 words and 200 dimensions: 2507400 bytes\n",
      "2023-03-12 19:41:32,907 : INFO : resetting layer weights\n",
      "2023-03-12 19:41:32,913 : INFO : Word2Vec lifecycle event {'update': False, 'trim_rule': 'None', 'datetime': '2023-03-12T19:41:32.913142', 'gensim': '4.3.1', 'python': '3.10.9 | packaged by conda-forge | (main, Feb  2 2023, 20:20:04) [GCC 11.3.0]', 'platform': 'Linux-5.10.102.1-microsoft-standard-WSL2-x86_64-with-glibc2.35', 'event': 'build_vocab'}\n"
     ]
    }
   ],
   "source": [
    "tokens = [txt.split(\" \") for txt in debate_gov_processado['text']] # Tokenização que é uma lista de lista de palavras\n",
    "\n",
    "logging.basicConfig(format='%(asctime)s : %(levelname)s : %(message)s', level=logging.INFO)\n",
    "w2v.build_vocab(tokens, progress_per=1000)"
   ]
  },
  {
   "cell_type": "markdown",
   "metadata": {},
   "source": [
    "### Training"
   ]
  },
  {
   "cell_type": "code",
   "execution_count": 22,
   "metadata": {},
   "outputs": [
    {
     "name": "stderr",
     "output_type": "stream",
     "text": [
      "2023-03-12 19:41:32,919 : INFO : Word2Vec lifecycle event {'msg': 'training model with 3 workers on 1194 vocabulary and 200 features, using sg=1 hs=0 sample=0.001 negative=5 window=5 shrink_windows=True', 'datetime': '2023-03-12T19:41:32.919951', 'gensim': '4.3.1', 'python': '3.10.9 | packaged by conda-forge | (main, Feb  2 2023, 20:20:04) [GCC 11.3.0]', 'platform': 'Linux-5.10.102.1-microsoft-standard-WSL2-x86_64-with-glibc2.35', 'event': 'train'}\n",
      "2023-03-12 19:41:32,959 : INFO : EPOCH 0: training on 16577 raw words (10650 effective words) took 0.0s, 361085 effective words/s\n",
      "2023-03-12 19:41:32,990 : INFO : EPOCH 1: training on 16577 raw words (10635 effective words) took 0.0s, 390454 effective words/s\n",
      "2023-03-12 19:41:33,023 : INFO : EPOCH 2: training on 16577 raw words (10622 effective words) took 0.0s, 381103 effective words/s\n",
      "2023-03-12 19:41:33,060 : INFO : EPOCH 3: training on 16577 raw words (10639 effective words) took 0.0s, 343365 effective words/s\n",
      "2023-03-12 19:41:33,091 : INFO : EPOCH 4: training on 16577 raw words (10660 effective words) took 0.0s, 385416 effective words/s\n",
      "2023-03-12 19:41:33,122 : INFO : EPOCH 5: training on 16577 raw words (10665 effective words) took 0.0s, 393139 effective words/s\n",
      "2023-03-12 19:41:33,150 : INFO : EPOCH 6: training on 16577 raw words (10634 effective words) took 0.0s, 442458 effective words/s\n",
      "2023-03-12 19:41:33,182 : INFO : EPOCH 7: training on 16577 raw words (10673 effective words) took 0.0s, 388607 effective words/s\n",
      "2023-03-12 19:41:33,211 : INFO : EPOCH 8: training on 16577 raw words (10665 effective words) took 0.0s, 422490 effective words/s\n",
      "2023-03-12 19:41:33,244 : INFO : EPOCH 9: training on 16577 raw words (10613 effective words) took 0.0s, 363869 effective words/s\n",
      "2023-03-12 19:41:33,280 : INFO : EPOCH 10: training on 16577 raw words (10668 effective words) took 0.0s, 345180 effective words/s\n",
      "2023-03-12 19:41:33,319 : INFO : EPOCH 11: training on 16577 raw words (10665 effective words) took 0.0s, 315231 effective words/s\n",
      "2023-03-12 19:41:33,424 : INFO : EPOCH 12: training on 16577 raw words (10639 effective words) took 0.0s, 338757 effective words/s\n",
      "2023-03-12 19:41:33,453 : INFO : EPOCH 13: training on 16577 raw words (10659 effective words) took 0.0s, 404565 effective words/s\n",
      "2023-03-12 19:41:33,482 : INFO : EPOCH 14: training on 16577 raw words (10661 effective words) took 0.0s, 414365 effective words/s\n",
      "2023-03-12 19:41:33,517 : INFO : EPOCH 15: training on 16577 raw words (10644 effective words) took 0.0s, 334190 effective words/s\n",
      "2023-03-12 19:41:33,551 : INFO : EPOCH 16: training on 16577 raw words (10652 effective words) took 0.0s, 371052 effective words/s\n",
      "2023-03-12 19:41:33,580 : INFO : EPOCH 17: training on 16577 raw words (10648 effective words) took 0.0s, 411509 effective words/s\n",
      "2023-03-12 19:41:33,607 : INFO : EPOCH 18: training on 16577 raw words (10568 effective words) took 0.0s, 462932 effective words/s\n",
      "2023-03-12 19:41:33,638 : INFO : EPOCH 19: training on 16577 raw words (10729 effective words) took 0.0s, 421203 effective words/s\n",
      "2023-03-12 19:41:33,669 : INFO : EPOCH 20: training on 16577 raw words (10657 effective words) took 0.0s, 399411 effective words/s\n",
      "2023-03-12 19:41:33,698 : INFO : EPOCH 21: training on 16577 raw words (10655 effective words) took 0.0s, 407795 effective words/s\n",
      "2023-03-12 19:41:33,727 : INFO : EPOCH 22: training on 16577 raw words (10662 effective words) took 0.0s, 415001 effective words/s\n",
      "2023-03-12 19:41:33,755 : INFO : EPOCH 23: training on 16577 raw words (10654 effective words) took 0.0s, 455396 effective words/s\n",
      "2023-03-12 19:41:33,783 : INFO : EPOCH 24: training on 16577 raw words (10667 effective words) took 0.0s, 425998 effective words/s\n",
      "2023-03-12 19:41:33,816 : INFO : EPOCH 25: training on 16577 raw words (10731 effective words) took 0.0s, 370840 effective words/s\n",
      "2023-03-12 19:41:33,846 : INFO : EPOCH 26: training on 16577 raw words (10659 effective words) took 0.0s, 397216 effective words/s\n",
      "2023-03-12 19:41:33,876 : INFO : EPOCH 27: training on 16577 raw words (10642 effective words) took 0.0s, 412473 effective words/s\n",
      "2023-03-12 19:41:33,904 : INFO : EPOCH 28: training on 16577 raw words (10667 effective words) took 0.0s, 459539 effective words/s\n",
      "2023-03-12 19:41:33,932 : INFO : EPOCH 29: training on 16577 raw words (10701 effective words) took 0.0s, 426899 effective words/s\n",
      "2023-03-12 19:41:33,933 : INFO : Word2Vec lifecycle event {'msg': 'training on 497310 raw words (319684 effective words) took 1.0s, 316808 effective words/s', 'datetime': '2023-03-12T19:41:33.933159', 'gensim': '4.3.1', 'python': '3.10.9 | packaged by conda-forge | (main, Feb  2 2023, 20:20:04) [GCC 11.3.0]', 'platform': 'Linux-5.10.102.1-microsoft-standard-WSL2-x86_64-with-glibc2.35', 'event': 'train'}\n"
     ]
    },
    {
     "data": {
      "text/plain": [
       "(319684, 497310)"
      ]
     },
     "execution_count": 22,
     "metadata": {},
     "output_type": "execute_result"
    }
   ],
   "source": [
    "w2v.train(tokens, total_examples=w2v.corpus_count, epochs=30)"
   ]
  },
  {
   "cell_type": "markdown",
   "metadata": {},
   "source": [
    "Saving the model"
   ]
  },
  {
   "cell_type": "code",
   "execution_count": 23,
   "metadata": {},
   "outputs": [
    {
     "name": "stderr",
     "output_type": "stream",
     "text": [
      "2023-03-12 19:41:33,941 : INFO : storing 1194x200 projection weights into w2v model\\word2vec.txt\n"
     ]
    }
   ],
   "source": [
    "w2v.wv.save_word2vec_format('w2v model\\word2vec.txt', binary=False)"
   ]
  },
  {
   "cell_type": "markdown",
   "metadata": {},
   "source": [
    "Loading model"
   ]
  },
  {
   "cell_type": "code",
   "execution_count": 24,
   "metadata": {},
   "outputs": [
    {
     "name": "stderr",
     "output_type": "stream",
     "text": [
      "2023-03-12 19:41:34,074 : INFO : loading projection weights from w2v model\\word2vec.txt\n",
      "2023-03-12 19:41:34,191 : INFO : KeyedVectors lifecycle event {'msg': 'loaded (1194, 200) matrix of type float32 from w2v model\\\\word2vec.txt', 'binary': False, 'encoding': 'utf8', 'datetime': '2023-03-12T19:41:34.191858', 'gensim': '4.3.1', 'python': '3.10.9 | packaged by conda-forge | (main, Feb  2 2023, 20:20:04) [GCC 11.3.0]', 'platform': 'Linux-5.10.102.1-microsoft-standard-WSL2-x86_64-with-glibc2.35', 'event': 'load_word2vec_format'}\n"
     ]
    }
   ],
   "source": [
    "w2v_skip_gram = KeyedVectors.load_word2vec_format('w2v model\\word2vec.txt', binary=False)"
   ]
  },
  {
   "cell_type": "markdown",
   "metadata": {},
   "source": [
    "### Creating word vectors in training and testing"
   ]
  },
  {
   "cell_type": "code",
   "execution_count": 25,
   "metadata": {},
   "outputs": [],
   "source": [
    "def tokenizador(texto):\n",
    "    sms = pre_process_text(texto)\n",
    "    return sms.split(' ')\n"
   ]
  },
  {
   "cell_type": "code",
   "execution_count": 26,
   "metadata": {},
   "outputs": [],
   "source": [
    "def combina_vetores(palavras, modelo):\n",
    "    vetor_resultante = np.zeros((1, 200))\n",
    "    for palavra in palavras:\n",
    "        try:\n",
    "            vetor_resultante += modelo.get_vector(palavra)\n",
    "        except:\n",
    "            pass\n",
    "    return vetor_resultante"
   ]
  },
  {
   "cell_type": "code",
   "execution_count": 27,
   "metadata": {},
   "outputs": [],
   "source": [
    "def matriz_vetores(textos, modelo):\n",
    "    x = len(textos)\n",
    "    y = 200\n",
    "    matriz = np.zeros((x, y))\n",
    "\n",
    "    for i in range(x):\n",
    "        palavras = tokenizador(textos.iloc[i])\n",
    "        matriz[i] = combina_vetores(palavras, modelo)\n",
    "\n",
    "    return matriz"
   ]
  },
  {
   "cell_type": "markdown",
   "metadata": {},
   "source": [
    "#### Train and text split"
   ]
  },
  {
   "cell_type": "code",
   "execution_count": 28,
   "metadata": {},
   "outputs": [],
   "source": [
    "X = debate_gov_processado['text']\n",
    "y = debate_gov_processado['sinal']\n",
    "\n",
    "textos_treino, textos_teste, labels_treino, labels_teste = train_test_split(X, y, test_size=0.2, stratify=y, random_state=42)"
   ]
  },
  {
   "cell_type": "markdown",
   "metadata": {},
   "source": [
    "#### Matrices"
   ]
  },
  {
   "cell_type": "code",
   "execution_count": 29,
   "metadata": {},
   "outputs": [
    {
     "name": "stdout",
     "output_type": "stream",
     "text": [
      "(1097, 200)\n",
      "(1097,)\n",
      "(275, 200)\n",
      "(275,)\n"
     ]
    },
    {
     "data": {
      "text/plain": [
       "(None, None)"
      ]
     },
     "execution_count": 29,
     "metadata": {},
     "output_type": "execute_result"
    }
   ],
   "source": [
    "matriz_treino = matriz_vetores(textos_treino, w2v_skip_gram)\n",
    "matriz_teste = matriz_vetores(textos_teste, w2v_skip_gram)\n",
    "\n",
    "print(matriz_treino.shape), print(labels_treino.shape)\n",
    "print(matriz_teste.shape), print(labels_teste.shape)"
   ]
  },
  {
   "cell_type": "markdown",
   "metadata": {},
   "source": [
    "# KNN"
   ]
  },
  {
   "cell_type": "code",
   "execution_count": 30,
   "metadata": {},
   "outputs": [],
   "source": [
    "knn = KNeighborsClassifier(n_neighbors=5)\n",
    "knn.fit(matriz_treino, labels_treino)\n",
    "y_pred_knn = knn.predict(matriz_teste)"
   ]
  },
  {
   "cell_type": "code",
   "execution_count": 31,
   "metadata": {},
   "outputs": [
    {
     "name": "stdout",
     "output_type": "stream",
     "text": [
      "Acurácia: 78.0%, Precisão: 75.0%, Recall: 60.0%, F1: 67.0%\n"
     ]
    }
   ],
   "source": [
    "acuracia_knn = accuracy_score(labels_teste, y_pred_knn).round(2) * 100\n",
    "precisao_knn = precision_score(labels_teste, y_pred_knn).round(2) * 100\n",
    "recall_knn = recall_score(labels_teste, y_pred_knn).round(2) * 100\n",
    "f1_knn = f1_score(labels_teste, y_pred_knn).round(2) * 100\n",
    "\n",
    "print(f'Accuracy: {acuracia_knn}%, Precision: {precisao_knn}%, Recall: {recall_knn}%, F1: {f1_knn}%')"
   ]
  },
  {
   "cell_type": "code",
   "execution_count": 32,
   "metadata": {},
   "outputs": [
    {
     "data": {
      "image/png": "[encoded data removed]",
      "text/plain": [
       "<Figure size 1000x700 with 1 Axes>"
      ]
     },
     "metadata": {},
     "output_type": "display_data"
    }
   ],
   "source": [
    "sns.set_style('whitegrid')\n",
    "\n",
    "plt.bar(['Accuracy', 'Precision', 'Recall', 'F1'], [acuracia_knn, precisao_knn, recall_knn, f1_knn], color=['m', 'c', 'b', 'orange']);\n",
    "plt.title('KNN', fontsize=20);\n",
    "\n",
    "plt.xlabel('Metrics', fontsize=18);\n",
    "plt.ylabel('Valores', fontsize=18);\n",
    "plt.ylim(0, 100);"
   ]
  },
  {
   "cell_type": "markdown",
   "metadata": {},
   "source": [
    "# Perceptron"
   ]
  },
  {
   "cell_type": "code",
   "execution_count": 33,
   "metadata": {},
   "outputs": [],
   "source": [
    "perceptron = Perceptron(penalty='l2', max_iter=1000, random_state=42)\n",
    "perceptron.fit(matriz_treino, labels_treino)\n",
    "y_pred_perceptron = perceptron.predict(matriz_teste)"
   ]
  },
  {
   "cell_type": "code",
   "execution_count": 34,
   "metadata": {},
   "outputs": [
    {
     "name": "stdout",
     "output_type": "stream",
     "text": [
      "Acurácia: 71.0%, Precisão: 57.99999999999999%, Recall: 80.0%, F1: 67.0%\n"
     ]
    }
   ],
   "source": [
    "acuracia_perceptron = accuracy_score(labels_teste, y_pred_perceptron).round(2) * 100\n",
    "precisao_perceptron = precision_score(labels_teste, y_pred_perceptron).round(2) * 100\n",
    "recall_perceptron = recall_score(labels_teste, y_pred_perceptron).round(2) * 100\n",
    "f1_perceptron = f1_score(labels_teste, y_pred_perceptron).round(2) * 100\n",
    "\n",
    "print(f'Accuracy: {acuracia_perceptron}%, Precision: {precisao_perceptron}%, Recall: {recall_perceptron}%, F1: {f1_perceptron}%')"
   ]
  },
  {
   "cell_type": "code",
   "execution_count": 35,
   "metadata": {
    "tags": []
   },
   "outputs": [
    {
     "data": {
      "image/png": "[encoded data removed]",
      "text/plain": [
       "<Figure size 1000x700 with 1 Axes>"
      ]
     },
     "metadata": {},
     "output_type": "display_data"
    }
   ],
   "source": [
    "plt.bar(['Accuracy', 'Precision', 'Recall', 'F1'], [acuracia_perceptron, precisao_perceptron, recall_perceptron, f1_perceptron], color=['m', 'c', 'b', 'orange']);\n",
    "plt.title('Perceptron', fontsize=20);\n",
    "\n",
    "plt.xlabel('Metrics', fontsize=18);\n",
    "plt.ylabel('Valores', fontsize=18);\n",
    "plt.ylim(0, 100);"
   ]
  }
 ],
 "metadata": {
  "kernelspec": {
   "display_name": "Python 3 (ipykernel)",
   "language": "python",
   "name": "python3"
  },
  "language_info": {
   "codemirror_mode": {
    "name": "ipython",
    "version": 3
   },
   "file_extension": ".py",
   "mimetype": "text/x-python",
   "name": "python",
   "nbconvert_exporter": "python",
   "pygments_lexer": "ipython3",
   "version": "3.10.9"
  },
  "vscode": {
   "interpreter": {
    "hash": "994ae73fb3e980b1df93785898f816d41640a1eb677bb6d3185fe1aa01063cb4"
   }
  }
 },
 "nbformat": 4,
 "nbformat_minor": 4
}
