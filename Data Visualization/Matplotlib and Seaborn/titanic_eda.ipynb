{
 "cells": [
  {
   "cell_type": "markdown",
   "metadata": {},
   "source": [
    "## Imports"
   ]
  },
  {
   "cell_type": "code",
   "execution_count": null,
   "metadata": {},
   "outputs": [],
   "source": [
    "import matplotlib.pyplot as plt\n",
    "import numpy as np\n",
    "import pandas as pd\n",
    "import seaborn as sns"
   ]
  },
  {
   "cell_type": "markdown",
   "metadata": {},
   "source": [
    "## Data"
   ]
  },
  {
   "cell_type": "code",
   "execution_count": null,
   "metadata": {},
   "outputs": [],
   "source": [
    "titanic_df = pd.read_csv(\n",
    "    \"data/titanic.csv\",\n",
    "    index_col=\"PassengerId\"\n",
    "    )\n",
    "\n",
    "display(titanic_df.head())\n",
    "display(titanic_df.shape)"
   ]
  },
  {
   "cell_type": "markdown",
   "metadata": {},
   "source": [
    "[Data Dictionary](https://www.kaggle.com/competitions/titanic/data)"
   ]
  },
  {
   "cell_type": "markdown",
   "metadata": {},
   "source": [
    "### Turning object values into numeric"
   ]
  },
  {
   "cell_type": "code",
   "execution_count": null,
   "metadata": {},
   "outputs": [],
   "source": [
    "titanic_df.Embarked.unique()"
   ]
  },
  {
   "cell_type": "code",
   "execution_count": null,
   "metadata": {},
   "outputs": [],
   "source": [
    "embarked = {'S': 1,\n",
    "            'C': 2,\n",
    "            'Q': 3}\n",
    "\n",
    "titanic_df[\"Embarked\"] = titanic_df.Embarked.map(embarked)"
   ]
  },
  {
   "cell_type": "code",
   "execution_count": null,
   "metadata": {},
   "outputs": [],
   "source": [
    "sex = {\"male\": 0, \"female\":1}\n",
    "\n",
    "titanic_df[\"Sex\"] = titanic_df.Sex.map(sex)"
   ]
  },
  {
   "cell_type": "markdown",
   "metadata": {},
   "source": [
    "### Correlation"
   ]
  },
  {
   "cell_type": "code",
   "execution_count": null,
   "metadata": {},
   "outputs": [],
   "source": [
    "titanic_df.corr()"
   ]
  },
  {
   "cell_type": "markdown",
   "metadata": {},
   "source": [
    "### Missing values"
   ]
  },
  {
   "cell_type": "code",
   "execution_count": null,
   "metadata": {},
   "outputs": [],
   "source": [
    "titanic_df.isna().sum()"
   ]
  },
  {
   "cell_type": "markdown",
   "metadata": {},
   "source": [
    "### Droppig missing values"
   ]
  },
  {
   "cell_type": "code",
   "execution_count": null,
   "metadata": {},
   "outputs": [],
   "source": [
    "titanic_df.drop([\"Cabin\", \"Ticket\", \"Embarked\", \"SibSp\", \"Parch\", \"Name\"], axis=1, inplace=True)\n",
    "titanic_df.dropna(inplace=True)\n",
    "\n",
    "display(titanic_df.head())\n",
    "display(titanic_df.shape)"
   ]
  },
  {
   "cell_type": "markdown",
   "metadata": {},
   "source": [
    "### Reordering remaning columns"
   ]
  },
  {
   "cell_type": "code",
   "execution_count": null,
   "metadata": {},
   "outputs": [],
   "source": [
    "order = [\"Pclass\", \"Sex\", \"Age\", \"Fare\", \"Survived\"]\n",
    "titanic_df = titanic_df[order]\n",
    "titanic_df.head(1)"
   ]
  },
  {
   "cell_type": "markdown",
   "metadata": {},
   "source": [
    "### Some statistics"
   ]
  },
  {
   "cell_type": "code",
   "execution_count": null,
   "metadata": {},
   "outputs": [],
   "source": [
    "titanic_df.Fare.describe().round(3)"
   ]
  },
  {
   "cell_type": "markdown",
   "metadata": {},
   "source": [
    "### Exploring Sex column"
   ]
  },
  {
   "cell_type": "code",
   "execution_count": null,
   "metadata": {},
   "outputs": [],
   "source": [
    "# How it is encoded\n",
    "sex"
   ]
  },
  {
   "cell_type": "markdown",
   "metadata": {},
   "source": [
    "\n",
    "#### Interesting question:\n",
    "\n",
    "- How much women and man were in the Titanic? ✔\n",
    "- How much of women and of man died or survived in the event? ✔\n",
    "- Is it true that sex is related, in some level, to survive or not? ✔\n",
    "- What were their average age in those events? ✔\n",
    "- What were the most frequent Pclass they would belong?\n",
    "- How much was their fare? Is it related to survive or not?\n"
   ]
  },
  {
   "cell_type": "markdown",
   "metadata": {},
   "source": [
    "### - How much women and man were in the Titanic?"
   ]
  },
  {
   "cell_type": "code",
   "execution_count": null,
   "metadata": {},
   "outputs": [],
   "source": [
    "values = dict(titanic_df.Sex.value_counts())"
   ]
  },
  {
   "cell_type": "code",
   "execution_count": null,
   "metadata": {},
   "outputs": [],
   "source": [
    "sum(values.values())"
   ]
  },
  {
   "cell_type": "code",
   "execution_count": null,
   "metadata": {},
   "outputs": [],
   "source": [
    "def make_autopct(values):\n",
    "    def my_autopct(pct):\n",
    "        total = sum(values.values())\n",
    "        val = int(round(pct*total/100.0))\n",
    "        return f'{pct:.2f}%  ({val:d})'\n",
    "    return my_autopct"
   ]
  },
  {
   "cell_type": "code",
   "execution_count": null,
   "metadata": {},
   "outputs": [],
   "source": [
    "plt.pie(\n",
    "    x=titanic_df.Sex.value_counts(),\n",
    "    labels=list(sex),\n",
    "    autopct=make_autopct(values),\n",
    "    explode=(0, 0.05),\n",
    "    startangle=90,\n",
    "    colors=['powderblue', 'plum']\n",
    ");\n",
    "\n",
    "text = {'fontsize': 11,\n",
    "        'verticalalignment': 'top',\n",
    "        'horizontalalignment': 'left'}\n",
    "\n",
    "plt.text(\n",
    "    x=0.8,\n",
    "    y=1.5,\n",
    "    s=f\"Total = {sum(values.values())}\",\n",
    "    fontdict=text\n",
    ");"
   ]
  },
  {
   "cell_type": "markdown",
   "metadata": {},
   "source": [
    "### - How much of women and of man died/survived in the event?"
   ]
  },
  {
   "cell_type": "code",
   "execution_count": null,
   "metadata": {},
   "outputs": [],
   "source": [
    "sex"
   ]
  },
  {
   "cell_type": "code",
   "execution_count": null,
   "metadata": {},
   "outputs": [],
   "source": [
    "titanic_df[[\"Sex\", \"Survived\"]].value_counts()"
   ]
  },
  {
   "cell_type": "code",
   "execution_count": null,
   "metadata": {},
   "outputs": [],
   "source": [
    "gender_survivals = dict(titanic_df[[\"Sex\", \"Survived\"]].value_counts())\n",
    "gender_survivals"
   ]
  },
  {
   "cell_type": "code",
   "execution_count": null,
   "metadata": {},
   "outputs": [],
   "source": [
    "genres = ['Male', 'Female']\n",
    "survivals = [gender_survivals.get((0,1)), gender_survivals.get((1,1))]\n",
    "not_survivals = [gender_survivals.get((0,0)), gender_survivals.get((1,0))]"
   ]
  },
  {
   "cell_type": "code",
   "execution_count": null,
   "metadata": {},
   "outputs": [],
   "source": [
    "plt.rcParams[\"figure.figsize\"] = [7.50, 3.50]\n",
    "plt.rcParams[\"figure.autolayout\"] = True\n",
    "\n",
    "plot1 = plt.barh(genres, survivals, color='limegreen')\n",
    "plot2 = plt.barh(genres, not_survivals,  left=survivals, color='red')\n",
    "plt.legend([plot1, plot2], ['Survivors', 'Non-survivors']);"
   ]
  },
  {
   "cell_type": "markdown",
   "metadata": {},
   "source": [
    "### Is it true that sex is related, in some level, to survive or not?"
   ]
  },
  {
   "cell_type": "code",
   "execution_count": null,
   "metadata": {},
   "outputs": [],
   "source": [
    "titanic_df[['Sex', 'Survived']].corr()"
   ]
  },
  {
   "cell_type": "markdown",
   "metadata": {},
   "source": [
    "If we analyze the previous chart and the correlation matrix, we can say that they can be related but not so strongly.\n",
    "\n",
    "TO-DO: p-value test"
   ]
  },
  {
   "cell_type": "markdown",
   "metadata": {},
   "source": [
    "### What were their average age in those events?"
   ]
  },
  {
   "cell_type": "markdown",
   "metadata": {},
   "source": [
    "###### Note: Age is fractional if less than 1. If the age is estimated, is it in the form of xx.5"
   ]
  },
  {
   "cell_type": "code",
   "execution_count": null,
   "metadata": {},
   "outputs": [],
   "source": [
    "titanic_df['Age'].describe()"
   ]
  },
  {
   "cell_type": "markdown",
   "metadata": {},
   "source": [
    "#### Creating age groups"
   ]
  },
  {
   "cell_type": "code",
   "execution_count": null,
   "metadata": {},
   "outputs": [],
   "source": [
    "def classify_group_age(age):\n",
    "    if (age <= 1):\n",
    "        return 1\n",
    "    elif (age > 1) & (age <= 11):\n",
    "        return 2\n",
    "    elif (age > 11) & (age <= 15):\n",
    "        return 3\n",
    "    elif (age > 15) & (age <= 19):\n",
    "        return 4\n",
    "    elif (age > 19) & (age <= 30):\n",
    "        return 5\n",
    "    elif (age > 30) & (age <= 50):\n",
    "        return 6\n",
    "    else:\n",
    "        return 7\n"
   ]
  },
  {
   "cell_type": "code",
   "execution_count": null,
   "metadata": {},
   "outputs": [],
   "source": [
    "titanic_df['Age Group'] = [classify_group_age(age) for age in titanic_df['Age']]"
   ]
  },
  {
   "cell_type": "code",
   "execution_count": null,
   "metadata": {},
   "outputs": [],
   "source": [
    "age_survivals = dict(titanic_df[['Age Group', 'Survived']].groupby('Survived').value_counts())\n",
    "age_survivals"
   ]
  },
  {
   "cell_type": "code",
   "execution_count": null,
   "metadata": {},
   "outputs": [],
   "source": [
    "age_group = titanic_df['Age Group'].unique().tolist()\n",
    "age_group.sort()\n",
    "age_group"
   ]
  },
  {
   "cell_type": "code",
   "execution_count": null,
   "metadata": {
    "tags": []
   },
   "outputs": [],
   "source": [
    "titanic_df.head()"
   ]
  },
  {
   "cell_type": "raw",
   "metadata": {},
   "source": []
  },
  {
   "cell_type": "code",
   "execution_count": null,
   "metadata": {
    "tags": []
   },
   "outputs": [],
   "source": [
    "c = list(titanic_df[['Age Group', 'Survived']].query(\"Survived == 0\").groupby('Age Group').value_counts())\n",
    "c"
   ]
  },
  {
   "cell_type": "code",
   "execution_count": null,
   "metadata": {
    "tags": []
   },
   "outputs": [],
   "source": [
    "d = list(titanic_df[['Age Group', 'Survived']].query(\"Survived == 1\").groupby('Age Group').value_counts())\n",
    "d"
   ]
  },
  {
   "cell_type": "code",
   "execution_count": null,
   "metadata": {
    "tags": []
   },
   "outputs": [],
   "source": [
    "survivals_group_dict = {'Age Group': age_group, 'Total Survivals': d, 'Total Death': c}"
   ]
  },
  {
   "cell_type": "code",
   "execution_count": null,
   "metadata": {
    "tags": []
   },
   "outputs": [],
   "source": [
    "survivals_group_dict"
   ]
  },
  {
   "cell_type": "code",
   "execution_count": null,
   "metadata": {
    "tags": []
   },
   "outputs": [],
   "source": [
    "survivals_group_dict = pd.DataFrame(survivals_group_dict)"
   ]
  },
  {
   "cell_type": "code",
   "execution_count": null,
   "metadata": {
    "tags": []
   },
   "outputs": [],
   "source": [
    "survivals_group_dict"
   ]
  },
  {
   "cell_type": "code",
   "execution_count": null,
   "metadata": {
    "tags": []
   },
   "outputs": [],
   "source": [
    "plt.bar(np.array(age_group) + 0.2, survivals_group_dict['Total Death'], 0.4, label='Death', color='grey');\n",
    "plt.bar(np.array(age_group) - 0.2, survivals_group_dict['Total Survivals'], 0.4, label='Survived', color='green');\n",
    "plt.xticks(survivals_group_dict['Age Group'], age_group)\n",
    "plt.xlabel(\"Age Groups\")\n",
    "plt.ylabel(\"Total\")\n",
    "plt.title(\"Number of deaths and survivals in each age group\")\n",
    "plt.legend();"
   ]
  },
  {
   "cell_type": "code",
   "execution_count": null,
   "metadata": {
    "tags": []
   },
   "outputs": [],
   "source": [
    "titanic_df['Fare']"
   ]
  },
  {
   "cell_type": "code",
   "execution_count": null,
   "metadata": {
    "tags": []
   },
   "outputs": [],
   "source": [
    "titanic_df"
   ]
  },
  {
   "cell_type": "code",
   "execution_count": null,
   "metadata": {
    "tags": []
   },
   "outputs": [],
   "source": [
    "sns.jointplot(titanic_df.Fare);"
   ]
  },
  {
   "cell_type": "code",
   "execution_count": null,
   "metadata": {
    "tags": []
   },
   "outputs": [],
   "source": [
    "sns.displot(titanic_df.Fare);"
   ]
  },
  {
   "cell_type": "code",
   "execution_count": null,
   "metadata": {
    "tags": []
   },
   "outputs": [],
   "source": [
    "sns.relpl(titanic_df.Fare)"
   ]
  }
 ],
 "metadata": {
  "kernelspec": {
   "display_name": "Python 3 (ipykernel)",
   "language": "python",
   "name": "python3"
  },
  "language_info": {
   "codemirror_mode": {
    "name": "ipython",
    "version": 3
   },
   "file_extension": ".py",
   "mimetype": "text/x-python",
   "name": "python",
   "nbconvert_exporter": "python",
   "pygments_lexer": "ipython3",
   "version": "3.10.9"
  },
  "vscode": {
   "interpreter": {
    "hash": "02f71ae525bf737f17b2f327c558385fc8239a4deac5f529ab6d09ea03f9096e"
   }
  }
 },
 "nbformat": 4,
 "nbformat_minor": 4
}
