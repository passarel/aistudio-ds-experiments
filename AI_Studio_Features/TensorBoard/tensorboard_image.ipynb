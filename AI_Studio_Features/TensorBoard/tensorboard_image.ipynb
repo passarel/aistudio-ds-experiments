{
 "cells": [
  {
   "cell_type": "code",
   "execution_count": null,
   "metadata": {},
   "outputs": [],
   "source": [
    "import tensorflow as tf\n",
    "import numpy as np\n",
    "from PIL import Image"
   ]
  },
  {
   "cell_type": "code",
   "execution_count": null,
   "metadata": {},
   "outputs": [],
   "source": [
    "w = tf.summary.create_file_writer(\"/phoenix/tensorboard/tensorlogs\")\n",
    "with w.as_default():\n",
    "  image1 = tf.random.uniform(shape=[8, 8, 1])\n",
    "  image2 = tf.random.uniform(shape=[8, 8, 1])\n",
    "  tf.summary.image(\"grayscale_noise\", [image1, image2], step=0)"
   ]
  }
 ],
 "metadata": {
  "language_info": {
   "name": "python"
  }
 },
 "nbformat": 4,
 "nbformat_minor": 2
}
