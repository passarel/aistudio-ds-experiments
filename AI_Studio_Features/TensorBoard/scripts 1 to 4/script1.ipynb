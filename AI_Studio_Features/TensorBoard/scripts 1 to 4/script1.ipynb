{
 "cells": [
  {
   "attachments": {},
   "cell_type": "markdown",
   "metadata": {},
   "source": [
    "# Using TensorBoard to log custom metrics in a simple loop"
   ]
  },
  {
   "cell_type": "code",
   "execution_count": 1,
   "metadata": {},
   "outputs": [],
   "source": [
    "import tensorflow as tf\n",
    "import numpy as np"
   ]
  },
  {
   "cell_type": "code",
   "execution_count": null,
   "metadata": {},
   "outputs": [],
   "source": [
    "# create a summary writer\n",
    "summary_writer = tf.summary.create_file_writer('/phoenix/tensorboard')\n",
    "\n",
    "# loop to record custom metrics\n",
    "for step in range(100):\n",
    "    # generate example data\n",
    "    data = np.random.randn(100)\n",
    "\n",
    "    # calculate metrics\n",
    "    mean = np.mean(data) # mean\n",
    "    std = np.std(data)   # standard deviation\n",
    "\n",
    "    # records metrics in TensorBoard\n",
    "    with summary_writer.as_default():\n",
    "        tf.summary.scalar('mean', mean, step=step)\n",
    "        tf.summary.scalar('std', std, step=step)\n",
    "    \n",
    "    # print metrics to console\n",
    "    print(f\"Step: {step}, Mean: {mean}, Std: {std}\")"
   ]
  }
 ],
 "metadata": {
  "kernelspec": {
   "display_name": "base",
   "language": "python",
   "name": "python3"
  },
  "language_info": {
   "codemirror_mode": {
    "name": "ipython",
    "version": 3
   },
   "file_extension": ".py",
   "mimetype": "text/x-python",
   "name": "python",
   "nbconvert_exporter": "python",
   "pygments_lexer": "ipython3",
   "version": "3.9.13"
  },
  "orig_nbformat": 4
 },
 "nbformat": 4,
 "nbformat_minor": 2
}
