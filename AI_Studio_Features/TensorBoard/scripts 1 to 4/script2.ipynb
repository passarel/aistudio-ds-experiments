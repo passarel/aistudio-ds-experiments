{
 "cells": [
  {
   "attachments": {},
   "cell_type": "markdown",
   "metadata": {},
   "source": [
    "# Visualize mathematical results such as functions and graphs in TensorBoard"
   ]
  },
  {
   "cell_type": "code",
   "execution_count": 1,
   "metadata": {},
   "outputs": [],
   "source": [
    "import tensorflow as tf\n",
    "import numpy as np"
   ]
  },
  {
   "cell_type": "code",
   "execution_count": null,
   "metadata": {},
   "outputs": [],
   "source": [
    "# create a summary writer\n",
    "summary_writer = tf.summary.create_file_writer('/home/jovyan/phoenix/experiments/tensorlogs')\n",
    "\n",
    "# generate data for visualization\n",
    "x = np.linspace(-5, 5, 100)\n",
    "y1 = np.sin(x)\n",
    "y2 = np.cos(x)\n",
    "\n",
    "# Rrecord metrics in TensorBoard\n",
    "with summary_writer.as_default():\n",
    "    tf.summary.scalar('sin(x)', y1[0], step=0)\n",
    "    tf.summary.scalar('cos(x)', y2[0], step=0)\n",
    "    tf.summary.flush() "
   ]
  }
 ],
 "metadata": {
  "kernelspec": {
   "display_name": "base",
   "language": "python",
   "name": "python3"
  },
  "language_info": {
   "codemirror_mode": {
    "name": "ipython",
    "version": 3
   },
   "file_extension": ".py",
   "mimetype": "text/x-python",
   "name": "python",
   "nbconvert_exporter": "python",
   "pygments_lexer": "ipython3",
   "version": "3.9.13"
  },
  "orig_nbformat": 4
 },
 "nbformat": 4,
 "nbformat_minor": 2
}
