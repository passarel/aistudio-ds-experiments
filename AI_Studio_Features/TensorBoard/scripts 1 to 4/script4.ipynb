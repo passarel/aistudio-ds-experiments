{
 "cells": [
  {
   "attachments": {},
   "cell_type": "markdown",
   "metadata": {},
   "source": [
    "# 3D scatter plot visualization"
   ]
  },
  {
   "cell_type": "code",
   "execution_count": null,
   "metadata": {},
   "outputs": [],
   "source": [
    "import tensorflow as tf\n",
    "import numpy as np"
   ]
  },
  {
   "cell_type": "code",
   "execution_count": null,
   "metadata": {},
   "outputs": [],
   "source": [
    "# create a summary writer\n",
    "summary_writer = tf.summary.create_file_writer('/phoenix/tensorboard/')\n",
    "\n",
    "# generate data for visualization (3D scatterplot)\n",
    "np.random.seed(0)\n",
    "n_points = 100\n",
    "x = np.random.randn(n_points)\n",
    "y = np.random.randn(n_points)\n",
    "z = np.random.randn(n_points)\n",
    "\n",
    "# record metrics in TensorBoard\n",
    "with summary_writer.as_default():\n",
    "    tf.summary.histogram('Scatter Plot', [x, y, z], step=0)"
   ]
  }
 ],
 "metadata": {
  "language_info": {
   "name": "python"
  },
  "orig_nbformat": 4
 },
 "nbformat": 4,
 "nbformat_minor": 2
}
