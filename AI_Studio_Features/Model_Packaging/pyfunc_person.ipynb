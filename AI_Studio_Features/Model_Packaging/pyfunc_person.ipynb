{
 "cells": [
  {
   "cell_type": "code",
   "execution_count": 2,
   "id": "fe25f744-30f0-4ebd-9fbc-a23afb153750",
   "metadata": {},
   "outputs": [],
   "source": [
    "import mlflow\n",
    "from mlflow.models import ModelSignature\n",
    "from mlflow.types.schema import Schema, ColSpec, ParamSchema, ParamSpec\n",
    "import requests\n",
    "import numpy as np\n",
    "\n",
    "class MyModel(mlflow.pyfunc.PythonModel):\n",
    "    def predict(self, ctx, model_input, params):\n",
    "        \n",
    "        person_name = model_input['person_name'][0] #string\n",
    "        person_height = model_input['person_height'][0] #double\n",
    "        person_weight = model_input['person_weight'][0] #float\n",
    "        person_age = model_input['person_age'][0] #integer\n",
    "        person_id = model_input['person_id'][0] #long \n",
    "        person_is_alive = model_input['person_is_alive'][0] #bool\n",
    "        \n",
    "        return {\"personName\": str(type(person_name)),\n",
    "                \"personHeight\": str(type(person_height)),\n",
    "                \"personWeight\": str(type(person_weight)),\n",
    "                \"personAge\": str(type(person_age)),\n",
    "                \"personId\": str(type(person_id)),\n",
    "                \"personIsAlive\": str(type(person_is_alive))\n",
    "               }"
   ]
  },
  {
   "cell_type": "code",
   "execution_count": 3,
   "id": "8c968255-28ed-44b0-bb9f-b209bffc4c8d",
   "metadata": {},
   "outputs": [
    {
     "name": "stderr",
     "output_type": "stream",
     "text": [
      "2024/01/26 16:35:17 INFO mlflow.tracking.fluent: Experiment with name 'person_model' does not exist. Creating a new experiment.\n",
      "Successfully registered model 'person_model'.\n",
      "2024/01/26 16:35:21 INFO mlflow.tracking._model_registry.client: Waiting up to 300 seconds for model version to finish creation. Model name: person_model, version 1\n",
      "Created version '1' of model 'person_model'.\n"
     ]
    }
   ],
   "source": [
    "input_schema = Schema(\n",
    "    [\n",
    "        ColSpec(\"string\", \"person_name\"),\n",
    "        ColSpec(\"double\", \"person_height\"),\n",
    "        ColSpec(\"float\", \"person_weight\"),\n",
    "        ColSpec(\"integer\", \"person_age\"),\n",
    "        ColSpec(\"long\", \"person_id\"),\n",
    "        ColSpec(\"boolean\", \"person_is_alive\")\n",
    "    ]\n",
    ")\n",
    "\n",
    "signature = ModelSignature(inputs=input_schema)\n",
    "\n",
    "mlflow.set_experiment(\"person_model\")\n",
    "with mlflow.start_run() as run:\n",
    "    model_info = mlflow.pyfunc.log_model(\n",
    "        python_model=MyModel(),\n",
    "        artifact_path=\"person_model\",\n",
    "        signature=signature,\n",
    "        registered_model_name=\"person_model\" # Register the model\n",
    "    )\n",
    "\n",
    "client = mlflow.MlflowClient()\n",
    "model_metadata = client.get_latest_versions(\"person_model\", stages=[\"None\"])\n",
    "latest_model_version = model_metadata[0].version"
   ]
  },
  {
   "cell_type": "code",
   "execution_count": 6,
   "id": "6745f411-e3cf-4292-9cf1-aedf39077513",
   "metadata": {},
   "outputs": [
    {
     "data": {
      "text/plain": [
       "inputs: \n",
       "  ['person_name': string, 'person_height': double, 'person_weight': float, 'person_age': integer, 'person_id': long, 'person_is_alive': boolean]\n",
       "outputs: \n",
       "  None\n",
       "params: \n",
       "  None"
      ]
     },
     "execution_count": 6,
     "metadata": {},
     "output_type": "execute_result"
    }
   ],
   "source": [
    "mlflow.models.get_model_info(f\"models:/person_model/{latest_model_version}\").signature"
   ]
  },
  {
   "cell_type": "markdown",
   "id": "2a90b9eb-cd49-489b-897b-2464934e8652",
   "metadata": {},
   "source": [
    "# Usage\n",
    "\n",
    "In the following are two ways to use the registered models. "
   ]
  },
  {
   "cell_type": "markdown",
   "id": "2254712a-0fa8-4f14-83e0-2d9b4dff73e6",
   "metadata": {},
   "source": [
    "## Loading the model\n",
    "\n",
    "Using pyfunc.load_model you can test if your model is working well, but it doesn`t involves nothing of the model services feature.\n",
    "\n",
    "In order to use it, change the version of model_uri to the latests version you deployed"
   ]
  },
  {
   "cell_type": "code",
   "execution_count": 5,
   "id": "550847b6-9245-4e75-b0e8-829ed038760c",
   "metadata": {},
   "outputs": [
    {
     "name": "stdout",
     "output_type": "stream",
     "text": [
      "{'personName': \"<class 'str'>\", 'personHeight': \"<class 'numpy.float64'>\", 'personWeight': \"<class 'numpy.float32'>\", 'personAge': \"<class 'numpy.int32'>\", 'personId': \"<class 'numpy.int64'>\", 'personIsAlive': \"<class 'numpy.bool_'>\"}\n"
     ]
    }
   ],
   "source": [
    "model = mlflow.pyfunc.load_model(model_uri=f\"models:/person_model/{latest_model_version}\")\n",
    "print(model.predict({\"person_name\": \"John\", \n",
    "                     \"person_height\": 1.8, \n",
    "                     \"person_weight\": np.array(80, dtype=np.float32), \n",
    "                     \"person_age\": np.array(30, dtype=np.int32), \n",
    "                     \"person_id\": 12312312312, \n",
    "                     \"person_is_alive\": [True]}))"
   ]
  },
  {
   "cell_type": "markdown",
   "id": "53868ec9-87b3-4f6b-9019-6eb7685f609c",
   "metadata": {},
   "source": [
    "## Model services\n",
    "\n",
    "Go to the published services page and create a model, run it and wait until the running state. Change the URL field below to the url of the published services."
   ]
  },
  {
   "cell_type": "code",
   "execution_count": 5,
   "id": "34ab01d1-426b-4d8a-a892-d2b72072c073",
   "metadata": {},
   "outputs": [
    {
     "name": "stdout",
     "output_type": "stream",
     "text": [
      "{\"predictions\": {\"flowerName\": \"sunflower\", \"do_work\": false}}\n"
     ]
    },
    {
     "name": "stderr",
     "output_type": "stream",
     "text": [
      "/opt/conda/lib/python3.10/site-packages/urllib3/connectionpool.py:1095: InsecureRequestWarning: Unverified HTTPS request is being made to host '10.137.137.5'. Adding certificate verification is strongly advised. See: https://urllib3.readthedocs.io/en/latest/advanced-usage.html#tls-warnings\n",
      "  warnings.warn(\n"
     ]
    }
   ],
   "source": [
    "# Model service 🤘\n",
    "\n",
    "url = \"https://10.137.137.5:5000\"+\"/invocations\"\n",
    "data = {\n",
    "    \"inputs\":{\n",
    "        \"person_name\": \"John\", \n",
    "         \"person_height\": 1.8, \n",
    "         \"person_weight\": [80.00], \n",
    "         \"person_age\": [30],\n",
    "         \"person_id\": 12312312312, \n",
    "         \"person_is_alive\": [True]\n",
    "    }\n",
    "}\n",
    "\n",
    "headers = {'Content-type': 'application/json'}\n",
    "x = requests.post(url, json = data, verify=False, headers=headers)\n",
    "\n",
    "print(x.text)"
   ]
  }
 ],
 "metadata": {
  "kernelspec": {
   "display_name": "Python 3 (ipykernel)",
   "language": "python",
   "name": "python3"
  },
  "language_info": {
   "codemirror_mode": {
    "name": "ipython",
    "version": 3
   },
   "file_extension": ".py",
   "mimetype": "text/x-python",
   "name": "python",
   "nbconvert_exporter": "python",
   "pygments_lexer": "ipython3",
   "version": "3.10.11"
  }
 },
 "nbformat": 4,
 "nbformat_minor": 5
}
