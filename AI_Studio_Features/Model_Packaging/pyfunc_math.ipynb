{
 "cells": [
  {
   "cell_type": "code",
   "execution_count": 2,
   "id": "fe25f744-30f0-4ebd-9fbc-a23afb153750",
   "metadata": {},
   "outputs": [],
   "source": [
    "import mlflow\n",
    "from mlflow.models import ModelSignature\n",
    "from mlflow.types.schema import Schema, ColSpec, ParamSchema, ParamSpec\n",
    "import requests\n",
    "import numpy as np\n",
    "\n",
    "class MathModel(mlflow.pyfunc.PythonModel):\n",
    "    def predict(self, ctx, model_input, params):\n",
    "        n1 = model_input['number_1'][0]\n",
    "        n2 = model_input['number_2'][0]\n",
    "        operation = params[\"operation\"]\n",
    "\n",
    "        return eval(\"{0} {2} {1}\".format(n1, n2, operation))"
   ]
  },
  {
   "cell_type": "code",
   "execution_count": 3,
   "id": "8c968255-28ed-44b0-bb9f-b209bffc4c8d",
   "metadata": {},
   "outputs": [
    {
     "name": "stderr",
     "output_type": "stream",
     "text": [
      "Registered model 'math_model' already exists. Creating a new version of this model...\n",
      "2024/01/26 16:30:02 INFO mlflow.tracking._model_registry.client: Waiting up to 300 seconds for model version to finish creation. Model name: math_model, version 5\n",
      "Created version '5' of model 'math_model'.\n"
     ]
    }
   ],
   "source": [
    "params_schema = ParamSchema(\n",
    "    [\n",
    "        ParamSpec(\"operation\", \"string\", \" + \")\n",
    "    ]\n",
    ")\n",
    "\n",
    "input_schema = Schema(\n",
    "    [\n",
    "        ColSpec(\"integer\", \"number_1\"),\n",
    "        ColSpec(\"integer\", \"number_2\")\n",
    "    ]\n",
    ")\n",
    "\n",
    "output_schema = Schema(\n",
    "    [\n",
    "        ColSpec(\"string\",\"result\")\n",
    "    ]\n",
    ")\n",
    "\n",
    "signature = ModelSignature(inputs=input_schema, outputs=output_schema, params = params_schema)\n",
    "\n",
    "mlflow.set_experiment(\"math_model\")\n",
    "with mlflow.start_run() as run:\n",
    "    model_info = mlflow.pyfunc.log_model(\n",
    "        python_model=MathModel(), \n",
    "        artifact_path=\"math_model\",\n",
    "        signature=signature,\n",
    "        registered_model_name=\"math_model\" # Register the model\n",
    "    )\n",
    "\n",
    "client = mlflow.MlflowClient()\n",
    "model_metadata = client.get_latest_versions(\"math_model\", stages=[\"None\"])\n",
    "latest_model_version = model_metadata[0].version"
   ]
  },
  {
   "cell_type": "code",
   "execution_count": 9,
   "id": "bde56cc9-90e8-4bbd-8f5f-ceea36e6214c",
   "metadata": {},
   "outputs": [
    {
     "data": {
      "text/plain": [
       "inputs: \n",
       "  ['number_1': integer, 'number_2': integer]\n",
       "outputs: \n",
       "  ['result': string]\n",
       "params: \n",
       "  ['operation': string (default:  + )]"
      ]
     },
     "execution_count": 9,
     "metadata": {},
     "output_type": "execute_result"
    }
   ],
   "source": [
    "mlflow.models.get_model_info(f\"models:/math_model/{latest_model_version}\").signature"
   ]
  },
  {
   "cell_type": "markdown",
   "id": "2a90b9eb-cd49-489b-897b-2464934e8652",
   "metadata": {},
   "source": [
    "# Usage\n",
    "\n",
    "In the following are two ways to use the registered models. "
   ]
  },
  {
   "cell_type": "markdown",
   "id": "2254712a-0fa8-4f14-83e0-2d9b4dff73e6",
   "metadata": {},
   "source": [
    "## Loading the model\n",
    "\n",
    "Using pyfunc.load_model you can test if your model is working well, but it doesn`t involves nothing of the model services feature.\n",
    "\n",
    "In order to use it, change the version of model_uri to the latests version you deployed"
   ]
  },
  {
   "cell_type": "code",
   "execution_count": 8,
   "id": "550847b6-9245-4e75-b0e8-829ed038760c",
   "metadata": {},
   "outputs": [
    {
     "data": {
      "text/plain": [
       "20"
      ]
     },
     "execution_count": 8,
     "metadata": {},
     "output_type": "execute_result"
    }
   ],
   "source": [
    "model = mlflow.pyfunc.load_model(model_uri=f\"models:/math_model/{latest_model_version}\")\n",
    "n1 = 2\n",
    "n2 = 10\n",
    "op = \"*\"\n",
    "\n",
    "model.predict({\"number_1\": np.array([n1], dtype=np.int32), \"number_2\":np.array([n2], dtype=np.int32)}, params={\"operation\":op})"
   ]
  },
  {
   "cell_type": "markdown",
   "id": "53868ec9-87b3-4f6b-9019-6eb7685f609c",
   "metadata": {},
   "source": [
    "## Model services\n",
    "\n",
    "Go to the published services page and create a model, run it and wait until the running state. Change the URL field below to the url of the published services."
   ]
  },
  {
   "cell_type": "code",
   "execution_count": 5,
   "id": "34ab01d1-426b-4d8a-a892-d2b72072c073",
   "metadata": {},
   "outputs": [
    {
     "name": "stdout",
     "output_type": "stream",
     "text": [
      "{\"predictions\": {\"flowerName\": \"sunflower\", \"do_work\": false}}\n"
     ]
    },
    {
     "name": "stderr",
     "output_type": "stream",
     "text": [
      "/opt/conda/lib/python3.10/site-packages/urllib3/connectionpool.py:1095: InsecureRequestWarning: Unverified HTTPS request is being made to host '10.137.137.5'. Adding certificate verification is strongly advised. See: https://urllib3.readthedocs.io/en/latest/advanced-usage.html#tls-warnings\n",
      "  warnings.warn(\n"
     ]
    }
   ],
   "source": [
    "# Model service 🤘\n",
    "\n",
    "url = \"https://10.137.137.5:5000\"+\"/invocations\"\n",
    "data = {\n",
    "    \"inputs\":{\n",
    "        \"number_1\":[2],\n",
    "        \"number_2\":[10]\n",
    "    },\n",
    "    \"params\":{\n",
    "        \"operation\": \"*\"\n",
    "    }\n",
    "}\n",
    "\n",
    "headers = {'Content-type': 'application/json'}\n",
    "x = requests.post(url, json = data, verify=False, headers=headers)\n",
    "\n",
    "print(x.text)"
   ]
  }
 ],
 "metadata": {
  "kernelspec": {
   "display_name": "Python 3 (ipykernel)",
   "language": "python",
   "name": "python3"
  },
  "language_info": {
   "codemirror_mode": {
    "name": "ipython",
    "version": 3
   },
   "file_extension": ".py",
   "mimetype": "text/x-python",
   "name": "python",
   "nbconvert_exporter": "python",
   "pygments_lexer": "ipython3",
   "version": "3.10.11"
  }
 },
 "nbformat": 4,
 "nbformat_minor": 5
}
