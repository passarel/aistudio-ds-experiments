{
 "cells": [
  {
   "cell_type": "code",
   "execution_count": 1,
   "id": "fe25f744-30f0-4ebd-9fbc-a23afb153750",
   "metadata": {},
   "outputs": [],
   "source": [
    "import mlflow\n",
    "from mlflow.models import ModelSignature\n",
    "from mlflow.types.schema import Schema, ColSpec, ParamSchema, ParamSpec\n",
    "import requests\n",
    "\n",
    "class MyModel(mlflow.pyfunc.PythonModel):\n",
    "    def predict(self, ctx, model_input, params):\n",
    "        flower_name = model_input['word'][0]\n",
    "        return {\"word\":flower_name.upper() if params['do_work'] else flower_name}"
   ]
  },
  {
   "cell_type": "code",
   "execution_count": 3,
   "id": "8c968255-28ed-44b0-bb9f-b209bffc4c8d",
   "metadata": {},
   "outputs": [
    {
     "name": "stderr",
     "output_type": "stream",
     "text": [
      "2024/01/26 16:45:13 INFO mlflow.tracking.fluent: Experiment with name 'upper_model' does not exist. Creating a new experiment.\n",
      "Successfully registered model 'upper_model'.\n",
      "2024/01/26 16:45:18 INFO mlflow.tracking._model_registry.client: Waiting up to 300 seconds for model version to finish creation. Model name: upper_model, version 1\n",
      "Created version '1' of model 'upper_model'.\n"
     ]
    }
   ],
   "source": [
    "params_schema = ParamSchema(\n",
    "    [\n",
    "        ParamSpec(\"do_work\", \"boolean\", False)\n",
    "    ]\n",
    ")\n",
    "\n",
    "input_schema = Schema(\n",
    "    [\n",
    "        ColSpec(\"string\", \"word\")\n",
    "    ]\n",
    ")\n",
    "\n",
    "output_schema = Schema(\n",
    "    [\n",
    "        ColSpec(\"string\",\"word\")\n",
    "    ]\n",
    ")\n",
    "\n",
    "signature = ModelSignature(inputs=input_schema,\n",
    "                           outputs=output_schema,\n",
    "                           params = params_schema)\n",
    "\n",
    "mlflow.set_experiment(\"upper_model\")\n",
    "with mlflow.start_run() as run:\n",
    "    model_info = mlflow.pyfunc.log_model(\n",
    "        python_model=MyModel(),\n",
    "        artifact_path=\"upper_model\",\n",
    "        signature=signature,\n",
    "        registered_model_name=\"upper_model\" # Register the model\n",
    "    )\n",
    "\n",
    "client = mlflow.MlflowClient()\n",
    "model_metadata = client.get_latest_versions(\"upper_model\", stages=[\"None\"])\n",
    "latest_model_version = model_metadata[0].version"
   ]
  },
  {
   "cell_type": "code",
   "execution_count": 7,
   "id": "4eba81a3-3c79-4da5-8df3-00201df0b531",
   "metadata": {},
   "outputs": [
    {
     "data": {
      "text/plain": [
       "inputs: \n",
       "  ['word': string]\n",
       "outputs: \n",
       "  ['word': string]\n",
       "params: \n",
       "  ['do_work': boolean (default: False)]"
      ]
     },
     "execution_count": 7,
     "metadata": {},
     "output_type": "execute_result"
    }
   ],
   "source": [
    "mlflow.models.get_model_info(f\"models:/upper_model/{latest_model_version}\").signature"
   ]
  },
  {
   "cell_type": "markdown",
   "id": "2a90b9eb-cd49-489b-897b-2464934e8652",
   "metadata": {},
   "source": [
    "# Usage\n",
    "\n",
    "In the following are two ways to use the registered models. "
   ]
  },
  {
   "cell_type": "markdown",
   "id": "2254712a-0fa8-4f14-83e0-2d9b4dff73e6",
   "metadata": {},
   "source": [
    "## Loading the model\n",
    "\n",
    "Using pyfunc.load_model you can test if your model is working well, but it doesn`t involves nothing of the model services feature.\n",
    "\n",
    "In order to use it, change the version of model_uri to the latests version you deployed"
   ]
  },
  {
   "cell_type": "code",
   "execution_count": 6,
   "id": "550847b6-9245-4e75-b0e8-829ed038760c",
   "metadata": {},
   "outputs": [
    {
     "name": "stdout",
     "output_type": "stream",
     "text": [
      "{'word': 'HELLO WORLD'}\n",
      "{'word': 'hello world'}\n"
     ]
    }
   ],
   "source": [
    "model = mlflow.pyfunc.load_model(model_uri=f\"models:/upper_model/{latest_model_version}\")\n",
    "print(model.predict({\"word\":\"hello world\"}, params={\"do_work\":True}))\n",
    "print(model.predict({\"word\":\"hello world\"}, params={\"do_work\":False}))"
   ]
  },
  {
   "cell_type": "markdown",
   "id": "53868ec9-87b3-4f6b-9019-6eb7685f609c",
   "metadata": {},
   "source": [
    "## Model services\n",
    "\n",
    "Go to the published services page and create a model, run it and wait until the running state. Change the URL field below to the url of the published services."
   ]
  },
  {
   "cell_type": "code",
   "execution_count": 5,
   "id": "34ab01d1-426b-4d8a-a892-d2b72072c073",
   "metadata": {},
   "outputs": [
    {
     "name": "stdout",
     "output_type": "stream",
     "text": [
      "{\"predictions\": {\"flowerName\": \"sunflower\", \"do_work\": false}}\n"
     ]
    },
    {
     "name": "stderr",
     "output_type": "stream",
     "text": [
      "/opt/conda/lib/python3.10/site-packages/urllib3/connectionpool.py:1095: InsecureRequestWarning: Unverified HTTPS request is being made to host '10.137.137.5'. Adding certificate verification is strongly advised. See: https://urllib3.readthedocs.io/en/latest/advanced-usage.html#tls-warnings\n",
      "  warnings.warn(\n"
     ]
    }
   ],
   "source": [
    "# Model service 🤘\n",
    "\n",
    "url = \"https://10.137.137.5:5000\"+\"/invocations\"\n",
    "data = {\n",
    "    \"inputs\":{\n",
    "        \"word\":[\"hello world\"],\n",
    "    },\n",
    "    \"params\":{\n",
    "        \"do_work\": True\n",
    "    }\n",
    "}\n",
    "\n",
    "headers = {'Content-type': 'application/json'}\n",
    "x = requests.post(url, json = data, verify=False, headers=headers)\n",
    "\n",
    "print(x.text)"
   ]
  }
 ],
 "metadata": {
  "kernelspec": {
   "display_name": "Python 3 (ipykernel)",
   "language": "python",
   "name": "python3"
  },
  "language_info": {
   "codemirror_mode": {
    "name": "ipython",
    "version": 3
   },
   "file_extension": ".py",
   "mimetype": "text/x-python",
   "name": "python",
   "nbconvert_exporter": "python",
   "pygments_lexer": "ipython3",
   "version": "3.10.11"
  }
 },
 "nbformat": 4,
 "nbformat_minor": 5
}
