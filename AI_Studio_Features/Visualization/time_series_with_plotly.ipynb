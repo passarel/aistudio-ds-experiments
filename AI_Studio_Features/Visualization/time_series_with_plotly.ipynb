{
  "cells": [
    {
      "cell_type": "code",
      "execution_count": 1,
      "metadata": {
        "colab": {
          "base_uri": "https://localhost:8080/"
        },
        "id": "aphWIGSOMkCo",
        "outputId": "74cb6dfe-7a91-43bd-ac70-702fceb75239"
      },
      "outputs": [],
      "source": [
        "# !pip install plotly-calplot\n",
        "\n",
        "from plotly_calplot import calplot\n",
        "import plotly.express as px\n",
        "import pandas as pd\n",
        "import numpy as np"
      ]
    },
    {
      "cell_type": "code",
      "execution_count": 2,
      "metadata": {
        "colab": {
          "base_uri": "https://localhost:8080/",
          "height": 238
        },
        "id": "P7z_HkPtNsgE",
        "outputId": "8b3086a1-5eea-4230-f90f-272ee693c9f9"
      },
      "outputs": [
        {
          "data": {
            "text/html": [
              "<div>\n",
              "<style scoped>\n",
              "    .dataframe tbody tr th:only-of-type {\n",
              "        vertical-align: middle;\n",
              "    }\n",
              "\n",
              "    .dataframe tbody tr th {\n",
              "        vertical-align: top;\n",
              "    }\n",
              "\n",
              "    .dataframe thead th {\n",
              "        text-align: right;\n",
              "    }\n",
              "</style>\n",
              "<table border=\"1\" class=\"dataframe\">\n",
              "  <thead>\n",
              "    <tr style=\"text-align: right;\">\n",
              "      <th>company</th>\n",
              "      <th>GOOG</th>\n",
              "      <th>AAPL</th>\n",
              "      <th>AMZN</th>\n",
              "      <th>FB</th>\n",
              "      <th>NFLX</th>\n",
              "      <th>MSFT</th>\n",
              "    </tr>\n",
              "    <tr>\n",
              "      <th>date</th>\n",
              "      <th></th>\n",
              "      <th></th>\n",
              "      <th></th>\n",
              "      <th></th>\n",
              "      <th></th>\n",
              "      <th></th>\n",
              "    </tr>\n",
              "  </thead>\n",
              "  <tbody>\n",
              "    <tr>\n",
              "      <th>2018-01-01</th>\n",
              "      <td>0.000000</td>\n",
              "      <td>0.000000</td>\n",
              "      <td>0.000000</td>\n",
              "      <td>0.000000</td>\n",
              "      <td>0.000000</td>\n",
              "      <td>0.000000</td>\n",
              "    </tr>\n",
              "    <tr>\n",
              "      <th>2018-01-08</th>\n",
              "      <td>0.018172</td>\n",
              "      <td>0.011943</td>\n",
              "      <td>0.061881</td>\n",
              "      <td>-0.040032</td>\n",
              "      <td>0.053526</td>\n",
              "      <td>0.015988</td>\n",
              "    </tr>\n",
              "    <tr>\n",
              "      <th>2018-01-15</th>\n",
              "      <td>0.032008</td>\n",
              "      <td>0.019771</td>\n",
              "      <td>0.053240</td>\n",
              "      <td>-0.029757</td>\n",
              "      <td>0.049860</td>\n",
              "      <td>0.020524</td>\n",
              "    </tr>\n",
              "    <tr>\n",
              "      <th>2018-01-22</th>\n",
              "      <td>0.066783</td>\n",
              "      <td>-0.019943</td>\n",
              "      <td>0.140676</td>\n",
              "      <td>0.016858</td>\n",
              "      <td>0.307681</td>\n",
              "      <td>0.066561</td>\n",
              "    </tr>\n",
              "    <tr>\n",
              "      <th>2018-01-29</th>\n",
              "      <td>0.008773</td>\n",
              "      <td>-0.082857</td>\n",
              "      <td>0.163374</td>\n",
              "      <td>0.018357</td>\n",
              "      <td>0.273537</td>\n",
              "      <td>0.040708</td>\n",
              "    </tr>\n",
              "  </tbody>\n",
              "</table>\n",
              "</div>"
            ],
            "text/plain": [
              "company         GOOG      AAPL      AMZN        FB      NFLX      MSFT\n",
              "date                                                                  \n",
              "2018-01-01  0.000000  0.000000  0.000000  0.000000  0.000000  0.000000\n",
              "2018-01-08  0.018172  0.011943  0.061881 -0.040032  0.053526  0.015988\n",
              "2018-01-15  0.032008  0.019771  0.053240 -0.029757  0.049860  0.020524\n",
              "2018-01-22  0.066783 -0.019943  0.140676  0.016858  0.307681  0.066561\n",
              "2018-01-29  0.008773 -0.082857  0.163374  0.018357  0.273537  0.040708"
            ]
          },
          "execution_count": 2,
          "metadata": {},
          "output_type": "execute_result"
        }
      ],
      "source": [
        "df_com_idx = px.data.stocks(indexed=True)-1\n",
        "df_com_idx.head()"
      ]
    },
    {
      "cell_type": "code",
      "execution_count": 3,
      "metadata": {
        "colab": {
          "base_uri": "https://localhost:8080/",
          "height": 542
        },
        "id": "OR6-BydyQwzS",
        "outputId": "1b5d5df8-ef28-449c-8b13-1804fc196798"
      },
      "outputs": [
        {
          "data": {
            "application/vnd.plotly.v1+json": {
              "config": {
                "plotlyServerURL": "https://plot.ly"
              },
              "data": [
                {
                  "alignmentgroup": "True",
                  "bingroup": "x",
                  "hovertemplate": "FB=%{x}<br>count=%{y}<extra></extra>",
                  "legendgroup": "",
                  "marker": {
                    "color": "#636efa",
                    "pattern": {
                      "shape": ""
                    }
                  },
                  "name": "",
                  "offsetgroup": "",
                  "orientation": "v",
                  "showlegend": false,
                  "type": "histogram",
                  "x": [
                    0,
                    -0.04003216890450645,
                    -0.029756557781432602,
                    0.016858409948351527,
                    0.018356932779547197,
                    -0.05747928635335442,
                    -0.050789428393168023,
                    -0.01905278504513419,
                    -0.054749856416916765,
                    -0.008670109435265583,
                    -0.00941937352680644,
                    -0.1469628371325823,
                    -0.14482211469664086,
                    -0.1586834789826017,
                    -0.11950763330454484,
                    -0.11008834005603407,
                    -0.07096606676052242,
                    -0.05480334316927982,
                    0.0007492587396544792,
                    -0.022317435729705237,
                    -0.010329183505619177,
                    0.03821246331669892,
                    0.012041744328335824,
                    0.04816697731334307,
                    0.07968958266985537,
                    0.03997859652196101,
                    0.08766384519142045,
                    0.1095531193079009,
                    0.12357503483302001,
                    -0.06400859842626938,
                    -0.048541646822317985,
                    -0.035268990036853576,
                    -0.06984213316000643,
                    -0.06529307791405703,
                    -0.05951302993268304,
                    -0.12742848400015583,
                    -0.13128176725881402,
                    -0.12801719150065216,
                    -0.11982873043097464,
                    -0.1579877069953104,
                    -0.17720096300130705,
                    -0.17554188893095357,
                    -0.22199630542157978,
                    -0.19534385243744656,
                    -0.22419051460988437,
                    -0.25325130040402566,
                    -0.29499603013124875,
                    -0.24747125242265178,
                    -0.264543785992707,
                    -0.2290072605081961,
                    -0.33128181435541404,
                    -0.287128751818183,
                    -0.26170729156947425,
                    -0.23039872420448304,
                    -0.19700300678609572,
                    -0.2025154390415166,
                    -0.11313887247078813,
                    -0.10446884331381823,
                    -0.13031846517575174,
                    -0.13358312121220917,
                    -0.1314958855286309,
                    -0.09232003985057402,
                    -0.1116939220221379,
                    -0.12047101566590279,
                    -0.1078940505894338,
                    -0.0595665220369328,
                    -0.041477119353156455,
                    -0.04586570363824338,
                    0.024832747396325905,
                    0.046133233734014345,
                    0.007974257169678589,
                    -0.008295439926290449,
                    -0.03098746488667481,
                    -0.05020072089267158,
                    -0.07225046597001439,
                    -0.029542434159729236,
                    0.022959555056155434,
                    0.032914069052799366,
                    0.051110450593188306,
                    0.09644093348329874,
                    0.06160018533796552,
                    0.06903930203780662,
                    0.011613582715110926,
                    0.005351886368149206,
                    -0.016858490226647427,
                    -0.04870219806147602,
                    -0.006315268729507051,
                    0.003425201923729082,
                    0.0018196199576252514,
                    0.016483740439376726,
                    -0.052180892089454756,
                    -0.034252120923132345,
                    -0.014236039146822366,
                    -0.005351886368149206,
                    0.0055659243596704044,
                    0.036232211841620066,
                    0.021353973090051603,
                    0.04415306253723106,
                    0.06406208517863243,
                    0.07915436192172232,
                    0.0759967703720601,
                    0.038854668273331505,
                    0.1040941738048431,
                    0.11372758532317095,
                    0.09847467706262769
                  ],
                  "xaxis": "x",
                  "yaxis": "y"
                }
              ],
              "layout": {
                "barmode": "relative",
                "legend": {
                  "tracegroupgap": 0
                },
                "margin": {
                  "t": 60
                },
                "template": {
                  "data": {
                    "bar": [
                      {
                        "error_x": {
                          "color": "#2a3f5f"
                        },
                        "error_y": {
                          "color": "#2a3f5f"
                        },
                        "marker": {
                          "line": {
                            "color": "#E5ECF6",
                            "width": 0.5
                          },
                          "pattern": {
                            "fillmode": "overlay",
                            "size": 10,
                            "solidity": 0.2
                          }
                        },
                        "type": "bar"
                      }
                    ],
                    "barpolar": [
                      {
                        "marker": {
                          "line": {
                            "color": "#E5ECF6",
                            "width": 0.5
                          },
                          "pattern": {
                            "fillmode": "overlay",
                            "size": 10,
                            "solidity": 0.2
                          }
                        },
                        "type": "barpolar"
                      }
                    ],
                    "carpet": [
                      {
                        "aaxis": {
                          "endlinecolor": "#2a3f5f",
                          "gridcolor": "white",
                          "linecolor": "white",
                          "minorgridcolor": "white",
                          "startlinecolor": "#2a3f5f"
                        },
                        "baxis": {
                          "endlinecolor": "#2a3f5f",
                          "gridcolor": "white",
                          "linecolor": "white",
                          "minorgridcolor": "white",
                          "startlinecolor": "#2a3f5f"
                        },
                        "type": "carpet"
                      }
                    ],
                    "choropleth": [
                      {
                        "colorbar": {
                          "outlinewidth": 0,
                          "ticks": ""
                        },
                        "type": "choropleth"
                      }
                    ],
                    "contour": [
                      {
                        "colorbar": {
                          "outlinewidth": 0,
                          "ticks": ""
                        },
                        "colorscale": [
                          [
                            0,
                            "#0d0887"
                          ],
                          [
                            0.1111111111111111,
                            "#46039f"
                          ],
                          [
                            0.2222222222222222,
                            "#7201a8"
                          ],
                          [
                            0.3333333333333333,
                            "#9c179e"
                          ],
                          [
                            0.4444444444444444,
                            "#bd3786"
                          ],
                          [
                            0.5555555555555556,
                            "#d8576b"
                          ],
                          [
                            0.6666666666666666,
                            "#ed7953"
                          ],
                          [
                            0.7777777777777778,
                            "#fb9f3a"
                          ],
                          [
                            0.8888888888888888,
                            "#fdca26"
                          ],
                          [
                            1,
                            "#f0f921"
                          ]
                        ],
                        "type": "contour"
                      }
                    ],
                    "contourcarpet": [
                      {
                        "colorbar": {
                          "outlinewidth": 0,
                          "ticks": ""
                        },
                        "type": "contourcarpet"
                      }
                    ],
                    "heatmap": [
                      {
                        "colorbar": {
                          "outlinewidth": 0,
                          "ticks": ""
                        },
                        "colorscale": [
                          [
                            0,
                            "#0d0887"
                          ],
                          [
                            0.1111111111111111,
                            "#46039f"
                          ],
                          [
                            0.2222222222222222,
                            "#7201a8"
                          ],
                          [
                            0.3333333333333333,
                            "#9c179e"
                          ],
                          [
                            0.4444444444444444,
                            "#bd3786"
                          ],
                          [
                            0.5555555555555556,
                            "#d8576b"
                          ],
                          [
                            0.6666666666666666,
                            "#ed7953"
                          ],
                          [
                            0.7777777777777778,
                            "#fb9f3a"
                          ],
                          [
                            0.8888888888888888,
                            "#fdca26"
                          ],
                          [
                            1,
                            "#f0f921"
                          ]
                        ],
                        "type": "heatmap"
                      }
                    ],
                    "heatmapgl": [
                      {
                        "colorbar": {
                          "outlinewidth": 0,
                          "ticks": ""
                        },
                        "colorscale": [
                          [
                            0,
                            "#0d0887"
                          ],
                          [
                            0.1111111111111111,
                            "#46039f"
                          ],
                          [
                            0.2222222222222222,
                            "#7201a8"
                          ],
                          [
                            0.3333333333333333,
                            "#9c179e"
                          ],
                          [
                            0.4444444444444444,
                            "#bd3786"
                          ],
                          [
                            0.5555555555555556,
                            "#d8576b"
                          ],
                          [
                            0.6666666666666666,
                            "#ed7953"
                          ],
                          [
                            0.7777777777777778,
                            "#fb9f3a"
                          ],
                          [
                            0.8888888888888888,
                            "#fdca26"
                          ],
                          [
                            1,
                            "#f0f921"
                          ]
                        ],
                        "type": "heatmapgl"
                      }
                    ],
                    "histogram": [
                      {
                        "marker": {
                          "pattern": {
                            "fillmode": "overlay",
                            "size": 10,
                            "solidity": 0.2
                          }
                        },
                        "type": "histogram"
                      }
                    ],
                    "histogram2d": [
                      {
                        "colorbar": {
                          "outlinewidth": 0,
                          "ticks": ""
                        },
                        "colorscale": [
                          [
                            0,
                            "#0d0887"
                          ],
                          [
                            0.1111111111111111,
                            "#46039f"
                          ],
                          [
                            0.2222222222222222,
                            "#7201a8"
                          ],
                          [
                            0.3333333333333333,
                            "#9c179e"
                          ],
                          [
                            0.4444444444444444,
                            "#bd3786"
                          ],
                          [
                            0.5555555555555556,
                            "#d8576b"
                          ],
                          [
                            0.6666666666666666,
                            "#ed7953"
                          ],
                          [
                            0.7777777777777778,
                            "#fb9f3a"
                          ],
                          [
                            0.8888888888888888,
                            "#fdca26"
                          ],
                          [
                            1,
                            "#f0f921"
                          ]
                        ],
                        "type": "histogram2d"
                      }
                    ],
                    "histogram2dcontour": [
                      {
                        "colorbar": {
                          "outlinewidth": 0,
                          "ticks": ""
                        },
                        "colorscale": [
                          [
                            0,
                            "#0d0887"
                          ],
                          [
                            0.1111111111111111,
                            "#46039f"
                          ],
                          [
                            0.2222222222222222,
                            "#7201a8"
                          ],
                          [
                            0.3333333333333333,
                            "#9c179e"
                          ],
                          [
                            0.4444444444444444,
                            "#bd3786"
                          ],
                          [
                            0.5555555555555556,
                            "#d8576b"
                          ],
                          [
                            0.6666666666666666,
                            "#ed7953"
                          ],
                          [
                            0.7777777777777778,
                            "#fb9f3a"
                          ],
                          [
                            0.8888888888888888,
                            "#fdca26"
                          ],
                          [
                            1,
                            "#f0f921"
                          ]
                        ],
                        "type": "histogram2dcontour"
                      }
                    ],
                    "mesh3d": [
                      {
                        "colorbar": {
                          "outlinewidth": 0,
                          "ticks": ""
                        },
                        "type": "mesh3d"
                      }
                    ],
                    "parcoords": [
                      {
                        "line": {
                          "colorbar": {
                            "outlinewidth": 0,
                            "ticks": ""
                          }
                        },
                        "type": "parcoords"
                      }
                    ],
                    "pie": [
                      {
                        "automargin": true,
                        "type": "pie"
                      }
                    ],
                    "scatter": [
                      {
                        "fillpattern": {
                          "fillmode": "overlay",
                          "size": 10,
                          "solidity": 0.2
                        },
                        "type": "scatter"
                      }
                    ],
                    "scatter3d": [
                      {
                        "line": {
                          "colorbar": {
                            "outlinewidth": 0,
                            "ticks": ""
                          }
                        },
                        "marker": {
                          "colorbar": {
                            "outlinewidth": 0,
                            "ticks": ""
                          }
                        },
                        "type": "scatter3d"
                      }
                    ],
                    "scattercarpet": [
                      {
                        "marker": {
                          "colorbar": {
                            "outlinewidth": 0,
                            "ticks": ""
                          }
                        },
                        "type": "scattercarpet"
                      }
                    ],
                    "scattergeo": [
                      {
                        "marker": {
                          "colorbar": {
                            "outlinewidth": 0,
                            "ticks": ""
                          }
                        },
                        "type": "scattergeo"
                      }
                    ],
                    "scattergl": [
                      {
                        "marker": {
                          "colorbar": {
                            "outlinewidth": 0,
                            "ticks": ""
                          }
                        },
                        "type": "scattergl"
                      }
                    ],
                    "scattermapbox": [
                      {
                        "marker": {
                          "colorbar": {
                            "outlinewidth": 0,
                            "ticks": ""
                          }
                        },
                        "type": "scattermapbox"
                      }
                    ],
                    "scatterpolar": [
                      {
                        "marker": {
                          "colorbar": {
                            "outlinewidth": 0,
                            "ticks": ""
                          }
                        },
                        "type": "scatterpolar"
                      }
                    ],
                    "scatterpolargl": [
                      {
                        "marker": {
                          "colorbar": {
                            "outlinewidth": 0,
                            "ticks": ""
                          }
                        },
                        "type": "scatterpolargl"
                      }
                    ],
                    "scatterternary": [
                      {
                        "marker": {
                          "colorbar": {
                            "outlinewidth": 0,
                            "ticks": ""
                          }
                        },
                        "type": "scatterternary"
                      }
                    ],
                    "surface": [
                      {
                        "colorbar": {
                          "outlinewidth": 0,
                          "ticks": ""
                        },
                        "colorscale": [
                          [
                            0,
                            "#0d0887"
                          ],
                          [
                            0.1111111111111111,
                            "#46039f"
                          ],
                          [
                            0.2222222222222222,
                            "#7201a8"
                          ],
                          [
                            0.3333333333333333,
                            "#9c179e"
                          ],
                          [
                            0.4444444444444444,
                            "#bd3786"
                          ],
                          [
                            0.5555555555555556,
                            "#d8576b"
                          ],
                          [
                            0.6666666666666666,
                            "#ed7953"
                          ],
                          [
                            0.7777777777777778,
                            "#fb9f3a"
                          ],
                          [
                            0.8888888888888888,
                            "#fdca26"
                          ],
                          [
                            1,
                            "#f0f921"
                          ]
                        ],
                        "type": "surface"
                      }
                    ],
                    "table": [
                      {
                        "cells": {
                          "fill": {
                            "color": "#EBF0F8"
                          },
                          "line": {
                            "color": "white"
                          }
                        },
                        "header": {
                          "fill": {
                            "color": "#C8D4E3"
                          },
                          "line": {
                            "color": "white"
                          }
                        },
                        "type": "table"
                      }
                    ]
                  },
                  "layout": {
                    "annotationdefaults": {
                      "arrowcolor": "#2a3f5f",
                      "arrowhead": 0,
                      "arrowwidth": 1
                    },
                    "autotypenumbers": "strict",
                    "coloraxis": {
                      "colorbar": {
                        "outlinewidth": 0,
                        "ticks": ""
                      }
                    },
                    "colorscale": {
                      "diverging": [
                        [
                          0,
                          "#8e0152"
                        ],
                        [
                          0.1,
                          "#c51b7d"
                        ],
                        [
                          0.2,
                          "#de77ae"
                        ],
                        [
                          0.3,
                          "#f1b6da"
                        ],
                        [
                          0.4,
                          "#fde0ef"
                        ],
                        [
                          0.5,
                          "#f7f7f7"
                        ],
                        [
                          0.6,
                          "#e6f5d0"
                        ],
                        [
                          0.7,
                          "#b8e186"
                        ],
                        [
                          0.8,
                          "#7fbc41"
                        ],
                        [
                          0.9,
                          "#4d9221"
                        ],
                        [
                          1,
                          "#276419"
                        ]
                      ],
                      "sequential": [
                        [
                          0,
                          "#0d0887"
                        ],
                        [
                          0.1111111111111111,
                          "#46039f"
                        ],
                        [
                          0.2222222222222222,
                          "#7201a8"
                        ],
                        [
                          0.3333333333333333,
                          "#9c179e"
                        ],
                        [
                          0.4444444444444444,
                          "#bd3786"
                        ],
                        [
                          0.5555555555555556,
                          "#d8576b"
                        ],
                        [
                          0.6666666666666666,
                          "#ed7953"
                        ],
                        [
                          0.7777777777777778,
                          "#fb9f3a"
                        ],
                        [
                          0.8888888888888888,
                          "#fdca26"
                        ],
                        [
                          1,
                          "#f0f921"
                        ]
                      ],
                      "sequentialminus": [
                        [
                          0,
                          "#0d0887"
                        ],
                        [
                          0.1111111111111111,
                          "#46039f"
                        ],
                        [
                          0.2222222222222222,
                          "#7201a8"
                        ],
                        [
                          0.3333333333333333,
                          "#9c179e"
                        ],
                        [
                          0.4444444444444444,
                          "#bd3786"
                        ],
                        [
                          0.5555555555555556,
                          "#d8576b"
                        ],
                        [
                          0.6666666666666666,
                          "#ed7953"
                        ],
                        [
                          0.7777777777777778,
                          "#fb9f3a"
                        ],
                        [
                          0.8888888888888888,
                          "#fdca26"
                        ],
                        [
                          1,
                          "#f0f921"
                        ]
                      ]
                    },
                    "colorway": [
                      "#636efa",
                      "#EF553B",
                      "#00cc96",
                      "#ab63fa",
                      "#FFA15A",
                      "#19d3f3",
                      "#FF6692",
                      "#B6E880",
                      "#FF97FF",
                      "#FECB52"
                    ],
                    "font": {
                      "color": "#2a3f5f"
                    },
                    "geo": {
                      "bgcolor": "white",
                      "lakecolor": "white",
                      "landcolor": "#E5ECF6",
                      "showlakes": true,
                      "showland": true,
                      "subunitcolor": "white"
                    },
                    "hoverlabel": {
                      "align": "left"
                    },
                    "hovermode": "closest",
                    "mapbox": {
                      "style": "light"
                    },
                    "paper_bgcolor": "white",
                    "plot_bgcolor": "#E5ECF6",
                    "polar": {
                      "angularaxis": {
                        "gridcolor": "white",
                        "linecolor": "white",
                        "ticks": ""
                      },
                      "bgcolor": "#E5ECF6",
                      "radialaxis": {
                        "gridcolor": "white",
                        "linecolor": "white",
                        "ticks": ""
                      }
                    },
                    "scene": {
                      "xaxis": {
                        "backgroundcolor": "#E5ECF6",
                        "gridcolor": "white",
                        "gridwidth": 2,
                        "linecolor": "white",
                        "showbackground": true,
                        "ticks": "",
                        "zerolinecolor": "white"
                      },
                      "yaxis": {
                        "backgroundcolor": "#E5ECF6",
                        "gridcolor": "white",
                        "gridwidth": 2,
                        "linecolor": "white",
                        "showbackground": true,
                        "ticks": "",
                        "zerolinecolor": "white"
                      },
                      "zaxis": {
                        "backgroundcolor": "#E5ECF6",
                        "gridcolor": "white",
                        "gridwidth": 2,
                        "linecolor": "white",
                        "showbackground": true,
                        "ticks": "",
                        "zerolinecolor": "white"
                      }
                    },
                    "shapedefaults": {
                      "line": {
                        "color": "#2a3f5f"
                      }
                    },
                    "ternary": {
                      "aaxis": {
                        "gridcolor": "white",
                        "linecolor": "white",
                        "ticks": ""
                      },
                      "baxis": {
                        "gridcolor": "white",
                        "linecolor": "white",
                        "ticks": ""
                      },
                      "bgcolor": "#E5ECF6",
                      "caxis": {
                        "gridcolor": "white",
                        "linecolor": "white",
                        "ticks": ""
                      }
                    },
                    "title": {
                      "x": 0.05
                    },
                    "xaxis": {
                      "automargin": true,
                      "gridcolor": "white",
                      "linecolor": "white",
                      "ticks": "",
                      "title": {
                        "standoff": 15
                      },
                      "zerolinecolor": "white",
                      "zerolinewidth": 2
                    },
                    "yaxis": {
                      "automargin": true,
                      "gridcolor": "white",
                      "linecolor": "white",
                      "ticks": "",
                      "title": {
                        "standoff": 15
                      },
                      "zerolinecolor": "white",
                      "zerolinewidth": 2
                    }
                  }
                },
                "xaxis": {
                  "anchor": "y",
                  "domain": [
                    0,
                    1
                  ],
                  "title": {
                    "text": "FB"
                  }
                },
                "yaxis": {
                  "anchor": "x",
                  "domain": [
                    0,
                    1
                  ],
                  "title": {
                    "text": "count"
                  }
                }
              }
            }
          },
          "metadata": {},
          "output_type": "display_data"
        }
      ],
      "source": [
        "px.histogram(data_frame = df_com_idx\n",
        "             ,x = 'FB'\n",
        "             )"
      ]
    },
    {
      "cell_type": "code",
      "execution_count": 4,
      "metadata": {
        "colab": {
          "base_uri": "https://localhost:8080/",
          "height": 542
        },
        "id": "YjsP0SUMRlTe",
        "outputId": "24697fbb-7eda-417e-d2e6-96eba1113b11"
      },
      "outputs": [
        {
          "data": {
            "application/vnd.plotly.v1+json": {
              "config": {
                "plotlyServerURL": "https://plot.ly"
              },
              "data": [
                {
                  "fillpattern": {
                    "shape": ""
                  },
                  "hovertemplate": "company=GOOG<br>date=%{x}<br>value=%{y}<extra></extra>",
                  "legendgroup": "GOOG",
                  "line": {
                    "color": "#636efa"
                  },
                  "marker": {
                    "symbol": "circle"
                  },
                  "mode": "lines",
                  "name": "GOOG",
                  "orientation": "v",
                  "showlegend": true,
                  "stackgroup": "1",
                  "type": "scatter",
                  "x": [
                    "2018-01-01",
                    "2018-01-08",
                    "2018-01-15",
                    "2018-01-22",
                    "2018-01-29",
                    "2018-02-05",
                    "2018-02-12",
                    "2018-02-19",
                    "2018-02-26",
                    "2018-03-05",
                    "2018-03-12",
                    "2018-03-19",
                    "2018-03-26",
                    "2018-04-02",
                    "2018-04-09",
                    "2018-04-16",
                    "2018-04-23",
                    "2018-04-30",
                    "2018-05-07",
                    "2018-05-14",
                    "2018-05-21",
                    "2018-05-28",
                    "2018-06-04",
                    "2018-06-11",
                    "2018-06-18",
                    "2018-06-25",
                    "2018-07-02",
                    "2018-07-09",
                    "2018-07-16",
                    "2018-07-23",
                    "2018-07-30",
                    "2018-08-06",
                    "2018-08-13",
                    "2018-08-20",
                    "2018-08-27",
                    "2018-09-03",
                    "2018-09-10",
                    "2018-09-17",
                    "2018-09-24",
                    "2018-10-01",
                    "2018-10-08",
                    "2018-10-15",
                    "2018-10-22",
                    "2018-10-29",
                    "2018-11-05",
                    "2018-11-12",
                    "2018-11-19",
                    "2018-11-26",
                    "2018-12-03",
                    "2018-12-10",
                    "2018-12-17",
                    "2018-12-24",
                    "2018-12-31",
                    "2019-01-07",
                    "2019-01-14",
                    "2019-01-21",
                    "2019-01-28",
                    "2019-02-04",
                    "2019-02-11",
                    "2019-02-18",
                    "2019-02-25",
                    "2019-03-04",
                    "2019-03-11",
                    "2019-03-18",
                    "2019-03-25",
                    "2019-04-01",
                    "2019-04-08",
                    "2019-04-15",
                    "2019-04-22",
                    "2019-04-29",
                    "2019-05-06",
                    "2019-05-13",
                    "2019-05-20",
                    "2019-05-27",
                    "2019-06-03",
                    "2019-06-10",
                    "2019-06-17",
                    "2019-06-24",
                    "2019-07-01",
                    "2019-07-08",
                    "2019-07-15",
                    "2019-07-22",
                    "2019-07-29",
                    "2019-08-05",
                    "2019-08-12",
                    "2019-08-19",
                    "2019-08-26",
                    "2019-09-02",
                    "2019-09-09",
                    "2019-09-16",
                    "2019-09-23",
                    "2019-09-30",
                    "2019-10-07",
                    "2019-10-14",
                    "2019-10-21",
                    "2019-10-28",
                    "2019-11-04",
                    "2019-11-11",
                    "2019-11-18",
                    "2019-11-25",
                    "2019-12-02",
                    "2019-12-09",
                    "2019-12-16",
                    "2019-12-23",
                    "2019-12-30"
                  ],
                  "xaxis": "x5",
                  "y": [
                    0,
                    0.01817227834793611,
                    0.03200786645269793,
                    0.0667827833897241,
                    0.008773163655011684,
                    -0.058472326256268414,
                    -0.006740817374609964,
                    0.02228215476410833,
                    -0.021147978573400783,
                    0.05244827309088418,
                    0.03039293124652631,
                    -0.073178895932408,
                    -0.06390675474096619,
                    -0.08636128913858798,
                    -0.06619304620983002,
                    -0.026555273882134744,
                    -0.06548536358991075,
                    -0.049009752937404394,
                    -0.0036017619480828156,
                    -0.03254311318949976,
                    -0.024105628119460376,
                    0.01566825464137711,
                    0.01691118490534982,
                    0.04538982871795949,
                    0.048311151906791805,
                    0.012175357451264412,
                    0.03442118676539718,
                    0.07855889203812083,
                    0.07501161781137511,
                    0.12363120444247033,
                    0.11021291672723321,
                    0.1228237368393843,
                    0.08957294102996549,
                    0.10743678374634658,
                    0.10520486931411543,
                    0.0567939333314087,
                    0.06377983748908722,
                    0.05793707951946647,
                    0.08277763502676638,
                    0.05000770891751638,
                    0.0071219039061158895,
                    -0.005234859425616412,
                    -0.027907069811329177,
                    -0.040318211086946,
                    -0.03273360065927444,
                    -0.03696142432997518,
                    -0.07108314636841939,
                    -0.007076495959582041,
                    -0.05956109450044178,
                    -0.054553047087324,
                    -0.11131071031110962,
                    -0.05910746866094141,
                    -0.028596590159886803,
                    -0.04086265100501085,
                    -0.0036017619480828156,
                    -0.010197499799451948,
                    0.007729802450120227,
                    -0.006504922865553153,
                    0.010360854093262706,
                    0.007385042275841691,
                    0.035165084150587056,
                    0.036371688964584425,
                    0.07460328832645247,
                    0.0936918990354445,
                    0.0644875210162581,
                    0.095188886079836,
                    0.10491459776842582,
                    0.12169875382994033,
                    0.1541874899828073,
                    0.07545616206156902,
                    0.056285930455275635,
                    0.054498670957942696,
                    0.02834253428671918,
                    0.0012701750318930838,
                    -0.032833384735189375,
                    -0.015314411970539954,
                    0.017827518173657353,
                    -0.01934255680470598,
                    0.02663689659393942,
                    0.03871246906203729,
                    0.025285100664744986,
                    0.13443660278592673,
                    0.08324942313762862,
                    0.07782407624223753,
                    0.06837955541728191,
                    0.04450982089962752,
                    0.07790569804679048,
                    0.09317481457000465,
                    0.12459294475006,
                    0.1158561065450241,
                    0.11146492858051271,
                    0.09686727991194721,
                    0.10271900878617002,
                    0.12997288460616896,
                    0.14779132119051952,
                    0.1556027445379411,
                    0.1897426297549989,
                    0.21106304421151711,
                    0.1751993590303178,
                    0.1839271156460469,
                    0.216279741365772,
                    0.2228209905885521,
                    0.2244177626161099,
                    0.2265044859331442,
                    0.21301365800266092
                  ],
                  "yaxis": "y5"
                },
                {
                  "fillpattern": {
                    "shape": ""
                  },
                  "hovertemplate": "company=AAPL<br>date=%{x}<br>value=%{y}<extra></extra>",
                  "legendgroup": "AAPL",
                  "line": {
                    "color": "#EF553B"
                  },
                  "marker": {
                    "symbol": "circle"
                  },
                  "mode": "lines",
                  "name": "AAPL",
                  "orientation": "v",
                  "showlegend": true,
                  "stackgroup": "1",
                  "type": "scatter",
                  "x": [
                    "2018-01-01",
                    "2018-01-08",
                    "2018-01-15",
                    "2018-01-22",
                    "2018-01-29",
                    "2018-02-05",
                    "2018-02-12",
                    "2018-02-19",
                    "2018-02-26",
                    "2018-03-05",
                    "2018-03-12",
                    "2018-03-19",
                    "2018-03-26",
                    "2018-04-02",
                    "2018-04-09",
                    "2018-04-16",
                    "2018-04-23",
                    "2018-04-30",
                    "2018-05-07",
                    "2018-05-14",
                    "2018-05-21",
                    "2018-05-28",
                    "2018-06-04",
                    "2018-06-11",
                    "2018-06-18",
                    "2018-06-25",
                    "2018-07-02",
                    "2018-07-09",
                    "2018-07-16",
                    "2018-07-23",
                    "2018-07-30",
                    "2018-08-06",
                    "2018-08-13",
                    "2018-08-20",
                    "2018-08-27",
                    "2018-09-03",
                    "2018-09-10",
                    "2018-09-17",
                    "2018-09-24",
                    "2018-10-01",
                    "2018-10-08",
                    "2018-10-15",
                    "2018-10-22",
                    "2018-10-29",
                    "2018-11-05",
                    "2018-11-12",
                    "2018-11-19",
                    "2018-11-26",
                    "2018-12-03",
                    "2018-12-10",
                    "2018-12-17",
                    "2018-12-24",
                    "2018-12-31",
                    "2019-01-07",
                    "2019-01-14",
                    "2019-01-21",
                    "2019-01-28",
                    "2019-02-04",
                    "2019-02-11",
                    "2019-02-18",
                    "2019-02-25",
                    "2019-03-04",
                    "2019-03-11",
                    "2019-03-18",
                    "2019-03-25",
                    "2019-04-01",
                    "2019-04-08",
                    "2019-04-15",
                    "2019-04-22",
                    "2019-04-29",
                    "2019-05-06",
                    "2019-05-13",
                    "2019-05-20",
                    "2019-05-27",
                    "2019-06-03",
                    "2019-06-10",
                    "2019-06-17",
                    "2019-06-24",
                    "2019-07-01",
                    "2019-07-08",
                    "2019-07-15",
                    "2019-07-22",
                    "2019-07-29",
                    "2019-08-05",
                    "2019-08-12",
                    "2019-08-19",
                    "2019-08-26",
                    "2019-09-02",
                    "2019-09-09",
                    "2019-09-16",
                    "2019-09-23",
                    "2019-09-30",
                    "2019-10-07",
                    "2019-10-14",
                    "2019-10-21",
                    "2019-10-28",
                    "2019-11-04",
                    "2019-11-11",
                    "2019-11-18",
                    "2019-11-25",
                    "2019-12-02",
                    "2019-12-09",
                    "2019-12-16",
                    "2019-12-23",
                    "2019-12-30"
                  ],
                  "xaxis": "x6",
                  "y": [
                    0,
                    0.011942834285714188,
                    0.019771468571428752,
                    -0.019942885714285596,
                    -0.08285714285714285,
                    -0.1062285485714285,
                    -0.014685754285714392,
                    0.0028571428571428914,
                    0.006914325714286074,
                    0.02845711999999989,
                    0.017257165714285705,
                    -0.05748570285714283,
                    -0.04125714857142859,
                    -0.037828542857142766,
                    -0.0015428800000000242,
                    -0.0530285657142856,
                    -0.0724571028571428,
                    0.0504571542857144,
                    0.07765712000000002,
                    0.06462856000000006,
                    0.07760001142857154,
                    0.08708574285714277,
                    0.0954285542857145,
                    0.07908569142857136,
                    0.056685702857142806,
                    0.057771434285714296,
                    0.07411429142857151,
                    0.0933142971428571,
                    0.0939428685714283,
                    0.09131426285714284,
                    0.1885143142857142,
                    0.1858857085714285,
                    0.24331429714285724,
                    0.23520002285714292,
                    0.30074288571428553,
                    0.2645714457142856,
                    0.2790856914285711,
                    0.2437714514285716,
                    0.2899428857142856,
                    0.28165710285714285,
                    0.2692000057142856,
                    0.2531999885714289,
                    0.2360000171428569,
                    0.18559997714285714,
                    0.1684000057142856,
                    0.10588570857142865,
                    -0.015485754285714415,
                    0.020457154285714374,
                    -0.037199971428571565,
                    -0.05440002285714285,
                    -0.13868573714285715,
                    -0.10725716571428567,
                    -0.1528000285714286,
                    -0.12977146857142863,
                    -0.10388567428571427,
                    -0.09851431428571422,
                    -0.04845712000000002,
                    -0.026228548571428423,
                    -0.026171440000000046,
                    -0.011599994285714454,
                    -0.00017142285714277783,
                    -0.011942834285714188,
                    0.06354282857142857,
                    0.09171430285714277,
                    0.0854285542857145,
                    0.12571428571428567,
                    0.1363999714285713,
                    0.1649142914285715,
                    0.16742858857142862,
                    0.20999999999999996,
                    0.12674281714285707,
                    0.08000000000000007,
                    0.02268571999999991,
                    0.0004000399999999349,
                    0.08657139428571448,
                    0.10137145714285722,
                    0.1358857085714289,
                    0.1309714171428571,
                    0.1670285485714289,
                    0.16171430285714283,
                    0.1576571200000001,
                    0.18708574285714286,
                    0.1658285942857145,
                    0.14851431428571416,
                    0.17999999999999994,
                    0.15794285142857167,
                    0.19280002857142864,
                    0.21862854285714306,
                    0.25,
                    0.24417140571428564,
                    0.25040003999999993,
                    0.2971999714285716,
                    0.3497714685714286,
                    0.3509143085714286,
                    0.40902858285714294,
                    0.46182861142857123,
                    0.48651437142857157,
                    0.5186286285714288,
                    0.4958857085714288,
                    0.5271428571428571,
                    0.5469142342857145,
                    0.57228568,
                    0.5968000114285714,
                    0.6559999314285714,
                    0.6779999657142857
                  ],
                  "yaxis": "y6"
                },
                {
                  "fillpattern": {
                    "shape": ""
                  },
                  "hovertemplate": "company=AMZN<br>date=%{x}<br>value=%{y}<extra></extra>",
                  "legendgroup": "AMZN",
                  "line": {
                    "color": "#00cc96"
                  },
                  "marker": {
                    "symbol": "circle"
                  },
                  "mode": "lines",
                  "name": "AMZN",
                  "orientation": "v",
                  "showlegend": true,
                  "stackgroup": "1",
                  "type": "scatter",
                  "x": [
                    "2018-01-01",
                    "2018-01-08",
                    "2018-01-15",
                    "2018-01-22",
                    "2018-01-29",
                    "2018-02-05",
                    "2018-02-12",
                    "2018-02-19",
                    "2018-02-26",
                    "2018-03-05",
                    "2018-03-12",
                    "2018-03-19",
                    "2018-03-26",
                    "2018-04-02",
                    "2018-04-09",
                    "2018-04-16",
                    "2018-04-23",
                    "2018-04-30",
                    "2018-05-07",
                    "2018-05-14",
                    "2018-05-21",
                    "2018-05-28",
                    "2018-06-04",
                    "2018-06-11",
                    "2018-06-18",
                    "2018-06-25",
                    "2018-07-02",
                    "2018-07-09",
                    "2018-07-16",
                    "2018-07-23",
                    "2018-07-30",
                    "2018-08-06",
                    "2018-08-13",
                    "2018-08-20",
                    "2018-08-27",
                    "2018-09-03",
                    "2018-09-10",
                    "2018-09-17",
                    "2018-09-24",
                    "2018-10-01",
                    "2018-10-08",
                    "2018-10-15",
                    "2018-10-22",
                    "2018-10-29",
                    "2018-11-05",
                    "2018-11-12",
                    "2018-11-19",
                    "2018-11-26",
                    "2018-12-03",
                    "2018-12-10",
                    "2018-12-17",
                    "2018-12-24",
                    "2018-12-31",
                    "2019-01-07",
                    "2019-01-14",
                    "2019-01-21",
                    "2019-01-28",
                    "2019-02-04",
                    "2019-02-11",
                    "2019-02-18",
                    "2019-02-25",
                    "2019-03-04",
                    "2019-03-11",
                    "2019-03-18",
                    "2019-03-25",
                    "2019-04-01",
                    "2019-04-08",
                    "2019-04-15",
                    "2019-04-22",
                    "2019-04-29",
                    "2019-05-06",
                    "2019-05-13",
                    "2019-05-20",
                    "2019-05-27",
                    "2019-06-03",
                    "2019-06-10",
                    "2019-06-17",
                    "2019-06-24",
                    "2019-07-01",
                    "2019-07-08",
                    "2019-07-15",
                    "2019-07-22",
                    "2019-07-29",
                    "2019-08-05",
                    "2019-08-12",
                    "2019-08-19",
                    "2019-08-26",
                    "2019-09-02",
                    "2019-09-09",
                    "2019-09-16",
                    "2019-09-23",
                    "2019-09-30",
                    "2019-10-07",
                    "2019-10-14",
                    "2019-10-21",
                    "2019-10-28",
                    "2019-11-04",
                    "2019-11-11",
                    "2019-11-18",
                    "2019-11-25",
                    "2019-12-02",
                    "2019-12-09",
                    "2019-12-16",
                    "2019-12-23",
                    "2019-12-30"
                  ],
                  "xaxis": "x3",
                  "y": [
                    0,
                    0.06188061170557568,
                    0.053240428430767706,
                    0.14067562026283875,
                    0.16337433778852284,
                    0.08986767955805264,
                    0.17862076193166665,
                    0.2203654438831366,
                    0.2205688381237838,
                    0.28454854266541796,
                    0.2786826844946546,
                    0.21675321017028315,
                    0.17752245337159578,
                    0.14326273886706065,
                    0.16405781403187003,
                    0.24273066644893193,
                    0.2794473988384474,
                    0.2862244591394254,
                    0.3040906767647622,
                    0.2808711585229775,
                    0.3099809658381354,
                    0.3355191588974509,
                    0.3700554610940725,
                    0.3960736368996989,
                    0.3958296232020404,
                    0.3829181608736414,
                    0.3917291635810911,
                    0.47503946407602715,
                    0.4755844971819587,
                    0.4784890230752108,
                    0.4833867718479574,
                    0.5346502643964448,
                    0.5313308069300795,
                    0.5501814209506477,
                    0.6374944566425169,
                    0.5881591374274802,
                    0.6029011479217037,
                    0.5580080272628667,
                    0.6295946560652816,
                    0.5373757268816928,
                    0.45517187885222343,
                    0.4351741929091779,
                    0.3365524179114776,
                    0.3550368620941855,
                    0.3931936419790223,
                    0.2963616956201691,
                    0.22204146042710993,
                    0.375083410656027,
                    0.32542264113010755,
                    0.29514133017628597,
                    0.12066154725261313,
                    0.2024830385169749,
                    0.28170102329635727,
                    0.3347218697456531,
                    0.3799892040777797,
                    0.359137222458745,
                    0.32306324759917615,
                    0.29213917992898475,
                    0.3081910371293215,
                    0.3273996770823542,
                    0.3600809993969647,
                    0.3186455808291295,
                    0.3931366354548309,
                    0.4357762325393011,
                    0.4487771761299302,
                    0.4947687054188046,
                    0.4994712046698764,
                    0.5146280474808236,
                    0.5869876346023932,
                    0.5966122142724319,
                    0.5376441714819611,
                    0.5205753430783882,
                    0.48337862794256203,
                    0.44415601504927005,
                    0.46771727141272845,
                    0.521120475440709,
                    0.5549896884611636,
                    0.5406137477348341,
                    0.5807068440449401,
                    0.6361032717659916,
                    0.5982882308164057,
                    0.5808207570233568,
                    0.4833460531345568,
                    0.4706054102388,
                    0.4583936118945735,
                    0.4234505212166575,
                    0.44514865460628594,
                    0.4917015048118829,
                    0.4964446227063888,
                    0.4596872708598625,
                    0.40378633023350075,
                    0.4153391824933792,
                    0.4090502488441077,
                    0.42986965565513735,
                    0.4329774757190701,
                    0.4574742658589632,
                    0.4529508300158951,
                    0.4152089825177483,
                    0.4202775515367141,
                    0.46508943409510595,
                    0.425061388144621,
                    0.4326601685000062,
                    0.4534552436648156,
                    0.5212262445137299,
                    0.5033600268883931
                  ],
                  "yaxis": "y3"
                },
                {
                  "fillpattern": {
                    "shape": ""
                  },
                  "hovertemplate": "company=FB<br>date=%{x}<br>value=%{y}<extra></extra>",
                  "legendgroup": "FB",
                  "line": {
                    "color": "#ab63fa"
                  },
                  "marker": {
                    "symbol": "circle"
                  },
                  "mode": "lines",
                  "name": "FB",
                  "orientation": "v",
                  "showlegend": true,
                  "stackgroup": "1",
                  "type": "scatter",
                  "x": [
                    "2018-01-01",
                    "2018-01-08",
                    "2018-01-15",
                    "2018-01-22",
                    "2018-01-29",
                    "2018-02-05",
                    "2018-02-12",
                    "2018-02-19",
                    "2018-02-26",
                    "2018-03-05",
                    "2018-03-12",
                    "2018-03-19",
                    "2018-03-26",
                    "2018-04-02",
                    "2018-04-09",
                    "2018-04-16",
                    "2018-04-23",
                    "2018-04-30",
                    "2018-05-07",
                    "2018-05-14",
                    "2018-05-21",
                    "2018-05-28",
                    "2018-06-04",
                    "2018-06-11",
                    "2018-06-18",
                    "2018-06-25",
                    "2018-07-02",
                    "2018-07-09",
                    "2018-07-16",
                    "2018-07-23",
                    "2018-07-30",
                    "2018-08-06",
                    "2018-08-13",
                    "2018-08-20",
                    "2018-08-27",
                    "2018-09-03",
                    "2018-09-10",
                    "2018-09-17",
                    "2018-09-24",
                    "2018-10-01",
                    "2018-10-08",
                    "2018-10-15",
                    "2018-10-22",
                    "2018-10-29",
                    "2018-11-05",
                    "2018-11-12",
                    "2018-11-19",
                    "2018-11-26",
                    "2018-12-03",
                    "2018-12-10",
                    "2018-12-17",
                    "2018-12-24",
                    "2018-12-31",
                    "2019-01-07",
                    "2019-01-14",
                    "2019-01-21",
                    "2019-01-28",
                    "2019-02-04",
                    "2019-02-11",
                    "2019-02-18",
                    "2019-02-25",
                    "2019-03-04",
                    "2019-03-11",
                    "2019-03-18",
                    "2019-03-25",
                    "2019-04-01",
                    "2019-04-08",
                    "2019-04-15",
                    "2019-04-22",
                    "2019-04-29",
                    "2019-05-06",
                    "2019-05-13",
                    "2019-05-20",
                    "2019-05-27",
                    "2019-06-03",
                    "2019-06-10",
                    "2019-06-17",
                    "2019-06-24",
                    "2019-07-01",
                    "2019-07-08",
                    "2019-07-15",
                    "2019-07-22",
                    "2019-07-29",
                    "2019-08-05",
                    "2019-08-12",
                    "2019-08-19",
                    "2019-08-26",
                    "2019-09-02",
                    "2019-09-09",
                    "2019-09-16",
                    "2019-09-23",
                    "2019-09-30",
                    "2019-10-07",
                    "2019-10-14",
                    "2019-10-21",
                    "2019-10-28",
                    "2019-11-04",
                    "2019-11-11",
                    "2019-11-18",
                    "2019-11-25",
                    "2019-12-02",
                    "2019-12-09",
                    "2019-12-16",
                    "2019-12-23",
                    "2019-12-30"
                  ],
                  "xaxis": "x4",
                  "y": [
                    0,
                    -0.04003216890450645,
                    -0.029756557781432602,
                    0.016858409948351527,
                    0.018356932779547197,
                    -0.05747928635335442,
                    -0.050789428393168023,
                    -0.01905278504513419,
                    -0.054749856416916765,
                    -0.008670109435265583,
                    -0.00941937352680644,
                    -0.1469628371325823,
                    -0.14482211469664086,
                    -0.1586834789826017,
                    -0.11950763330454484,
                    -0.11008834005603407,
                    -0.07096606676052242,
                    -0.05480334316927982,
                    0.0007492587396544792,
                    -0.022317435729705237,
                    -0.010329183505619177,
                    0.03821246331669892,
                    0.012041744328335824,
                    0.04816697731334307,
                    0.07968958266985537,
                    0.03997859652196101,
                    0.08766384519142045,
                    0.1095531193079009,
                    0.12357503483302001,
                    -0.06400859842626938,
                    -0.048541646822317985,
                    -0.035268990036853576,
                    -0.06984213316000643,
                    -0.06529307791405703,
                    -0.05951302993268304,
                    -0.12742848400015583,
                    -0.13128176725881402,
                    -0.12801719150065216,
                    -0.11982873043097464,
                    -0.1579877069953104,
                    -0.17720096300130705,
                    -0.17554188893095357,
                    -0.22199630542157978,
                    -0.19534385243744656,
                    -0.22419051460988437,
                    -0.25325130040402566,
                    -0.29499603013124875,
                    -0.24747125242265178,
                    -0.264543785992707,
                    -0.2290072605081961,
                    -0.33128181435541404,
                    -0.287128751818183,
                    -0.26170729156947425,
                    -0.23039872420448304,
                    -0.19700300678609572,
                    -0.2025154390415166,
                    -0.11313887247078813,
                    -0.10446884331381823,
                    -0.13031846517575174,
                    -0.13358312121220917,
                    -0.1314958855286309,
                    -0.09232003985057402,
                    -0.1116939220221379,
                    -0.12047101566590279,
                    -0.1078940505894338,
                    -0.0595665220369328,
                    -0.041477119353156455,
                    -0.04586570363824338,
                    0.024832747396325905,
                    0.046133233734014345,
                    0.007974257169678589,
                    -0.008295439926290449,
                    -0.03098746488667481,
                    -0.05020072089267158,
                    -0.07225046597001439,
                    -0.029542434159729236,
                    0.022959555056155434,
                    0.032914069052799366,
                    0.051110450593188306,
                    0.09644093348329874,
                    0.06160018533796552,
                    0.06903930203780662,
                    0.011613582715110926,
                    0.005351886368149206,
                    -0.016858490226647427,
                    -0.04870219806147602,
                    -0.006315268729507051,
                    0.003425201923729082,
                    0.0018196199576252514,
                    0.016483740439376726,
                    -0.052180892089454756,
                    -0.034252120923132345,
                    -0.014236039146822366,
                    -0.005351886368149206,
                    0.0055659243596704044,
                    0.036232211841620066,
                    0.021353973090051603,
                    0.04415306253723106,
                    0.06406208517863243,
                    0.07915436192172232,
                    0.0759967703720601,
                    0.038854668273331505,
                    0.1040941738048431,
                    0.11372758532317095,
                    0.09847467706262769
                  ],
                  "yaxis": "y4"
                },
                {
                  "fillpattern": {
                    "shape": ""
                  },
                  "hovertemplate": "company=NFLX<br>date=%{x}<br>value=%{y}<extra></extra>",
                  "legendgroup": "NFLX",
                  "line": {
                    "color": "#FFA15A"
                  },
                  "marker": {
                    "symbol": "circle"
                  },
                  "mode": "lines",
                  "name": "NFLX",
                  "orientation": "v",
                  "showlegend": true,
                  "stackgroup": "1",
                  "type": "scatter",
                  "x": [
                    "2018-01-01",
                    "2018-01-08",
                    "2018-01-15",
                    "2018-01-22",
                    "2018-01-29",
                    "2018-02-05",
                    "2018-02-12",
                    "2018-02-19",
                    "2018-02-26",
                    "2018-03-05",
                    "2018-03-12",
                    "2018-03-19",
                    "2018-03-26",
                    "2018-04-02",
                    "2018-04-09",
                    "2018-04-16",
                    "2018-04-23",
                    "2018-04-30",
                    "2018-05-07",
                    "2018-05-14",
                    "2018-05-21",
                    "2018-05-28",
                    "2018-06-04",
                    "2018-06-11",
                    "2018-06-18",
                    "2018-06-25",
                    "2018-07-02",
                    "2018-07-09",
                    "2018-07-16",
                    "2018-07-23",
                    "2018-07-30",
                    "2018-08-06",
                    "2018-08-13",
                    "2018-08-20",
                    "2018-08-27",
                    "2018-09-03",
                    "2018-09-10",
                    "2018-09-17",
                    "2018-09-24",
                    "2018-10-01",
                    "2018-10-08",
                    "2018-10-15",
                    "2018-10-22",
                    "2018-10-29",
                    "2018-11-05",
                    "2018-11-12",
                    "2018-11-19",
                    "2018-11-26",
                    "2018-12-03",
                    "2018-12-10",
                    "2018-12-17",
                    "2018-12-24",
                    "2018-12-31",
                    "2019-01-07",
                    "2019-01-14",
                    "2019-01-21",
                    "2019-01-28",
                    "2019-02-04",
                    "2019-02-11",
                    "2019-02-18",
                    "2019-02-25",
                    "2019-03-04",
                    "2019-03-11",
                    "2019-03-18",
                    "2019-03-25",
                    "2019-04-01",
                    "2019-04-08",
                    "2019-04-15",
                    "2019-04-22",
                    "2019-04-29",
                    "2019-05-06",
                    "2019-05-13",
                    "2019-05-20",
                    "2019-05-27",
                    "2019-06-03",
                    "2019-06-10",
                    "2019-06-17",
                    "2019-06-24",
                    "2019-07-01",
                    "2019-07-08",
                    "2019-07-15",
                    "2019-07-22",
                    "2019-07-29",
                    "2019-08-05",
                    "2019-08-12",
                    "2019-08-19",
                    "2019-08-26",
                    "2019-09-02",
                    "2019-09-09",
                    "2019-09-16",
                    "2019-09-23",
                    "2019-09-30",
                    "2019-10-07",
                    "2019-10-14",
                    "2019-10-21",
                    "2019-10-28",
                    "2019-11-04",
                    "2019-11-11",
                    "2019-11-18",
                    "2019-11-25",
                    "2019-12-02",
                    "2019-12-09",
                    "2019-12-16",
                    "2019-12-23",
                    "2019-12-30"
                  ],
                  "xaxis": "x",
                  "y": [
                    0,
                    0.05352631426433829,
                    0.04985952545693784,
                    0.30768131559404477,
                    0.2735367714287169,
                    0.18800892928213409,
                    0.3263487897912096,
                    0.3616362026373592,
                    0.4336396058469547,
                    0.5783608462698024,
                    0.5165008067883996,
                    0.4331158380609592,
                    0.406495542490225,
                    0.375541688281783,
                    0.48411822743658695,
                    0.5608837620628662,
                    0.4846421380865249,
                    0.5243106261176576,
                    0.5546453794312736,
                    0.5437877293254985,
                    0.6728891882258874,
                    0.7140339274719294,
                    0.7170817582484463,
                    0.8666603250949969,
                    0.9576645850358447,
                    0.8640410670974561,
                    0.9441401508609899,
                    0.884851557577705,
                    0.7193674908479577,
                    0.6915566576609209,
                    0.6338396487013751,
                    0.6470783692776241,
                    0.50854798541483,
                    0.7087480282692504,
                    0.7509404459512254,
                    0.6604599490342411,
                    0.7360826197418304,
                    0.720034255916133,
                    0.7816562507344105,
                    0.6731749018244944,
                    0.6170293343247459,
                    0.5842183202957685,
                    0.4278298007564696,
                    0.4719748494696214,
                    0.4451640257830367,
                    0.3629695899097676,
                    0.23253488660091248,
                    0.3625886860662726,
                    0.2626315952514029,
                    0.2707271281792676,
                    0.17334155499448678,
                    0.2194865512765718,
                    0.4170674789973934,
                    0.6076479259096166,
                    0.6148387919701228,
                    0.6098384682642397,
                    0.6184103905326357,
                    0.6551740498315624,
                    0.6994618148611409,
                    0.7287488945009553,
                    0.7016048311442251,
                    0.6648411718452985,
                    0.7213199790151921,
                    0.7191771103581814,
                    0.6979855684083631,
                    0.7405113638622944,
                    0.6721748970861734,
                    0.7160340845746449,
                    0.7850849901165535,
                    0.8335634546034707,
                    0.7193199695385504,
                    0.6879375377890014,
                    0.6876518241903944,
                    0.6347444679569396,
                    0.7185103405278743,
                    0.6178389585732904,
                    0.7582264974944879,
                    0.7492261453110591,
                    0.8122290534732837,
                    0.7774655512770718,
                    0.5005476379697218,
                    0.5990284823318142,
                    0.5183102976734539,
                    0.47116522522107696,
                    0.4419733358261506,
                    0.38787558960246726,
                    0.3988761036507431,
                    0.38182773508672496,
                    0.4007809276446279,
                    0.2893470810670251,
                    0.2528214711933554,
                    0.2990618720162419,
                    0.347349808387309,
                    0.31101472186735757,
                    0.31825325210121314,
                    0.3658269020946976,
                    0.388494690497293,
                    0.4049716271019663,
                    0.4785466146353017,
                    0.4984522906221185,
                    0.4636411194904255,
                    0.42149622787998897,
                    0.6043620457078422,
                    0.5671698088678081,
                    0.5408828958311611
                  ],
                  "yaxis": "y"
                },
                {
                  "fillpattern": {
                    "shape": ""
                  },
                  "hovertemplate": "company=MSFT<br>date=%{x}<br>value=%{y}<extra></extra>",
                  "legendgroup": "MSFT",
                  "line": {
                    "color": "#19d3f3"
                  },
                  "marker": {
                    "symbol": "circle"
                  },
                  "mode": "lines",
                  "name": "MSFT",
                  "orientation": "v",
                  "showlegend": true,
                  "stackgroup": "1",
                  "type": "scatter",
                  "x": [
                    "2018-01-01",
                    "2018-01-08",
                    "2018-01-15",
                    "2018-01-22",
                    "2018-01-29",
                    "2018-02-05",
                    "2018-02-12",
                    "2018-02-19",
                    "2018-02-26",
                    "2018-03-05",
                    "2018-03-12",
                    "2018-03-19",
                    "2018-03-26",
                    "2018-04-02",
                    "2018-04-09",
                    "2018-04-16",
                    "2018-04-23",
                    "2018-04-30",
                    "2018-05-07",
                    "2018-05-14",
                    "2018-05-21",
                    "2018-05-28",
                    "2018-06-04",
                    "2018-06-11",
                    "2018-06-18",
                    "2018-06-25",
                    "2018-07-02",
                    "2018-07-09",
                    "2018-07-16",
                    "2018-07-23",
                    "2018-07-30",
                    "2018-08-06",
                    "2018-08-13",
                    "2018-08-20",
                    "2018-08-27",
                    "2018-09-03",
                    "2018-09-10",
                    "2018-09-17",
                    "2018-09-24",
                    "2018-10-01",
                    "2018-10-08",
                    "2018-10-15",
                    "2018-10-22",
                    "2018-10-29",
                    "2018-11-05",
                    "2018-11-12",
                    "2018-11-19",
                    "2018-11-26",
                    "2018-12-03",
                    "2018-12-10",
                    "2018-12-17",
                    "2018-12-24",
                    "2018-12-31",
                    "2019-01-07",
                    "2019-01-14",
                    "2019-01-21",
                    "2019-01-28",
                    "2019-02-04",
                    "2019-02-11",
                    "2019-02-18",
                    "2019-02-25",
                    "2019-03-04",
                    "2019-03-11",
                    "2019-03-18",
                    "2019-03-25",
                    "2019-04-01",
                    "2019-04-08",
                    "2019-04-15",
                    "2019-04-22",
                    "2019-04-29",
                    "2019-05-06",
                    "2019-05-13",
                    "2019-05-20",
                    "2019-05-27",
                    "2019-06-03",
                    "2019-06-10",
                    "2019-06-17",
                    "2019-06-24",
                    "2019-07-01",
                    "2019-07-08",
                    "2019-07-15",
                    "2019-07-22",
                    "2019-07-29",
                    "2019-08-05",
                    "2019-08-12",
                    "2019-08-19",
                    "2019-08-26",
                    "2019-09-02",
                    "2019-09-09",
                    "2019-09-16",
                    "2019-09-23",
                    "2019-09-30",
                    "2019-10-07",
                    "2019-10-14",
                    "2019-10-21",
                    "2019-10-28",
                    "2019-11-04",
                    "2019-11-11",
                    "2019-11-18",
                    "2019-11-25",
                    "2019-12-02",
                    "2019-12-09",
                    "2019-12-16",
                    "2019-12-23",
                    "2019-12-30"
                  ],
                  "xaxis": "x2",
                  "y": [
                    0,
                    0.01598816156053595,
                    0.020523845775624494,
                    0.06656078769563911,
                    0.0407075282751439,
                    -0.00011341421672717011,
                    0.04320215345952705,
                    0.06656078769563911,
                    0.05510829901103742,
                    0.09468192324114022,
                    0.07268393077029289,
                    -0.011452568058678558,
                    0.034924537137440925,
                    0.02313188517673459,
                    0.05544846228714251,
                    0.07721961498538121,
                    0.08651772113578127,
                    0.07903392495670869,
                    0.10783529634118838,
                    0.09264087554958889,
                    0.11531918323349166,
                    0.14287332706943356,
                    0.15239817094005725,
                    0.1353894401771305,
                    0.13856448262695342,
                    0.11815397169397968,
                    0.14706884800841702,
                    0.19548698955693422,
                    0.20501184476671153,
                    0.2210000857013248,
                    0.22508219242358107,
                    0.23596776877270043,
                    0.2198661929954373,
                    0.22916429914583736,
                    0.27372717374470623,
                    0.22700982589840502,
                    0.28551990507948943,
                    0.29561174065967233,
                    0.2968590589214408,
                    0.2714592862805467,
                    0.2424310864626129,
                    0.23211250182305232,
                    0.21283588359596584,
                    0.20376461721817396,
                    0.2424310864626129,
                    0.22791698088406886,
                    0.16872658648992878,
                    0.2573987581948347,
                    0.18857010571334354,
                    0.20229047052295113,
                    0.1138451159123457,
                    0.13833764285434524,
                    0.15579995111010447,
                    0.1656650489700635,
                    0.2213402489774292,
                    0.2152170945636216,
                    0.16543822053660917,
                    0.19820836380069462,
                    0.22712324011513219,
                    0.25830591318049856,
                    0.27599497049563504,
                    0.2530899137523548,
                    0.31432136717719983,
                    0.32724799121787074,
                    0.33733982679805363,
                    0.3594511427723972,
                    0.3714706231665581,
                    0.3989114434990031,
                    0.47284268119191086,
                    0.4616168621926098,
                    0.44154659390981754,
                    0.4522055119127899,
                    0.43145475832963465,
                    0.4024265471725468,
                    0.4899647467974879,
                    0.5018708923489987,
                    0.5531239130712344,
                    0.518993128041884,
                    0.5541444028995486,
                    0.5750084006121237,
                    0.5491551411916282,
                    0.6026759586647925,
                    0.5523300929282209,
                    0.5615149549492018,
                    0.5435990692006107,
                    0.5125297196387406,
                    0.5632157599905712,
                    0.5772763674503605,
                    0.5570926849508404,
                    0.5811316344000079,
                    0.5617416132953483,
                    0.5661638719545554,
                    0.5838529292696919,
                    0.5581131747791548,
                    0.5957590748212025,
                    0.6296632015044059,
                    0.6550629741453009,
                    0.7005329130166025,
                    0.6962239778608914,
                    0.7165211652903694,
                    0.7207165955161221,
                    0.7522394318575931,
                    0.7848962516181823,
                    0.8024719740906685,
                    0.7881845268582712
                  ],
                  "yaxis": "y2"
                }
              ],
              "layout": {
                "annotations": [
                  {
                    "font": {},
                    "showarrow": false,
                    "text": "company=NFLX",
                    "x": 0.245,
                    "xanchor": "center",
                    "xref": "paper",
                    "y": 0.2866666666666666,
                    "yanchor": "bottom",
                    "yref": "paper"
                  },
                  {
                    "font": {},
                    "showarrow": false,
                    "text": "company=MSFT",
                    "x": 0.755,
                    "xanchor": "center",
                    "xref": "paper",
                    "y": 0.2866666666666666,
                    "yanchor": "bottom",
                    "yref": "paper"
                  },
                  {
                    "font": {},
                    "showarrow": false,
                    "text": "company=AMZN",
                    "x": 0.245,
                    "xanchor": "center",
                    "xref": "paper",
                    "y": 0.6433333333333333,
                    "yanchor": "bottom",
                    "yref": "paper"
                  },
                  {
                    "font": {},
                    "showarrow": false,
                    "text": "company=FB",
                    "x": 0.755,
                    "xanchor": "center",
                    "xref": "paper",
                    "y": 0.6433333333333333,
                    "yanchor": "bottom",
                    "yref": "paper"
                  },
                  {
                    "font": {},
                    "showarrow": false,
                    "text": "company=GOOG",
                    "x": 0.245,
                    "xanchor": "center",
                    "xref": "paper",
                    "y": 0.9999999999999999,
                    "yanchor": "bottom",
                    "yref": "paper"
                  },
                  {
                    "font": {},
                    "showarrow": false,
                    "text": "company=AAPL",
                    "x": 0.755,
                    "xanchor": "center",
                    "xref": "paper",
                    "y": 0.9999999999999999,
                    "yanchor": "bottom",
                    "yref": "paper"
                  }
                ],
                "legend": {
                  "title": {
                    "text": "company"
                  },
                  "tracegroupgap": 0
                },
                "margin": {
                  "t": 60
                },
                "template": {
                  "data": {
                    "bar": [
                      {
                        "error_x": {
                          "color": "#2a3f5f"
                        },
                        "error_y": {
                          "color": "#2a3f5f"
                        },
                        "marker": {
                          "line": {
                            "color": "#E5ECF6",
                            "width": 0.5
                          },
                          "pattern": {
                            "fillmode": "overlay",
                            "size": 10,
                            "solidity": 0.2
                          }
                        },
                        "type": "bar"
                      }
                    ],
                    "barpolar": [
                      {
                        "marker": {
                          "line": {
                            "color": "#E5ECF6",
                            "width": 0.5
                          },
                          "pattern": {
                            "fillmode": "overlay",
                            "size": 10,
                            "solidity": 0.2
                          }
                        },
                        "type": "barpolar"
                      }
                    ],
                    "carpet": [
                      {
                        "aaxis": {
                          "endlinecolor": "#2a3f5f",
                          "gridcolor": "white",
                          "linecolor": "white",
                          "minorgridcolor": "white",
                          "startlinecolor": "#2a3f5f"
                        },
                        "baxis": {
                          "endlinecolor": "#2a3f5f",
                          "gridcolor": "white",
                          "linecolor": "white",
                          "minorgridcolor": "white",
                          "startlinecolor": "#2a3f5f"
                        },
                        "type": "carpet"
                      }
                    ],
                    "choropleth": [
                      {
                        "colorbar": {
                          "outlinewidth": 0,
                          "ticks": ""
                        },
                        "type": "choropleth"
                      }
                    ],
                    "contour": [
                      {
                        "colorbar": {
                          "outlinewidth": 0,
                          "ticks": ""
                        },
                        "colorscale": [
                          [
                            0,
                            "#0d0887"
                          ],
                          [
                            0.1111111111111111,
                            "#46039f"
                          ],
                          [
                            0.2222222222222222,
                            "#7201a8"
                          ],
                          [
                            0.3333333333333333,
                            "#9c179e"
                          ],
                          [
                            0.4444444444444444,
                            "#bd3786"
                          ],
                          [
                            0.5555555555555556,
                            "#d8576b"
                          ],
                          [
                            0.6666666666666666,
                            "#ed7953"
                          ],
                          [
                            0.7777777777777778,
                            "#fb9f3a"
                          ],
                          [
                            0.8888888888888888,
                            "#fdca26"
                          ],
                          [
                            1,
                            "#f0f921"
                          ]
                        ],
                        "type": "contour"
                      }
                    ],
                    "contourcarpet": [
                      {
                        "colorbar": {
                          "outlinewidth": 0,
                          "ticks": ""
                        },
                        "type": "contourcarpet"
                      }
                    ],
                    "heatmap": [
                      {
                        "colorbar": {
                          "outlinewidth": 0,
                          "ticks": ""
                        },
                        "colorscale": [
                          [
                            0,
                            "#0d0887"
                          ],
                          [
                            0.1111111111111111,
                            "#46039f"
                          ],
                          [
                            0.2222222222222222,
                            "#7201a8"
                          ],
                          [
                            0.3333333333333333,
                            "#9c179e"
                          ],
                          [
                            0.4444444444444444,
                            "#bd3786"
                          ],
                          [
                            0.5555555555555556,
                            "#d8576b"
                          ],
                          [
                            0.6666666666666666,
                            "#ed7953"
                          ],
                          [
                            0.7777777777777778,
                            "#fb9f3a"
                          ],
                          [
                            0.8888888888888888,
                            "#fdca26"
                          ],
                          [
                            1,
                            "#f0f921"
                          ]
                        ],
                        "type": "heatmap"
                      }
                    ],
                    "heatmapgl": [
                      {
                        "colorbar": {
                          "outlinewidth": 0,
                          "ticks": ""
                        },
                        "colorscale": [
                          [
                            0,
                            "#0d0887"
                          ],
                          [
                            0.1111111111111111,
                            "#46039f"
                          ],
                          [
                            0.2222222222222222,
                            "#7201a8"
                          ],
                          [
                            0.3333333333333333,
                            "#9c179e"
                          ],
                          [
                            0.4444444444444444,
                            "#bd3786"
                          ],
                          [
                            0.5555555555555556,
                            "#d8576b"
                          ],
                          [
                            0.6666666666666666,
                            "#ed7953"
                          ],
                          [
                            0.7777777777777778,
                            "#fb9f3a"
                          ],
                          [
                            0.8888888888888888,
                            "#fdca26"
                          ],
                          [
                            1,
                            "#f0f921"
                          ]
                        ],
                        "type": "heatmapgl"
                      }
                    ],
                    "histogram": [
                      {
                        "marker": {
                          "pattern": {
                            "fillmode": "overlay",
                            "size": 10,
                            "solidity": 0.2
                          }
                        },
                        "type": "histogram"
                      }
                    ],
                    "histogram2d": [
                      {
                        "colorbar": {
                          "outlinewidth": 0,
                          "ticks": ""
                        },
                        "colorscale": [
                          [
                            0,
                            "#0d0887"
                          ],
                          [
                            0.1111111111111111,
                            "#46039f"
                          ],
                          [
                            0.2222222222222222,
                            "#7201a8"
                          ],
                          [
                            0.3333333333333333,
                            "#9c179e"
                          ],
                          [
                            0.4444444444444444,
                            "#bd3786"
                          ],
                          [
                            0.5555555555555556,
                            "#d8576b"
                          ],
                          [
                            0.6666666666666666,
                            "#ed7953"
                          ],
                          [
                            0.7777777777777778,
                            "#fb9f3a"
                          ],
                          [
                            0.8888888888888888,
                            "#fdca26"
                          ],
                          [
                            1,
                            "#f0f921"
                          ]
                        ],
                        "type": "histogram2d"
                      }
                    ],
                    "histogram2dcontour": [
                      {
                        "colorbar": {
                          "outlinewidth": 0,
                          "ticks": ""
                        },
                        "colorscale": [
                          [
                            0,
                            "#0d0887"
                          ],
                          [
                            0.1111111111111111,
                            "#46039f"
                          ],
                          [
                            0.2222222222222222,
                            "#7201a8"
                          ],
                          [
                            0.3333333333333333,
                            "#9c179e"
                          ],
                          [
                            0.4444444444444444,
                            "#bd3786"
                          ],
                          [
                            0.5555555555555556,
                            "#d8576b"
                          ],
                          [
                            0.6666666666666666,
                            "#ed7953"
                          ],
                          [
                            0.7777777777777778,
                            "#fb9f3a"
                          ],
                          [
                            0.8888888888888888,
                            "#fdca26"
                          ],
                          [
                            1,
                            "#f0f921"
                          ]
                        ],
                        "type": "histogram2dcontour"
                      }
                    ],
                    "mesh3d": [
                      {
                        "colorbar": {
                          "outlinewidth": 0,
                          "ticks": ""
                        },
                        "type": "mesh3d"
                      }
                    ],
                    "parcoords": [
                      {
                        "line": {
                          "colorbar": {
                            "outlinewidth": 0,
                            "ticks": ""
                          }
                        },
                        "type": "parcoords"
                      }
                    ],
                    "pie": [
                      {
                        "automargin": true,
                        "type": "pie"
                      }
                    ],
                    "scatter": [
                      {
                        "fillpattern": {
                          "fillmode": "overlay",
                          "size": 10,
                          "solidity": 0.2
                        },
                        "type": "scatter"
                      }
                    ],
                    "scatter3d": [
                      {
                        "line": {
                          "colorbar": {
                            "outlinewidth": 0,
                            "ticks": ""
                          }
                        },
                        "marker": {
                          "colorbar": {
                            "outlinewidth": 0,
                            "ticks": ""
                          }
                        },
                        "type": "scatter3d"
                      }
                    ],
                    "scattercarpet": [
                      {
                        "marker": {
                          "colorbar": {
                            "outlinewidth": 0,
                            "ticks": ""
                          }
                        },
                        "type": "scattercarpet"
                      }
                    ],
                    "scattergeo": [
                      {
                        "marker": {
                          "colorbar": {
                            "outlinewidth": 0,
                            "ticks": ""
                          }
                        },
                        "type": "scattergeo"
                      }
                    ],
                    "scattergl": [
                      {
                        "marker": {
                          "colorbar": {
                            "outlinewidth": 0,
                            "ticks": ""
                          }
                        },
                        "type": "scattergl"
                      }
                    ],
                    "scattermapbox": [
                      {
                        "marker": {
                          "colorbar": {
                            "outlinewidth": 0,
                            "ticks": ""
                          }
                        },
                        "type": "scattermapbox"
                      }
                    ],
                    "scatterpolar": [
                      {
                        "marker": {
                          "colorbar": {
                            "outlinewidth": 0,
                            "ticks": ""
                          }
                        },
                        "type": "scatterpolar"
                      }
                    ],
                    "scatterpolargl": [
                      {
                        "marker": {
                          "colorbar": {
                            "outlinewidth": 0,
                            "ticks": ""
                          }
                        },
                        "type": "scatterpolargl"
                      }
                    ],
                    "scatterternary": [
                      {
                        "marker": {
                          "colorbar": {
                            "outlinewidth": 0,
                            "ticks": ""
                          }
                        },
                        "type": "scatterternary"
                      }
                    ],
                    "surface": [
                      {
                        "colorbar": {
                          "outlinewidth": 0,
                          "ticks": ""
                        },
                        "colorscale": [
                          [
                            0,
                            "#0d0887"
                          ],
                          [
                            0.1111111111111111,
                            "#46039f"
                          ],
                          [
                            0.2222222222222222,
                            "#7201a8"
                          ],
                          [
                            0.3333333333333333,
                            "#9c179e"
                          ],
                          [
                            0.4444444444444444,
                            "#bd3786"
                          ],
                          [
                            0.5555555555555556,
                            "#d8576b"
                          ],
                          [
                            0.6666666666666666,
                            "#ed7953"
                          ],
                          [
                            0.7777777777777778,
                            "#fb9f3a"
                          ],
                          [
                            0.8888888888888888,
                            "#fdca26"
                          ],
                          [
                            1,
                            "#f0f921"
                          ]
                        ],
                        "type": "surface"
                      }
                    ],
                    "table": [
                      {
                        "cells": {
                          "fill": {
                            "color": "#EBF0F8"
                          },
                          "line": {
                            "color": "white"
                          }
                        },
                        "header": {
                          "fill": {
                            "color": "#C8D4E3"
                          },
                          "line": {
                            "color": "white"
                          }
                        },
                        "type": "table"
                      }
                    ]
                  },
                  "layout": {
                    "annotationdefaults": {
                      "arrowcolor": "#2a3f5f",
                      "arrowhead": 0,
                      "arrowwidth": 1
                    },
                    "autotypenumbers": "strict",
                    "coloraxis": {
                      "colorbar": {
                        "outlinewidth": 0,
                        "ticks": ""
                      }
                    },
                    "colorscale": {
                      "diverging": [
                        [
                          0,
                          "#8e0152"
                        ],
                        [
                          0.1,
                          "#c51b7d"
                        ],
                        [
                          0.2,
                          "#de77ae"
                        ],
                        [
                          0.3,
                          "#f1b6da"
                        ],
                        [
                          0.4,
                          "#fde0ef"
                        ],
                        [
                          0.5,
                          "#f7f7f7"
                        ],
                        [
                          0.6,
                          "#e6f5d0"
                        ],
                        [
                          0.7,
                          "#b8e186"
                        ],
                        [
                          0.8,
                          "#7fbc41"
                        ],
                        [
                          0.9,
                          "#4d9221"
                        ],
                        [
                          1,
                          "#276419"
                        ]
                      ],
                      "sequential": [
                        [
                          0,
                          "#0d0887"
                        ],
                        [
                          0.1111111111111111,
                          "#46039f"
                        ],
                        [
                          0.2222222222222222,
                          "#7201a8"
                        ],
                        [
                          0.3333333333333333,
                          "#9c179e"
                        ],
                        [
                          0.4444444444444444,
                          "#bd3786"
                        ],
                        [
                          0.5555555555555556,
                          "#d8576b"
                        ],
                        [
                          0.6666666666666666,
                          "#ed7953"
                        ],
                        [
                          0.7777777777777778,
                          "#fb9f3a"
                        ],
                        [
                          0.8888888888888888,
                          "#fdca26"
                        ],
                        [
                          1,
                          "#f0f921"
                        ]
                      ],
                      "sequentialminus": [
                        [
                          0,
                          "#0d0887"
                        ],
                        [
                          0.1111111111111111,
                          "#46039f"
                        ],
                        [
                          0.2222222222222222,
                          "#7201a8"
                        ],
                        [
                          0.3333333333333333,
                          "#9c179e"
                        ],
                        [
                          0.4444444444444444,
                          "#bd3786"
                        ],
                        [
                          0.5555555555555556,
                          "#d8576b"
                        ],
                        [
                          0.6666666666666666,
                          "#ed7953"
                        ],
                        [
                          0.7777777777777778,
                          "#fb9f3a"
                        ],
                        [
                          0.8888888888888888,
                          "#fdca26"
                        ],
                        [
                          1,
                          "#f0f921"
                        ]
                      ]
                    },
                    "colorway": [
                      "#636efa",
                      "#EF553B",
                      "#00cc96",
                      "#ab63fa",
                      "#FFA15A",
                      "#19d3f3",
                      "#FF6692",
                      "#B6E880",
                      "#FF97FF",
                      "#FECB52"
                    ],
                    "font": {
                      "color": "#2a3f5f"
                    },
                    "geo": {
                      "bgcolor": "white",
                      "lakecolor": "white",
                      "landcolor": "#E5ECF6",
                      "showlakes": true,
                      "showland": true,
                      "subunitcolor": "white"
                    },
                    "hoverlabel": {
                      "align": "left"
                    },
                    "hovermode": "closest",
                    "mapbox": {
                      "style": "light"
                    },
                    "paper_bgcolor": "white",
                    "plot_bgcolor": "#E5ECF6",
                    "polar": {
                      "angularaxis": {
                        "gridcolor": "white",
                        "linecolor": "white",
                        "ticks": ""
                      },
                      "bgcolor": "#E5ECF6",
                      "radialaxis": {
                        "gridcolor": "white",
                        "linecolor": "white",
                        "ticks": ""
                      }
                    },
                    "scene": {
                      "xaxis": {
                        "backgroundcolor": "#E5ECF6",
                        "gridcolor": "white",
                        "gridwidth": 2,
                        "linecolor": "white",
                        "showbackground": true,
                        "ticks": "",
                        "zerolinecolor": "white"
                      },
                      "yaxis": {
                        "backgroundcolor": "#E5ECF6",
                        "gridcolor": "white",
                        "gridwidth": 2,
                        "linecolor": "white",
                        "showbackground": true,
                        "ticks": "",
                        "zerolinecolor": "white"
                      },
                      "zaxis": {
                        "backgroundcolor": "#E5ECF6",
                        "gridcolor": "white",
                        "gridwidth": 2,
                        "linecolor": "white",
                        "showbackground": true,
                        "ticks": "",
                        "zerolinecolor": "white"
                      }
                    },
                    "shapedefaults": {
                      "line": {
                        "color": "#2a3f5f"
                      }
                    },
                    "ternary": {
                      "aaxis": {
                        "gridcolor": "white",
                        "linecolor": "white",
                        "ticks": ""
                      },
                      "baxis": {
                        "gridcolor": "white",
                        "linecolor": "white",
                        "ticks": ""
                      },
                      "bgcolor": "#E5ECF6",
                      "caxis": {
                        "gridcolor": "white",
                        "linecolor": "white",
                        "ticks": ""
                      }
                    },
                    "title": {
                      "x": 0.05
                    },
                    "xaxis": {
                      "automargin": true,
                      "gridcolor": "white",
                      "linecolor": "white",
                      "ticks": "",
                      "title": {
                        "standoff": 15
                      },
                      "zerolinecolor": "white",
                      "zerolinewidth": 2
                    },
                    "yaxis": {
                      "automargin": true,
                      "gridcolor": "white",
                      "linecolor": "white",
                      "ticks": "",
                      "title": {
                        "standoff": 15
                      },
                      "zerolinecolor": "white",
                      "zerolinewidth": 2
                    }
                  }
                },
                "xaxis": {
                  "anchor": "y",
                  "domain": [
                    0,
                    0.49
                  ],
                  "title": {
                    "text": "date"
                  }
                },
                "xaxis2": {
                  "anchor": "y2",
                  "domain": [
                    0.51,
                    1
                  ],
                  "matches": "x",
                  "title": {
                    "text": "date"
                  }
                },
                "xaxis3": {
                  "anchor": "y3",
                  "domain": [
                    0,
                    0.49
                  ],
                  "matches": "x",
                  "showticklabels": false
                },
                "xaxis4": {
                  "anchor": "y4",
                  "domain": [
                    0.51,
                    1
                  ],
                  "matches": "x",
                  "showticklabels": false
                },
                "xaxis5": {
                  "anchor": "y5",
                  "domain": [
                    0,
                    0.49
                  ],
                  "matches": "x",
                  "showticklabels": false
                },
                "xaxis6": {
                  "anchor": "y6",
                  "domain": [
                    0.51,
                    1
                  ],
                  "matches": "x",
                  "showticklabels": false
                },
                "yaxis": {
                  "anchor": "x",
                  "domain": [
                    0,
                    0.2866666666666666
                  ],
                  "title": {
                    "text": "value"
                  }
                },
                "yaxis2": {
                  "anchor": "x2",
                  "domain": [
                    0,
                    0.2866666666666666
                  ],
                  "matches": "y",
                  "showticklabels": false
                },
                "yaxis3": {
                  "anchor": "x3",
                  "domain": [
                    0.35666666666666663,
                    0.6433333333333333
                  ],
                  "matches": "y",
                  "title": {
                    "text": "value"
                  }
                },
                "yaxis4": {
                  "anchor": "x4",
                  "domain": [
                    0.35666666666666663,
                    0.6433333333333333
                  ],
                  "matches": "y",
                  "showticklabels": false
                },
                "yaxis5": {
                  "anchor": "x5",
                  "domain": [
                    0.7133333333333333,
                    0.9999999999999999
                  ],
                  "matches": "y",
                  "title": {
                    "text": "value"
                  }
                },
                "yaxis6": {
                  "anchor": "x6",
                  "domain": [
                    0.7133333333333333,
                    0.9999999999999999
                  ],
                  "matches": "y",
                  "showticklabels": false
                }
              }
            }
          },
          "metadata": {},
          "output_type": "display_data"
        }
      ],
      "source": [
        "fig = px.area(df_com_idx, facet_col=\"company\", facet_col_wrap=2)\n",
        "fig.show()"
      ]
    },
    {
      "cell_type": "code",
      "execution_count": 5,
      "metadata": {
        "colab": {
          "base_uri": "https://localhost:8080/",
          "height": 542
        },
        "id": "kCfrmiuqXpm9",
        "outputId": "ace966cc-3077-44f2-cdf5-1c6565039e63"
      },
      "outputs": [
        {
          "data": {
            "application/vnd.plotly.v1+json": {
              "config": {
                "plotlyServerURL": "https://plot.ly"
              },
              "data": [
                {
                  "fillpattern": {
                    "shape": ""
                  },
                  "hovertemplate": "company=GOOG<br>date=%{x}<br>value=%{y}<extra></extra>",
                  "legendgroup": "GOOG",
                  "line": {
                    "color": "#636efa",
                    "shape": "spline"
                  },
                  "marker": {
                    "symbol": "circle"
                  },
                  "mode": "lines",
                  "name": "GOOG",
                  "orientation": "v",
                  "showlegend": true,
                  "stackgroup": "1",
                  "type": "scatter",
                  "x": [
                    "2018-01-01",
                    "2018-01-08",
                    "2018-01-15",
                    "2018-01-22",
                    "2018-01-29",
                    "2018-02-05",
                    "2018-02-12",
                    "2018-02-19",
                    "2018-02-26",
                    "2018-03-05",
                    "2018-03-12",
                    "2018-03-19",
                    "2018-03-26",
                    "2018-04-02",
                    "2018-04-09",
                    "2018-04-16",
                    "2018-04-23",
                    "2018-04-30",
                    "2018-05-07",
                    "2018-05-14",
                    "2018-05-21",
                    "2018-05-28",
                    "2018-06-04",
                    "2018-06-11",
                    "2018-06-18",
                    "2018-06-25",
                    "2018-07-02",
                    "2018-07-09",
                    "2018-07-16",
                    "2018-07-23",
                    "2018-07-30",
                    "2018-08-06",
                    "2018-08-13",
                    "2018-08-20",
                    "2018-08-27",
                    "2018-09-03",
                    "2018-09-10",
                    "2018-09-17",
                    "2018-09-24",
                    "2018-10-01",
                    "2018-10-08",
                    "2018-10-15",
                    "2018-10-22",
                    "2018-10-29",
                    "2018-11-05",
                    "2018-11-12",
                    "2018-11-19",
                    "2018-11-26",
                    "2018-12-03",
                    "2018-12-10",
                    "2018-12-17",
                    "2018-12-24",
                    "2018-12-31",
                    "2019-01-07",
                    "2019-01-14",
                    "2019-01-21",
                    "2019-01-28",
                    "2019-02-04",
                    "2019-02-11",
                    "2019-02-18",
                    "2019-02-25",
                    "2019-03-04",
                    "2019-03-11",
                    "2019-03-18",
                    "2019-03-25",
                    "2019-04-01",
                    "2019-04-08",
                    "2019-04-15",
                    "2019-04-22",
                    "2019-04-29",
                    "2019-05-06",
                    "2019-05-13",
                    "2019-05-20",
                    "2019-05-27",
                    "2019-06-03",
                    "2019-06-10",
                    "2019-06-17",
                    "2019-06-24",
                    "2019-07-01",
                    "2019-07-08",
                    "2019-07-15",
                    "2019-07-22",
                    "2019-07-29",
                    "2019-08-05",
                    "2019-08-12",
                    "2019-08-19",
                    "2019-08-26",
                    "2019-09-02",
                    "2019-09-09",
                    "2019-09-16",
                    "2019-09-23",
                    "2019-09-30",
                    "2019-10-07",
                    "2019-10-14",
                    "2019-10-21",
                    "2019-10-28",
                    "2019-11-04",
                    "2019-11-11",
                    "2019-11-18",
                    "2019-11-25",
                    "2019-12-02",
                    "2019-12-09",
                    "2019-12-16",
                    "2019-12-23",
                    "2019-12-30"
                  ],
                  "xaxis": "x",
                  "y": [
                    0,
                    0.01817227834793611,
                    0.03200786645269793,
                    0.0667827833897241,
                    0.008773163655011684,
                    -0.058472326256268414,
                    -0.006740817374609964,
                    0.02228215476410833,
                    -0.021147978573400783,
                    0.05244827309088418,
                    0.03039293124652631,
                    -0.073178895932408,
                    -0.06390675474096619,
                    -0.08636128913858798,
                    -0.06619304620983002,
                    -0.026555273882134744,
                    -0.06548536358991075,
                    -0.049009752937404394,
                    -0.0036017619480828156,
                    -0.03254311318949976,
                    -0.024105628119460376,
                    0.01566825464137711,
                    0.01691118490534982,
                    0.04538982871795949,
                    0.048311151906791805,
                    0.012175357451264412,
                    0.03442118676539718,
                    0.07855889203812083,
                    0.07501161781137511,
                    0.12363120444247033,
                    0.11021291672723321,
                    0.1228237368393843,
                    0.08957294102996549,
                    0.10743678374634658,
                    0.10520486931411543,
                    0.0567939333314087,
                    0.06377983748908722,
                    0.05793707951946647,
                    0.08277763502676638,
                    0.05000770891751638,
                    0.0071219039061158895,
                    -0.005234859425616412,
                    -0.027907069811329177,
                    -0.040318211086946,
                    -0.03273360065927444,
                    -0.03696142432997518,
                    -0.07108314636841939,
                    -0.007076495959582041,
                    -0.05956109450044178,
                    -0.054553047087324,
                    -0.11131071031110962,
                    -0.05910746866094141,
                    -0.028596590159886803,
                    -0.04086265100501085,
                    -0.0036017619480828156,
                    -0.010197499799451948,
                    0.007729802450120227,
                    -0.006504922865553153,
                    0.010360854093262706,
                    0.007385042275841691,
                    0.035165084150587056,
                    0.036371688964584425,
                    0.07460328832645247,
                    0.0936918990354445,
                    0.0644875210162581,
                    0.095188886079836,
                    0.10491459776842582,
                    0.12169875382994033,
                    0.1541874899828073,
                    0.07545616206156902,
                    0.056285930455275635,
                    0.054498670957942696,
                    0.02834253428671918,
                    0.0012701750318930838,
                    -0.032833384735189375,
                    -0.015314411970539954,
                    0.017827518173657353,
                    -0.01934255680470598,
                    0.02663689659393942,
                    0.03871246906203729,
                    0.025285100664744986,
                    0.13443660278592673,
                    0.08324942313762862,
                    0.07782407624223753,
                    0.06837955541728191,
                    0.04450982089962752,
                    0.07790569804679048,
                    0.09317481457000465,
                    0.12459294475006,
                    0.1158561065450241,
                    0.11146492858051271,
                    0.09686727991194721,
                    0.10271900878617002,
                    0.12997288460616896,
                    0.14779132119051952,
                    0.1556027445379411,
                    0.1897426297549989,
                    0.21106304421151711,
                    0.1751993590303178,
                    0.1839271156460469,
                    0.216279741365772,
                    0.2228209905885521,
                    0.2244177626161099,
                    0.2265044859331442,
                    0.21301365800266092
                  ],
                  "yaxis": "y"
                },
                {
                  "fillpattern": {
                    "shape": ""
                  },
                  "hovertemplate": "company=AAPL<br>date=%{x}<br>value=%{y}<extra></extra>",
                  "legendgroup": "AAPL",
                  "line": {
                    "color": "#EF553B",
                    "shape": "spline"
                  },
                  "marker": {
                    "symbol": "circle"
                  },
                  "mode": "lines",
                  "name": "AAPL",
                  "orientation": "v",
                  "showlegend": true,
                  "stackgroup": "1",
                  "type": "scatter",
                  "x": [
                    "2018-01-01",
                    "2018-01-08",
                    "2018-01-15",
                    "2018-01-22",
                    "2018-01-29",
                    "2018-02-05",
                    "2018-02-12",
                    "2018-02-19",
                    "2018-02-26",
                    "2018-03-05",
                    "2018-03-12",
                    "2018-03-19",
                    "2018-03-26",
                    "2018-04-02",
                    "2018-04-09",
                    "2018-04-16",
                    "2018-04-23",
                    "2018-04-30",
                    "2018-05-07",
                    "2018-05-14",
                    "2018-05-21",
                    "2018-05-28",
                    "2018-06-04",
                    "2018-06-11",
                    "2018-06-18",
                    "2018-06-25",
                    "2018-07-02",
                    "2018-07-09",
                    "2018-07-16",
                    "2018-07-23",
                    "2018-07-30",
                    "2018-08-06",
                    "2018-08-13",
                    "2018-08-20",
                    "2018-08-27",
                    "2018-09-03",
                    "2018-09-10",
                    "2018-09-17",
                    "2018-09-24",
                    "2018-10-01",
                    "2018-10-08",
                    "2018-10-15",
                    "2018-10-22",
                    "2018-10-29",
                    "2018-11-05",
                    "2018-11-12",
                    "2018-11-19",
                    "2018-11-26",
                    "2018-12-03",
                    "2018-12-10",
                    "2018-12-17",
                    "2018-12-24",
                    "2018-12-31",
                    "2019-01-07",
                    "2019-01-14",
                    "2019-01-21",
                    "2019-01-28",
                    "2019-02-04",
                    "2019-02-11",
                    "2019-02-18",
                    "2019-02-25",
                    "2019-03-04",
                    "2019-03-11",
                    "2019-03-18",
                    "2019-03-25",
                    "2019-04-01",
                    "2019-04-08",
                    "2019-04-15",
                    "2019-04-22",
                    "2019-04-29",
                    "2019-05-06",
                    "2019-05-13",
                    "2019-05-20",
                    "2019-05-27",
                    "2019-06-03",
                    "2019-06-10",
                    "2019-06-17",
                    "2019-06-24",
                    "2019-07-01",
                    "2019-07-08",
                    "2019-07-15",
                    "2019-07-22",
                    "2019-07-29",
                    "2019-08-05",
                    "2019-08-12",
                    "2019-08-19",
                    "2019-08-26",
                    "2019-09-02",
                    "2019-09-09",
                    "2019-09-16",
                    "2019-09-23",
                    "2019-09-30",
                    "2019-10-07",
                    "2019-10-14",
                    "2019-10-21",
                    "2019-10-28",
                    "2019-11-04",
                    "2019-11-11",
                    "2019-11-18",
                    "2019-11-25",
                    "2019-12-02",
                    "2019-12-09",
                    "2019-12-16",
                    "2019-12-23",
                    "2019-12-30"
                  ],
                  "xaxis": "x",
                  "y": [
                    0,
                    0.011942834285714188,
                    0.019771468571428752,
                    -0.019942885714285596,
                    -0.08285714285714285,
                    -0.1062285485714285,
                    -0.014685754285714392,
                    0.0028571428571428914,
                    0.006914325714286074,
                    0.02845711999999989,
                    0.017257165714285705,
                    -0.05748570285714283,
                    -0.04125714857142859,
                    -0.037828542857142766,
                    -0.0015428800000000242,
                    -0.0530285657142856,
                    -0.0724571028571428,
                    0.0504571542857144,
                    0.07765712000000002,
                    0.06462856000000006,
                    0.07760001142857154,
                    0.08708574285714277,
                    0.0954285542857145,
                    0.07908569142857136,
                    0.056685702857142806,
                    0.057771434285714296,
                    0.07411429142857151,
                    0.0933142971428571,
                    0.0939428685714283,
                    0.09131426285714284,
                    0.1885143142857142,
                    0.1858857085714285,
                    0.24331429714285724,
                    0.23520002285714292,
                    0.30074288571428553,
                    0.2645714457142856,
                    0.2790856914285711,
                    0.2437714514285716,
                    0.2899428857142856,
                    0.28165710285714285,
                    0.2692000057142856,
                    0.2531999885714289,
                    0.2360000171428569,
                    0.18559997714285714,
                    0.1684000057142856,
                    0.10588570857142865,
                    -0.015485754285714415,
                    0.020457154285714374,
                    -0.037199971428571565,
                    -0.05440002285714285,
                    -0.13868573714285715,
                    -0.10725716571428567,
                    -0.1528000285714286,
                    -0.12977146857142863,
                    -0.10388567428571427,
                    -0.09851431428571422,
                    -0.04845712000000002,
                    -0.026228548571428423,
                    -0.026171440000000046,
                    -0.011599994285714454,
                    -0.00017142285714277783,
                    -0.011942834285714188,
                    0.06354282857142857,
                    0.09171430285714277,
                    0.0854285542857145,
                    0.12571428571428567,
                    0.1363999714285713,
                    0.1649142914285715,
                    0.16742858857142862,
                    0.20999999999999996,
                    0.12674281714285707,
                    0.08000000000000007,
                    0.02268571999999991,
                    0.0004000399999999349,
                    0.08657139428571448,
                    0.10137145714285722,
                    0.1358857085714289,
                    0.1309714171428571,
                    0.1670285485714289,
                    0.16171430285714283,
                    0.1576571200000001,
                    0.18708574285714286,
                    0.1658285942857145,
                    0.14851431428571416,
                    0.17999999999999994,
                    0.15794285142857167,
                    0.19280002857142864,
                    0.21862854285714306,
                    0.25,
                    0.24417140571428564,
                    0.25040003999999993,
                    0.2971999714285716,
                    0.3497714685714286,
                    0.3509143085714286,
                    0.40902858285714294,
                    0.46182861142857123,
                    0.48651437142857157,
                    0.5186286285714288,
                    0.4958857085714288,
                    0.5271428571428571,
                    0.5469142342857145,
                    0.57228568,
                    0.5968000114285714,
                    0.6559999314285714,
                    0.6779999657142857
                  ],
                  "yaxis": "y"
                },
                {
                  "fillpattern": {
                    "shape": ""
                  },
                  "hovertemplate": "company=AMZN<br>date=%{x}<br>value=%{y}<extra></extra>",
                  "legendgroup": "AMZN",
                  "line": {
                    "color": "#00cc96",
                    "shape": "spline"
                  },
                  "marker": {
                    "symbol": "circle"
                  },
                  "mode": "lines",
                  "name": "AMZN",
                  "orientation": "v",
                  "showlegend": true,
                  "stackgroup": "1",
                  "type": "scatter",
                  "x": [
                    "2018-01-01",
                    "2018-01-08",
                    "2018-01-15",
                    "2018-01-22",
                    "2018-01-29",
                    "2018-02-05",
                    "2018-02-12",
                    "2018-02-19",
                    "2018-02-26",
                    "2018-03-05",
                    "2018-03-12",
                    "2018-03-19",
                    "2018-03-26",
                    "2018-04-02",
                    "2018-04-09",
                    "2018-04-16",
                    "2018-04-23",
                    "2018-04-30",
                    "2018-05-07",
                    "2018-05-14",
                    "2018-05-21",
                    "2018-05-28",
                    "2018-06-04",
                    "2018-06-11",
                    "2018-06-18",
                    "2018-06-25",
                    "2018-07-02",
                    "2018-07-09",
                    "2018-07-16",
                    "2018-07-23",
                    "2018-07-30",
                    "2018-08-06",
                    "2018-08-13",
                    "2018-08-20",
                    "2018-08-27",
                    "2018-09-03",
                    "2018-09-10",
                    "2018-09-17",
                    "2018-09-24",
                    "2018-10-01",
                    "2018-10-08",
                    "2018-10-15",
                    "2018-10-22",
                    "2018-10-29",
                    "2018-11-05",
                    "2018-11-12",
                    "2018-11-19",
                    "2018-11-26",
                    "2018-12-03",
                    "2018-12-10",
                    "2018-12-17",
                    "2018-12-24",
                    "2018-12-31",
                    "2019-01-07",
                    "2019-01-14",
                    "2019-01-21",
                    "2019-01-28",
                    "2019-02-04",
                    "2019-02-11",
                    "2019-02-18",
                    "2019-02-25",
                    "2019-03-04",
                    "2019-03-11",
                    "2019-03-18",
                    "2019-03-25",
                    "2019-04-01",
                    "2019-04-08",
                    "2019-04-15",
                    "2019-04-22",
                    "2019-04-29",
                    "2019-05-06",
                    "2019-05-13",
                    "2019-05-20",
                    "2019-05-27",
                    "2019-06-03",
                    "2019-06-10",
                    "2019-06-17",
                    "2019-06-24",
                    "2019-07-01",
                    "2019-07-08",
                    "2019-07-15",
                    "2019-07-22",
                    "2019-07-29",
                    "2019-08-05",
                    "2019-08-12",
                    "2019-08-19",
                    "2019-08-26",
                    "2019-09-02",
                    "2019-09-09",
                    "2019-09-16",
                    "2019-09-23",
                    "2019-09-30",
                    "2019-10-07",
                    "2019-10-14",
                    "2019-10-21",
                    "2019-10-28",
                    "2019-11-04",
                    "2019-11-11",
                    "2019-11-18",
                    "2019-11-25",
                    "2019-12-02",
                    "2019-12-09",
                    "2019-12-16",
                    "2019-12-23",
                    "2019-12-30"
                  ],
                  "xaxis": "x",
                  "y": [
                    0,
                    0.06188061170557568,
                    0.053240428430767706,
                    0.14067562026283875,
                    0.16337433778852284,
                    0.08986767955805264,
                    0.17862076193166665,
                    0.2203654438831366,
                    0.2205688381237838,
                    0.28454854266541796,
                    0.2786826844946546,
                    0.21675321017028315,
                    0.17752245337159578,
                    0.14326273886706065,
                    0.16405781403187003,
                    0.24273066644893193,
                    0.2794473988384474,
                    0.2862244591394254,
                    0.3040906767647622,
                    0.2808711585229775,
                    0.3099809658381354,
                    0.3355191588974509,
                    0.3700554610940725,
                    0.3960736368996989,
                    0.3958296232020404,
                    0.3829181608736414,
                    0.3917291635810911,
                    0.47503946407602715,
                    0.4755844971819587,
                    0.4784890230752108,
                    0.4833867718479574,
                    0.5346502643964448,
                    0.5313308069300795,
                    0.5501814209506477,
                    0.6374944566425169,
                    0.5881591374274802,
                    0.6029011479217037,
                    0.5580080272628667,
                    0.6295946560652816,
                    0.5373757268816928,
                    0.45517187885222343,
                    0.4351741929091779,
                    0.3365524179114776,
                    0.3550368620941855,
                    0.3931936419790223,
                    0.2963616956201691,
                    0.22204146042710993,
                    0.375083410656027,
                    0.32542264113010755,
                    0.29514133017628597,
                    0.12066154725261313,
                    0.2024830385169749,
                    0.28170102329635727,
                    0.3347218697456531,
                    0.3799892040777797,
                    0.359137222458745,
                    0.32306324759917615,
                    0.29213917992898475,
                    0.3081910371293215,
                    0.3273996770823542,
                    0.3600809993969647,
                    0.3186455808291295,
                    0.3931366354548309,
                    0.4357762325393011,
                    0.4487771761299302,
                    0.4947687054188046,
                    0.4994712046698764,
                    0.5146280474808236,
                    0.5869876346023932,
                    0.5966122142724319,
                    0.5376441714819611,
                    0.5205753430783882,
                    0.48337862794256203,
                    0.44415601504927005,
                    0.46771727141272845,
                    0.521120475440709,
                    0.5549896884611636,
                    0.5406137477348341,
                    0.5807068440449401,
                    0.6361032717659916,
                    0.5982882308164057,
                    0.5808207570233568,
                    0.4833460531345568,
                    0.4706054102388,
                    0.4583936118945735,
                    0.4234505212166575,
                    0.44514865460628594,
                    0.4917015048118829,
                    0.4964446227063888,
                    0.4596872708598625,
                    0.40378633023350075,
                    0.4153391824933792,
                    0.4090502488441077,
                    0.42986965565513735,
                    0.4329774757190701,
                    0.4574742658589632,
                    0.4529508300158951,
                    0.4152089825177483,
                    0.4202775515367141,
                    0.46508943409510595,
                    0.425061388144621,
                    0.4326601685000062,
                    0.4534552436648156,
                    0.5212262445137299,
                    0.5033600268883931
                  ],
                  "yaxis": "y"
                },
                {
                  "fillpattern": {
                    "shape": ""
                  },
                  "hovertemplate": "company=FB<br>date=%{x}<br>value=%{y}<extra></extra>",
                  "legendgroup": "FB",
                  "line": {
                    "color": "#ab63fa",
                    "shape": "spline"
                  },
                  "marker": {
                    "symbol": "circle"
                  },
                  "mode": "lines",
                  "name": "FB",
                  "orientation": "v",
                  "showlegend": true,
                  "stackgroup": "1",
                  "type": "scatter",
                  "x": [
                    "2018-01-01",
                    "2018-01-08",
                    "2018-01-15",
                    "2018-01-22",
                    "2018-01-29",
                    "2018-02-05",
                    "2018-02-12",
                    "2018-02-19",
                    "2018-02-26",
                    "2018-03-05",
                    "2018-03-12",
                    "2018-03-19",
                    "2018-03-26",
                    "2018-04-02",
                    "2018-04-09",
                    "2018-04-16",
                    "2018-04-23",
                    "2018-04-30",
                    "2018-05-07",
                    "2018-05-14",
                    "2018-05-21",
                    "2018-05-28",
                    "2018-06-04",
                    "2018-06-11",
                    "2018-06-18",
                    "2018-06-25",
                    "2018-07-02",
                    "2018-07-09",
                    "2018-07-16",
                    "2018-07-23",
                    "2018-07-30",
                    "2018-08-06",
                    "2018-08-13",
                    "2018-08-20",
                    "2018-08-27",
                    "2018-09-03",
                    "2018-09-10",
                    "2018-09-17",
                    "2018-09-24",
                    "2018-10-01",
                    "2018-10-08",
                    "2018-10-15",
                    "2018-10-22",
                    "2018-10-29",
                    "2018-11-05",
                    "2018-11-12",
                    "2018-11-19",
                    "2018-11-26",
                    "2018-12-03",
                    "2018-12-10",
                    "2018-12-17",
                    "2018-12-24",
                    "2018-12-31",
                    "2019-01-07",
                    "2019-01-14",
                    "2019-01-21",
                    "2019-01-28",
                    "2019-02-04",
                    "2019-02-11",
                    "2019-02-18",
                    "2019-02-25",
                    "2019-03-04",
                    "2019-03-11",
                    "2019-03-18",
                    "2019-03-25",
                    "2019-04-01",
                    "2019-04-08",
                    "2019-04-15",
                    "2019-04-22",
                    "2019-04-29",
                    "2019-05-06",
                    "2019-05-13",
                    "2019-05-20",
                    "2019-05-27",
                    "2019-06-03",
                    "2019-06-10",
                    "2019-06-17",
                    "2019-06-24",
                    "2019-07-01",
                    "2019-07-08",
                    "2019-07-15",
                    "2019-07-22",
                    "2019-07-29",
                    "2019-08-05",
                    "2019-08-12",
                    "2019-08-19",
                    "2019-08-26",
                    "2019-09-02",
                    "2019-09-09",
                    "2019-09-16",
                    "2019-09-23",
                    "2019-09-30",
                    "2019-10-07",
                    "2019-10-14",
                    "2019-10-21",
                    "2019-10-28",
                    "2019-11-04",
                    "2019-11-11",
                    "2019-11-18",
                    "2019-11-25",
                    "2019-12-02",
                    "2019-12-09",
                    "2019-12-16",
                    "2019-12-23",
                    "2019-12-30"
                  ],
                  "xaxis": "x",
                  "y": [
                    0,
                    -0.04003216890450645,
                    -0.029756557781432602,
                    0.016858409948351527,
                    0.018356932779547197,
                    -0.05747928635335442,
                    -0.050789428393168023,
                    -0.01905278504513419,
                    -0.054749856416916765,
                    -0.008670109435265583,
                    -0.00941937352680644,
                    -0.1469628371325823,
                    -0.14482211469664086,
                    -0.1586834789826017,
                    -0.11950763330454484,
                    -0.11008834005603407,
                    -0.07096606676052242,
                    -0.05480334316927982,
                    0.0007492587396544792,
                    -0.022317435729705237,
                    -0.010329183505619177,
                    0.03821246331669892,
                    0.012041744328335824,
                    0.04816697731334307,
                    0.07968958266985537,
                    0.03997859652196101,
                    0.08766384519142045,
                    0.1095531193079009,
                    0.12357503483302001,
                    -0.06400859842626938,
                    -0.048541646822317985,
                    -0.035268990036853576,
                    -0.06984213316000643,
                    -0.06529307791405703,
                    -0.05951302993268304,
                    -0.12742848400015583,
                    -0.13128176725881402,
                    -0.12801719150065216,
                    -0.11982873043097464,
                    -0.1579877069953104,
                    -0.17720096300130705,
                    -0.17554188893095357,
                    -0.22199630542157978,
                    -0.19534385243744656,
                    -0.22419051460988437,
                    -0.25325130040402566,
                    -0.29499603013124875,
                    -0.24747125242265178,
                    -0.264543785992707,
                    -0.2290072605081961,
                    -0.33128181435541404,
                    -0.287128751818183,
                    -0.26170729156947425,
                    -0.23039872420448304,
                    -0.19700300678609572,
                    -0.2025154390415166,
                    -0.11313887247078813,
                    -0.10446884331381823,
                    -0.13031846517575174,
                    -0.13358312121220917,
                    -0.1314958855286309,
                    -0.09232003985057402,
                    -0.1116939220221379,
                    -0.12047101566590279,
                    -0.1078940505894338,
                    -0.0595665220369328,
                    -0.041477119353156455,
                    -0.04586570363824338,
                    0.024832747396325905,
                    0.046133233734014345,
                    0.007974257169678589,
                    -0.008295439926290449,
                    -0.03098746488667481,
                    -0.05020072089267158,
                    -0.07225046597001439,
                    -0.029542434159729236,
                    0.022959555056155434,
                    0.032914069052799366,
                    0.051110450593188306,
                    0.09644093348329874,
                    0.06160018533796552,
                    0.06903930203780662,
                    0.011613582715110926,
                    0.005351886368149206,
                    -0.016858490226647427,
                    -0.04870219806147602,
                    -0.006315268729507051,
                    0.003425201923729082,
                    0.0018196199576252514,
                    0.016483740439376726,
                    -0.052180892089454756,
                    -0.034252120923132345,
                    -0.014236039146822366,
                    -0.005351886368149206,
                    0.0055659243596704044,
                    0.036232211841620066,
                    0.021353973090051603,
                    0.04415306253723106,
                    0.06406208517863243,
                    0.07915436192172232,
                    0.0759967703720601,
                    0.038854668273331505,
                    0.1040941738048431,
                    0.11372758532317095,
                    0.09847467706262769
                  ],
                  "yaxis": "y"
                },
                {
                  "fillpattern": {
                    "shape": ""
                  },
                  "hovertemplate": "company=NFLX<br>date=%{x}<br>value=%{y}<extra></extra>",
                  "legendgroup": "NFLX",
                  "line": {
                    "color": "#FFA15A",
                    "shape": "spline"
                  },
                  "marker": {
                    "symbol": "circle"
                  },
                  "mode": "lines",
                  "name": "NFLX",
                  "orientation": "v",
                  "showlegend": true,
                  "stackgroup": "1",
                  "type": "scatter",
                  "x": [
                    "2018-01-01",
                    "2018-01-08",
                    "2018-01-15",
                    "2018-01-22",
                    "2018-01-29",
                    "2018-02-05",
                    "2018-02-12",
                    "2018-02-19",
                    "2018-02-26",
                    "2018-03-05",
                    "2018-03-12",
                    "2018-03-19",
                    "2018-03-26",
                    "2018-04-02",
                    "2018-04-09",
                    "2018-04-16",
                    "2018-04-23",
                    "2018-04-30",
                    "2018-05-07",
                    "2018-05-14",
                    "2018-05-21",
                    "2018-05-28",
                    "2018-06-04",
                    "2018-06-11",
                    "2018-06-18",
                    "2018-06-25",
                    "2018-07-02",
                    "2018-07-09",
                    "2018-07-16",
                    "2018-07-23",
                    "2018-07-30",
                    "2018-08-06",
                    "2018-08-13",
                    "2018-08-20",
                    "2018-08-27",
                    "2018-09-03",
                    "2018-09-10",
                    "2018-09-17",
                    "2018-09-24",
                    "2018-10-01",
                    "2018-10-08",
                    "2018-10-15",
                    "2018-10-22",
                    "2018-10-29",
                    "2018-11-05",
                    "2018-11-12",
                    "2018-11-19",
                    "2018-11-26",
                    "2018-12-03",
                    "2018-12-10",
                    "2018-12-17",
                    "2018-12-24",
                    "2018-12-31",
                    "2019-01-07",
                    "2019-01-14",
                    "2019-01-21",
                    "2019-01-28",
                    "2019-02-04",
                    "2019-02-11",
                    "2019-02-18",
                    "2019-02-25",
                    "2019-03-04",
                    "2019-03-11",
                    "2019-03-18",
                    "2019-03-25",
                    "2019-04-01",
                    "2019-04-08",
                    "2019-04-15",
                    "2019-04-22",
                    "2019-04-29",
                    "2019-05-06",
                    "2019-05-13",
                    "2019-05-20",
                    "2019-05-27",
                    "2019-06-03",
                    "2019-06-10",
                    "2019-06-17",
                    "2019-06-24",
                    "2019-07-01",
                    "2019-07-08",
                    "2019-07-15",
                    "2019-07-22",
                    "2019-07-29",
                    "2019-08-05",
                    "2019-08-12",
                    "2019-08-19",
                    "2019-08-26",
                    "2019-09-02",
                    "2019-09-09",
                    "2019-09-16",
                    "2019-09-23",
                    "2019-09-30",
                    "2019-10-07",
                    "2019-10-14",
                    "2019-10-21",
                    "2019-10-28",
                    "2019-11-04",
                    "2019-11-11",
                    "2019-11-18",
                    "2019-11-25",
                    "2019-12-02",
                    "2019-12-09",
                    "2019-12-16",
                    "2019-12-23",
                    "2019-12-30"
                  ],
                  "xaxis": "x",
                  "y": [
                    0,
                    0.05352631426433829,
                    0.04985952545693784,
                    0.30768131559404477,
                    0.2735367714287169,
                    0.18800892928213409,
                    0.3263487897912096,
                    0.3616362026373592,
                    0.4336396058469547,
                    0.5783608462698024,
                    0.5165008067883996,
                    0.4331158380609592,
                    0.406495542490225,
                    0.375541688281783,
                    0.48411822743658695,
                    0.5608837620628662,
                    0.4846421380865249,
                    0.5243106261176576,
                    0.5546453794312736,
                    0.5437877293254985,
                    0.6728891882258874,
                    0.7140339274719294,
                    0.7170817582484463,
                    0.8666603250949969,
                    0.9576645850358447,
                    0.8640410670974561,
                    0.9441401508609899,
                    0.884851557577705,
                    0.7193674908479577,
                    0.6915566576609209,
                    0.6338396487013751,
                    0.6470783692776241,
                    0.50854798541483,
                    0.7087480282692504,
                    0.7509404459512254,
                    0.6604599490342411,
                    0.7360826197418304,
                    0.720034255916133,
                    0.7816562507344105,
                    0.6731749018244944,
                    0.6170293343247459,
                    0.5842183202957685,
                    0.4278298007564696,
                    0.4719748494696214,
                    0.4451640257830367,
                    0.3629695899097676,
                    0.23253488660091248,
                    0.3625886860662726,
                    0.2626315952514029,
                    0.2707271281792676,
                    0.17334155499448678,
                    0.2194865512765718,
                    0.4170674789973934,
                    0.6076479259096166,
                    0.6148387919701228,
                    0.6098384682642397,
                    0.6184103905326357,
                    0.6551740498315624,
                    0.6994618148611409,
                    0.7287488945009553,
                    0.7016048311442251,
                    0.6648411718452985,
                    0.7213199790151921,
                    0.7191771103581814,
                    0.6979855684083631,
                    0.7405113638622944,
                    0.6721748970861734,
                    0.7160340845746449,
                    0.7850849901165535,
                    0.8335634546034707,
                    0.7193199695385504,
                    0.6879375377890014,
                    0.6876518241903944,
                    0.6347444679569396,
                    0.7185103405278743,
                    0.6178389585732904,
                    0.7582264974944879,
                    0.7492261453110591,
                    0.8122290534732837,
                    0.7774655512770718,
                    0.5005476379697218,
                    0.5990284823318142,
                    0.5183102976734539,
                    0.47116522522107696,
                    0.4419733358261506,
                    0.38787558960246726,
                    0.3988761036507431,
                    0.38182773508672496,
                    0.4007809276446279,
                    0.2893470810670251,
                    0.2528214711933554,
                    0.2990618720162419,
                    0.347349808387309,
                    0.31101472186735757,
                    0.31825325210121314,
                    0.3658269020946976,
                    0.388494690497293,
                    0.4049716271019663,
                    0.4785466146353017,
                    0.4984522906221185,
                    0.4636411194904255,
                    0.42149622787998897,
                    0.6043620457078422,
                    0.5671698088678081,
                    0.5408828958311611
                  ],
                  "yaxis": "y"
                },
                {
                  "fillpattern": {
                    "shape": ""
                  },
                  "hovertemplate": "company=MSFT<br>date=%{x}<br>value=%{y}<extra></extra>",
                  "legendgroup": "MSFT",
                  "line": {
                    "color": "#19d3f3",
                    "shape": "spline"
                  },
                  "marker": {
                    "symbol": "circle"
                  },
                  "mode": "lines",
                  "name": "MSFT",
                  "orientation": "v",
                  "showlegend": true,
                  "stackgroup": "1",
                  "type": "scatter",
                  "x": [
                    "2018-01-01",
                    "2018-01-08",
                    "2018-01-15",
                    "2018-01-22",
                    "2018-01-29",
                    "2018-02-05",
                    "2018-02-12",
                    "2018-02-19",
                    "2018-02-26",
                    "2018-03-05",
                    "2018-03-12",
                    "2018-03-19",
                    "2018-03-26",
                    "2018-04-02",
                    "2018-04-09",
                    "2018-04-16",
                    "2018-04-23",
                    "2018-04-30",
                    "2018-05-07",
                    "2018-05-14",
                    "2018-05-21",
                    "2018-05-28",
                    "2018-06-04",
                    "2018-06-11",
                    "2018-06-18",
                    "2018-06-25",
                    "2018-07-02",
                    "2018-07-09",
                    "2018-07-16",
                    "2018-07-23",
                    "2018-07-30",
                    "2018-08-06",
                    "2018-08-13",
                    "2018-08-20",
                    "2018-08-27",
                    "2018-09-03",
                    "2018-09-10",
                    "2018-09-17",
                    "2018-09-24",
                    "2018-10-01",
                    "2018-10-08",
                    "2018-10-15",
                    "2018-10-22",
                    "2018-10-29",
                    "2018-11-05",
                    "2018-11-12",
                    "2018-11-19",
                    "2018-11-26",
                    "2018-12-03",
                    "2018-12-10",
                    "2018-12-17",
                    "2018-12-24",
                    "2018-12-31",
                    "2019-01-07",
                    "2019-01-14",
                    "2019-01-21",
                    "2019-01-28",
                    "2019-02-04",
                    "2019-02-11",
                    "2019-02-18",
                    "2019-02-25",
                    "2019-03-04",
                    "2019-03-11",
                    "2019-03-18",
                    "2019-03-25",
                    "2019-04-01",
                    "2019-04-08",
                    "2019-04-15",
                    "2019-04-22",
                    "2019-04-29",
                    "2019-05-06",
                    "2019-05-13",
                    "2019-05-20",
                    "2019-05-27",
                    "2019-06-03",
                    "2019-06-10",
                    "2019-06-17",
                    "2019-06-24",
                    "2019-07-01",
                    "2019-07-08",
                    "2019-07-15",
                    "2019-07-22",
                    "2019-07-29",
                    "2019-08-05",
                    "2019-08-12",
                    "2019-08-19",
                    "2019-08-26",
                    "2019-09-02",
                    "2019-09-09",
                    "2019-09-16",
                    "2019-09-23",
                    "2019-09-30",
                    "2019-10-07",
                    "2019-10-14",
                    "2019-10-21",
                    "2019-10-28",
                    "2019-11-04",
                    "2019-11-11",
                    "2019-11-18",
                    "2019-11-25",
                    "2019-12-02",
                    "2019-12-09",
                    "2019-12-16",
                    "2019-12-23",
                    "2019-12-30"
                  ],
                  "xaxis": "x",
                  "y": [
                    0,
                    0.01598816156053595,
                    0.020523845775624494,
                    0.06656078769563911,
                    0.0407075282751439,
                    -0.00011341421672717011,
                    0.04320215345952705,
                    0.06656078769563911,
                    0.05510829901103742,
                    0.09468192324114022,
                    0.07268393077029289,
                    -0.011452568058678558,
                    0.034924537137440925,
                    0.02313188517673459,
                    0.05544846228714251,
                    0.07721961498538121,
                    0.08651772113578127,
                    0.07903392495670869,
                    0.10783529634118838,
                    0.09264087554958889,
                    0.11531918323349166,
                    0.14287332706943356,
                    0.15239817094005725,
                    0.1353894401771305,
                    0.13856448262695342,
                    0.11815397169397968,
                    0.14706884800841702,
                    0.19548698955693422,
                    0.20501184476671153,
                    0.2210000857013248,
                    0.22508219242358107,
                    0.23596776877270043,
                    0.2198661929954373,
                    0.22916429914583736,
                    0.27372717374470623,
                    0.22700982589840502,
                    0.28551990507948943,
                    0.29561174065967233,
                    0.2968590589214408,
                    0.2714592862805467,
                    0.2424310864626129,
                    0.23211250182305232,
                    0.21283588359596584,
                    0.20376461721817396,
                    0.2424310864626129,
                    0.22791698088406886,
                    0.16872658648992878,
                    0.2573987581948347,
                    0.18857010571334354,
                    0.20229047052295113,
                    0.1138451159123457,
                    0.13833764285434524,
                    0.15579995111010447,
                    0.1656650489700635,
                    0.2213402489774292,
                    0.2152170945636216,
                    0.16543822053660917,
                    0.19820836380069462,
                    0.22712324011513219,
                    0.25830591318049856,
                    0.27599497049563504,
                    0.2530899137523548,
                    0.31432136717719983,
                    0.32724799121787074,
                    0.33733982679805363,
                    0.3594511427723972,
                    0.3714706231665581,
                    0.3989114434990031,
                    0.47284268119191086,
                    0.4616168621926098,
                    0.44154659390981754,
                    0.4522055119127899,
                    0.43145475832963465,
                    0.4024265471725468,
                    0.4899647467974879,
                    0.5018708923489987,
                    0.5531239130712344,
                    0.518993128041884,
                    0.5541444028995486,
                    0.5750084006121237,
                    0.5491551411916282,
                    0.6026759586647925,
                    0.5523300929282209,
                    0.5615149549492018,
                    0.5435990692006107,
                    0.5125297196387406,
                    0.5632157599905712,
                    0.5772763674503605,
                    0.5570926849508404,
                    0.5811316344000079,
                    0.5617416132953483,
                    0.5661638719545554,
                    0.5838529292696919,
                    0.5581131747791548,
                    0.5957590748212025,
                    0.6296632015044059,
                    0.6550629741453009,
                    0.7005329130166025,
                    0.6962239778608914,
                    0.7165211652903694,
                    0.7207165955161221,
                    0.7522394318575931,
                    0.7848962516181823,
                    0.8024719740906685,
                    0.7881845268582712
                  ],
                  "yaxis": "y"
                }
              ],
              "layout": {
                "legend": {
                  "title": {
                    "text": "company"
                  },
                  "tracegroupgap": 0
                },
                "template": {
                  "data": {
                    "bar": [
                      {
                        "error_x": {
                          "color": "#2a3f5f"
                        },
                        "error_y": {
                          "color": "#2a3f5f"
                        },
                        "marker": {
                          "line": {
                            "color": "#E5ECF6",
                            "width": 0.5
                          },
                          "pattern": {
                            "fillmode": "overlay",
                            "size": 10,
                            "solidity": 0.2
                          }
                        },
                        "type": "bar"
                      }
                    ],
                    "barpolar": [
                      {
                        "marker": {
                          "line": {
                            "color": "#E5ECF6",
                            "width": 0.5
                          },
                          "pattern": {
                            "fillmode": "overlay",
                            "size": 10,
                            "solidity": 0.2
                          }
                        },
                        "type": "barpolar"
                      }
                    ],
                    "carpet": [
                      {
                        "aaxis": {
                          "endlinecolor": "#2a3f5f",
                          "gridcolor": "white",
                          "linecolor": "white",
                          "minorgridcolor": "white",
                          "startlinecolor": "#2a3f5f"
                        },
                        "baxis": {
                          "endlinecolor": "#2a3f5f",
                          "gridcolor": "white",
                          "linecolor": "white",
                          "minorgridcolor": "white",
                          "startlinecolor": "#2a3f5f"
                        },
                        "type": "carpet"
                      }
                    ],
                    "choropleth": [
                      {
                        "colorbar": {
                          "outlinewidth": 0,
                          "ticks": ""
                        },
                        "type": "choropleth"
                      }
                    ],
                    "contour": [
                      {
                        "colorbar": {
                          "outlinewidth": 0,
                          "ticks": ""
                        },
                        "colorscale": [
                          [
                            0,
                            "#0d0887"
                          ],
                          [
                            0.1111111111111111,
                            "#46039f"
                          ],
                          [
                            0.2222222222222222,
                            "#7201a8"
                          ],
                          [
                            0.3333333333333333,
                            "#9c179e"
                          ],
                          [
                            0.4444444444444444,
                            "#bd3786"
                          ],
                          [
                            0.5555555555555556,
                            "#d8576b"
                          ],
                          [
                            0.6666666666666666,
                            "#ed7953"
                          ],
                          [
                            0.7777777777777778,
                            "#fb9f3a"
                          ],
                          [
                            0.8888888888888888,
                            "#fdca26"
                          ],
                          [
                            1,
                            "#f0f921"
                          ]
                        ],
                        "type": "contour"
                      }
                    ],
                    "contourcarpet": [
                      {
                        "colorbar": {
                          "outlinewidth": 0,
                          "ticks": ""
                        },
                        "type": "contourcarpet"
                      }
                    ],
                    "heatmap": [
                      {
                        "colorbar": {
                          "outlinewidth": 0,
                          "ticks": ""
                        },
                        "colorscale": [
                          [
                            0,
                            "#0d0887"
                          ],
                          [
                            0.1111111111111111,
                            "#46039f"
                          ],
                          [
                            0.2222222222222222,
                            "#7201a8"
                          ],
                          [
                            0.3333333333333333,
                            "#9c179e"
                          ],
                          [
                            0.4444444444444444,
                            "#bd3786"
                          ],
                          [
                            0.5555555555555556,
                            "#d8576b"
                          ],
                          [
                            0.6666666666666666,
                            "#ed7953"
                          ],
                          [
                            0.7777777777777778,
                            "#fb9f3a"
                          ],
                          [
                            0.8888888888888888,
                            "#fdca26"
                          ],
                          [
                            1,
                            "#f0f921"
                          ]
                        ],
                        "type": "heatmap"
                      }
                    ],
                    "heatmapgl": [
                      {
                        "colorbar": {
                          "outlinewidth": 0,
                          "ticks": ""
                        },
                        "colorscale": [
                          [
                            0,
                            "#0d0887"
                          ],
                          [
                            0.1111111111111111,
                            "#46039f"
                          ],
                          [
                            0.2222222222222222,
                            "#7201a8"
                          ],
                          [
                            0.3333333333333333,
                            "#9c179e"
                          ],
                          [
                            0.4444444444444444,
                            "#bd3786"
                          ],
                          [
                            0.5555555555555556,
                            "#d8576b"
                          ],
                          [
                            0.6666666666666666,
                            "#ed7953"
                          ],
                          [
                            0.7777777777777778,
                            "#fb9f3a"
                          ],
                          [
                            0.8888888888888888,
                            "#fdca26"
                          ],
                          [
                            1,
                            "#f0f921"
                          ]
                        ],
                        "type": "heatmapgl"
                      }
                    ],
                    "histogram": [
                      {
                        "marker": {
                          "pattern": {
                            "fillmode": "overlay",
                            "size": 10,
                            "solidity": 0.2
                          }
                        },
                        "type": "histogram"
                      }
                    ],
                    "histogram2d": [
                      {
                        "colorbar": {
                          "outlinewidth": 0,
                          "ticks": ""
                        },
                        "colorscale": [
                          [
                            0,
                            "#0d0887"
                          ],
                          [
                            0.1111111111111111,
                            "#46039f"
                          ],
                          [
                            0.2222222222222222,
                            "#7201a8"
                          ],
                          [
                            0.3333333333333333,
                            "#9c179e"
                          ],
                          [
                            0.4444444444444444,
                            "#bd3786"
                          ],
                          [
                            0.5555555555555556,
                            "#d8576b"
                          ],
                          [
                            0.6666666666666666,
                            "#ed7953"
                          ],
                          [
                            0.7777777777777778,
                            "#fb9f3a"
                          ],
                          [
                            0.8888888888888888,
                            "#fdca26"
                          ],
                          [
                            1,
                            "#f0f921"
                          ]
                        ],
                        "type": "histogram2d"
                      }
                    ],
                    "histogram2dcontour": [
                      {
                        "colorbar": {
                          "outlinewidth": 0,
                          "ticks": ""
                        },
                        "colorscale": [
                          [
                            0,
                            "#0d0887"
                          ],
                          [
                            0.1111111111111111,
                            "#46039f"
                          ],
                          [
                            0.2222222222222222,
                            "#7201a8"
                          ],
                          [
                            0.3333333333333333,
                            "#9c179e"
                          ],
                          [
                            0.4444444444444444,
                            "#bd3786"
                          ],
                          [
                            0.5555555555555556,
                            "#d8576b"
                          ],
                          [
                            0.6666666666666666,
                            "#ed7953"
                          ],
                          [
                            0.7777777777777778,
                            "#fb9f3a"
                          ],
                          [
                            0.8888888888888888,
                            "#fdca26"
                          ],
                          [
                            1,
                            "#f0f921"
                          ]
                        ],
                        "type": "histogram2dcontour"
                      }
                    ],
                    "mesh3d": [
                      {
                        "colorbar": {
                          "outlinewidth": 0,
                          "ticks": ""
                        },
                        "type": "mesh3d"
                      }
                    ],
                    "parcoords": [
                      {
                        "line": {
                          "colorbar": {
                            "outlinewidth": 0,
                            "ticks": ""
                          }
                        },
                        "type": "parcoords"
                      }
                    ],
                    "pie": [
                      {
                        "automargin": true,
                        "type": "pie"
                      }
                    ],
                    "scatter": [
                      {
                        "fillpattern": {
                          "fillmode": "overlay",
                          "size": 10,
                          "solidity": 0.2
                        },
                        "type": "scatter"
                      }
                    ],
                    "scatter3d": [
                      {
                        "line": {
                          "colorbar": {
                            "outlinewidth": 0,
                            "ticks": ""
                          }
                        },
                        "marker": {
                          "colorbar": {
                            "outlinewidth": 0,
                            "ticks": ""
                          }
                        },
                        "type": "scatter3d"
                      }
                    ],
                    "scattercarpet": [
                      {
                        "marker": {
                          "colorbar": {
                            "outlinewidth": 0,
                            "ticks": ""
                          }
                        },
                        "type": "scattercarpet"
                      }
                    ],
                    "scattergeo": [
                      {
                        "marker": {
                          "colorbar": {
                            "outlinewidth": 0,
                            "ticks": ""
                          }
                        },
                        "type": "scattergeo"
                      }
                    ],
                    "scattergl": [
                      {
                        "marker": {
                          "colorbar": {
                            "outlinewidth": 0,
                            "ticks": ""
                          }
                        },
                        "type": "scattergl"
                      }
                    ],
                    "scattermapbox": [
                      {
                        "marker": {
                          "colorbar": {
                            "outlinewidth": 0,
                            "ticks": ""
                          }
                        },
                        "type": "scattermapbox"
                      }
                    ],
                    "scatterpolar": [
                      {
                        "marker": {
                          "colorbar": {
                            "outlinewidth": 0,
                            "ticks": ""
                          }
                        },
                        "type": "scatterpolar"
                      }
                    ],
                    "scatterpolargl": [
                      {
                        "marker": {
                          "colorbar": {
                            "outlinewidth": 0,
                            "ticks": ""
                          }
                        },
                        "type": "scatterpolargl"
                      }
                    ],
                    "scatterternary": [
                      {
                        "marker": {
                          "colorbar": {
                            "outlinewidth": 0,
                            "ticks": ""
                          }
                        },
                        "type": "scatterternary"
                      }
                    ],
                    "surface": [
                      {
                        "colorbar": {
                          "outlinewidth": 0,
                          "ticks": ""
                        },
                        "colorscale": [
                          [
                            0,
                            "#0d0887"
                          ],
                          [
                            0.1111111111111111,
                            "#46039f"
                          ],
                          [
                            0.2222222222222222,
                            "#7201a8"
                          ],
                          [
                            0.3333333333333333,
                            "#9c179e"
                          ],
                          [
                            0.4444444444444444,
                            "#bd3786"
                          ],
                          [
                            0.5555555555555556,
                            "#d8576b"
                          ],
                          [
                            0.6666666666666666,
                            "#ed7953"
                          ],
                          [
                            0.7777777777777778,
                            "#fb9f3a"
                          ],
                          [
                            0.8888888888888888,
                            "#fdca26"
                          ],
                          [
                            1,
                            "#f0f921"
                          ]
                        ],
                        "type": "surface"
                      }
                    ],
                    "table": [
                      {
                        "cells": {
                          "fill": {
                            "color": "#EBF0F8"
                          },
                          "line": {
                            "color": "white"
                          }
                        },
                        "header": {
                          "fill": {
                            "color": "#C8D4E3"
                          },
                          "line": {
                            "color": "white"
                          }
                        },
                        "type": "table"
                      }
                    ]
                  },
                  "layout": {
                    "annotationdefaults": {
                      "arrowcolor": "#2a3f5f",
                      "arrowhead": 0,
                      "arrowwidth": 1
                    },
                    "autotypenumbers": "strict",
                    "coloraxis": {
                      "colorbar": {
                        "outlinewidth": 0,
                        "ticks": ""
                      }
                    },
                    "colorscale": {
                      "diverging": [
                        [
                          0,
                          "#8e0152"
                        ],
                        [
                          0.1,
                          "#c51b7d"
                        ],
                        [
                          0.2,
                          "#de77ae"
                        ],
                        [
                          0.3,
                          "#f1b6da"
                        ],
                        [
                          0.4,
                          "#fde0ef"
                        ],
                        [
                          0.5,
                          "#f7f7f7"
                        ],
                        [
                          0.6,
                          "#e6f5d0"
                        ],
                        [
                          0.7,
                          "#b8e186"
                        ],
                        [
                          0.8,
                          "#7fbc41"
                        ],
                        [
                          0.9,
                          "#4d9221"
                        ],
                        [
                          1,
                          "#276419"
                        ]
                      ],
                      "sequential": [
                        [
                          0,
                          "#0d0887"
                        ],
                        [
                          0.1111111111111111,
                          "#46039f"
                        ],
                        [
                          0.2222222222222222,
                          "#7201a8"
                        ],
                        [
                          0.3333333333333333,
                          "#9c179e"
                        ],
                        [
                          0.4444444444444444,
                          "#bd3786"
                        ],
                        [
                          0.5555555555555556,
                          "#d8576b"
                        ],
                        [
                          0.6666666666666666,
                          "#ed7953"
                        ],
                        [
                          0.7777777777777778,
                          "#fb9f3a"
                        ],
                        [
                          0.8888888888888888,
                          "#fdca26"
                        ],
                        [
                          1,
                          "#f0f921"
                        ]
                      ],
                      "sequentialminus": [
                        [
                          0,
                          "#0d0887"
                        ],
                        [
                          0.1111111111111111,
                          "#46039f"
                        ],
                        [
                          0.2222222222222222,
                          "#7201a8"
                        ],
                        [
                          0.3333333333333333,
                          "#9c179e"
                        ],
                        [
                          0.4444444444444444,
                          "#bd3786"
                        ],
                        [
                          0.5555555555555556,
                          "#d8576b"
                        ],
                        [
                          0.6666666666666666,
                          "#ed7953"
                        ],
                        [
                          0.7777777777777778,
                          "#fb9f3a"
                        ],
                        [
                          0.8888888888888888,
                          "#fdca26"
                        ],
                        [
                          1,
                          "#f0f921"
                        ]
                      ]
                    },
                    "colorway": [
                      "#636efa",
                      "#EF553B",
                      "#00cc96",
                      "#ab63fa",
                      "#FFA15A",
                      "#19d3f3",
                      "#FF6692",
                      "#B6E880",
                      "#FF97FF",
                      "#FECB52"
                    ],
                    "font": {
                      "color": "#2a3f5f"
                    },
                    "geo": {
                      "bgcolor": "white",
                      "lakecolor": "white",
                      "landcolor": "#E5ECF6",
                      "showlakes": true,
                      "showland": true,
                      "subunitcolor": "white"
                    },
                    "hoverlabel": {
                      "align": "left"
                    },
                    "hovermode": "closest",
                    "mapbox": {
                      "style": "light"
                    },
                    "paper_bgcolor": "white",
                    "plot_bgcolor": "#E5ECF6",
                    "polar": {
                      "angularaxis": {
                        "gridcolor": "white",
                        "linecolor": "white",
                        "ticks": ""
                      },
                      "bgcolor": "#E5ECF6",
                      "radialaxis": {
                        "gridcolor": "white",
                        "linecolor": "white",
                        "ticks": ""
                      }
                    },
                    "scene": {
                      "xaxis": {
                        "backgroundcolor": "#E5ECF6",
                        "gridcolor": "white",
                        "gridwidth": 2,
                        "linecolor": "white",
                        "showbackground": true,
                        "ticks": "",
                        "zerolinecolor": "white"
                      },
                      "yaxis": {
                        "backgroundcolor": "#E5ECF6",
                        "gridcolor": "white",
                        "gridwidth": 2,
                        "linecolor": "white",
                        "showbackground": true,
                        "ticks": "",
                        "zerolinecolor": "white"
                      },
                      "zaxis": {
                        "backgroundcolor": "#E5ECF6",
                        "gridcolor": "white",
                        "gridwidth": 2,
                        "linecolor": "white",
                        "showbackground": true,
                        "ticks": "",
                        "zerolinecolor": "white"
                      }
                    },
                    "shapedefaults": {
                      "line": {
                        "color": "#2a3f5f"
                      }
                    },
                    "ternary": {
                      "aaxis": {
                        "gridcolor": "white",
                        "linecolor": "white",
                        "ticks": ""
                      },
                      "baxis": {
                        "gridcolor": "white",
                        "linecolor": "white",
                        "ticks": ""
                      },
                      "bgcolor": "#E5ECF6",
                      "caxis": {
                        "gridcolor": "white",
                        "linecolor": "white",
                        "ticks": ""
                      }
                    },
                    "title": {
                      "x": 0.05
                    },
                    "xaxis": {
                      "automargin": true,
                      "gridcolor": "white",
                      "linecolor": "white",
                      "ticks": "",
                      "title": {
                        "standoff": 15
                      },
                      "zerolinecolor": "white",
                      "zerolinewidth": 2
                    },
                    "yaxis": {
                      "automargin": true,
                      "gridcolor": "white",
                      "linecolor": "white",
                      "ticks": "",
                      "title": {
                        "standoff": 15
                      },
                      "zerolinecolor": "white",
                      "zerolinewidth": 2
                    }
                  }
                },
                "title": {
                  "text": "Gráfico de Área"
                },
                "xaxis": {
                  "anchor": "y",
                  "domain": [
                    0,
                    1
                  ],
                  "title": {
                    "text": "date"
                  }
                },
                "yaxis": {
                  "anchor": "x",
                  "domain": [
                    0,
                    1
                  ],
                  "title": {
                    "text": "value"
                  }
                }
              }
            }
          },
          "metadata": {},
          "output_type": "display_data"
        }
      ],
      "source": [
        "fig = px.area(df_com_idx,line_shape=\"spline\")\n",
        "fig.show()"
      ]
    },
    {
      "cell_type": "code",
      "execution_count": 6,
      "metadata": {
        "colab": {
          "base_uri": "https://localhost:8080/",
          "height": 542
        },
        "id": "gZA26kY1Z8zZ",
        "outputId": "a220bb50-ad22-4aa8-84b2-072c872c7003"
      },
      "outputs": [
        {
          "data": {
            "application/vnd.plotly.v1+json": {
              "config": {
                "plotlyServerURL": "https://plot.ly"
              },
              "data": [
                {
                  "hovertemplate": "variable=GOOG<br>date=%{x|%B %d, %Y}<br>value=%{y}<extra></extra>",
                  "legendgroup": "GOOG",
                  "line": {
                    "color": "#636efa",
                    "dash": "solid"
                  },
                  "marker": {
                    "symbol": "circle"
                  },
                  "mode": "lines",
                  "name": "GOOG",
                  "orientation": "v",
                  "showlegend": true,
                  "type": "scatter",
                  "x": [
                    "2018-01-01T00:00:00",
                    "2018-01-08T00:00:00",
                    "2018-01-15T00:00:00",
                    "2018-01-22T00:00:00",
                    "2018-01-29T00:00:00",
                    "2018-02-05T00:00:00",
                    "2018-02-12T00:00:00",
                    "2018-02-19T00:00:00",
                    "2018-02-26T00:00:00",
                    "2018-03-05T00:00:00",
                    "2018-03-12T00:00:00",
                    "2018-03-19T00:00:00",
                    "2018-03-26T00:00:00",
                    "2018-04-02T00:00:00",
                    "2018-04-09T00:00:00",
                    "2018-04-16T00:00:00",
                    "2018-04-23T00:00:00",
                    "2018-04-30T00:00:00",
                    "2018-05-07T00:00:00",
                    "2018-05-14T00:00:00",
                    "2018-05-21T00:00:00",
                    "2018-05-28T00:00:00",
                    "2018-06-04T00:00:00",
                    "2018-06-11T00:00:00",
                    "2018-06-18T00:00:00",
                    "2018-06-25T00:00:00",
                    "2018-07-02T00:00:00",
                    "2018-07-09T00:00:00",
                    "2018-07-16T00:00:00",
                    "2018-07-23T00:00:00",
                    "2018-07-30T00:00:00",
                    "2018-08-06T00:00:00",
                    "2018-08-13T00:00:00",
                    "2018-08-20T00:00:00",
                    "2018-08-27T00:00:00",
                    "2018-09-03T00:00:00",
                    "2018-09-10T00:00:00",
                    "2018-09-17T00:00:00",
                    "2018-09-24T00:00:00",
                    "2018-10-01T00:00:00",
                    "2018-10-08T00:00:00",
                    "2018-10-15T00:00:00",
                    "2018-10-22T00:00:00",
                    "2018-10-29T00:00:00",
                    "2018-11-05T00:00:00",
                    "2018-11-12T00:00:00",
                    "2018-11-19T00:00:00",
                    "2018-11-26T00:00:00",
                    "2018-12-03T00:00:00",
                    "2018-12-10T00:00:00",
                    "2018-12-17T00:00:00",
                    "2018-12-24T00:00:00",
                    "2018-12-31T00:00:00",
                    "2019-01-07T00:00:00",
                    "2019-01-14T00:00:00",
                    "2019-01-21T00:00:00",
                    "2019-01-28T00:00:00",
                    "2019-02-04T00:00:00",
                    "2019-02-11T00:00:00",
                    "2019-02-18T00:00:00",
                    "2019-02-25T00:00:00",
                    "2019-03-04T00:00:00",
                    "2019-03-11T00:00:00",
                    "2019-03-18T00:00:00",
                    "2019-03-25T00:00:00",
                    "2019-04-01T00:00:00",
                    "2019-04-08T00:00:00",
                    "2019-04-15T00:00:00",
                    "2019-04-22T00:00:00",
                    "2019-04-29T00:00:00",
                    "2019-05-06T00:00:00",
                    "2019-05-13T00:00:00",
                    "2019-05-20T00:00:00",
                    "2019-05-27T00:00:00",
                    "2019-06-03T00:00:00",
                    "2019-06-10T00:00:00",
                    "2019-06-17T00:00:00",
                    "2019-06-24T00:00:00",
                    "2019-07-01T00:00:00",
                    "2019-07-08T00:00:00",
                    "2019-07-15T00:00:00",
                    "2019-07-22T00:00:00",
                    "2019-07-29T00:00:00",
                    "2019-08-05T00:00:00",
                    "2019-08-12T00:00:00",
                    "2019-08-19T00:00:00",
                    "2019-08-26T00:00:00",
                    "2019-09-02T00:00:00",
                    "2019-09-09T00:00:00",
                    "2019-09-16T00:00:00",
                    "2019-09-23T00:00:00",
                    "2019-09-30T00:00:00",
                    "2019-10-07T00:00:00",
                    "2019-10-14T00:00:00",
                    "2019-10-21T00:00:00",
                    "2019-10-28T00:00:00",
                    "2019-11-04T00:00:00",
                    "2019-11-11T00:00:00",
                    "2019-11-18T00:00:00",
                    "2019-11-25T00:00:00",
                    "2019-12-02T00:00:00",
                    "2019-12-09T00:00:00",
                    "2019-12-16T00:00:00",
                    "2019-12-23T00:00:00",
                    "2019-12-30T00:00:00"
                  ],
                  "xaxis": "x",
                  "y": [
                    1,
                    1.018172278347936,
                    1.032007866452698,
                    1.066782783389724,
                    1.0087731636550117,
                    0.9415276737437316,
                    0.99325918262539,
                    1.0222821547641083,
                    0.9788520214265992,
                    1.0524482730908842,
                    1.0303929312465263,
                    0.926821104067592,
                    0.9360932452590338,
                    0.913638710861412,
                    0.93380695379017,
                    0.9734447261178653,
                    0.9345146364100892,
                    0.9509902470625956,
                    0.9963982380519172,
                    0.9674568868105002,
                    0.9758943718805396,
                    1.015668254641377,
                    1.0169111849053498,
                    1.0453898287179595,
                    1.0483111519067918,
                    1.0121753574512644,
                    1.0344211867653972,
                    1.0785588920381208,
                    1.075011617811375,
                    1.1236312044424703,
                    1.1102129167272332,
                    1.1228237368393843,
                    1.0895729410299655,
                    1.1074367837463466,
                    1.1052048693141154,
                    1.0567939333314087,
                    1.0637798374890872,
                    1.0579370795194665,
                    1.0827776350267664,
                    1.0500077089175164,
                    1.007121903906116,
                    0.9947651405743836,
                    0.9720929301886708,
                    0.959681788913054,
                    0.9672663993407256,
                    0.9630385756700248,
                    0.9289168536315806,
                    0.992923504040418,
                    0.9404389054995582,
                    0.945446952912676,
                    0.8886892896888904,
                    0.9408925313390586,
                    0.9714034098401132,
                    0.9591373489949891,
                    0.9963982380519172,
                    0.989802500200548,
                    1.0077298024501202,
                    0.9934950771344468,
                    1.0103608540932627,
                    1.0073850422758417,
                    1.035165084150587,
                    1.0363716889645844,
                    1.0746032883264525,
                    1.0936918990354445,
                    1.064487521016258,
                    1.095188886079836,
                    1.1049145977684258,
                    1.1216987538299403,
                    1.1541874899828073,
                    1.075456162061569,
                    1.0562859304552756,
                    1.0544986709579427,
                    1.0283425342867192,
                    1.001270175031893,
                    0.9671666152648106,
                    0.98468558802946,
                    1.0178275181736574,
                    0.980657443195294,
                    1.0266368965939394,
                    1.0387124690620373,
                    1.025285100664745,
                    1.1344366027859267,
                    1.0832494231376286,
                    1.0778240762422375,
                    1.068379555417282,
                    1.0445098208996275,
                    1.0779056980467905,
                    1.0931748145700046,
                    1.12459294475006,
                    1.115856106545024,
                    1.1114649285805127,
                    1.0968672799119472,
                    1.10271900878617,
                    1.129972884606169,
                    1.1477913211905195,
                    1.155602744537941,
                    1.189742629754999,
                    1.2110630442115171,
                    1.1751993590303178,
                    1.183927115646047,
                    1.216279741365772,
                    1.222820990588552,
                    1.22441776261611,
                    1.2265044859331442,
                    1.213013658002661
                  ],
                  "yaxis": "y"
                },
                {
                  "hovertemplate": "variable=AAPL<br>date=%{x|%B %d, %Y}<br>value=%{y}<extra></extra>",
                  "legendgroup": "AAPL",
                  "line": {
                    "color": "#EF553B",
                    "dash": "solid"
                  },
                  "marker": {
                    "symbol": "circle"
                  },
                  "mode": "lines",
                  "name": "AAPL",
                  "orientation": "v",
                  "showlegend": true,
                  "type": "scatter",
                  "x": [
                    "2018-01-01T00:00:00",
                    "2018-01-08T00:00:00",
                    "2018-01-15T00:00:00",
                    "2018-01-22T00:00:00",
                    "2018-01-29T00:00:00",
                    "2018-02-05T00:00:00",
                    "2018-02-12T00:00:00",
                    "2018-02-19T00:00:00",
                    "2018-02-26T00:00:00",
                    "2018-03-05T00:00:00",
                    "2018-03-12T00:00:00",
                    "2018-03-19T00:00:00",
                    "2018-03-26T00:00:00",
                    "2018-04-02T00:00:00",
                    "2018-04-09T00:00:00",
                    "2018-04-16T00:00:00",
                    "2018-04-23T00:00:00",
                    "2018-04-30T00:00:00",
                    "2018-05-07T00:00:00",
                    "2018-05-14T00:00:00",
                    "2018-05-21T00:00:00",
                    "2018-05-28T00:00:00",
                    "2018-06-04T00:00:00",
                    "2018-06-11T00:00:00",
                    "2018-06-18T00:00:00",
                    "2018-06-25T00:00:00",
                    "2018-07-02T00:00:00",
                    "2018-07-09T00:00:00",
                    "2018-07-16T00:00:00",
                    "2018-07-23T00:00:00",
                    "2018-07-30T00:00:00",
                    "2018-08-06T00:00:00",
                    "2018-08-13T00:00:00",
                    "2018-08-20T00:00:00",
                    "2018-08-27T00:00:00",
                    "2018-09-03T00:00:00",
                    "2018-09-10T00:00:00",
                    "2018-09-17T00:00:00",
                    "2018-09-24T00:00:00",
                    "2018-10-01T00:00:00",
                    "2018-10-08T00:00:00",
                    "2018-10-15T00:00:00",
                    "2018-10-22T00:00:00",
                    "2018-10-29T00:00:00",
                    "2018-11-05T00:00:00",
                    "2018-11-12T00:00:00",
                    "2018-11-19T00:00:00",
                    "2018-11-26T00:00:00",
                    "2018-12-03T00:00:00",
                    "2018-12-10T00:00:00",
                    "2018-12-17T00:00:00",
                    "2018-12-24T00:00:00",
                    "2018-12-31T00:00:00",
                    "2019-01-07T00:00:00",
                    "2019-01-14T00:00:00",
                    "2019-01-21T00:00:00",
                    "2019-01-28T00:00:00",
                    "2019-02-04T00:00:00",
                    "2019-02-11T00:00:00",
                    "2019-02-18T00:00:00",
                    "2019-02-25T00:00:00",
                    "2019-03-04T00:00:00",
                    "2019-03-11T00:00:00",
                    "2019-03-18T00:00:00",
                    "2019-03-25T00:00:00",
                    "2019-04-01T00:00:00",
                    "2019-04-08T00:00:00",
                    "2019-04-15T00:00:00",
                    "2019-04-22T00:00:00",
                    "2019-04-29T00:00:00",
                    "2019-05-06T00:00:00",
                    "2019-05-13T00:00:00",
                    "2019-05-20T00:00:00",
                    "2019-05-27T00:00:00",
                    "2019-06-03T00:00:00",
                    "2019-06-10T00:00:00",
                    "2019-06-17T00:00:00",
                    "2019-06-24T00:00:00",
                    "2019-07-01T00:00:00",
                    "2019-07-08T00:00:00",
                    "2019-07-15T00:00:00",
                    "2019-07-22T00:00:00",
                    "2019-07-29T00:00:00",
                    "2019-08-05T00:00:00",
                    "2019-08-12T00:00:00",
                    "2019-08-19T00:00:00",
                    "2019-08-26T00:00:00",
                    "2019-09-02T00:00:00",
                    "2019-09-09T00:00:00",
                    "2019-09-16T00:00:00",
                    "2019-09-23T00:00:00",
                    "2019-09-30T00:00:00",
                    "2019-10-07T00:00:00",
                    "2019-10-14T00:00:00",
                    "2019-10-21T00:00:00",
                    "2019-10-28T00:00:00",
                    "2019-11-04T00:00:00",
                    "2019-11-11T00:00:00",
                    "2019-11-18T00:00:00",
                    "2019-11-25T00:00:00",
                    "2019-12-02T00:00:00",
                    "2019-12-09T00:00:00",
                    "2019-12-16T00:00:00",
                    "2019-12-23T00:00:00",
                    "2019-12-30T00:00:00"
                  ],
                  "xaxis": "x",
                  "y": [
                    1,
                    1.0119428342857142,
                    1.0197714685714288,
                    0.9800571142857144,
                    0.9171428571428571,
                    0.8937714514285715,
                    0.9853142457142856,
                    1.002857142857143,
                    1.006914325714286,
                    1.02845712,
                    1.0172571657142857,
                    0.9425142971428572,
                    0.9587428514285714,
                    0.9621714571428572,
                    0.99845712,
                    0.9469714342857144,
                    0.9275428971428572,
                    1.0504571542857144,
                    1.07765712,
                    1.06462856,
                    1.0776000114285715,
                    1.0870857428571428,
                    1.0954285542857145,
                    1.0790856914285714,
                    1.0566857028571428,
                    1.0577714342857143,
                    1.0741142914285715,
                    1.093314297142857,
                    1.0939428685714283,
                    1.0913142628571428,
                    1.1885143142857142,
                    1.1858857085714285,
                    1.2433142971428572,
                    1.235200022857143,
                    1.3007428857142855,
                    1.2645714457142856,
                    1.279085691428571,
                    1.2437714514285716,
                    1.2899428857142856,
                    1.2816571028571428,
                    1.2692000057142856,
                    1.253199988571429,
                    1.236000017142857,
                    1.1855999771428571,
                    1.1684000057142856,
                    1.1058857085714286,
                    0.9845142457142856,
                    1.0204571542857144,
                    0.9628000285714284,
                    0.9455999771428572,
                    0.8613142628571429,
                    0.8927428342857143,
                    0.8471999714285714,
                    0.8702285314285714,
                    0.8961143257142857,
                    0.9014856857142858,
                    0.95154288,
                    0.9737714514285716,
                    0.97382856,
                    0.9884000057142855,
                    0.9998285771428572,
                    0.9880571657142858,
                    1.0635428285714286,
                    1.0917143028571428,
                    1.0854285542857145,
                    1.1257142857142857,
                    1.1363999714285713,
                    1.1649142914285715,
                    1.1674285885714286,
                    1.21,
                    1.126742817142857,
                    1.08,
                    1.02268572,
                    1.00040004,
                    1.0865713942857145,
                    1.1013714571428572,
                    1.135885708571429,
                    1.130971417142857,
                    1.167028548571429,
                    1.1617143028571428,
                    1.15765712,
                    1.1870857428571429,
                    1.1658285942857145,
                    1.1485143142857142,
                    1.18,
                    1.1579428514285717,
                    1.1928000285714286,
                    1.218628542857143,
                    1.25,
                    1.2441714057142856,
                    1.25040004,
                    1.2971999714285716,
                    1.3497714685714286,
                    1.3509143085714286,
                    1.409028582857143,
                    1.4618286114285712,
                    1.4865143714285716,
                    1.5186286285714288,
                    1.4958857085714288,
                    1.5271428571428571,
                    1.5469142342857145,
                    1.57228568,
                    1.5968000114285714,
                    1.6559999314285714,
                    1.6779999657142857
                  ],
                  "yaxis": "y"
                },
                {
                  "hovertemplate": "variable=AMZN<br>date=%{x|%B %d, %Y}<br>value=%{y}<extra></extra>",
                  "legendgroup": "AMZN",
                  "line": {
                    "color": "#00cc96",
                    "dash": "solid"
                  },
                  "marker": {
                    "symbol": "circle"
                  },
                  "mode": "lines",
                  "name": "AMZN",
                  "orientation": "v",
                  "showlegend": true,
                  "type": "scatter",
                  "x": [
                    "2018-01-01T00:00:00",
                    "2018-01-08T00:00:00",
                    "2018-01-15T00:00:00",
                    "2018-01-22T00:00:00",
                    "2018-01-29T00:00:00",
                    "2018-02-05T00:00:00",
                    "2018-02-12T00:00:00",
                    "2018-02-19T00:00:00",
                    "2018-02-26T00:00:00",
                    "2018-03-05T00:00:00",
                    "2018-03-12T00:00:00",
                    "2018-03-19T00:00:00",
                    "2018-03-26T00:00:00",
                    "2018-04-02T00:00:00",
                    "2018-04-09T00:00:00",
                    "2018-04-16T00:00:00",
                    "2018-04-23T00:00:00",
                    "2018-04-30T00:00:00",
                    "2018-05-07T00:00:00",
                    "2018-05-14T00:00:00",
                    "2018-05-21T00:00:00",
                    "2018-05-28T00:00:00",
                    "2018-06-04T00:00:00",
                    "2018-06-11T00:00:00",
                    "2018-06-18T00:00:00",
                    "2018-06-25T00:00:00",
                    "2018-07-02T00:00:00",
                    "2018-07-09T00:00:00",
                    "2018-07-16T00:00:00",
                    "2018-07-23T00:00:00",
                    "2018-07-30T00:00:00",
                    "2018-08-06T00:00:00",
                    "2018-08-13T00:00:00",
                    "2018-08-20T00:00:00",
                    "2018-08-27T00:00:00",
                    "2018-09-03T00:00:00",
                    "2018-09-10T00:00:00",
                    "2018-09-17T00:00:00",
                    "2018-09-24T00:00:00",
                    "2018-10-01T00:00:00",
                    "2018-10-08T00:00:00",
                    "2018-10-15T00:00:00",
                    "2018-10-22T00:00:00",
                    "2018-10-29T00:00:00",
                    "2018-11-05T00:00:00",
                    "2018-11-12T00:00:00",
                    "2018-11-19T00:00:00",
                    "2018-11-26T00:00:00",
                    "2018-12-03T00:00:00",
                    "2018-12-10T00:00:00",
                    "2018-12-17T00:00:00",
                    "2018-12-24T00:00:00",
                    "2018-12-31T00:00:00",
                    "2019-01-07T00:00:00",
                    "2019-01-14T00:00:00",
                    "2019-01-21T00:00:00",
                    "2019-01-28T00:00:00",
                    "2019-02-04T00:00:00",
                    "2019-02-11T00:00:00",
                    "2019-02-18T00:00:00",
                    "2019-02-25T00:00:00",
                    "2019-03-04T00:00:00",
                    "2019-03-11T00:00:00",
                    "2019-03-18T00:00:00",
                    "2019-03-25T00:00:00",
                    "2019-04-01T00:00:00",
                    "2019-04-08T00:00:00",
                    "2019-04-15T00:00:00",
                    "2019-04-22T00:00:00",
                    "2019-04-29T00:00:00",
                    "2019-05-06T00:00:00",
                    "2019-05-13T00:00:00",
                    "2019-05-20T00:00:00",
                    "2019-05-27T00:00:00",
                    "2019-06-03T00:00:00",
                    "2019-06-10T00:00:00",
                    "2019-06-17T00:00:00",
                    "2019-06-24T00:00:00",
                    "2019-07-01T00:00:00",
                    "2019-07-08T00:00:00",
                    "2019-07-15T00:00:00",
                    "2019-07-22T00:00:00",
                    "2019-07-29T00:00:00",
                    "2019-08-05T00:00:00",
                    "2019-08-12T00:00:00",
                    "2019-08-19T00:00:00",
                    "2019-08-26T00:00:00",
                    "2019-09-02T00:00:00",
                    "2019-09-09T00:00:00",
                    "2019-09-16T00:00:00",
                    "2019-09-23T00:00:00",
                    "2019-09-30T00:00:00",
                    "2019-10-07T00:00:00",
                    "2019-10-14T00:00:00",
                    "2019-10-21T00:00:00",
                    "2019-10-28T00:00:00",
                    "2019-11-04T00:00:00",
                    "2019-11-11T00:00:00",
                    "2019-11-18T00:00:00",
                    "2019-11-25T00:00:00",
                    "2019-12-02T00:00:00",
                    "2019-12-09T00:00:00",
                    "2019-12-16T00:00:00",
                    "2019-12-23T00:00:00",
                    "2019-12-30T00:00:00"
                  ],
                  "xaxis": "x",
                  "y": [
                    1,
                    1.0618806117055757,
                    1.0532404284307677,
                    1.1406756202628388,
                    1.1633743377885228,
                    1.0898676795580526,
                    1.1786207619316666,
                    1.2203654438831366,
                    1.2205688381237838,
                    1.284548542665418,
                    1.2786826844946546,
                    1.2167532101702832,
                    1.1775224533715958,
                    1.1432627388670606,
                    1.16405781403187,
                    1.242730666448932,
                    1.2794473988384474,
                    1.2862244591394254,
                    1.3040906767647622,
                    1.2808711585229775,
                    1.3099809658381354,
                    1.3355191588974509,
                    1.3700554610940725,
                    1.3960736368996989,
                    1.3958296232020404,
                    1.3829181608736414,
                    1.391729163581091,
                    1.4750394640760272,
                    1.4755844971819587,
                    1.4784890230752108,
                    1.4833867718479574,
                    1.5346502643964448,
                    1.5313308069300795,
                    1.5501814209506477,
                    1.637494456642517,
                    1.5881591374274802,
                    1.6029011479217037,
                    1.5580080272628667,
                    1.6295946560652816,
                    1.5373757268816928,
                    1.4551718788522234,
                    1.435174192909178,
                    1.3365524179114776,
                    1.3550368620941855,
                    1.3931936419790223,
                    1.2963616956201691,
                    1.22204146042711,
                    1.375083410656027,
                    1.3254226411301075,
                    1.295141330176286,
                    1.1206615472526131,
                    1.202483038516975,
                    1.2817010232963573,
                    1.334721869745653,
                    1.3799892040777797,
                    1.359137222458745,
                    1.3230632475991762,
                    1.2921391799289847,
                    1.3081910371293215,
                    1.3273996770823542,
                    1.3600809993969647,
                    1.3186455808291295,
                    1.393136635454831,
                    1.435776232539301,
                    1.4487771761299302,
                    1.4947687054188046,
                    1.4994712046698764,
                    1.5146280474808236,
                    1.5869876346023932,
                    1.596612214272432,
                    1.537644171481961,
                    1.5205753430783882,
                    1.483378627942562,
                    1.44415601504927,
                    1.4677172714127285,
                    1.521120475440709,
                    1.5549896884611636,
                    1.540613747734834,
                    1.58070684404494,
                    1.6361032717659916,
                    1.5982882308164057,
                    1.5808207570233568,
                    1.4833460531345568,
                    1.4706054102388,
                    1.4583936118945735,
                    1.4234505212166575,
                    1.445148654606286,
                    1.491701504811883,
                    1.4964446227063888,
                    1.4596872708598625,
                    1.4037863302335007,
                    1.4153391824933792,
                    1.4090502488441077,
                    1.4298696556551374,
                    1.43297747571907,
                    1.4574742658589632,
                    1.452950830015895,
                    1.4152089825177483,
                    1.420277551536714,
                    1.465089434095106,
                    1.425061388144621,
                    1.4326601685000062,
                    1.4534552436648156,
                    1.52122624451373,
                    1.503360026888393
                  ],
                  "yaxis": "y"
                },
                {
                  "hovertemplate": "variable=FB<br>date=%{x|%B %d, %Y}<br>value=%{y}<extra></extra>",
                  "legendgroup": "FB",
                  "line": {
                    "color": "#ab63fa",
                    "dash": "solid"
                  },
                  "marker": {
                    "symbol": "circle"
                  },
                  "mode": "lines",
                  "name": "FB",
                  "orientation": "v",
                  "showlegend": true,
                  "type": "scatter",
                  "x": [
                    "2018-01-01T00:00:00",
                    "2018-01-08T00:00:00",
                    "2018-01-15T00:00:00",
                    "2018-01-22T00:00:00",
                    "2018-01-29T00:00:00",
                    "2018-02-05T00:00:00",
                    "2018-02-12T00:00:00",
                    "2018-02-19T00:00:00",
                    "2018-02-26T00:00:00",
                    "2018-03-05T00:00:00",
                    "2018-03-12T00:00:00",
                    "2018-03-19T00:00:00",
                    "2018-03-26T00:00:00",
                    "2018-04-02T00:00:00",
                    "2018-04-09T00:00:00",
                    "2018-04-16T00:00:00",
                    "2018-04-23T00:00:00",
                    "2018-04-30T00:00:00",
                    "2018-05-07T00:00:00",
                    "2018-05-14T00:00:00",
                    "2018-05-21T00:00:00",
                    "2018-05-28T00:00:00",
                    "2018-06-04T00:00:00",
                    "2018-06-11T00:00:00",
                    "2018-06-18T00:00:00",
                    "2018-06-25T00:00:00",
                    "2018-07-02T00:00:00",
                    "2018-07-09T00:00:00",
                    "2018-07-16T00:00:00",
                    "2018-07-23T00:00:00",
                    "2018-07-30T00:00:00",
                    "2018-08-06T00:00:00",
                    "2018-08-13T00:00:00",
                    "2018-08-20T00:00:00",
                    "2018-08-27T00:00:00",
                    "2018-09-03T00:00:00",
                    "2018-09-10T00:00:00",
                    "2018-09-17T00:00:00",
                    "2018-09-24T00:00:00",
                    "2018-10-01T00:00:00",
                    "2018-10-08T00:00:00",
                    "2018-10-15T00:00:00",
                    "2018-10-22T00:00:00",
                    "2018-10-29T00:00:00",
                    "2018-11-05T00:00:00",
                    "2018-11-12T00:00:00",
                    "2018-11-19T00:00:00",
                    "2018-11-26T00:00:00",
                    "2018-12-03T00:00:00",
                    "2018-12-10T00:00:00",
                    "2018-12-17T00:00:00",
                    "2018-12-24T00:00:00",
                    "2018-12-31T00:00:00",
                    "2019-01-07T00:00:00",
                    "2019-01-14T00:00:00",
                    "2019-01-21T00:00:00",
                    "2019-01-28T00:00:00",
                    "2019-02-04T00:00:00",
                    "2019-02-11T00:00:00",
                    "2019-02-18T00:00:00",
                    "2019-02-25T00:00:00",
                    "2019-03-04T00:00:00",
                    "2019-03-11T00:00:00",
                    "2019-03-18T00:00:00",
                    "2019-03-25T00:00:00",
                    "2019-04-01T00:00:00",
                    "2019-04-08T00:00:00",
                    "2019-04-15T00:00:00",
                    "2019-04-22T00:00:00",
                    "2019-04-29T00:00:00",
                    "2019-05-06T00:00:00",
                    "2019-05-13T00:00:00",
                    "2019-05-20T00:00:00",
                    "2019-05-27T00:00:00",
                    "2019-06-03T00:00:00",
                    "2019-06-10T00:00:00",
                    "2019-06-17T00:00:00",
                    "2019-06-24T00:00:00",
                    "2019-07-01T00:00:00",
                    "2019-07-08T00:00:00",
                    "2019-07-15T00:00:00",
                    "2019-07-22T00:00:00",
                    "2019-07-29T00:00:00",
                    "2019-08-05T00:00:00",
                    "2019-08-12T00:00:00",
                    "2019-08-19T00:00:00",
                    "2019-08-26T00:00:00",
                    "2019-09-02T00:00:00",
                    "2019-09-09T00:00:00",
                    "2019-09-16T00:00:00",
                    "2019-09-23T00:00:00",
                    "2019-09-30T00:00:00",
                    "2019-10-07T00:00:00",
                    "2019-10-14T00:00:00",
                    "2019-10-21T00:00:00",
                    "2019-10-28T00:00:00",
                    "2019-11-04T00:00:00",
                    "2019-11-11T00:00:00",
                    "2019-11-18T00:00:00",
                    "2019-11-25T00:00:00",
                    "2019-12-02T00:00:00",
                    "2019-12-09T00:00:00",
                    "2019-12-16T00:00:00",
                    "2019-12-23T00:00:00",
                    "2019-12-30T00:00:00"
                  ],
                  "xaxis": "x",
                  "y": [
                    1,
                    0.9599678310954936,
                    0.9702434422185674,
                    1.0168584099483515,
                    1.0183569327795472,
                    0.9425207136466456,
                    0.949210571606832,
                    0.9809472149548658,
                    0.9452501435830832,
                    0.9913298905647344,
                    0.9905806264731936,
                    0.8530371628674177,
                    0.8551778853033591,
                    0.8413165210173983,
                    0.8804923666954552,
                    0.8899116599439659,
                    0.9290339332394776,
                    0.9451966568307202,
                    1.0007492587396545,
                    0.9776825642702948,
                    0.9896708164943808,
                    1.038212463316699,
                    1.0120417443283358,
                    1.048166977313343,
                    1.0796895826698554,
                    1.039978596521961,
                    1.0876638451914205,
                    1.109553119307901,
                    1.12357503483302,
                    0.9359914015737306,
                    0.951458353177682,
                    0.9647310099631464,
                    0.9301578668399936,
                    0.934706922085943,
                    0.940486970067317,
                    0.8725715159998442,
                    0.868718232741186,
                    0.8719828084993478,
                    0.8801712695690254,
                    0.8420122930046896,
                    0.822799036998693,
                    0.8244581110690464,
                    0.7780036945784202,
                    0.8046561475625534,
                    0.7758094853901156,
                    0.7467486995959743,
                    0.7050039698687512,
                    0.7525287475773482,
                    0.735456214007293,
                    0.7709927394918039,
                    0.668718185644586,
                    0.712871248181817,
                    0.7382927084305257,
                    0.769601275795517,
                    0.8029969932139043,
                    0.7974845609584834,
                    0.8868611275292119,
                    0.8955311566861818,
                    0.8696815348242483,
                    0.8664168787877908,
                    0.8685041144713691,
                    0.907679960149426,
                    0.8883060779778621,
                    0.8795289843340972,
                    0.8921059494105662,
                    0.9404334779630672,
                    0.9585228806468435,
                    0.9541342963617566,
                    1.024832747396326,
                    1.0461332337340143,
                    1.0079742571696786,
                    0.9917045600737096,
                    0.9690125351133252,
                    0.9497992791073284,
                    0.9277495340299856,
                    0.9704575658402708,
                    1.0229595550561554,
                    1.0329140690527994,
                    1.0511104505931883,
                    1.0964409334832987,
                    1.0616001853379655,
                    1.0690393020378066,
                    1.011613582715111,
                    1.0053518863681492,
                    0.9831415097733526,
                    0.951297801938524,
                    0.993684731270493,
                    1.003425201923729,
                    1.0018196199576253,
                    1.0164837404393767,
                    0.9478191079105452,
                    0.9657478790768677,
                    0.9857639608531776,
                    0.9946481136318508,
                    1.0055659243596704,
                    1.03623221184162,
                    1.0213539730900516,
                    1.044153062537231,
                    1.0640620851786324,
                    1.0791543619217223,
                    1.07599677037206,
                    1.0388546682733315,
                    1.104094173804843,
                    1.113727585323171,
                    1.0984746770626277
                  ],
                  "yaxis": "y"
                },
                {
                  "hovertemplate": "variable=NFLX<br>date=%{x|%B %d, %Y}<br>value=%{y}<extra></extra>",
                  "legendgroup": "NFLX",
                  "line": {
                    "color": "#FFA15A",
                    "dash": "solid"
                  },
                  "marker": {
                    "symbol": "circle"
                  },
                  "mode": "lines",
                  "name": "NFLX",
                  "orientation": "v",
                  "showlegend": true,
                  "type": "scatter",
                  "x": [
                    "2018-01-01T00:00:00",
                    "2018-01-08T00:00:00",
                    "2018-01-15T00:00:00",
                    "2018-01-22T00:00:00",
                    "2018-01-29T00:00:00",
                    "2018-02-05T00:00:00",
                    "2018-02-12T00:00:00",
                    "2018-02-19T00:00:00",
                    "2018-02-26T00:00:00",
                    "2018-03-05T00:00:00",
                    "2018-03-12T00:00:00",
                    "2018-03-19T00:00:00",
                    "2018-03-26T00:00:00",
                    "2018-04-02T00:00:00",
                    "2018-04-09T00:00:00",
                    "2018-04-16T00:00:00",
                    "2018-04-23T00:00:00",
                    "2018-04-30T00:00:00",
                    "2018-05-07T00:00:00",
                    "2018-05-14T00:00:00",
                    "2018-05-21T00:00:00",
                    "2018-05-28T00:00:00",
                    "2018-06-04T00:00:00",
                    "2018-06-11T00:00:00",
                    "2018-06-18T00:00:00",
                    "2018-06-25T00:00:00",
                    "2018-07-02T00:00:00",
                    "2018-07-09T00:00:00",
                    "2018-07-16T00:00:00",
                    "2018-07-23T00:00:00",
                    "2018-07-30T00:00:00",
                    "2018-08-06T00:00:00",
                    "2018-08-13T00:00:00",
                    "2018-08-20T00:00:00",
                    "2018-08-27T00:00:00",
                    "2018-09-03T00:00:00",
                    "2018-09-10T00:00:00",
                    "2018-09-17T00:00:00",
                    "2018-09-24T00:00:00",
                    "2018-10-01T00:00:00",
                    "2018-10-08T00:00:00",
                    "2018-10-15T00:00:00",
                    "2018-10-22T00:00:00",
                    "2018-10-29T00:00:00",
                    "2018-11-05T00:00:00",
                    "2018-11-12T00:00:00",
                    "2018-11-19T00:00:00",
                    "2018-11-26T00:00:00",
                    "2018-12-03T00:00:00",
                    "2018-12-10T00:00:00",
                    "2018-12-17T00:00:00",
                    "2018-12-24T00:00:00",
                    "2018-12-31T00:00:00",
                    "2019-01-07T00:00:00",
                    "2019-01-14T00:00:00",
                    "2019-01-21T00:00:00",
                    "2019-01-28T00:00:00",
                    "2019-02-04T00:00:00",
                    "2019-02-11T00:00:00",
                    "2019-02-18T00:00:00",
                    "2019-02-25T00:00:00",
                    "2019-03-04T00:00:00",
                    "2019-03-11T00:00:00",
                    "2019-03-18T00:00:00",
                    "2019-03-25T00:00:00",
                    "2019-04-01T00:00:00",
                    "2019-04-08T00:00:00",
                    "2019-04-15T00:00:00",
                    "2019-04-22T00:00:00",
                    "2019-04-29T00:00:00",
                    "2019-05-06T00:00:00",
                    "2019-05-13T00:00:00",
                    "2019-05-20T00:00:00",
                    "2019-05-27T00:00:00",
                    "2019-06-03T00:00:00",
                    "2019-06-10T00:00:00",
                    "2019-06-17T00:00:00",
                    "2019-06-24T00:00:00",
                    "2019-07-01T00:00:00",
                    "2019-07-08T00:00:00",
                    "2019-07-15T00:00:00",
                    "2019-07-22T00:00:00",
                    "2019-07-29T00:00:00",
                    "2019-08-05T00:00:00",
                    "2019-08-12T00:00:00",
                    "2019-08-19T00:00:00",
                    "2019-08-26T00:00:00",
                    "2019-09-02T00:00:00",
                    "2019-09-09T00:00:00",
                    "2019-09-16T00:00:00",
                    "2019-09-23T00:00:00",
                    "2019-09-30T00:00:00",
                    "2019-10-07T00:00:00",
                    "2019-10-14T00:00:00",
                    "2019-10-21T00:00:00",
                    "2019-10-28T00:00:00",
                    "2019-11-04T00:00:00",
                    "2019-11-11T00:00:00",
                    "2019-11-18T00:00:00",
                    "2019-11-25T00:00:00",
                    "2019-12-02T00:00:00",
                    "2019-12-09T00:00:00",
                    "2019-12-16T00:00:00",
                    "2019-12-23T00:00:00",
                    "2019-12-30T00:00:00"
                  ],
                  "xaxis": "x",
                  "y": [
                    1,
                    1.0535263142643383,
                    1.0498595254569378,
                    1.3076813155940448,
                    1.273536771428717,
                    1.188008929282134,
                    1.3263487897912096,
                    1.3616362026373592,
                    1.4336396058469547,
                    1.5783608462698024,
                    1.5165008067883996,
                    1.4331158380609592,
                    1.406495542490225,
                    1.375541688281783,
                    1.484118227436587,
                    1.5608837620628662,
                    1.484642138086525,
                    1.5243106261176576,
                    1.5546453794312736,
                    1.5437877293254985,
                    1.6728891882258874,
                    1.7140339274719294,
                    1.7170817582484463,
                    1.866660325094997,
                    1.9576645850358447,
                    1.864041067097456,
                    1.94414015086099,
                    1.884851557577705,
                    1.7193674908479577,
                    1.691556657660921,
                    1.633839648701375,
                    1.647078369277624,
                    1.50854798541483,
                    1.7087480282692504,
                    1.7509404459512254,
                    1.660459949034241,
                    1.7360826197418304,
                    1.720034255916133,
                    1.7816562507344105,
                    1.6731749018244944,
                    1.617029334324746,
                    1.5842183202957685,
                    1.4278298007564696,
                    1.4719748494696214,
                    1.4451640257830367,
                    1.3629695899097676,
                    1.2325348866009125,
                    1.3625886860662726,
                    1.262631595251403,
                    1.2707271281792676,
                    1.1733415549944868,
                    1.2194865512765718,
                    1.4170674789973934,
                    1.6076479259096166,
                    1.6148387919701228,
                    1.6098384682642397,
                    1.6184103905326357,
                    1.6551740498315624,
                    1.699461814861141,
                    1.7287488945009553,
                    1.7016048311442251,
                    1.6648411718452985,
                    1.721319979015192,
                    1.7191771103581814,
                    1.6979855684083631,
                    1.7405113638622944,
                    1.6721748970861734,
                    1.716034084574645,
                    1.7850849901165535,
                    1.8335634546034707,
                    1.7193199695385504,
                    1.6879375377890014,
                    1.6876518241903944,
                    1.6347444679569396,
                    1.7185103405278743,
                    1.6178389585732904,
                    1.758226497494488,
                    1.7492261453110591,
                    1.8122290534732837,
                    1.7774655512770718,
                    1.5005476379697218,
                    1.5990284823318142,
                    1.518310297673454,
                    1.471165225221077,
                    1.4419733358261506,
                    1.3878755896024673,
                    1.398876103650743,
                    1.381827735086725,
                    1.400780927644628,
                    1.2893470810670251,
                    1.2528214711933554,
                    1.299061872016242,
                    1.347349808387309,
                    1.3110147218673576,
                    1.3182532521012131,
                    1.3658269020946976,
                    1.388494690497293,
                    1.4049716271019663,
                    1.4785466146353017,
                    1.4984522906221185,
                    1.4636411194904255,
                    1.421496227879989,
                    1.6043620457078422,
                    1.567169808867808,
                    1.5408828958311611
                  ],
                  "yaxis": "y"
                },
                {
                  "hovertemplate": "variable=MSFT<br>date=%{x|%B %d, %Y}<br>value=%{y}<extra></extra>",
                  "legendgroup": "MSFT",
                  "line": {
                    "color": "#19d3f3",
                    "dash": "solid"
                  },
                  "marker": {
                    "symbol": "circle"
                  },
                  "mode": "lines",
                  "name": "MSFT",
                  "orientation": "v",
                  "showlegend": true,
                  "type": "scatter",
                  "x": [
                    "2018-01-01T00:00:00",
                    "2018-01-08T00:00:00",
                    "2018-01-15T00:00:00",
                    "2018-01-22T00:00:00",
                    "2018-01-29T00:00:00",
                    "2018-02-05T00:00:00",
                    "2018-02-12T00:00:00",
                    "2018-02-19T00:00:00",
                    "2018-02-26T00:00:00",
                    "2018-03-05T00:00:00",
                    "2018-03-12T00:00:00",
                    "2018-03-19T00:00:00",
                    "2018-03-26T00:00:00",
                    "2018-04-02T00:00:00",
                    "2018-04-09T00:00:00",
                    "2018-04-16T00:00:00",
                    "2018-04-23T00:00:00",
                    "2018-04-30T00:00:00",
                    "2018-05-07T00:00:00",
                    "2018-05-14T00:00:00",
                    "2018-05-21T00:00:00",
                    "2018-05-28T00:00:00",
                    "2018-06-04T00:00:00",
                    "2018-06-11T00:00:00",
                    "2018-06-18T00:00:00",
                    "2018-06-25T00:00:00",
                    "2018-07-02T00:00:00",
                    "2018-07-09T00:00:00",
                    "2018-07-16T00:00:00",
                    "2018-07-23T00:00:00",
                    "2018-07-30T00:00:00",
                    "2018-08-06T00:00:00",
                    "2018-08-13T00:00:00",
                    "2018-08-20T00:00:00",
                    "2018-08-27T00:00:00",
                    "2018-09-03T00:00:00",
                    "2018-09-10T00:00:00",
                    "2018-09-17T00:00:00",
                    "2018-09-24T00:00:00",
                    "2018-10-01T00:00:00",
                    "2018-10-08T00:00:00",
                    "2018-10-15T00:00:00",
                    "2018-10-22T00:00:00",
                    "2018-10-29T00:00:00",
                    "2018-11-05T00:00:00",
                    "2018-11-12T00:00:00",
                    "2018-11-19T00:00:00",
                    "2018-11-26T00:00:00",
                    "2018-12-03T00:00:00",
                    "2018-12-10T00:00:00",
                    "2018-12-17T00:00:00",
                    "2018-12-24T00:00:00",
                    "2018-12-31T00:00:00",
                    "2019-01-07T00:00:00",
                    "2019-01-14T00:00:00",
                    "2019-01-21T00:00:00",
                    "2019-01-28T00:00:00",
                    "2019-02-04T00:00:00",
                    "2019-02-11T00:00:00",
                    "2019-02-18T00:00:00",
                    "2019-02-25T00:00:00",
                    "2019-03-04T00:00:00",
                    "2019-03-11T00:00:00",
                    "2019-03-18T00:00:00",
                    "2019-03-25T00:00:00",
                    "2019-04-01T00:00:00",
                    "2019-04-08T00:00:00",
                    "2019-04-15T00:00:00",
                    "2019-04-22T00:00:00",
                    "2019-04-29T00:00:00",
                    "2019-05-06T00:00:00",
                    "2019-05-13T00:00:00",
                    "2019-05-20T00:00:00",
                    "2019-05-27T00:00:00",
                    "2019-06-03T00:00:00",
                    "2019-06-10T00:00:00",
                    "2019-06-17T00:00:00",
                    "2019-06-24T00:00:00",
                    "2019-07-01T00:00:00",
                    "2019-07-08T00:00:00",
                    "2019-07-15T00:00:00",
                    "2019-07-22T00:00:00",
                    "2019-07-29T00:00:00",
                    "2019-08-05T00:00:00",
                    "2019-08-12T00:00:00",
                    "2019-08-19T00:00:00",
                    "2019-08-26T00:00:00",
                    "2019-09-02T00:00:00",
                    "2019-09-09T00:00:00",
                    "2019-09-16T00:00:00",
                    "2019-09-23T00:00:00",
                    "2019-09-30T00:00:00",
                    "2019-10-07T00:00:00",
                    "2019-10-14T00:00:00",
                    "2019-10-21T00:00:00",
                    "2019-10-28T00:00:00",
                    "2019-11-04T00:00:00",
                    "2019-11-11T00:00:00",
                    "2019-11-18T00:00:00",
                    "2019-11-25T00:00:00",
                    "2019-12-02T00:00:00",
                    "2019-12-09T00:00:00",
                    "2019-12-16T00:00:00",
                    "2019-12-23T00:00:00",
                    "2019-12-30T00:00:00"
                  ],
                  "xaxis": "x",
                  "y": [
                    1,
                    1.015988161560536,
                    1.0205238457756245,
                    1.0665607876956391,
                    1.040707528275144,
                    0.9998865857832728,
                    1.043202153459527,
                    1.0665607876956391,
                    1.0551082990110374,
                    1.0946819232411402,
                    1.072683930770293,
                    0.9885474319413214,
                    1.034924537137441,
                    1.0231318851767346,
                    1.0554484622871425,
                    1.0772196149853812,
                    1.0865177211357813,
                    1.0790339249567087,
                    1.1078352963411884,
                    1.0926408755495889,
                    1.1153191832334917,
                    1.1428733270694336,
                    1.1523981709400573,
                    1.1353894401771305,
                    1.1385644826269534,
                    1.1181539716939797,
                    1.147068848008417,
                    1.1954869895569342,
                    1.2050118447667115,
                    1.2210000857013248,
                    1.225082192423581,
                    1.2359677687727004,
                    1.2198661929954373,
                    1.2291642991458374,
                    1.2737271737447062,
                    1.227009825898405,
                    1.2855199050794894,
                    1.2956117406596723,
                    1.2968590589214408,
                    1.2714592862805467,
                    1.242431086462613,
                    1.2321125018230523,
                    1.2128358835959658,
                    1.203764617218174,
                    1.242431086462613,
                    1.2279169808840689,
                    1.1687265864899288,
                    1.2573987581948347,
                    1.1885701057133435,
                    1.2022904705229511,
                    1.1138451159123457,
                    1.1383376428543452,
                    1.1557999511101045,
                    1.1656650489700635,
                    1.2213402489774292,
                    1.2152170945636216,
                    1.1654382205366092,
                    1.1982083638006946,
                    1.2271232401151322,
                    1.2583059131804986,
                    1.275994970495635,
                    1.2530899137523548,
                    1.3143213671771998,
                    1.3272479912178707,
                    1.3373398267980536,
                    1.3594511427723972,
                    1.371470623166558,
                    1.398911443499003,
                    1.4728426811919109,
                    1.4616168621926098,
                    1.4415465939098175,
                    1.45220551191279,
                    1.4314547583296346,
                    1.4024265471725468,
                    1.489964746797488,
                    1.5018708923489987,
                    1.5531239130712344,
                    1.518993128041884,
                    1.5541444028995486,
                    1.5750084006121237,
                    1.5491551411916282,
                    1.6026759586647925,
                    1.5523300929282209,
                    1.5615149549492018,
                    1.5435990692006107,
                    1.5125297196387406,
                    1.5632157599905712,
                    1.5772763674503605,
                    1.5570926849508404,
                    1.581131634400008,
                    1.5617416132953483,
                    1.5661638719545554,
                    1.583852929269692,
                    1.5581131747791548,
                    1.5957590748212025,
                    1.629663201504406,
                    1.655062974145301,
                    1.7005329130166025,
                    1.6962239778608914,
                    1.7165211652903694,
                    1.720716595516122,
                    1.7522394318575931,
                    1.7848962516181823,
                    1.8024719740906685,
                    1.7881845268582712
                  ],
                  "yaxis": "y"
                }
              ],
              "layout": {
                "legend": {
                  "title": {
                    "text": "variable"
                  },
                  "tracegroupgap": 0
                },
                "template": {
                  "data": {
                    "bar": [
                      {
                        "error_x": {
                          "color": "#2a3f5f"
                        },
                        "error_y": {
                          "color": "#2a3f5f"
                        },
                        "marker": {
                          "line": {
                            "color": "#E5ECF6",
                            "width": 0.5
                          },
                          "pattern": {
                            "fillmode": "overlay",
                            "size": 10,
                            "solidity": 0.2
                          }
                        },
                        "type": "bar"
                      }
                    ],
                    "barpolar": [
                      {
                        "marker": {
                          "line": {
                            "color": "#E5ECF6",
                            "width": 0.5
                          },
                          "pattern": {
                            "fillmode": "overlay",
                            "size": 10,
                            "solidity": 0.2
                          }
                        },
                        "type": "barpolar"
                      }
                    ],
                    "carpet": [
                      {
                        "aaxis": {
                          "endlinecolor": "#2a3f5f",
                          "gridcolor": "white",
                          "linecolor": "white",
                          "minorgridcolor": "white",
                          "startlinecolor": "#2a3f5f"
                        },
                        "baxis": {
                          "endlinecolor": "#2a3f5f",
                          "gridcolor": "white",
                          "linecolor": "white",
                          "minorgridcolor": "white",
                          "startlinecolor": "#2a3f5f"
                        },
                        "type": "carpet"
                      }
                    ],
                    "choropleth": [
                      {
                        "colorbar": {
                          "outlinewidth": 0,
                          "ticks": ""
                        },
                        "type": "choropleth"
                      }
                    ],
                    "contour": [
                      {
                        "colorbar": {
                          "outlinewidth": 0,
                          "ticks": ""
                        },
                        "colorscale": [
                          [
                            0,
                            "#0d0887"
                          ],
                          [
                            0.1111111111111111,
                            "#46039f"
                          ],
                          [
                            0.2222222222222222,
                            "#7201a8"
                          ],
                          [
                            0.3333333333333333,
                            "#9c179e"
                          ],
                          [
                            0.4444444444444444,
                            "#bd3786"
                          ],
                          [
                            0.5555555555555556,
                            "#d8576b"
                          ],
                          [
                            0.6666666666666666,
                            "#ed7953"
                          ],
                          [
                            0.7777777777777778,
                            "#fb9f3a"
                          ],
                          [
                            0.8888888888888888,
                            "#fdca26"
                          ],
                          [
                            1,
                            "#f0f921"
                          ]
                        ],
                        "type": "contour"
                      }
                    ],
                    "contourcarpet": [
                      {
                        "colorbar": {
                          "outlinewidth": 0,
                          "ticks": ""
                        },
                        "type": "contourcarpet"
                      }
                    ],
                    "heatmap": [
                      {
                        "colorbar": {
                          "outlinewidth": 0,
                          "ticks": ""
                        },
                        "colorscale": [
                          [
                            0,
                            "#0d0887"
                          ],
                          [
                            0.1111111111111111,
                            "#46039f"
                          ],
                          [
                            0.2222222222222222,
                            "#7201a8"
                          ],
                          [
                            0.3333333333333333,
                            "#9c179e"
                          ],
                          [
                            0.4444444444444444,
                            "#bd3786"
                          ],
                          [
                            0.5555555555555556,
                            "#d8576b"
                          ],
                          [
                            0.6666666666666666,
                            "#ed7953"
                          ],
                          [
                            0.7777777777777778,
                            "#fb9f3a"
                          ],
                          [
                            0.8888888888888888,
                            "#fdca26"
                          ],
                          [
                            1,
                            "#f0f921"
                          ]
                        ],
                        "type": "heatmap"
                      }
                    ],
                    "heatmapgl": [
                      {
                        "colorbar": {
                          "outlinewidth": 0,
                          "ticks": ""
                        },
                        "colorscale": [
                          [
                            0,
                            "#0d0887"
                          ],
                          [
                            0.1111111111111111,
                            "#46039f"
                          ],
                          [
                            0.2222222222222222,
                            "#7201a8"
                          ],
                          [
                            0.3333333333333333,
                            "#9c179e"
                          ],
                          [
                            0.4444444444444444,
                            "#bd3786"
                          ],
                          [
                            0.5555555555555556,
                            "#d8576b"
                          ],
                          [
                            0.6666666666666666,
                            "#ed7953"
                          ],
                          [
                            0.7777777777777778,
                            "#fb9f3a"
                          ],
                          [
                            0.8888888888888888,
                            "#fdca26"
                          ],
                          [
                            1,
                            "#f0f921"
                          ]
                        ],
                        "type": "heatmapgl"
                      }
                    ],
                    "histogram": [
                      {
                        "marker": {
                          "pattern": {
                            "fillmode": "overlay",
                            "size": 10,
                            "solidity": 0.2
                          }
                        },
                        "type": "histogram"
                      }
                    ],
                    "histogram2d": [
                      {
                        "colorbar": {
                          "outlinewidth": 0,
                          "ticks": ""
                        },
                        "colorscale": [
                          [
                            0,
                            "#0d0887"
                          ],
                          [
                            0.1111111111111111,
                            "#46039f"
                          ],
                          [
                            0.2222222222222222,
                            "#7201a8"
                          ],
                          [
                            0.3333333333333333,
                            "#9c179e"
                          ],
                          [
                            0.4444444444444444,
                            "#bd3786"
                          ],
                          [
                            0.5555555555555556,
                            "#d8576b"
                          ],
                          [
                            0.6666666666666666,
                            "#ed7953"
                          ],
                          [
                            0.7777777777777778,
                            "#fb9f3a"
                          ],
                          [
                            0.8888888888888888,
                            "#fdca26"
                          ],
                          [
                            1,
                            "#f0f921"
                          ]
                        ],
                        "type": "histogram2d"
                      }
                    ],
                    "histogram2dcontour": [
                      {
                        "colorbar": {
                          "outlinewidth": 0,
                          "ticks": ""
                        },
                        "colorscale": [
                          [
                            0,
                            "#0d0887"
                          ],
                          [
                            0.1111111111111111,
                            "#46039f"
                          ],
                          [
                            0.2222222222222222,
                            "#7201a8"
                          ],
                          [
                            0.3333333333333333,
                            "#9c179e"
                          ],
                          [
                            0.4444444444444444,
                            "#bd3786"
                          ],
                          [
                            0.5555555555555556,
                            "#d8576b"
                          ],
                          [
                            0.6666666666666666,
                            "#ed7953"
                          ],
                          [
                            0.7777777777777778,
                            "#fb9f3a"
                          ],
                          [
                            0.8888888888888888,
                            "#fdca26"
                          ],
                          [
                            1,
                            "#f0f921"
                          ]
                        ],
                        "type": "histogram2dcontour"
                      }
                    ],
                    "mesh3d": [
                      {
                        "colorbar": {
                          "outlinewidth": 0,
                          "ticks": ""
                        },
                        "type": "mesh3d"
                      }
                    ],
                    "parcoords": [
                      {
                        "line": {
                          "colorbar": {
                            "outlinewidth": 0,
                            "ticks": ""
                          }
                        },
                        "type": "parcoords"
                      }
                    ],
                    "pie": [
                      {
                        "automargin": true,
                        "type": "pie"
                      }
                    ],
                    "scatter": [
                      {
                        "fillpattern": {
                          "fillmode": "overlay",
                          "size": 10,
                          "solidity": 0.2
                        },
                        "type": "scatter"
                      }
                    ],
                    "scatter3d": [
                      {
                        "line": {
                          "colorbar": {
                            "outlinewidth": 0,
                            "ticks": ""
                          }
                        },
                        "marker": {
                          "colorbar": {
                            "outlinewidth": 0,
                            "ticks": ""
                          }
                        },
                        "type": "scatter3d"
                      }
                    ],
                    "scattercarpet": [
                      {
                        "marker": {
                          "colorbar": {
                            "outlinewidth": 0,
                            "ticks": ""
                          }
                        },
                        "type": "scattercarpet"
                      }
                    ],
                    "scattergeo": [
                      {
                        "marker": {
                          "colorbar": {
                            "outlinewidth": 0,
                            "ticks": ""
                          }
                        },
                        "type": "scattergeo"
                      }
                    ],
                    "scattergl": [
                      {
                        "marker": {
                          "colorbar": {
                            "outlinewidth": 0,
                            "ticks": ""
                          }
                        },
                        "type": "scattergl"
                      }
                    ],
                    "scattermapbox": [
                      {
                        "marker": {
                          "colorbar": {
                            "outlinewidth": 0,
                            "ticks": ""
                          }
                        },
                        "type": "scattermapbox"
                      }
                    ],
                    "scatterpolar": [
                      {
                        "marker": {
                          "colorbar": {
                            "outlinewidth": 0,
                            "ticks": ""
                          }
                        },
                        "type": "scatterpolar"
                      }
                    ],
                    "scatterpolargl": [
                      {
                        "marker": {
                          "colorbar": {
                            "outlinewidth": 0,
                            "ticks": ""
                          }
                        },
                        "type": "scatterpolargl"
                      }
                    ],
                    "scatterternary": [
                      {
                        "marker": {
                          "colorbar": {
                            "outlinewidth": 0,
                            "ticks": ""
                          }
                        },
                        "type": "scatterternary"
                      }
                    ],
                    "surface": [
                      {
                        "colorbar": {
                          "outlinewidth": 0,
                          "ticks": ""
                        },
                        "colorscale": [
                          [
                            0,
                            "#0d0887"
                          ],
                          [
                            0.1111111111111111,
                            "#46039f"
                          ],
                          [
                            0.2222222222222222,
                            "#7201a8"
                          ],
                          [
                            0.3333333333333333,
                            "#9c179e"
                          ],
                          [
                            0.4444444444444444,
                            "#bd3786"
                          ],
                          [
                            0.5555555555555556,
                            "#d8576b"
                          ],
                          [
                            0.6666666666666666,
                            "#ed7953"
                          ],
                          [
                            0.7777777777777778,
                            "#fb9f3a"
                          ],
                          [
                            0.8888888888888888,
                            "#fdca26"
                          ],
                          [
                            1,
                            "#f0f921"
                          ]
                        ],
                        "type": "surface"
                      }
                    ],
                    "table": [
                      {
                        "cells": {
                          "fill": {
                            "color": "#EBF0F8"
                          },
                          "line": {
                            "color": "white"
                          }
                        },
                        "header": {
                          "fill": {
                            "color": "#C8D4E3"
                          },
                          "line": {
                            "color": "white"
                          }
                        },
                        "type": "table"
                      }
                    ]
                  },
                  "layout": {
                    "annotationdefaults": {
                      "arrowcolor": "#2a3f5f",
                      "arrowhead": 0,
                      "arrowwidth": 1
                    },
                    "autotypenumbers": "strict",
                    "coloraxis": {
                      "colorbar": {
                        "outlinewidth": 0,
                        "ticks": ""
                      }
                    },
                    "colorscale": {
                      "diverging": [
                        [
                          0,
                          "#8e0152"
                        ],
                        [
                          0.1,
                          "#c51b7d"
                        ],
                        [
                          0.2,
                          "#de77ae"
                        ],
                        [
                          0.3,
                          "#f1b6da"
                        ],
                        [
                          0.4,
                          "#fde0ef"
                        ],
                        [
                          0.5,
                          "#f7f7f7"
                        ],
                        [
                          0.6,
                          "#e6f5d0"
                        ],
                        [
                          0.7,
                          "#b8e186"
                        ],
                        [
                          0.8,
                          "#7fbc41"
                        ],
                        [
                          0.9,
                          "#4d9221"
                        ],
                        [
                          1,
                          "#276419"
                        ]
                      ],
                      "sequential": [
                        [
                          0,
                          "#0d0887"
                        ],
                        [
                          0.1111111111111111,
                          "#46039f"
                        ],
                        [
                          0.2222222222222222,
                          "#7201a8"
                        ],
                        [
                          0.3333333333333333,
                          "#9c179e"
                        ],
                        [
                          0.4444444444444444,
                          "#bd3786"
                        ],
                        [
                          0.5555555555555556,
                          "#d8576b"
                        ],
                        [
                          0.6666666666666666,
                          "#ed7953"
                        ],
                        [
                          0.7777777777777778,
                          "#fb9f3a"
                        ],
                        [
                          0.8888888888888888,
                          "#fdca26"
                        ],
                        [
                          1,
                          "#f0f921"
                        ]
                      ],
                      "sequentialminus": [
                        [
                          0,
                          "#0d0887"
                        ],
                        [
                          0.1111111111111111,
                          "#46039f"
                        ],
                        [
                          0.2222222222222222,
                          "#7201a8"
                        ],
                        [
                          0.3333333333333333,
                          "#9c179e"
                        ],
                        [
                          0.4444444444444444,
                          "#bd3786"
                        ],
                        [
                          0.5555555555555556,
                          "#d8576b"
                        ],
                        [
                          0.6666666666666666,
                          "#ed7953"
                        ],
                        [
                          0.7777777777777778,
                          "#fb9f3a"
                        ],
                        [
                          0.8888888888888888,
                          "#fdca26"
                        ],
                        [
                          1,
                          "#f0f921"
                        ]
                      ]
                    },
                    "colorway": [
                      "#636efa",
                      "#EF553B",
                      "#00cc96",
                      "#ab63fa",
                      "#FFA15A",
                      "#19d3f3",
                      "#FF6692",
                      "#B6E880",
                      "#FF97FF",
                      "#FECB52"
                    ],
                    "font": {
                      "color": "#2a3f5f"
                    },
                    "geo": {
                      "bgcolor": "white",
                      "lakecolor": "white",
                      "landcolor": "#E5ECF6",
                      "showlakes": true,
                      "showland": true,
                      "subunitcolor": "white"
                    },
                    "hoverlabel": {
                      "align": "left"
                    },
                    "hovermode": "closest",
                    "mapbox": {
                      "style": "light"
                    },
                    "paper_bgcolor": "white",
                    "plot_bgcolor": "#E5ECF6",
                    "polar": {
                      "angularaxis": {
                        "gridcolor": "white",
                        "linecolor": "white",
                        "ticks": ""
                      },
                      "bgcolor": "#E5ECF6",
                      "radialaxis": {
                        "gridcolor": "white",
                        "linecolor": "white",
                        "ticks": ""
                      }
                    },
                    "scene": {
                      "xaxis": {
                        "backgroundcolor": "#E5ECF6",
                        "gridcolor": "white",
                        "gridwidth": 2,
                        "linecolor": "white",
                        "showbackground": true,
                        "ticks": "",
                        "zerolinecolor": "white"
                      },
                      "yaxis": {
                        "backgroundcolor": "#E5ECF6",
                        "gridcolor": "white",
                        "gridwidth": 2,
                        "linecolor": "white",
                        "showbackground": true,
                        "ticks": "",
                        "zerolinecolor": "white"
                      },
                      "zaxis": {
                        "backgroundcolor": "#E5ECF6",
                        "gridcolor": "white",
                        "gridwidth": 2,
                        "linecolor": "white",
                        "showbackground": true,
                        "ticks": "",
                        "zerolinecolor": "white"
                      }
                    },
                    "shapedefaults": {
                      "line": {
                        "color": "#2a3f5f"
                      }
                    },
                    "ternary": {
                      "aaxis": {
                        "gridcolor": "white",
                        "linecolor": "white",
                        "ticks": ""
                      },
                      "baxis": {
                        "gridcolor": "white",
                        "linecolor": "white",
                        "ticks": ""
                      },
                      "bgcolor": "#E5ECF6",
                      "caxis": {
                        "gridcolor": "white",
                        "linecolor": "white",
                        "ticks": ""
                      }
                    },
                    "title": {
                      "x": 0.05
                    },
                    "xaxis": {
                      "automargin": true,
                      "gridcolor": "white",
                      "linecolor": "white",
                      "ticks": "",
                      "title": {
                        "standoff": 15
                      },
                      "zerolinecolor": "white",
                      "zerolinewidth": 2
                    },
                    "yaxis": {
                      "automargin": true,
                      "gridcolor": "white",
                      "linecolor": "white",
                      "ticks": "",
                      "title": {
                        "standoff": 15
                      },
                      "zerolinecolor": "white",
                      "zerolinewidth": 2
                    }
                  }
                },
                "title": {
                  "text": "Gráfico de Linhas"
                },
                "xaxis": {
                  "anchor": "y",
                  "domain": [
                    0,
                    1
                  ],
                  "title": {
                    "text": "date"
                  }
                },
                "yaxis": {
                  "anchor": "x",
                  "domain": [
                    0,
                    1
                  ],
                  "title": {
                    "text": "value"
                  }
                }
              }
            }
          },
          "metadata": {},
          "output_type": "display_data"
        }
      ],
      "source": [
        "df_sem_idx = px.data.stocks(indexed=False)\n",
        "df_sem_idx['date'] = pd.to_datetime(df_sem_idx['date'], format=\"%Y-%m-%d\")\n",
        "\n",
        "fig = px.line(df_sem_idx, x=\"date\", y=df_sem_idx.columns,\n",
        "              hover_data={\"date\": \"|%B %d, %Y\"})\n",
        "\n",
        "fig.show()"
      ]
    },
    {
      "cell_type": "code",
      "execution_count": 7,
      "metadata": {
        "colab": {
          "base_uri": "https://localhost:8080/",
          "height": 710
        },
        "id": "zqQtkJrRcocE",
        "outputId": "1b11960d-a56e-45b8-8238-7288f10b3050"
      },
      "outputs": [
        {
          "name": "stdout",
          "output_type": "stream",
          "text": [
            "             ds  value\n",
            "0    2019-01-01     28\n",
            "1    2019-01-02      3\n",
            "2    2019-01-03      3\n",
            "3    2019-01-04     16\n",
            "4    2019-01-05      8\n",
            "...         ...    ...\n",
            "1002 2021-09-29      1\n",
            "1003 2021-09-30     28\n",
            "1004 2021-10-01     12\n",
            "1005 2021-10-02     23\n",
            "1006 2021-10-03      5\n",
            "\n",
            "[1007 rows x 2 columns]\n"
          ]
        },
        {
          "data": {
            "application/vnd.plotly.v1+json": {
              "config": {
                "plotlyServerURL": "https://plot.ly"
              },
              "data": [
                {
                  "colorscale": [
                    [
                      0,
                      "rgb(247,252,245)"
                    ],
                    [
                      0.125,
                      "rgb(229,245,224)"
                    ],
                    [
                      0.25,
                      "rgb(199,233,192)"
                    ],
                    [
                      0.375,
                      "rgb(161,217,155)"
                    ],
                    [
                      0.5,
                      "rgb(116,196,118)"
                    ],
                    [
                      0.625,
                      "rgb(65,171,93)"
                    ],
                    [
                      0.75,
                      "rgb(35,139,69)"
                    ],
                    [
                      0.875,
                      "rgb(0,109,44)"
                    ],
                    [
                      1,
                      "rgb(0,68,27)"
                    ]
                  ],
                  "customdata": [
                    [
                      "2019-01-01",
                      "y"
                    ],
                    [
                      "2019-01-02",
                      "y"
                    ],
                    [
                      "2019-01-03",
                      "y"
                    ],
                    [
                      "2019-01-04",
                      "y"
                    ],
                    [
                      "2019-01-05",
                      "y"
                    ],
                    [
                      "2019-01-06",
                      "y"
                    ],
                    [
                      "2019-01-07",
                      "y"
                    ],
                    [
                      "2019-01-08",
                      "y"
                    ],
                    [
                      "2019-01-09",
                      "y"
                    ],
                    [
                      "2019-01-10",
                      "y"
                    ],
                    [
                      "2019-01-11",
                      "y"
                    ],
                    [
                      "2019-01-12",
                      "y"
                    ],
                    [
                      "2019-01-13",
                      "y"
                    ],
                    [
                      "2019-01-14",
                      "y"
                    ],
                    [
                      "2019-01-15",
                      "y"
                    ],
                    [
                      "2019-01-16",
                      "y"
                    ],
                    [
                      "2019-01-17",
                      "y"
                    ],
                    [
                      "2019-01-18",
                      "y"
                    ],
                    [
                      "2019-01-19",
                      "y"
                    ],
                    [
                      "2019-01-20",
                      "y"
                    ],
                    [
                      "2019-01-21",
                      "y"
                    ],
                    [
                      "2019-01-22",
                      "y"
                    ],
                    [
                      "2019-01-23",
                      "y"
                    ],
                    [
                      "2019-01-24",
                      "y"
                    ],
                    [
                      "2019-01-25",
                      "y"
                    ],
                    [
                      "2019-01-26",
                      "y"
                    ],
                    [
                      "2019-01-27",
                      "y"
                    ],
                    [
                      "2019-01-28",
                      "y"
                    ],
                    [
                      "2019-01-29",
                      "y"
                    ],
                    [
                      "2019-01-30",
                      "y"
                    ],
                    [
                      "2019-01-31",
                      "y"
                    ],
                    [
                      "2019-02-01",
                      "y"
                    ],
                    [
                      "2019-02-02",
                      "y"
                    ],
                    [
                      "2019-02-03",
                      "y"
                    ],
                    [
                      "2019-02-04",
                      "y"
                    ],
                    [
                      "2019-02-05",
                      "y"
                    ],
                    [
                      "2019-02-06",
                      "y"
                    ],
                    [
                      "2019-02-07",
                      "y"
                    ],
                    [
                      "2019-02-08",
                      "y"
                    ],
                    [
                      "2019-02-09",
                      "y"
                    ],
                    [
                      "2019-02-10",
                      "y"
                    ],
                    [
                      "2019-02-11",
                      "y"
                    ],
                    [
                      "2019-02-12",
                      "y"
                    ],
                    [
                      "2019-02-13",
                      "y"
                    ],
                    [
                      "2019-02-14",
                      "y"
                    ],
                    [
                      "2019-02-15",
                      "y"
                    ],
                    [
                      "2019-02-16",
                      "y"
                    ],
                    [
                      "2019-02-17",
                      "y"
                    ],
                    [
                      "2019-02-18",
                      "y"
                    ],
                    [
                      "2019-02-19",
                      "y"
                    ],
                    [
                      "2019-02-20",
                      "y"
                    ],
                    [
                      "2019-02-21",
                      "y"
                    ],
                    [
                      "2019-02-22",
                      "y"
                    ],
                    [
                      "2019-02-23",
                      "y"
                    ],
                    [
                      "2019-02-24",
                      "y"
                    ],
                    [
                      "2019-02-25",
                      "y"
                    ],
                    [
                      "2019-02-26",
                      "y"
                    ],
                    [
                      "2019-02-27",
                      "y"
                    ],
                    [
                      "2019-02-28",
                      "y"
                    ],
                    [
                      "2019-03-01",
                      "y"
                    ],
                    [
                      "2019-03-02",
                      "y"
                    ],
                    [
                      "2019-03-03",
                      "y"
                    ],
                    [
                      "2019-03-04",
                      "y"
                    ],
                    [
                      "2019-03-05",
                      "y"
                    ],
                    [
                      "2019-03-06",
                      "y"
                    ],
                    [
                      "2019-03-07",
                      "y"
                    ],
                    [
                      "2019-03-08",
                      "y"
                    ],
                    [
                      "2019-03-09",
                      "y"
                    ],
                    [
                      "2019-03-10",
                      "y"
                    ],
                    [
                      "2019-03-11",
                      "y"
                    ],
                    [
                      "2019-03-12",
                      "y"
                    ],
                    [
                      "2019-03-13",
                      "y"
                    ],
                    [
                      "2019-03-14",
                      "y"
                    ],
                    [
                      "2019-03-15",
                      "y"
                    ],
                    [
                      "2019-03-16",
                      "y"
                    ],
                    [
                      "2019-03-17",
                      "y"
                    ],
                    [
                      "2019-03-18",
                      "y"
                    ],
                    [
                      "2019-03-19",
                      "y"
                    ],
                    [
                      "2019-03-20",
                      "y"
                    ],
                    [
                      "2019-03-21",
                      "y"
                    ],
                    [
                      "2019-03-22",
                      "y"
                    ],
                    [
                      "2019-03-23",
                      "y"
                    ],
                    [
                      "2019-03-24",
                      "y"
                    ],
                    [
                      "2019-03-25",
                      "y"
                    ],
                    [
                      "2019-03-26",
                      "y"
                    ],
                    [
                      "2019-03-27",
                      "y"
                    ],
                    [
                      "2019-03-28",
                      "y"
                    ],
                    [
                      "2019-03-29",
                      "y"
                    ],
                    [
                      "2019-03-30",
                      "y"
                    ],
                    [
                      "2019-03-31",
                      "y"
                    ],
                    [
                      "2019-04-01",
                      "y"
                    ],
                    [
                      "2019-04-02",
                      "y"
                    ],
                    [
                      "2019-04-03",
                      "y"
                    ],
                    [
                      "2019-04-04",
                      "y"
                    ],
                    [
                      "2019-04-05",
                      "y"
                    ],
                    [
                      "2019-04-06",
                      "y"
                    ],
                    [
                      "2019-04-07",
                      "y"
                    ],
                    [
                      "2019-04-08",
                      "y"
                    ],
                    [
                      "2019-04-09",
                      "y"
                    ],
                    [
                      "2019-04-10",
                      "y"
                    ],
                    [
                      "2019-04-11",
                      "y"
                    ],
                    [
                      "2019-04-12",
                      "y"
                    ],
                    [
                      "2019-04-13",
                      "y"
                    ],
                    [
                      "2019-04-14",
                      "y"
                    ],
                    [
                      "2019-04-15",
                      "y"
                    ],
                    [
                      "2019-04-16",
                      "y"
                    ],
                    [
                      "2019-04-17",
                      "y"
                    ],
                    [
                      "2019-04-18",
                      "y"
                    ],
                    [
                      "2019-04-19",
                      "y"
                    ],
                    [
                      "2019-04-20",
                      "y"
                    ],
                    [
                      "2019-04-21",
                      "y"
                    ],
                    [
                      "2019-04-22",
                      "y"
                    ],
                    [
                      "2019-04-23",
                      "y"
                    ],
                    [
                      "2019-04-24",
                      "y"
                    ],
                    [
                      "2019-04-25",
                      "y"
                    ],
                    [
                      "2019-04-26",
                      "y"
                    ],
                    [
                      "2019-04-27",
                      "y"
                    ],
                    [
                      "2019-04-28",
                      "y"
                    ],
                    [
                      "2019-04-29",
                      "y"
                    ],
                    [
                      "2019-04-30",
                      "y"
                    ],
                    [
                      "2019-05-01",
                      "y"
                    ],
                    [
                      "2019-05-02",
                      "y"
                    ],
                    [
                      "2019-05-03",
                      "y"
                    ],
                    [
                      "2019-05-04",
                      "y"
                    ],
                    [
                      "2019-05-05",
                      "y"
                    ],
                    [
                      "2019-05-06",
                      "y"
                    ],
                    [
                      "2019-05-07",
                      "y"
                    ],
                    [
                      "2019-05-08",
                      "y"
                    ],
                    [
                      "2019-05-09",
                      "y"
                    ],
                    [
                      "2019-05-10",
                      "y"
                    ],
                    [
                      "2019-05-11",
                      "y"
                    ],
                    [
                      "2019-05-12",
                      "y"
                    ],
                    [
                      "2019-05-13",
                      "y"
                    ],
                    [
                      "2019-05-14",
                      "y"
                    ],
                    [
                      "2019-05-15",
                      "y"
                    ],
                    [
                      "2019-05-16",
                      "y"
                    ],
                    [
                      "2019-05-17",
                      "y"
                    ],
                    [
                      "2019-05-18",
                      "y"
                    ],
                    [
                      "2019-05-19",
                      "y"
                    ],
                    [
                      "2019-05-20",
                      "y"
                    ],
                    [
                      "2019-05-21",
                      "y"
                    ],
                    [
                      "2019-05-22",
                      "y"
                    ],
                    [
                      "2019-05-23",
                      "y"
                    ],
                    [
                      "2019-05-24",
                      "y"
                    ],
                    [
                      "2019-05-25",
                      "y"
                    ],
                    [
                      "2019-05-26",
                      "y"
                    ],
                    [
                      "2019-05-27",
                      "y"
                    ],
                    [
                      "2019-05-28",
                      "y"
                    ],
                    [
                      "2019-05-29",
                      "y"
                    ],
                    [
                      "2019-05-30",
                      "y"
                    ],
                    [
                      "2019-05-31",
                      "y"
                    ],
                    [
                      "2019-06-01",
                      "y"
                    ],
                    [
                      "2019-06-02",
                      "y"
                    ],
                    [
                      "2019-06-03",
                      "y"
                    ],
                    [
                      "2019-06-04",
                      "y"
                    ],
                    [
                      "2019-06-05",
                      "y"
                    ],
                    [
                      "2019-06-06",
                      "y"
                    ],
                    [
                      "2019-06-07",
                      "y"
                    ],
                    [
                      "2019-06-08",
                      "y"
                    ],
                    [
                      "2019-06-09",
                      "y"
                    ],
                    [
                      "2019-06-10",
                      "y"
                    ],
                    [
                      "2019-06-11",
                      "y"
                    ],
                    [
                      "2019-06-12",
                      "y"
                    ],
                    [
                      "2019-06-13",
                      "y"
                    ],
                    [
                      "2019-06-14",
                      "y"
                    ],
                    [
                      "2019-06-15",
                      "y"
                    ],
                    [
                      "2019-06-16",
                      "y"
                    ],
                    [
                      "2019-06-17",
                      "y"
                    ],
                    [
                      "2019-06-18",
                      "y"
                    ],
                    [
                      "2019-06-19",
                      "y"
                    ],
                    [
                      "2019-06-20",
                      "y"
                    ],
                    [
                      "2019-06-21",
                      "y"
                    ],
                    [
                      "2019-06-22",
                      "y"
                    ],
                    [
                      "2019-06-23",
                      "y"
                    ],
                    [
                      "2019-06-24",
                      "y"
                    ],
                    [
                      "2019-06-25",
                      "y"
                    ],
                    [
                      "2019-06-26",
                      "y"
                    ],
                    [
                      "2019-06-27",
                      "y"
                    ],
                    [
                      "2019-06-28",
                      "y"
                    ],
                    [
                      "2019-06-29",
                      "y"
                    ],
                    [
                      "2019-06-30",
                      "y"
                    ],
                    [
                      "2019-07-01",
                      "y"
                    ],
                    [
                      "2019-07-02",
                      "y"
                    ],
                    [
                      "2019-07-03",
                      "y"
                    ],
                    [
                      "2019-07-04",
                      "y"
                    ],
                    [
                      "2019-07-05",
                      "y"
                    ],
                    [
                      "2019-07-06",
                      "y"
                    ],
                    [
                      "2019-07-07",
                      "y"
                    ],
                    [
                      "2019-07-08",
                      "y"
                    ],
                    [
                      "2019-07-09",
                      "y"
                    ],
                    [
                      "2019-07-10",
                      "y"
                    ],
                    [
                      "2019-07-11",
                      "y"
                    ],
                    [
                      "2019-07-12",
                      "y"
                    ],
                    [
                      "2019-07-13",
                      "y"
                    ],
                    [
                      "2019-07-14",
                      "y"
                    ],
                    [
                      "2019-07-15",
                      "y"
                    ],
                    [
                      "2019-07-16",
                      "y"
                    ],
                    [
                      "2019-07-17",
                      "y"
                    ],
                    [
                      "2019-07-18",
                      "y"
                    ],
                    [
                      "2019-07-19",
                      "y"
                    ],
                    [
                      "2019-07-20",
                      "y"
                    ],
                    [
                      "2019-07-21",
                      "y"
                    ],
                    [
                      "2019-07-22",
                      "y"
                    ],
                    [
                      "2019-07-23",
                      "y"
                    ],
                    [
                      "2019-07-24",
                      "y"
                    ],
                    [
                      "2019-07-25",
                      "y"
                    ],
                    [
                      "2019-07-26",
                      "y"
                    ],
                    [
                      "2019-07-27",
                      "y"
                    ],
                    [
                      "2019-07-28",
                      "y"
                    ],
                    [
                      "2019-07-29",
                      "y"
                    ],
                    [
                      "2019-07-30",
                      "y"
                    ],
                    [
                      "2019-07-31",
                      "y"
                    ],
                    [
                      "2019-08-01",
                      "y"
                    ],
                    [
                      "2019-08-02",
                      "y"
                    ],
                    [
                      "2019-08-03",
                      "y"
                    ],
                    [
                      "2019-08-04",
                      "y"
                    ],
                    [
                      "2019-08-05",
                      "y"
                    ],
                    [
                      "2019-08-06",
                      "y"
                    ],
                    [
                      "2019-08-07",
                      "y"
                    ],
                    [
                      "2019-08-08",
                      "y"
                    ],
                    [
                      "2019-08-09",
                      "y"
                    ],
                    [
                      "2019-08-10",
                      "y"
                    ],
                    [
                      "2019-08-11",
                      "y"
                    ],
                    [
                      "2019-08-12",
                      "y"
                    ],
                    [
                      "2019-08-13",
                      "y"
                    ],
                    [
                      "2019-08-14",
                      "y"
                    ],
                    [
                      "2019-08-15",
                      "y"
                    ],
                    [
                      "2019-08-16",
                      "y"
                    ],
                    [
                      "2019-08-17",
                      "y"
                    ],
                    [
                      "2019-08-18",
                      "y"
                    ],
                    [
                      "2019-08-19",
                      "y"
                    ],
                    [
                      "2019-08-20",
                      "y"
                    ],
                    [
                      "2019-08-21",
                      "y"
                    ],
                    [
                      "2019-08-22",
                      "y"
                    ],
                    [
                      "2019-08-23",
                      "y"
                    ],
                    [
                      "2019-08-24",
                      "y"
                    ],
                    [
                      "2019-08-25",
                      "y"
                    ],
                    [
                      "2019-08-26",
                      "y"
                    ],
                    [
                      "2019-08-27",
                      "y"
                    ],
                    [
                      "2019-08-28",
                      "y"
                    ],
                    [
                      "2019-08-29",
                      "y"
                    ],
                    [
                      "2019-08-30",
                      "y"
                    ],
                    [
                      "2019-08-31",
                      "y"
                    ],
                    [
                      "2019-09-01",
                      "y"
                    ],
                    [
                      "2019-09-02",
                      "y"
                    ],
                    [
                      "2019-09-03",
                      "y"
                    ],
                    [
                      "2019-09-04",
                      "y"
                    ],
                    [
                      "2019-09-05",
                      "y"
                    ],
                    [
                      "2019-09-06",
                      "y"
                    ],
                    [
                      "2019-09-07",
                      "y"
                    ],
                    [
                      "2019-09-08",
                      "y"
                    ],
                    [
                      "2019-09-09",
                      "y"
                    ],
                    [
                      "2019-09-10",
                      "y"
                    ],
                    [
                      "2019-09-11",
                      "y"
                    ],
                    [
                      "2019-09-12",
                      "y"
                    ],
                    [
                      "2019-09-13",
                      "y"
                    ],
                    [
                      "2019-09-14",
                      "y"
                    ],
                    [
                      "2019-09-15",
                      "y"
                    ],
                    [
                      "2019-09-16",
                      "y"
                    ],
                    [
                      "2019-09-17",
                      "y"
                    ],
                    [
                      "2019-09-18",
                      "y"
                    ],
                    [
                      "2019-09-19",
                      "y"
                    ],
                    [
                      "2019-09-20",
                      "y"
                    ],
                    [
                      "2019-09-21",
                      "y"
                    ],
                    [
                      "2019-09-22",
                      "y"
                    ],
                    [
                      "2019-09-23",
                      "y"
                    ],
                    [
                      "2019-09-24",
                      "y"
                    ],
                    [
                      "2019-09-25",
                      "y"
                    ],
                    [
                      "2019-09-26",
                      "y"
                    ],
                    [
                      "2019-09-27",
                      "y"
                    ],
                    [
                      "2019-09-28",
                      "y"
                    ],
                    [
                      "2019-09-29",
                      "y"
                    ],
                    [
                      "2019-09-30",
                      "y"
                    ],
                    [
                      "2019-10-01",
                      "y"
                    ],
                    [
                      "2019-10-02",
                      "y"
                    ],
                    [
                      "2019-10-03",
                      "y"
                    ],
                    [
                      "2019-10-04",
                      "y"
                    ],
                    [
                      "2019-10-05",
                      "y"
                    ],
                    [
                      "2019-10-06",
                      "y"
                    ],
                    [
                      "2019-10-07",
                      "y"
                    ],
                    [
                      "2019-10-08",
                      "y"
                    ],
                    [
                      "2019-10-09",
                      "y"
                    ],
                    [
                      "2019-10-10",
                      "y"
                    ],
                    [
                      "2019-10-11",
                      "y"
                    ],
                    [
                      "2019-10-12",
                      "y"
                    ],
                    [
                      "2019-10-13",
                      "y"
                    ],
                    [
                      "2019-10-14",
                      "y"
                    ],
                    [
                      "2019-10-15",
                      "y"
                    ],
                    [
                      "2019-10-16",
                      "y"
                    ],
                    [
                      "2019-10-17",
                      "y"
                    ],
                    [
                      "2019-10-18",
                      "y"
                    ],
                    [
                      "2019-10-19",
                      "y"
                    ],
                    [
                      "2019-10-20",
                      "y"
                    ],
                    [
                      "2019-10-21",
                      "y"
                    ],
                    [
                      "2019-10-22",
                      "y"
                    ],
                    [
                      "2019-10-23",
                      "y"
                    ],
                    [
                      "2019-10-24",
                      "y"
                    ],
                    [
                      "2019-10-25",
                      "y"
                    ],
                    [
                      "2019-10-26",
                      "y"
                    ],
                    [
                      "2019-10-27",
                      "y"
                    ],
                    [
                      "2019-10-28",
                      "y"
                    ],
                    [
                      "2019-10-29",
                      "y"
                    ],
                    [
                      "2019-10-30",
                      "y"
                    ],
                    [
                      "2019-10-31",
                      "y"
                    ],
                    [
                      "2019-11-01",
                      "y"
                    ],
                    [
                      "2019-11-02",
                      "y"
                    ],
                    [
                      "2019-11-03",
                      "y"
                    ],
                    [
                      "2019-11-04",
                      "y"
                    ],
                    [
                      "2019-11-05",
                      "y"
                    ],
                    [
                      "2019-11-06",
                      "y"
                    ],
                    [
                      "2019-11-07",
                      "y"
                    ],
                    [
                      "2019-11-08",
                      "y"
                    ],
                    [
                      "2019-11-09",
                      "y"
                    ],
                    [
                      "2019-11-10",
                      "y"
                    ],
                    [
                      "2019-11-11",
                      "y"
                    ],
                    [
                      "2019-11-12",
                      "y"
                    ],
                    [
                      "2019-11-13",
                      "y"
                    ],
                    [
                      "2019-11-14",
                      "y"
                    ],
                    [
                      "2019-11-15",
                      "y"
                    ],
                    [
                      "2019-11-16",
                      "y"
                    ],
                    [
                      "2019-11-17",
                      "y"
                    ],
                    [
                      "2019-11-18",
                      "y"
                    ],
                    [
                      "2019-11-19",
                      "y"
                    ],
                    [
                      "2019-11-20",
                      "y"
                    ],
                    [
                      "2019-11-21",
                      "y"
                    ],
                    [
                      "2019-11-22",
                      "y"
                    ],
                    [
                      "2019-11-23",
                      "y"
                    ],
                    [
                      "2019-11-24",
                      "y"
                    ],
                    [
                      "2019-11-25",
                      "y"
                    ],
                    [
                      "2019-11-26",
                      "y"
                    ],
                    [
                      "2019-11-27",
                      "y"
                    ],
                    [
                      "2019-11-28",
                      "y"
                    ],
                    [
                      "2019-11-29",
                      "y"
                    ],
                    [
                      "2019-11-30",
                      "y"
                    ],
                    [
                      "2019-12-01",
                      "y"
                    ],
                    [
                      "2019-12-02",
                      "y"
                    ],
                    [
                      "2019-12-03",
                      "y"
                    ],
                    [
                      "2019-12-04",
                      "y"
                    ],
                    [
                      "2019-12-05",
                      "y"
                    ],
                    [
                      "2019-12-06",
                      "y"
                    ],
                    [
                      "2019-12-07",
                      "y"
                    ],
                    [
                      "2019-12-08",
                      "y"
                    ],
                    [
                      "2019-12-09",
                      "y"
                    ],
                    [
                      "2019-12-10",
                      "y"
                    ],
                    [
                      "2019-12-11",
                      "y"
                    ],
                    [
                      "2019-12-12",
                      "y"
                    ],
                    [
                      "2019-12-13",
                      "y"
                    ],
                    [
                      "2019-12-14",
                      "y"
                    ],
                    [
                      "2019-12-15",
                      "y"
                    ],
                    [
                      "2019-12-16",
                      "y"
                    ],
                    [
                      "2019-12-17",
                      "y"
                    ],
                    [
                      "2019-12-18",
                      "y"
                    ],
                    [
                      "2019-12-19",
                      "y"
                    ],
                    [
                      "2019-12-20",
                      "y"
                    ],
                    [
                      "2019-12-21",
                      "y"
                    ],
                    [
                      "2019-12-22",
                      "y"
                    ],
                    [
                      "2019-12-23",
                      "y"
                    ],
                    [
                      "2019-12-24",
                      "y"
                    ],
                    [
                      "2019-12-25",
                      "y"
                    ],
                    [
                      "2019-12-26",
                      "y"
                    ],
                    [
                      "2019-12-27",
                      "y"
                    ],
                    [
                      "2019-12-28",
                      "y"
                    ],
                    [
                      "2019-12-29",
                      "y"
                    ],
                    [
                      "2019-12-30",
                      "y"
                    ],
                    [
                      "2019-12-31",
                      "y"
                    ]
                  ],
                  "hovertemplate": "%{customdata[0]} <br>Week=%{x} <br>%{customdata[1]}=%{z}",
                  "name": "2019",
                  "showscale": false,
                  "type": "heatmap",
                  "x": [
                    0,
                    0,
                    0,
                    0,
                    0,
                    0,
                    1,
                    1,
                    1,
                    1,
                    1,
                    1,
                    1,
                    2,
                    2,
                    2,
                    2,
                    2,
                    2,
                    2,
                    3,
                    3,
                    3,
                    3,
                    3,
                    3,
                    3,
                    4,
                    4,
                    4,
                    4,
                    4,
                    4,
                    4,
                    5,
                    5,
                    5,
                    5,
                    5,
                    5,
                    5,
                    6,
                    6,
                    6,
                    6,
                    6,
                    6,
                    6,
                    7,
                    7,
                    7,
                    7,
                    7,
                    7,
                    7,
                    8,
                    8,
                    8,
                    8,
                    8,
                    8,
                    8,
                    9,
                    9,
                    9,
                    9,
                    9,
                    9,
                    9,
                    10,
                    10,
                    10,
                    10,
                    10,
                    10,
                    10,
                    11,
                    11,
                    11,
                    11,
                    11,
                    11,
                    11,
                    12,
                    12,
                    12,
                    12,
                    12,
                    12,
                    12,
                    13,
                    13,
                    13,
                    13,
                    13,
                    13,
                    13,
                    14,
                    14,
                    14,
                    14,
                    14,
                    14,
                    14,
                    15,
                    15,
                    15,
                    15,
                    15,
                    15,
                    15,
                    16,
                    16,
                    16,
                    16,
                    16,
                    16,
                    16,
                    17,
                    17,
                    17,
                    17,
                    17,
                    17,
                    17,
                    18,
                    18,
                    18,
                    18,
                    18,
                    18,
                    18,
                    19,
                    19,
                    19,
                    19,
                    19,
                    19,
                    19,
                    20,
                    20,
                    20,
                    20,
                    20,
                    20,
                    20,
                    21,
                    21,
                    21,
                    21,
                    21,
                    21,
                    21,
                    22,
                    22,
                    22,
                    22,
                    22,
                    22,
                    22,
                    23,
                    23,
                    23,
                    23,
                    23,
                    23,
                    23,
                    24,
                    24,
                    24,
                    24,
                    24,
                    24,
                    24,
                    25,
                    25,
                    25,
                    25,
                    25,
                    25,
                    25,
                    26,
                    26,
                    26,
                    26,
                    26,
                    26,
                    26,
                    27,
                    27,
                    27,
                    27,
                    27,
                    27,
                    27,
                    28,
                    28,
                    28,
                    28,
                    28,
                    28,
                    28,
                    29,
                    29,
                    29,
                    29,
                    29,
                    29,
                    29,
                    30,
                    30,
                    30,
                    30,
                    30,
                    30,
                    30,
                    31,
                    31,
                    31,
                    31,
                    31,
                    31,
                    31,
                    32,
                    32,
                    32,
                    32,
                    32,
                    32,
                    32,
                    33,
                    33,
                    33,
                    33,
                    33,
                    33,
                    33,
                    34,
                    34,
                    34,
                    34,
                    34,
                    34,
                    34,
                    35,
                    35,
                    35,
                    35,
                    35,
                    35,
                    35,
                    36,
                    36,
                    36,
                    36,
                    36,
                    36,
                    36,
                    37,
                    37,
                    37,
                    37,
                    37,
                    37,
                    37,
                    38,
                    38,
                    38,
                    38,
                    38,
                    38,
                    38,
                    39,
                    39,
                    39,
                    39,
                    39,
                    39,
                    39,
                    40,
                    40,
                    40,
                    40,
                    40,
                    40,
                    40,
                    41,
                    41,
                    41,
                    41,
                    41,
                    41,
                    41,
                    42,
                    42,
                    42,
                    42,
                    42,
                    42,
                    42,
                    43,
                    43,
                    43,
                    43,
                    43,
                    43,
                    43,
                    44,
                    44,
                    44,
                    44,
                    44,
                    44,
                    44,
                    45,
                    45,
                    45,
                    45,
                    45,
                    45,
                    45,
                    46,
                    46,
                    46,
                    46,
                    46,
                    46,
                    46,
                    47,
                    47,
                    47,
                    47,
                    47,
                    47,
                    47,
                    48,
                    48,
                    48,
                    48,
                    48,
                    48,
                    48,
                    49,
                    49,
                    49,
                    49,
                    49,
                    49,
                    49,
                    50,
                    50,
                    50,
                    50,
                    50,
                    50,
                    50,
                    51,
                    51,
                    51,
                    51,
                    51,
                    51,
                    51,
                    52,
                    52
                  ],
                  "xaxis": "x",
                  "xgap": 1,
                  "y": [
                    1,
                    2,
                    3,
                    4,
                    5,
                    6,
                    0,
                    1,
                    2,
                    3,
                    4,
                    5,
                    6,
                    0,
                    1,
                    2,
                    3,
                    4,
                    5,
                    6,
                    0,
                    1,
                    2,
                    3,
                    4,
                    5,
                    6,
                    0,
                    1,
                    2,
                    3,
                    4,
                    5,
                    6,
                    0,
                    1,
                    2,
                    3,
                    4,
                    5,
                    6,
                    0,
                    1,
                    2,
                    3,
                    4,
                    5,
                    6,
                    0,
                    1,
                    2,
                    3,
                    4,
                    5,
                    6,
                    0,
                    1,
                    2,
                    3,
                    4,
                    5,
                    6,
                    0,
                    1,
                    2,
                    3,
                    4,
                    5,
                    6,
                    0,
                    1,
                    2,
                    3,
                    4,
                    5,
                    6,
                    0,
                    1,
                    2,
                    3,
                    4,
                    5,
                    6,
                    0,
                    1,
                    2,
                    3,
                    4,
                    5,
                    6,
                    0,
                    1,
                    2,
                    3,
                    4,
                    5,
                    6,
                    0,
                    1,
                    2,
                    3,
                    4,
                    5,
                    6,
                    0,
                    1,
                    2,
                    3,
                    4,
                    5,
                    6,
                    0,
                    1,
                    2,
                    3,
                    4,
                    5,
                    6,
                    0,
                    1,
                    2,
                    3,
                    4,
                    5,
                    6,
                    0,
                    1,
                    2,
                    3,
                    4,
                    5,
                    6,
                    0,
                    1,
                    2,
                    3,
                    4,
                    5,
                    6,
                    0,
                    1,
                    2,
                    3,
                    4,
                    5,
                    6,
                    0,
                    1,
                    2,
                    3,
                    4,
                    5,
                    6,
                    0,
                    1,
                    2,
                    3,
                    4,
                    5,
                    6,
                    0,
                    1,
                    2,
                    3,
                    4,
                    5,
                    6,
                    0,
                    1,
                    2,
                    3,
                    4,
                    5,
                    6,
                    0,
                    1,
                    2,
                    3,
                    4,
                    5,
                    6,
                    0,
                    1,
                    2,
                    3,
                    4,
                    5,
                    6,
                    0,
                    1,
                    2,
                    3,
                    4,
                    5,
                    6,
                    0,
                    1,
                    2,
                    3,
                    4,
                    5,
                    6,
                    0,
                    1,
                    2,
                    3,
                    4,
                    5,
                    6,
                    0,
                    1,
                    2,
                    3,
                    4,
                    5,
                    6,
                    0,
                    1,
                    2,
                    3,
                    4,
                    5,
                    6,
                    0,
                    1,
                    2,
                    3,
                    4,
                    5,
                    6,
                    0,
                    1,
                    2,
                    3,
                    4,
                    5,
                    6,
                    0,
                    1,
                    2,
                    3,
                    4,
                    5,
                    6,
                    0,
                    1,
                    2,
                    3,
                    4,
                    5,
                    6,
                    0,
                    1,
                    2,
                    3,
                    4,
                    5,
                    6,
                    0,
                    1,
                    2,
                    3,
                    4,
                    5,
                    6,
                    0,
                    1,
                    2,
                    3,
                    4,
                    5,
                    6,
                    0,
                    1,
                    2,
                    3,
                    4,
                    5,
                    6,
                    0,
                    1,
                    2,
                    3,
                    4,
                    5,
                    6,
                    0,
                    1,
                    2,
                    3,
                    4,
                    5,
                    6,
                    0,
                    1,
                    2,
                    3,
                    4,
                    5,
                    6,
                    0,
                    1,
                    2,
                    3,
                    4,
                    5,
                    6,
                    0,
                    1,
                    2,
                    3,
                    4,
                    5,
                    6,
                    0,
                    1,
                    2,
                    3,
                    4,
                    5,
                    6,
                    0,
                    1,
                    2,
                    3,
                    4,
                    5,
                    6,
                    0,
                    1,
                    2,
                    3,
                    4,
                    5,
                    6,
                    0,
                    1,
                    2,
                    3,
                    4,
                    5,
                    6,
                    0,
                    1,
                    2,
                    3,
                    4,
                    5,
                    6,
                    0,
                    1,
                    2,
                    3,
                    4,
                    5,
                    6,
                    0,
                    1,
                    2,
                    3,
                    4,
                    5,
                    6,
                    0,
                    1
                  ],
                  "yaxis": "y",
                  "ygap": 1,
                  "z": [
                    28,
                    3,
                    3,
                    16,
                    8,
                    29,
                    21,
                    10,
                    10,
                    19,
                    22,
                    25,
                    27,
                    5,
                    14,
                    13,
                    0,
                    17,
                    20,
                    28,
                    1,
                    11,
                    19,
                    27,
                    25,
                    18,
                    2,
                    2,
                    24,
                    17,
                    27,
                    13,
                    25,
                    13,
                    16,
                    9,
                    3,
                    6,
                    6,
                    0,
                    16,
                    23,
                    1,
                    9,
                    0,
                    7,
                    12,
                    10,
                    27,
                    22,
                    7,
                    16,
                    29,
                    8,
                    18,
                    27,
                    12,
                    26,
                    19,
                    17,
                    6,
                    13,
                    29,
                    29,
                    13,
                    14,
                    4,
                    17,
                    1,
                    19,
                    10,
                    18,
                    12,
                    9,
                    6,
                    22,
                    21,
                    23,
                    15,
                    25,
                    28,
                    13,
                    9,
                    9,
                    12,
                    25,
                    23,
                    12,
                    16,
                    11,
                    19,
                    10,
                    24,
                    8,
                    9,
                    29,
                    19,
                    19,
                    28,
                    15,
                    6,
                    8,
                    22,
                    19,
                    19,
                    16,
                    11,
                    2,
                    16,
                    29,
                    15,
                    17,
                    16,
                    29,
                    13,
                    24,
                    6,
                    8,
                    4,
                    4,
                    18,
                    22,
                    22,
                    7,
                    2,
                    26,
                    23,
                    28,
                    24,
                    9,
                    2,
                    6,
                    16,
                    23,
                    10,
                    24,
                    7,
                    3,
                    9,
                    23,
                    20,
                    8,
                    6,
                    3,
                    9,
                    5,
                    3,
                    11,
                    13,
                    3,
                    18,
                    28,
                    0,
                    25,
                    12,
                    25,
                    9,
                    11,
                    2,
                    11,
                    6,
                    29,
                    15,
                    28,
                    13,
                    11,
                    19,
                    0,
                    17,
                    9,
                    9,
                    14,
                    1,
                    9,
                    27,
                    13,
                    10,
                    29,
                    8,
                    0,
                    13,
                    4,
                    0,
                    1,
                    13,
                    27,
                    10,
                    16,
                    2,
                    16,
                    12,
                    18,
                    29,
                    16,
                    11,
                    10,
                    0,
                    25,
                    29,
                    12,
                    10,
                    16,
                    3,
                    10,
                    20,
                    18,
                    17,
                    13,
                    18,
                    14,
                    20,
                    13,
                    13,
                    13,
                    1,
                    23,
                    27,
                    3,
                    12,
                    18,
                    15,
                    18,
                    19,
                    15,
                    8,
                    15,
                    0,
                    21,
                    15,
                    1,
                    3,
                    27,
                    8,
                    5,
                    12,
                    10,
                    20,
                    25,
                    27,
                    11,
                    29,
                    18,
                    7,
                    26,
                    12,
                    15,
                    8,
                    4,
                    25,
                    3,
                    7,
                    29,
                    19,
                    6,
                    0,
                    17,
                    18,
                    15,
                    18,
                    17,
                    13,
                    13,
                    3,
                    21,
                    17,
                    10,
                    5,
                    27,
                    13,
                    27,
                    26,
                    14,
                    21,
                    22,
                    1,
                    17,
                    4,
                    14,
                    5,
                    28,
                    11,
                    29,
                    17,
                    3,
                    6,
                    8,
                    18,
                    3,
                    5,
                    18,
                    2,
                    5,
                    17,
                    12,
                    3,
                    9,
                    22,
                    0,
                    7,
                    19,
                    9,
                    0,
                    5,
                    10,
                    12,
                    27,
                    18,
                    29,
                    2,
                    10,
                    19,
                    26,
                    1,
                    22,
                    28,
                    15,
                    10,
                    14,
                    14,
                    8,
                    22,
                    11,
                    8,
                    2,
                    16,
                    21,
                    14,
                    17,
                    19,
                    3,
                    10,
                    4,
                    4,
                    9,
                    2,
                    12,
                    6,
                    16,
                    0,
                    18,
                    4,
                    19,
                    4,
                    22,
                    12,
                    0,
                    11,
                    10,
                    24,
                    1,
                    14,
                    20,
                    25,
                    10,
                    28,
                    10,
                    24,
                    11,
                    0,
                    11,
                    4,
                    3,
                    8,
                    8,
                    26
                  ],
                  "zmax": 29,
                  "zmin": 0
                },
                {
                  "hoverinfo": "skip",
                  "line": {
                    "color": "#9e9e9e",
                    "width": 1
                  },
                  "mode": "lines",
                  "type": "scatter",
                  "x": [
                    -0.5,
                    -0.5
                  ],
                  "xaxis": "x",
                  "y": [
                    0.5,
                    6.5
                  ],
                  "yaxis": "y"
                },
                {
                  "hoverinfo": "skip",
                  "line": {
                    "color": "#9e9e9e",
                    "width": 1
                  },
                  "mode": "lines",
                  "type": "scatter",
                  "x": [
                    -0.5,
                    0.5
                  ],
                  "xaxis": "x",
                  "y": [
                    0.5,
                    0.5
                  ],
                  "yaxis": "y"
                },
                {
                  "hoverinfo": "skip",
                  "line": {
                    "color": "#9e9e9e",
                    "width": 1
                  },
                  "mode": "lines",
                  "type": "scatter",
                  "x": [
                    0.5,
                    0.5
                  ],
                  "xaxis": "x",
                  "y": [
                    0.5,
                    -0.5
                  ],
                  "yaxis": "y"
                },
                {
                  "hoverinfo": "skip",
                  "line": {
                    "color": "#9e9e9e",
                    "width": 1
                  },
                  "mode": "lines",
                  "type": "scatter",
                  "x": [
                    3.5,
                    3.5
                  ],
                  "xaxis": "x",
                  "y": [
                    3.5,
                    6.5
                  ],
                  "yaxis": "y"
                },
                {
                  "hoverinfo": "skip",
                  "line": {
                    "color": "#9e9e9e",
                    "width": 1
                  },
                  "mode": "lines",
                  "type": "scatter",
                  "x": [
                    3.5,
                    4.5
                  ],
                  "xaxis": "x",
                  "y": [
                    3.5,
                    3.5
                  ],
                  "yaxis": "y"
                },
                {
                  "hoverinfo": "skip",
                  "line": {
                    "color": "#9e9e9e",
                    "width": 1
                  },
                  "mode": "lines",
                  "type": "scatter",
                  "x": [
                    4.5,
                    4.5
                  ],
                  "xaxis": "x",
                  "y": [
                    3.5,
                    -0.5
                  ],
                  "yaxis": "y"
                },
                {
                  "hoverinfo": "skip",
                  "line": {
                    "color": "#9e9e9e",
                    "width": 1
                  },
                  "mode": "lines",
                  "type": "scatter",
                  "x": [
                    7.5,
                    7.5
                  ],
                  "xaxis": "x",
                  "y": [
                    3.5,
                    6.5
                  ],
                  "yaxis": "y"
                },
                {
                  "hoverinfo": "skip",
                  "line": {
                    "color": "#9e9e9e",
                    "width": 1
                  },
                  "mode": "lines",
                  "type": "scatter",
                  "x": [
                    7.5,
                    8.5
                  ],
                  "xaxis": "x",
                  "y": [
                    3.5,
                    3.5
                  ],
                  "yaxis": "y"
                },
                {
                  "hoverinfo": "skip",
                  "line": {
                    "color": "#9e9e9e",
                    "width": 1
                  },
                  "mode": "lines",
                  "type": "scatter",
                  "x": [
                    8.5,
                    8.5
                  ],
                  "xaxis": "x",
                  "y": [
                    3.5,
                    -0.5
                  ],
                  "yaxis": "y"
                },
                {
                  "hoverinfo": "skip",
                  "line": {
                    "color": "#9e9e9e",
                    "width": 1
                  },
                  "mode": "lines",
                  "type": "scatter",
                  "x": [
                    12.5,
                    12.5
                  ],
                  "xaxis": "x",
                  "y": [
                    -0.5,
                    6.5
                  ],
                  "yaxis": "y"
                },
                {
                  "hoverinfo": "skip",
                  "line": {
                    "color": "#9e9e9e",
                    "width": 1
                  },
                  "mode": "lines",
                  "type": "scatter",
                  "x": [
                    16.5,
                    16.5
                  ],
                  "xaxis": "x",
                  "y": [
                    1.5,
                    6.5
                  ],
                  "yaxis": "y"
                },
                {
                  "hoverinfo": "skip",
                  "line": {
                    "color": "#9e9e9e",
                    "width": 1
                  },
                  "mode": "lines",
                  "type": "scatter",
                  "x": [
                    16.5,
                    17.5
                  ],
                  "xaxis": "x",
                  "y": [
                    1.5,
                    1.5
                  ],
                  "yaxis": "y"
                },
                {
                  "hoverinfo": "skip",
                  "line": {
                    "color": "#9e9e9e",
                    "width": 1
                  },
                  "mode": "lines",
                  "type": "scatter",
                  "x": [
                    17.5,
                    17.5
                  ],
                  "xaxis": "x",
                  "y": [
                    1.5,
                    -0.5
                  ],
                  "yaxis": "y"
                },
                {
                  "hoverinfo": "skip",
                  "line": {
                    "color": "#9e9e9e",
                    "width": 1
                  },
                  "mode": "lines",
                  "type": "scatter",
                  "x": [
                    20.5,
                    20.5
                  ],
                  "xaxis": "x",
                  "y": [
                    4.5,
                    6.5
                  ],
                  "yaxis": "y"
                },
                {
                  "hoverinfo": "skip",
                  "line": {
                    "color": "#9e9e9e",
                    "width": 1
                  },
                  "mode": "lines",
                  "type": "scatter",
                  "x": [
                    20.5,
                    21.5
                  ],
                  "xaxis": "x",
                  "y": [
                    4.5,
                    4.5
                  ],
                  "yaxis": "y"
                },
                {
                  "hoverinfo": "skip",
                  "line": {
                    "color": "#9e9e9e",
                    "width": 1
                  },
                  "mode": "lines",
                  "type": "scatter",
                  "x": [
                    21.5,
                    21.5
                  ],
                  "xaxis": "x",
                  "y": [
                    4.5,
                    -0.5
                  ],
                  "yaxis": "y"
                },
                {
                  "hoverinfo": "skip",
                  "line": {
                    "color": "#9e9e9e",
                    "width": 1
                  },
                  "mode": "lines",
                  "type": "scatter",
                  "x": [
                    25.5,
                    25.5
                  ],
                  "xaxis": "x",
                  "y": [
                    -0.5,
                    6.5
                  ],
                  "yaxis": "y"
                },
                {
                  "hoverinfo": "skip",
                  "line": {
                    "color": "#9e9e9e",
                    "width": 1
                  },
                  "mode": "lines",
                  "type": "scatter",
                  "x": [
                    29.5,
                    29.5
                  ],
                  "xaxis": "x",
                  "y": [
                    2.5,
                    6.5
                  ],
                  "yaxis": "y"
                },
                {
                  "hoverinfo": "skip",
                  "line": {
                    "color": "#9e9e9e",
                    "width": 1
                  },
                  "mode": "lines",
                  "type": "scatter",
                  "x": [
                    29.5,
                    30.5
                  ],
                  "xaxis": "x",
                  "y": [
                    2.5,
                    2.5
                  ],
                  "yaxis": "y"
                },
                {
                  "hoverinfo": "skip",
                  "line": {
                    "color": "#9e9e9e",
                    "width": 1
                  },
                  "mode": "lines",
                  "type": "scatter",
                  "x": [
                    30.5,
                    30.5
                  ],
                  "xaxis": "x",
                  "y": [
                    2.5,
                    -0.5
                  ],
                  "yaxis": "y"
                },
                {
                  "hoverinfo": "skip",
                  "line": {
                    "color": "#9e9e9e",
                    "width": 1
                  },
                  "mode": "lines",
                  "type": "scatter",
                  "x": [
                    33.5,
                    33.5
                  ],
                  "xaxis": "x",
                  "y": [
                    5.5,
                    6.5
                  ],
                  "yaxis": "y"
                },
                {
                  "hoverinfo": "skip",
                  "line": {
                    "color": "#9e9e9e",
                    "width": 1
                  },
                  "mode": "lines",
                  "type": "scatter",
                  "x": [
                    33.5,
                    34.5
                  ],
                  "xaxis": "x",
                  "y": [
                    5.5,
                    5.5
                  ],
                  "yaxis": "y"
                },
                {
                  "hoverinfo": "skip",
                  "line": {
                    "color": "#9e9e9e",
                    "width": 1
                  },
                  "mode": "lines",
                  "type": "scatter",
                  "x": [
                    34.5,
                    34.5
                  ],
                  "xaxis": "x",
                  "y": [
                    5.5,
                    -0.5
                  ],
                  "yaxis": "y"
                },
                {
                  "hoverinfo": "skip",
                  "line": {
                    "color": "#9e9e9e",
                    "width": 1
                  },
                  "mode": "lines",
                  "type": "scatter",
                  "x": [
                    38.5,
                    38.5
                  ],
                  "xaxis": "x",
                  "y": [
                    0.5,
                    6.5
                  ],
                  "yaxis": "y"
                },
                {
                  "hoverinfo": "skip",
                  "line": {
                    "color": "#9e9e9e",
                    "width": 1
                  },
                  "mode": "lines",
                  "type": "scatter",
                  "x": [
                    38.5,
                    39.5
                  ],
                  "xaxis": "x",
                  "y": [
                    0.5,
                    0.5
                  ],
                  "yaxis": "y"
                },
                {
                  "hoverinfo": "skip",
                  "line": {
                    "color": "#9e9e9e",
                    "width": 1
                  },
                  "mode": "lines",
                  "type": "scatter",
                  "x": [
                    39.5,
                    39.5
                  ],
                  "xaxis": "x",
                  "y": [
                    0.5,
                    -0.5
                  ],
                  "yaxis": "y"
                },
                {
                  "hoverinfo": "skip",
                  "line": {
                    "color": "#9e9e9e",
                    "width": 1
                  },
                  "mode": "lines",
                  "type": "scatter",
                  "x": [
                    42.5,
                    42.5
                  ],
                  "xaxis": "x",
                  "y": [
                    3.5,
                    6.5
                  ],
                  "yaxis": "y"
                },
                {
                  "hoverinfo": "skip",
                  "line": {
                    "color": "#9e9e9e",
                    "width": 1
                  },
                  "mode": "lines",
                  "type": "scatter",
                  "x": [
                    42.5,
                    43.5
                  ],
                  "xaxis": "x",
                  "y": [
                    3.5,
                    3.5
                  ],
                  "yaxis": "y"
                },
                {
                  "hoverinfo": "skip",
                  "line": {
                    "color": "#9e9e9e",
                    "width": 1
                  },
                  "mode": "lines",
                  "type": "scatter",
                  "x": [
                    43.5,
                    43.5
                  ],
                  "xaxis": "x",
                  "y": [
                    3.5,
                    -0.5
                  ],
                  "yaxis": "y"
                },
                {
                  "hoverinfo": "skip",
                  "line": {
                    "color": "#9e9e9e",
                    "width": 1
                  },
                  "mode": "lines",
                  "type": "scatter",
                  "x": [
                    46.5,
                    46.5
                  ],
                  "xaxis": "x",
                  "y": [
                    5.5,
                    6.5
                  ],
                  "yaxis": "y"
                },
                {
                  "hoverinfo": "skip",
                  "line": {
                    "color": "#9e9e9e",
                    "width": 1
                  },
                  "mode": "lines",
                  "type": "scatter",
                  "x": [
                    46.5,
                    47.5
                  ],
                  "xaxis": "x",
                  "y": [
                    5.5,
                    5.5
                  ],
                  "yaxis": "y"
                },
                {
                  "hoverinfo": "skip",
                  "line": {
                    "color": "#9e9e9e",
                    "width": 1
                  },
                  "mode": "lines",
                  "type": "scatter",
                  "x": [
                    47.5,
                    47.5
                  ],
                  "xaxis": "x",
                  "y": [
                    5.5,
                    -0.5
                  ],
                  "yaxis": "y"
                },
                {
                  "colorscale": [
                    [
                      0,
                      "rgb(247,252,245)"
                    ],
                    [
                      0.125,
                      "rgb(229,245,224)"
                    ],
                    [
                      0.25,
                      "rgb(199,233,192)"
                    ],
                    [
                      0.375,
                      "rgb(161,217,155)"
                    ],
                    [
                      0.5,
                      "rgb(116,196,118)"
                    ],
                    [
                      0.625,
                      "rgb(65,171,93)"
                    ],
                    [
                      0.75,
                      "rgb(35,139,69)"
                    ],
                    [
                      0.875,
                      "rgb(0,109,44)"
                    ],
                    [
                      1,
                      "rgb(0,68,27)"
                    ]
                  ],
                  "customdata": [
                    [
                      "2020-01-01",
                      "y"
                    ],
                    [
                      "2020-01-02",
                      "y"
                    ],
                    [
                      "2020-01-03",
                      "y"
                    ],
                    [
                      "2020-01-04",
                      "y"
                    ],
                    [
                      "2020-01-05",
                      "y"
                    ],
                    [
                      "2020-01-06",
                      "y"
                    ],
                    [
                      "2020-01-07",
                      "y"
                    ],
                    [
                      "2020-01-08",
                      "y"
                    ],
                    [
                      "2020-01-09",
                      "y"
                    ],
                    [
                      "2020-01-10",
                      "y"
                    ],
                    [
                      "2020-01-11",
                      "y"
                    ],
                    [
                      "2020-01-12",
                      "y"
                    ],
                    [
                      "2020-01-13",
                      "y"
                    ],
                    [
                      "2020-01-14",
                      "y"
                    ],
                    [
                      "2020-01-15",
                      "y"
                    ],
                    [
                      "2020-01-16",
                      "y"
                    ],
                    [
                      "2020-01-17",
                      "y"
                    ],
                    [
                      "2020-01-18",
                      "y"
                    ],
                    [
                      "2020-01-19",
                      "y"
                    ],
                    [
                      "2020-01-20",
                      "y"
                    ],
                    [
                      "2020-01-21",
                      "y"
                    ],
                    [
                      "2020-01-22",
                      "y"
                    ],
                    [
                      "2020-01-23",
                      "y"
                    ],
                    [
                      "2020-01-24",
                      "y"
                    ],
                    [
                      "2020-01-25",
                      "y"
                    ],
                    [
                      "2020-01-26",
                      "y"
                    ],
                    [
                      "2020-01-27",
                      "y"
                    ],
                    [
                      "2020-01-28",
                      "y"
                    ],
                    [
                      "2020-01-29",
                      "y"
                    ],
                    [
                      "2020-01-30",
                      "y"
                    ],
                    [
                      "2020-01-31",
                      "y"
                    ],
                    [
                      "2020-02-01",
                      "y"
                    ],
                    [
                      "2020-02-02",
                      "y"
                    ],
                    [
                      "2020-02-03",
                      "y"
                    ],
                    [
                      "2020-02-04",
                      "y"
                    ],
                    [
                      "2020-02-05",
                      "y"
                    ],
                    [
                      "2020-02-06",
                      "y"
                    ],
                    [
                      "2020-02-07",
                      "y"
                    ],
                    [
                      "2020-02-08",
                      "y"
                    ],
                    [
                      "2020-02-09",
                      "y"
                    ],
                    [
                      "2020-02-10",
                      "y"
                    ],
                    [
                      "2020-02-11",
                      "y"
                    ],
                    [
                      "2020-02-12",
                      "y"
                    ],
                    [
                      "2020-02-13",
                      "y"
                    ],
                    [
                      "2020-02-14",
                      "y"
                    ],
                    [
                      "2020-02-15",
                      "y"
                    ],
                    [
                      "2020-02-16",
                      "y"
                    ],
                    [
                      "2020-02-17",
                      "y"
                    ],
                    [
                      "2020-02-18",
                      "y"
                    ],
                    [
                      "2020-02-19",
                      "y"
                    ],
                    [
                      "2020-02-20",
                      "y"
                    ],
                    [
                      "2020-02-21",
                      "y"
                    ],
                    [
                      "2020-02-22",
                      "y"
                    ],
                    [
                      "2020-02-23",
                      "y"
                    ],
                    [
                      "2020-02-24",
                      "y"
                    ],
                    [
                      "2020-02-25",
                      "y"
                    ],
                    [
                      "2020-02-26",
                      "y"
                    ],
                    [
                      "2020-02-27",
                      "y"
                    ],
                    [
                      "2020-02-28",
                      "y"
                    ],
                    [
                      "2020-02-29",
                      "y"
                    ],
                    [
                      "2020-03-01",
                      "y"
                    ],
                    [
                      "2020-03-02",
                      "y"
                    ],
                    [
                      "2020-03-03",
                      "y"
                    ],
                    [
                      "2020-03-04",
                      "y"
                    ],
                    [
                      "2020-03-05",
                      "y"
                    ],
                    [
                      "2020-03-06",
                      "y"
                    ],
                    [
                      "2020-03-07",
                      "y"
                    ],
                    [
                      "2020-03-08",
                      "y"
                    ],
                    [
                      "2020-03-09",
                      "y"
                    ],
                    [
                      "2020-03-10",
                      "y"
                    ],
                    [
                      "2020-03-11",
                      "y"
                    ],
                    [
                      "2020-03-12",
                      "y"
                    ],
                    [
                      "2020-03-13",
                      "y"
                    ],
                    [
                      "2020-03-14",
                      "y"
                    ],
                    [
                      "2020-03-15",
                      "y"
                    ],
                    [
                      "2020-03-16",
                      "y"
                    ],
                    [
                      "2020-03-17",
                      "y"
                    ],
                    [
                      "2020-03-18",
                      "y"
                    ],
                    [
                      "2020-03-19",
                      "y"
                    ],
                    [
                      "2020-03-20",
                      "y"
                    ],
                    [
                      "2020-03-21",
                      "y"
                    ],
                    [
                      "2020-03-22",
                      "y"
                    ],
                    [
                      "2020-03-23",
                      "y"
                    ],
                    [
                      "2020-03-24",
                      "y"
                    ],
                    [
                      "2020-03-25",
                      "y"
                    ],
                    [
                      "2020-03-26",
                      "y"
                    ],
                    [
                      "2020-03-27",
                      "y"
                    ],
                    [
                      "2020-03-28",
                      "y"
                    ],
                    [
                      "2020-03-29",
                      "y"
                    ],
                    [
                      "2020-03-30",
                      "y"
                    ],
                    [
                      "2020-03-31",
                      "y"
                    ],
                    [
                      "2020-04-01",
                      "y"
                    ],
                    [
                      "2020-04-02",
                      "y"
                    ],
                    [
                      "2020-04-03",
                      "y"
                    ],
                    [
                      "2020-04-04",
                      "y"
                    ],
                    [
                      "2020-04-05",
                      "y"
                    ],
                    [
                      "2020-04-06",
                      "y"
                    ],
                    [
                      "2020-04-07",
                      "y"
                    ],
                    [
                      "2020-04-08",
                      "y"
                    ],
                    [
                      "2020-04-09",
                      "y"
                    ],
                    [
                      "2020-04-10",
                      "y"
                    ],
                    [
                      "2020-04-11",
                      "y"
                    ],
                    [
                      "2020-04-12",
                      "y"
                    ],
                    [
                      "2020-04-13",
                      "y"
                    ],
                    [
                      "2020-04-14",
                      "y"
                    ],
                    [
                      "2020-04-15",
                      "y"
                    ],
                    [
                      "2020-04-16",
                      "y"
                    ],
                    [
                      "2020-04-17",
                      "y"
                    ],
                    [
                      "2020-04-18",
                      "y"
                    ],
                    [
                      "2020-04-19",
                      "y"
                    ],
                    [
                      "2020-04-20",
                      "y"
                    ],
                    [
                      "2020-04-21",
                      "y"
                    ],
                    [
                      "2020-04-22",
                      "y"
                    ],
                    [
                      "2020-04-23",
                      "y"
                    ],
                    [
                      "2020-04-24",
                      "y"
                    ],
                    [
                      "2020-04-25",
                      "y"
                    ],
                    [
                      "2020-04-26",
                      "y"
                    ],
                    [
                      "2020-04-27",
                      "y"
                    ],
                    [
                      "2020-04-28",
                      "y"
                    ],
                    [
                      "2020-04-29",
                      "y"
                    ],
                    [
                      "2020-04-30",
                      "y"
                    ],
                    [
                      "2020-05-01",
                      "y"
                    ],
                    [
                      "2020-05-02",
                      "y"
                    ],
                    [
                      "2020-05-03",
                      "y"
                    ],
                    [
                      "2020-05-04",
                      "y"
                    ],
                    [
                      "2020-05-05",
                      "y"
                    ],
                    [
                      "2020-05-06",
                      "y"
                    ],
                    [
                      "2020-05-07",
                      "y"
                    ],
                    [
                      "2020-05-08",
                      "y"
                    ],
                    [
                      "2020-05-09",
                      "y"
                    ],
                    [
                      "2020-05-10",
                      "y"
                    ],
                    [
                      "2020-05-11",
                      "y"
                    ],
                    [
                      "2020-05-12",
                      "y"
                    ],
                    [
                      "2020-05-13",
                      "y"
                    ],
                    [
                      "2020-05-14",
                      "y"
                    ],
                    [
                      "2020-05-15",
                      "y"
                    ],
                    [
                      "2020-05-16",
                      "y"
                    ],
                    [
                      "2020-05-17",
                      "y"
                    ],
                    [
                      "2020-05-18",
                      "y"
                    ],
                    [
                      "2020-05-19",
                      "y"
                    ],
                    [
                      "2020-05-20",
                      "y"
                    ],
                    [
                      "2020-05-21",
                      "y"
                    ],
                    [
                      "2020-05-22",
                      "y"
                    ],
                    [
                      "2020-05-23",
                      "y"
                    ],
                    [
                      "2020-05-24",
                      "y"
                    ],
                    [
                      "2020-05-25",
                      "y"
                    ],
                    [
                      "2020-05-26",
                      "y"
                    ],
                    [
                      "2020-05-27",
                      "y"
                    ],
                    [
                      "2020-05-28",
                      "y"
                    ],
                    [
                      "2020-05-29",
                      "y"
                    ],
                    [
                      "2020-05-30",
                      "y"
                    ],
                    [
                      "2020-05-31",
                      "y"
                    ],
                    [
                      "2020-06-01",
                      "y"
                    ],
                    [
                      "2020-06-02",
                      "y"
                    ],
                    [
                      "2020-06-03",
                      "y"
                    ],
                    [
                      "2020-06-04",
                      "y"
                    ],
                    [
                      "2020-06-05",
                      "y"
                    ],
                    [
                      "2020-06-06",
                      "y"
                    ],
                    [
                      "2020-06-07",
                      "y"
                    ],
                    [
                      "2020-06-08",
                      "y"
                    ],
                    [
                      "2020-06-09",
                      "y"
                    ],
                    [
                      "2020-06-10",
                      "y"
                    ],
                    [
                      "2020-06-11",
                      "y"
                    ],
                    [
                      "2020-06-12",
                      "y"
                    ],
                    [
                      "2020-06-13",
                      "y"
                    ],
                    [
                      "2020-06-14",
                      "y"
                    ],
                    [
                      "2020-06-15",
                      "y"
                    ],
                    [
                      "2020-06-16",
                      "y"
                    ],
                    [
                      "2020-06-17",
                      "y"
                    ],
                    [
                      "2020-06-18",
                      "y"
                    ],
                    [
                      "2020-06-19",
                      "y"
                    ],
                    [
                      "2020-06-20",
                      "y"
                    ],
                    [
                      "2020-06-21",
                      "y"
                    ],
                    [
                      "2020-06-22",
                      "y"
                    ],
                    [
                      "2020-06-23",
                      "y"
                    ],
                    [
                      "2020-06-24",
                      "y"
                    ],
                    [
                      "2020-06-25",
                      "y"
                    ],
                    [
                      "2020-06-26",
                      "y"
                    ],
                    [
                      "2020-06-27",
                      "y"
                    ],
                    [
                      "2020-06-28",
                      "y"
                    ],
                    [
                      "2020-06-29",
                      "y"
                    ],
                    [
                      "2020-06-30",
                      "y"
                    ],
                    [
                      "2020-07-01",
                      "y"
                    ],
                    [
                      "2020-07-02",
                      "y"
                    ],
                    [
                      "2020-07-03",
                      "y"
                    ],
                    [
                      "2020-07-04",
                      "y"
                    ],
                    [
                      "2020-07-05",
                      "y"
                    ],
                    [
                      "2020-07-06",
                      "y"
                    ],
                    [
                      "2020-07-07",
                      "y"
                    ],
                    [
                      "2020-07-08",
                      "y"
                    ],
                    [
                      "2020-07-09",
                      "y"
                    ],
                    [
                      "2020-07-10",
                      "y"
                    ],
                    [
                      "2020-07-11",
                      "y"
                    ],
                    [
                      "2020-07-12",
                      "y"
                    ],
                    [
                      "2020-07-13",
                      "y"
                    ],
                    [
                      "2020-07-14",
                      "y"
                    ],
                    [
                      "2020-07-15",
                      "y"
                    ],
                    [
                      "2020-07-16",
                      "y"
                    ],
                    [
                      "2020-07-17",
                      "y"
                    ],
                    [
                      "2020-07-18",
                      "y"
                    ],
                    [
                      "2020-07-19",
                      "y"
                    ],
                    [
                      "2020-07-20",
                      "y"
                    ],
                    [
                      "2020-07-21",
                      "y"
                    ],
                    [
                      "2020-07-22",
                      "y"
                    ],
                    [
                      "2020-07-23",
                      "y"
                    ],
                    [
                      "2020-07-24",
                      "y"
                    ],
                    [
                      "2020-07-25",
                      "y"
                    ],
                    [
                      "2020-07-26",
                      "y"
                    ],
                    [
                      "2020-07-27",
                      "y"
                    ],
                    [
                      "2020-07-28",
                      "y"
                    ],
                    [
                      "2020-07-29",
                      "y"
                    ],
                    [
                      "2020-07-30",
                      "y"
                    ],
                    [
                      "2020-07-31",
                      "y"
                    ],
                    [
                      "2020-08-01",
                      "y"
                    ],
                    [
                      "2020-08-02",
                      "y"
                    ],
                    [
                      "2020-08-03",
                      "y"
                    ],
                    [
                      "2020-08-04",
                      "y"
                    ],
                    [
                      "2020-08-05",
                      "y"
                    ],
                    [
                      "2020-08-06",
                      "y"
                    ],
                    [
                      "2020-08-07",
                      "y"
                    ],
                    [
                      "2020-08-08",
                      "y"
                    ],
                    [
                      "2020-08-09",
                      "y"
                    ],
                    [
                      "2020-08-10",
                      "y"
                    ],
                    [
                      "2020-08-11",
                      "y"
                    ],
                    [
                      "2020-08-12",
                      "y"
                    ],
                    [
                      "2020-08-13",
                      "y"
                    ],
                    [
                      "2020-08-14",
                      "y"
                    ],
                    [
                      "2020-08-15",
                      "y"
                    ],
                    [
                      "2020-08-16",
                      "y"
                    ],
                    [
                      "2020-08-17",
                      "y"
                    ],
                    [
                      "2020-08-18",
                      "y"
                    ],
                    [
                      "2020-08-19",
                      "y"
                    ],
                    [
                      "2020-08-20",
                      "y"
                    ],
                    [
                      "2020-08-21",
                      "y"
                    ],
                    [
                      "2020-08-22",
                      "y"
                    ],
                    [
                      "2020-08-23",
                      "y"
                    ],
                    [
                      "2020-08-24",
                      "y"
                    ],
                    [
                      "2020-08-25",
                      "y"
                    ],
                    [
                      "2020-08-26",
                      "y"
                    ],
                    [
                      "2020-08-27",
                      "y"
                    ],
                    [
                      "2020-08-28",
                      "y"
                    ],
                    [
                      "2020-08-29",
                      "y"
                    ],
                    [
                      "2020-08-30",
                      "y"
                    ],
                    [
                      "2020-08-31",
                      "y"
                    ],
                    [
                      "2020-09-01",
                      "y"
                    ],
                    [
                      "2020-09-02",
                      "y"
                    ],
                    [
                      "2020-09-03",
                      "y"
                    ],
                    [
                      "2020-09-04",
                      "y"
                    ],
                    [
                      "2020-09-05",
                      "y"
                    ],
                    [
                      "2020-09-06",
                      "y"
                    ],
                    [
                      "2020-09-07",
                      "y"
                    ],
                    [
                      "2020-09-08",
                      "y"
                    ],
                    [
                      "2020-09-09",
                      "y"
                    ],
                    [
                      "2020-09-10",
                      "y"
                    ],
                    [
                      "2020-09-11",
                      "y"
                    ],
                    [
                      "2020-09-12",
                      "y"
                    ],
                    [
                      "2020-09-13",
                      "y"
                    ],
                    [
                      "2020-09-14",
                      "y"
                    ],
                    [
                      "2020-09-15",
                      "y"
                    ],
                    [
                      "2020-09-16",
                      "y"
                    ],
                    [
                      "2020-09-17",
                      "y"
                    ],
                    [
                      "2020-09-18",
                      "y"
                    ],
                    [
                      "2020-09-19",
                      "y"
                    ],
                    [
                      "2020-09-20",
                      "y"
                    ],
                    [
                      "2020-09-21",
                      "y"
                    ],
                    [
                      "2020-09-22",
                      "y"
                    ],
                    [
                      "2020-09-23",
                      "y"
                    ],
                    [
                      "2020-09-24",
                      "y"
                    ],
                    [
                      "2020-09-25",
                      "y"
                    ],
                    [
                      "2020-09-26",
                      "y"
                    ],
                    [
                      "2020-09-27",
                      "y"
                    ],
                    [
                      "2020-09-28",
                      "y"
                    ],
                    [
                      "2020-09-29",
                      "y"
                    ],
                    [
                      "2020-09-30",
                      "y"
                    ],
                    [
                      "2020-10-01",
                      "y"
                    ],
                    [
                      "2020-10-02",
                      "y"
                    ],
                    [
                      "2020-10-03",
                      "y"
                    ],
                    [
                      "2020-10-04",
                      "y"
                    ],
                    [
                      "2020-10-05",
                      "y"
                    ],
                    [
                      "2020-10-06",
                      "y"
                    ],
                    [
                      "2020-10-07",
                      "y"
                    ],
                    [
                      "2020-10-08",
                      "y"
                    ],
                    [
                      "2020-10-09",
                      "y"
                    ],
                    [
                      "2020-10-10",
                      "y"
                    ],
                    [
                      "2020-10-11",
                      "y"
                    ],
                    [
                      "2020-10-12",
                      "y"
                    ],
                    [
                      "2020-10-13",
                      "y"
                    ],
                    [
                      "2020-10-14",
                      "y"
                    ],
                    [
                      "2020-10-15",
                      "y"
                    ],
                    [
                      "2020-10-16",
                      "y"
                    ],
                    [
                      "2020-10-17",
                      "y"
                    ],
                    [
                      "2020-10-18",
                      "y"
                    ],
                    [
                      "2020-10-19",
                      "y"
                    ],
                    [
                      "2020-10-20",
                      "y"
                    ],
                    [
                      "2020-10-21",
                      "y"
                    ],
                    [
                      "2020-10-22",
                      "y"
                    ],
                    [
                      "2020-10-23",
                      "y"
                    ],
                    [
                      "2020-10-24",
                      "y"
                    ],
                    [
                      "2020-10-25",
                      "y"
                    ],
                    [
                      "2020-10-26",
                      "y"
                    ],
                    [
                      "2020-10-27",
                      "y"
                    ],
                    [
                      "2020-10-28",
                      "y"
                    ],
                    [
                      "2020-10-29",
                      "y"
                    ],
                    [
                      "2020-10-30",
                      "y"
                    ],
                    [
                      "2020-10-31",
                      "y"
                    ],
                    [
                      "2020-11-01",
                      "y"
                    ],
                    [
                      "2020-11-02",
                      "y"
                    ],
                    [
                      "2020-11-03",
                      "y"
                    ],
                    [
                      "2020-11-04",
                      "y"
                    ],
                    [
                      "2020-11-05",
                      "y"
                    ],
                    [
                      "2020-11-06",
                      "y"
                    ],
                    [
                      "2020-11-07",
                      "y"
                    ],
                    [
                      "2020-11-08",
                      "y"
                    ],
                    [
                      "2020-11-09",
                      "y"
                    ],
                    [
                      "2020-11-10",
                      "y"
                    ],
                    [
                      "2020-11-11",
                      "y"
                    ],
                    [
                      "2020-11-12",
                      "y"
                    ],
                    [
                      "2020-11-13",
                      "y"
                    ],
                    [
                      "2020-11-14",
                      "y"
                    ],
                    [
                      "2020-11-15",
                      "y"
                    ],
                    [
                      "2020-11-16",
                      "y"
                    ],
                    [
                      "2020-11-17",
                      "y"
                    ],
                    [
                      "2020-11-18",
                      "y"
                    ],
                    [
                      "2020-11-19",
                      "y"
                    ],
                    [
                      "2020-11-20",
                      "y"
                    ],
                    [
                      "2020-11-21",
                      "y"
                    ],
                    [
                      "2020-11-22",
                      "y"
                    ],
                    [
                      "2020-11-23",
                      "y"
                    ],
                    [
                      "2020-11-24",
                      "y"
                    ],
                    [
                      "2020-11-25",
                      "y"
                    ],
                    [
                      "2020-11-26",
                      "y"
                    ],
                    [
                      "2020-11-27",
                      "y"
                    ],
                    [
                      "2020-11-28",
                      "y"
                    ],
                    [
                      "2020-11-29",
                      "y"
                    ],
                    [
                      "2020-11-30",
                      "y"
                    ],
                    [
                      "2020-12-01",
                      "y"
                    ],
                    [
                      "2020-12-02",
                      "y"
                    ],
                    [
                      "2020-12-03",
                      "y"
                    ],
                    [
                      "2020-12-04",
                      "y"
                    ],
                    [
                      "2020-12-05",
                      "y"
                    ],
                    [
                      "2020-12-06",
                      "y"
                    ],
                    [
                      "2020-12-07",
                      "y"
                    ],
                    [
                      "2020-12-08",
                      "y"
                    ],
                    [
                      "2020-12-09",
                      "y"
                    ],
                    [
                      "2020-12-10",
                      "y"
                    ],
                    [
                      "2020-12-11",
                      "y"
                    ],
                    [
                      "2020-12-12",
                      "y"
                    ],
                    [
                      "2020-12-13",
                      "y"
                    ],
                    [
                      "2020-12-14",
                      "y"
                    ],
                    [
                      "2020-12-15",
                      "y"
                    ],
                    [
                      "2020-12-16",
                      "y"
                    ],
                    [
                      "2020-12-17",
                      "y"
                    ],
                    [
                      "2020-12-18",
                      "y"
                    ],
                    [
                      "2020-12-19",
                      "y"
                    ],
                    [
                      "2020-12-20",
                      "y"
                    ],
                    [
                      "2020-12-21",
                      "y"
                    ],
                    [
                      "2020-12-22",
                      "y"
                    ],
                    [
                      "2020-12-23",
                      "y"
                    ],
                    [
                      "2020-12-24",
                      "y"
                    ],
                    [
                      "2020-12-25",
                      "y"
                    ],
                    [
                      "2020-12-26",
                      "y"
                    ],
                    [
                      "2020-12-27",
                      "y"
                    ],
                    [
                      "2020-12-28",
                      "y"
                    ],
                    [
                      "2020-12-29",
                      "y"
                    ],
                    [
                      "2020-12-30",
                      "y"
                    ],
                    [
                      "2020-12-31",
                      "y"
                    ]
                  ],
                  "hovertemplate": "%{customdata[0]} <br>Week=%{x} <br>%{customdata[1]}=%{z}",
                  "name": "2020",
                  "showscale": false,
                  "type": "heatmap",
                  "x": [
                    0,
                    0,
                    0,
                    0,
                    0,
                    1,
                    1,
                    1,
                    1,
                    1,
                    1,
                    1,
                    2,
                    2,
                    2,
                    2,
                    2,
                    2,
                    2,
                    3,
                    3,
                    3,
                    3,
                    3,
                    3,
                    3,
                    4,
                    4,
                    4,
                    4,
                    4,
                    4,
                    4,
                    5,
                    5,
                    5,
                    5,
                    5,
                    5,
                    5,
                    6,
                    6,
                    6,
                    6,
                    6,
                    6,
                    6,
                    7,
                    7,
                    7,
                    7,
                    7,
                    7,
                    7,
                    8,
                    8,
                    8,
                    8,
                    8,
                    8,
                    8,
                    9,
                    9,
                    9,
                    9,
                    9,
                    9,
                    9,
                    10,
                    10,
                    10,
                    10,
                    10,
                    10,
                    10,
                    11,
                    11,
                    11,
                    11,
                    11,
                    11,
                    11,
                    12,
                    12,
                    12,
                    12,
                    12,
                    12,
                    12,
                    13,
                    13,
                    13,
                    13,
                    13,
                    13,
                    13,
                    14,
                    14,
                    14,
                    14,
                    14,
                    14,
                    14,
                    15,
                    15,
                    15,
                    15,
                    15,
                    15,
                    15,
                    16,
                    16,
                    16,
                    16,
                    16,
                    16,
                    16,
                    17,
                    17,
                    17,
                    17,
                    17,
                    17,
                    17,
                    18,
                    18,
                    18,
                    18,
                    18,
                    18,
                    18,
                    19,
                    19,
                    19,
                    19,
                    19,
                    19,
                    19,
                    20,
                    20,
                    20,
                    20,
                    20,
                    20,
                    20,
                    21,
                    21,
                    21,
                    21,
                    21,
                    21,
                    21,
                    22,
                    22,
                    22,
                    22,
                    22,
                    22,
                    22,
                    23,
                    23,
                    23,
                    23,
                    23,
                    23,
                    23,
                    24,
                    24,
                    24,
                    24,
                    24,
                    24,
                    24,
                    25,
                    25,
                    25,
                    25,
                    25,
                    25,
                    25,
                    26,
                    26,
                    26,
                    26,
                    26,
                    26,
                    26,
                    27,
                    27,
                    27,
                    27,
                    27,
                    27,
                    27,
                    28,
                    28,
                    28,
                    28,
                    28,
                    28,
                    28,
                    29,
                    29,
                    29,
                    29,
                    29,
                    29,
                    29,
                    30,
                    30,
                    30,
                    30,
                    30,
                    30,
                    30,
                    31,
                    31,
                    31,
                    31,
                    31,
                    31,
                    31,
                    32,
                    32,
                    32,
                    32,
                    32,
                    32,
                    32,
                    33,
                    33,
                    33,
                    33,
                    33,
                    33,
                    33,
                    34,
                    34,
                    34,
                    34,
                    34,
                    34,
                    34,
                    35,
                    35,
                    35,
                    35,
                    35,
                    35,
                    35,
                    36,
                    36,
                    36,
                    36,
                    36,
                    36,
                    36,
                    37,
                    37,
                    37,
                    37,
                    37,
                    37,
                    37,
                    38,
                    38,
                    38,
                    38,
                    38,
                    38,
                    38,
                    39,
                    39,
                    39,
                    39,
                    39,
                    39,
                    39,
                    40,
                    40,
                    40,
                    40,
                    40,
                    40,
                    40,
                    41,
                    41,
                    41,
                    41,
                    41,
                    41,
                    41,
                    42,
                    42,
                    42,
                    42,
                    42,
                    42,
                    42,
                    43,
                    43,
                    43,
                    43,
                    43,
                    43,
                    43,
                    44,
                    44,
                    44,
                    44,
                    44,
                    44,
                    44,
                    45,
                    45,
                    45,
                    45,
                    45,
                    45,
                    45,
                    46,
                    46,
                    46,
                    46,
                    46,
                    46,
                    46,
                    47,
                    47,
                    47,
                    47,
                    47,
                    47,
                    47,
                    48,
                    48,
                    48,
                    48,
                    48,
                    48,
                    48,
                    49,
                    49,
                    49,
                    49,
                    49,
                    49,
                    49,
                    50,
                    50,
                    50,
                    50,
                    50,
                    50,
                    50,
                    51,
                    51,
                    51,
                    51,
                    51,
                    51,
                    51,
                    52,
                    52,
                    52,
                    52
                  ],
                  "xaxis": "x2",
                  "xgap": 1,
                  "y": [
                    2,
                    3,
                    4,
                    5,
                    6,
                    0,
                    1,
                    2,
                    3,
                    4,
                    5,
                    6,
                    0,
                    1,
                    2,
                    3,
                    4,
                    5,
                    6,
                    0,
                    1,
                    2,
                    3,
                    4,
                    5,
                    6,
                    0,
                    1,
                    2,
                    3,
                    4,
                    5,
                    6,
                    0,
                    1,
                    2,
                    3,
                    4,
                    5,
                    6,
                    0,
                    1,
                    2,
                    3,
                    4,
                    5,
                    6,
                    0,
                    1,
                    2,
                    3,
                    4,
                    5,
                    6,
                    0,
                    1,
                    2,
                    3,
                    4,
                    5,
                    6,
                    0,
                    1,
                    2,
                    3,
                    4,
                    5,
                    6,
                    0,
                    1,
                    2,
                    3,
                    4,
                    5,
                    6,
                    0,
                    1,
                    2,
                    3,
                    4,
                    5,
                    6,
                    0,
                    1,
                    2,
                    3,
                    4,
                    5,
                    6,
                    0,
                    1,
                    2,
                    3,
                    4,
                    5,
                    6,
                    0,
                    1,
                    2,
                    3,
                    4,
                    5,
                    6,
                    0,
                    1,
                    2,
                    3,
                    4,
                    5,
                    6,
                    0,
                    1,
                    2,
                    3,
                    4,
                    5,
                    6,
                    0,
                    1,
                    2,
                    3,
                    4,
                    5,
                    6,
                    0,
                    1,
                    2,
                    3,
                    4,
                    5,
                    6,
                    0,
                    1,
                    2,
                    3,
                    4,
                    5,
                    6,
                    0,
                    1,
                    2,
                    3,
                    4,
                    5,
                    6,
                    0,
                    1,
                    2,
                    3,
                    4,
                    5,
                    6,
                    0,
                    1,
                    2,
                    3,
                    4,
                    5,
                    6,
                    0,
                    1,
                    2,
                    3,
                    4,
                    5,
                    6,
                    0,
                    1,
                    2,
                    3,
                    4,
                    5,
                    6,
                    0,
                    1,
                    2,
                    3,
                    4,
                    5,
                    6,
                    0,
                    1,
                    2,
                    3,
                    4,
                    5,
                    6,
                    0,
                    1,
                    2,
                    3,
                    4,
                    5,
                    6,
                    0,
                    1,
                    2,
                    3,
                    4,
                    5,
                    6,
                    0,
                    1,
                    2,
                    3,
                    4,
                    5,
                    6,
                    0,
                    1,
                    2,
                    3,
                    4,
                    5,
                    6,
                    0,
                    1,
                    2,
                    3,
                    4,
                    5,
                    6,
                    0,
                    1,
                    2,
                    3,
                    4,
                    5,
                    6,
                    0,
                    1,
                    2,
                    3,
                    4,
                    5,
                    6,
                    0,
                    1,
                    2,
                    3,
                    4,
                    5,
                    6,
                    0,
                    1,
                    2,
                    3,
                    4,
                    5,
                    6,
                    0,
                    1,
                    2,
                    3,
                    4,
                    5,
                    6,
                    0,
                    1,
                    2,
                    3,
                    4,
                    5,
                    6,
                    0,
                    1,
                    2,
                    3,
                    4,
                    5,
                    6,
                    0,
                    1,
                    2,
                    3,
                    4,
                    5,
                    6,
                    0,
                    1,
                    2,
                    3,
                    4,
                    5,
                    6,
                    0,
                    1,
                    2,
                    3,
                    4,
                    5,
                    6,
                    0,
                    1,
                    2,
                    3,
                    4,
                    5,
                    6,
                    0,
                    1,
                    2,
                    3,
                    4,
                    5,
                    6,
                    0,
                    1,
                    2,
                    3,
                    4,
                    5,
                    6,
                    0,
                    1,
                    2,
                    3,
                    4,
                    5,
                    6,
                    0,
                    1,
                    2,
                    3,
                    4,
                    5,
                    6,
                    0,
                    1,
                    2,
                    3,
                    4,
                    5,
                    6,
                    0,
                    1,
                    2,
                    3,
                    4,
                    5,
                    6,
                    0,
                    1,
                    2,
                    3,
                    4,
                    5,
                    6,
                    0,
                    1,
                    2,
                    3,
                    4,
                    5,
                    6,
                    0,
                    1,
                    2,
                    3,
                    4,
                    5,
                    6,
                    0,
                    1,
                    2,
                    3
                  ],
                  "yaxis": "y2",
                  "ygap": 1,
                  "z": [
                    18,
                    8,
                    6,
                    12,
                    0,
                    13,
                    26,
                    8,
                    18,
                    2,
                    3,
                    6,
                    12,
                    3,
                    18,
                    21,
                    4,
                    4,
                    16,
                    7,
                    7,
                    12,
                    1,
                    25,
                    14,
                    8,
                    9,
                    13,
                    12,
                    20,
                    29,
                    14,
                    20,
                    6,
                    12,
                    27,
                    9,
                    7,
                    2,
                    3,
                    3,
                    29,
                    0,
                    0,
                    20,
                    20,
                    28,
                    19,
                    13,
                    22,
                    2,
                    7,
                    19,
                    7,
                    5,
                    8,
                    28,
                    4,
                    28,
                    11,
                    8,
                    27,
                    11,
                    14,
                    22,
                    1,
                    7,
                    22,
                    10,
                    24,
                    14,
                    23,
                    2,
                    9,
                    1,
                    21,
                    29,
                    20,
                    22,
                    14,
                    28,
                    7,
                    0,
                    25,
                    5,
                    18,
                    26,
                    29,
                    8,
                    23,
                    26,
                    4,
                    4,
                    4,
                    17,
                    9,
                    8,
                    19,
                    28,
                    27,
                    29,
                    0,
                    18,
                    17,
                    11,
                    26,
                    22,
                    22,
                    27,
                    1,
                    1,
                    3,
                    6,
                    13,
                    28,
                    17,
                    12,
                    3,
                    28,
                    25,
                    9,
                    12,
                    15,
                    4,
                    4,
                    26,
                    16,
                    6,
                    26,
                    11,
                    24,
                    1,
                    24,
                    13,
                    26,
                    9,
                    19,
                    5,
                    18,
                    29,
                    25,
                    28,
                    6,
                    1,
                    3,
                    7,
                    26,
                    1,
                    3,
                    25,
                    4,
                    14,
                    6,
                    7,
                    16,
                    14,
                    27,
                    22,
                    14,
                    21,
                    19,
                    12,
                    10,
                    7,
                    2,
                    10,
                    22,
                    21,
                    16,
                    27,
                    17,
                    28,
                    13,
                    8,
                    23,
                    4,
                    23,
                    18,
                    1,
                    24,
                    12,
                    26,
                    14,
                    4,
                    19,
                    5,
                    15,
                    1,
                    12,
                    27,
                    20,
                    23,
                    23,
                    23,
                    1,
                    12,
                    26,
                    1,
                    24,
                    21,
                    17,
                    2,
                    23,
                    23,
                    16,
                    1,
                    28,
                    2,
                    25,
                    24,
                    27,
                    17,
                    7,
                    21,
                    10,
                    4,
                    14,
                    12,
                    25,
                    16,
                    5,
                    17,
                    15,
                    10,
                    22,
                    17,
                    6,
                    21,
                    2,
                    8,
                    20,
                    3,
                    5,
                    2,
                    20,
                    26,
                    5,
                    11,
                    16,
                    0,
                    6,
                    29,
                    11,
                    14,
                    17,
                    27,
                    5,
                    28,
                    24,
                    20,
                    15,
                    7,
                    10,
                    13,
                    9,
                    18,
                    25,
                    28,
                    10,
                    6,
                    7,
                    2,
                    21,
                    14,
                    21,
                    24,
                    14,
                    7,
                    6,
                    22,
                    9,
                    12,
                    8,
                    12,
                    28,
                    0,
                    25,
                    16,
                    22,
                    5,
                    9,
                    16,
                    16,
                    8,
                    8,
                    16,
                    13,
                    0,
                    2,
                    8,
                    13,
                    3,
                    21,
                    24,
                    9,
                    12,
                    26,
                    12,
                    11,
                    9,
                    21,
                    14,
                    12,
                    9,
                    16,
                    19,
                    20,
                    9,
                    3,
                    10,
                    4,
                    2,
                    8,
                    24,
                    27,
                    19,
                    0,
                    4,
                    20,
                    16,
                    23,
                    14,
                    2,
                    11,
                    26,
                    23,
                    2,
                    29,
                    7,
                    20,
                    4,
                    21,
                    23,
                    15,
                    6,
                    3,
                    7,
                    29,
                    5,
                    12,
                    25,
                    10,
                    10,
                    28,
                    21,
                    7,
                    21,
                    17,
                    7,
                    23,
                    5,
                    24,
                    15,
                    15,
                    27,
                    11,
                    2,
                    12,
                    19,
                    5,
                    26,
                    24,
                    17,
                    0,
                    5,
                    12
                  ],
                  "zmax": 29,
                  "zmin": 0
                },
                {
                  "hoverinfo": "skip",
                  "line": {
                    "color": "#9e9e9e",
                    "width": 1
                  },
                  "mode": "lines",
                  "type": "scatter",
                  "x": [
                    -0.5,
                    -0.5
                  ],
                  "xaxis": "x2",
                  "y": [
                    1.5,
                    6.5
                  ],
                  "yaxis": "y2"
                },
                {
                  "hoverinfo": "skip",
                  "line": {
                    "color": "#9e9e9e",
                    "width": 1
                  },
                  "mode": "lines",
                  "type": "scatter",
                  "x": [
                    -0.5,
                    0.5
                  ],
                  "xaxis": "x2",
                  "y": [
                    1.5,
                    1.5
                  ],
                  "yaxis": "y2"
                },
                {
                  "hoverinfo": "skip",
                  "line": {
                    "color": "#9e9e9e",
                    "width": 1
                  },
                  "mode": "lines",
                  "type": "scatter",
                  "x": [
                    0.5,
                    0.5
                  ],
                  "xaxis": "x2",
                  "y": [
                    1.5,
                    -0.5
                  ],
                  "yaxis": "y2"
                },
                {
                  "hoverinfo": "skip",
                  "line": {
                    "color": "#9e9e9e",
                    "width": 1
                  },
                  "mode": "lines",
                  "type": "scatter",
                  "x": [
                    3.5,
                    3.5
                  ],
                  "xaxis": "x2",
                  "y": [
                    4.5,
                    6.5
                  ],
                  "yaxis": "y2"
                },
                {
                  "hoverinfo": "skip",
                  "line": {
                    "color": "#9e9e9e",
                    "width": 1
                  },
                  "mode": "lines",
                  "type": "scatter",
                  "x": [
                    3.5,
                    4.5
                  ],
                  "xaxis": "x2",
                  "y": [
                    4.5,
                    4.5
                  ],
                  "yaxis": "y2"
                },
                {
                  "hoverinfo": "skip",
                  "line": {
                    "color": "#9e9e9e",
                    "width": 1
                  },
                  "mode": "lines",
                  "type": "scatter",
                  "x": [
                    4.5,
                    4.5
                  ],
                  "xaxis": "x2",
                  "y": [
                    4.5,
                    -0.5
                  ],
                  "yaxis": "y2"
                },
                {
                  "hoverinfo": "skip",
                  "line": {
                    "color": "#9e9e9e",
                    "width": 1
                  },
                  "mode": "lines",
                  "type": "scatter",
                  "x": [
                    7.5,
                    7.5
                  ],
                  "xaxis": "x2",
                  "y": [
                    5.5,
                    6.5
                  ],
                  "yaxis": "y2"
                },
                {
                  "hoverinfo": "skip",
                  "line": {
                    "color": "#9e9e9e",
                    "width": 1
                  },
                  "mode": "lines",
                  "type": "scatter",
                  "x": [
                    7.5,
                    8.5
                  ],
                  "xaxis": "x2",
                  "y": [
                    5.5,
                    5.5
                  ],
                  "yaxis": "y2"
                },
                {
                  "hoverinfo": "skip",
                  "line": {
                    "color": "#9e9e9e",
                    "width": 1
                  },
                  "mode": "lines",
                  "type": "scatter",
                  "x": [
                    8.5,
                    8.5
                  ],
                  "xaxis": "x2",
                  "y": [
                    5.5,
                    -0.5
                  ],
                  "yaxis": "y2"
                },
                {
                  "hoverinfo": "skip",
                  "line": {
                    "color": "#9e9e9e",
                    "width": 1
                  },
                  "mode": "lines",
                  "type": "scatter",
                  "x": [
                    12.5,
                    12.5
                  ],
                  "xaxis": "x2",
                  "y": [
                    1.5,
                    6.5
                  ],
                  "yaxis": "y2"
                },
                {
                  "hoverinfo": "skip",
                  "line": {
                    "color": "#9e9e9e",
                    "width": 1
                  },
                  "mode": "lines",
                  "type": "scatter",
                  "x": [
                    12.5,
                    13.5
                  ],
                  "xaxis": "x2",
                  "y": [
                    1.5,
                    1.5
                  ],
                  "yaxis": "y2"
                },
                {
                  "hoverinfo": "skip",
                  "line": {
                    "color": "#9e9e9e",
                    "width": 1
                  },
                  "mode": "lines",
                  "type": "scatter",
                  "x": [
                    13.5,
                    13.5
                  ],
                  "xaxis": "x2",
                  "y": [
                    1.5,
                    -0.5
                  ],
                  "yaxis": "y2"
                },
                {
                  "hoverinfo": "skip",
                  "line": {
                    "color": "#9e9e9e",
                    "width": 1
                  },
                  "mode": "lines",
                  "type": "scatter",
                  "x": [
                    16.5,
                    16.5
                  ],
                  "xaxis": "x2",
                  "y": [
                    3.5,
                    6.5
                  ],
                  "yaxis": "y2"
                },
                {
                  "hoverinfo": "skip",
                  "line": {
                    "color": "#9e9e9e",
                    "width": 1
                  },
                  "mode": "lines",
                  "type": "scatter",
                  "x": [
                    16.5,
                    17.5
                  ],
                  "xaxis": "x2",
                  "y": [
                    3.5,
                    3.5
                  ],
                  "yaxis": "y2"
                },
                {
                  "hoverinfo": "skip",
                  "line": {
                    "color": "#9e9e9e",
                    "width": 1
                  },
                  "mode": "lines",
                  "type": "scatter",
                  "x": [
                    17.5,
                    17.5
                  ],
                  "xaxis": "x2",
                  "y": [
                    3.5,
                    -0.5
                  ],
                  "yaxis": "y2"
                },
                {
                  "hoverinfo": "skip",
                  "line": {
                    "color": "#9e9e9e",
                    "width": 1
                  },
                  "mode": "lines",
                  "type": "scatter",
                  "x": [
                    21.5,
                    21.5
                  ],
                  "xaxis": "x2",
                  "y": [
                    -0.5,
                    6.5
                  ],
                  "yaxis": "y2"
                },
                {
                  "hoverinfo": "skip",
                  "line": {
                    "color": "#9e9e9e",
                    "width": 1
                  },
                  "mode": "lines",
                  "type": "scatter",
                  "x": [
                    25.5,
                    25.5
                  ],
                  "xaxis": "x2",
                  "y": [
                    1.5,
                    6.5
                  ],
                  "yaxis": "y2"
                },
                {
                  "hoverinfo": "skip",
                  "line": {
                    "color": "#9e9e9e",
                    "width": 1
                  },
                  "mode": "lines",
                  "type": "scatter",
                  "x": [
                    25.5,
                    26.5
                  ],
                  "xaxis": "x2",
                  "y": [
                    1.5,
                    1.5
                  ],
                  "yaxis": "y2"
                },
                {
                  "hoverinfo": "skip",
                  "line": {
                    "color": "#9e9e9e",
                    "width": 1
                  },
                  "mode": "lines",
                  "type": "scatter",
                  "x": [
                    26.5,
                    26.5
                  ],
                  "xaxis": "x2",
                  "y": [
                    1.5,
                    -0.5
                  ],
                  "yaxis": "y2"
                },
                {
                  "hoverinfo": "skip",
                  "line": {
                    "color": "#9e9e9e",
                    "width": 1
                  },
                  "mode": "lines",
                  "type": "scatter",
                  "x": [
                    29.5,
                    29.5
                  ],
                  "xaxis": "x2",
                  "y": [
                    4.5,
                    6.5
                  ],
                  "yaxis": "y2"
                },
                {
                  "hoverinfo": "skip",
                  "line": {
                    "color": "#9e9e9e",
                    "width": 1
                  },
                  "mode": "lines",
                  "type": "scatter",
                  "x": [
                    29.5,
                    30.5
                  ],
                  "xaxis": "x2",
                  "y": [
                    4.5,
                    4.5
                  ],
                  "yaxis": "y2"
                },
                {
                  "hoverinfo": "skip",
                  "line": {
                    "color": "#9e9e9e",
                    "width": 1
                  },
                  "mode": "lines",
                  "type": "scatter",
                  "x": [
                    30.5,
                    30.5
                  ],
                  "xaxis": "x2",
                  "y": [
                    4.5,
                    -0.5
                  ],
                  "yaxis": "y2"
                },
                {
                  "hoverinfo": "skip",
                  "line": {
                    "color": "#9e9e9e",
                    "width": 1
                  },
                  "mode": "lines",
                  "type": "scatter",
                  "x": [
                    34.5,
                    34.5
                  ],
                  "xaxis": "x2",
                  "y": [
                    0.5,
                    6.5
                  ],
                  "yaxis": "y2"
                },
                {
                  "hoverinfo": "skip",
                  "line": {
                    "color": "#9e9e9e",
                    "width": 1
                  },
                  "mode": "lines",
                  "type": "scatter",
                  "x": [
                    34.5,
                    35.5
                  ],
                  "xaxis": "x2",
                  "y": [
                    0.5,
                    0.5
                  ],
                  "yaxis": "y2"
                },
                {
                  "hoverinfo": "skip",
                  "line": {
                    "color": "#9e9e9e",
                    "width": 1
                  },
                  "mode": "lines",
                  "type": "scatter",
                  "x": [
                    35.5,
                    35.5
                  ],
                  "xaxis": "x2",
                  "y": [
                    0.5,
                    -0.5
                  ],
                  "yaxis": "y2"
                },
                {
                  "hoverinfo": "skip",
                  "line": {
                    "color": "#9e9e9e",
                    "width": 1
                  },
                  "mode": "lines",
                  "type": "scatter",
                  "x": [
                    38.5,
                    38.5
                  ],
                  "xaxis": "x2",
                  "y": [
                    2.5,
                    6.5
                  ],
                  "yaxis": "y2"
                },
                {
                  "hoverinfo": "skip",
                  "line": {
                    "color": "#9e9e9e",
                    "width": 1
                  },
                  "mode": "lines",
                  "type": "scatter",
                  "x": [
                    38.5,
                    39.5
                  ],
                  "xaxis": "x2",
                  "y": [
                    2.5,
                    2.5
                  ],
                  "yaxis": "y2"
                },
                {
                  "hoverinfo": "skip",
                  "line": {
                    "color": "#9e9e9e",
                    "width": 1
                  },
                  "mode": "lines",
                  "type": "scatter",
                  "x": [
                    39.5,
                    39.5
                  ],
                  "xaxis": "x2",
                  "y": [
                    2.5,
                    -0.5
                  ],
                  "yaxis": "y2"
                },
                {
                  "hoverinfo": "skip",
                  "line": {
                    "color": "#9e9e9e",
                    "width": 1
                  },
                  "mode": "lines",
                  "type": "scatter",
                  "x": [
                    42.5,
                    42.5
                  ],
                  "xaxis": "x2",
                  "y": [
                    5.5,
                    6.5
                  ],
                  "yaxis": "y2"
                },
                {
                  "hoverinfo": "skip",
                  "line": {
                    "color": "#9e9e9e",
                    "width": 1
                  },
                  "mode": "lines",
                  "type": "scatter",
                  "x": [
                    42.5,
                    43.5
                  ],
                  "xaxis": "x2",
                  "y": [
                    5.5,
                    5.5
                  ],
                  "yaxis": "y2"
                },
                {
                  "hoverinfo": "skip",
                  "line": {
                    "color": "#9e9e9e",
                    "width": 1
                  },
                  "mode": "lines",
                  "type": "scatter",
                  "x": [
                    43.5,
                    43.5
                  ],
                  "xaxis": "x2",
                  "y": [
                    5.5,
                    -0.5
                  ],
                  "yaxis": "y2"
                },
                {
                  "hoverinfo": "skip",
                  "line": {
                    "color": "#9e9e9e",
                    "width": 1
                  },
                  "mode": "lines",
                  "type": "scatter",
                  "x": [
                    47.5,
                    47.5
                  ],
                  "xaxis": "x2",
                  "y": [
                    0.5,
                    6.5
                  ],
                  "yaxis": "y2"
                },
                {
                  "hoverinfo": "skip",
                  "line": {
                    "color": "#9e9e9e",
                    "width": 1
                  },
                  "mode": "lines",
                  "type": "scatter",
                  "x": [
                    47.5,
                    48.5
                  ],
                  "xaxis": "x2",
                  "y": [
                    0.5,
                    0.5
                  ],
                  "yaxis": "y2"
                },
                {
                  "hoverinfo": "skip",
                  "line": {
                    "color": "#9e9e9e",
                    "width": 1
                  },
                  "mode": "lines",
                  "type": "scatter",
                  "x": [
                    48.5,
                    48.5
                  ],
                  "xaxis": "x2",
                  "y": [
                    0.5,
                    -0.5
                  ],
                  "yaxis": "y2"
                },
                {
                  "colorscale": [
                    [
                      0,
                      "rgb(247,252,245)"
                    ],
                    [
                      0.125,
                      "rgb(229,245,224)"
                    ],
                    [
                      0.25,
                      "rgb(199,233,192)"
                    ],
                    [
                      0.375,
                      "rgb(161,217,155)"
                    ],
                    [
                      0.5,
                      "rgb(116,196,118)"
                    ],
                    [
                      0.625,
                      "rgb(65,171,93)"
                    ],
                    [
                      0.75,
                      "rgb(35,139,69)"
                    ],
                    [
                      0.875,
                      "rgb(0,109,44)"
                    ],
                    [
                      1,
                      "rgb(0,68,27)"
                    ]
                  ],
                  "customdata": [
                    [
                      "2021-01-01",
                      "y"
                    ],
                    [
                      "2021-01-02",
                      "y"
                    ],
                    [
                      "2021-01-03",
                      "y"
                    ],
                    [
                      "2021-01-04",
                      "y"
                    ],
                    [
                      "2021-01-05",
                      "y"
                    ],
                    [
                      "2021-01-06",
                      "y"
                    ],
                    [
                      "2021-01-07",
                      "y"
                    ],
                    [
                      "2021-01-08",
                      "y"
                    ],
                    [
                      "2021-01-09",
                      "y"
                    ],
                    [
                      "2021-01-10",
                      "y"
                    ],
                    [
                      "2021-01-11",
                      "y"
                    ],
                    [
                      "2021-01-12",
                      "y"
                    ],
                    [
                      "2021-01-13",
                      "y"
                    ],
                    [
                      "2021-01-14",
                      "y"
                    ],
                    [
                      "2021-01-15",
                      "y"
                    ],
                    [
                      "2021-01-16",
                      "y"
                    ],
                    [
                      "2021-01-17",
                      "y"
                    ],
                    [
                      "2021-01-18",
                      "y"
                    ],
                    [
                      "2021-01-19",
                      "y"
                    ],
                    [
                      "2021-01-20",
                      "y"
                    ],
                    [
                      "2021-01-21",
                      "y"
                    ],
                    [
                      "2021-01-22",
                      "y"
                    ],
                    [
                      "2021-01-23",
                      "y"
                    ],
                    [
                      "2021-01-24",
                      "y"
                    ],
                    [
                      "2021-01-25",
                      "y"
                    ],
                    [
                      "2021-01-26",
                      "y"
                    ],
                    [
                      "2021-01-27",
                      "y"
                    ],
                    [
                      "2021-01-28",
                      "y"
                    ],
                    [
                      "2021-01-29",
                      "y"
                    ],
                    [
                      "2021-01-30",
                      "y"
                    ],
                    [
                      "2021-01-31",
                      "y"
                    ],
                    [
                      "2021-02-01",
                      "y"
                    ],
                    [
                      "2021-02-02",
                      "y"
                    ],
                    [
                      "2021-02-03",
                      "y"
                    ],
                    [
                      "2021-02-04",
                      "y"
                    ],
                    [
                      "2021-02-05",
                      "y"
                    ],
                    [
                      "2021-02-06",
                      "y"
                    ],
                    [
                      "2021-02-07",
                      "y"
                    ],
                    [
                      "2021-02-08",
                      "y"
                    ],
                    [
                      "2021-02-09",
                      "y"
                    ],
                    [
                      "2021-02-10",
                      "y"
                    ],
                    [
                      "2021-02-11",
                      "y"
                    ],
                    [
                      "2021-02-12",
                      "y"
                    ],
                    [
                      "2021-02-13",
                      "y"
                    ],
                    [
                      "2021-02-14",
                      "y"
                    ],
                    [
                      "2021-02-15",
                      "y"
                    ],
                    [
                      "2021-02-16",
                      "y"
                    ],
                    [
                      "2021-02-17",
                      "y"
                    ],
                    [
                      "2021-02-18",
                      "y"
                    ],
                    [
                      "2021-02-19",
                      "y"
                    ],
                    [
                      "2021-02-20",
                      "y"
                    ],
                    [
                      "2021-02-21",
                      "y"
                    ],
                    [
                      "2021-02-22",
                      "y"
                    ],
                    [
                      "2021-02-23",
                      "y"
                    ],
                    [
                      "2021-02-24",
                      "y"
                    ],
                    [
                      "2021-02-25",
                      "y"
                    ],
                    [
                      "2021-02-26",
                      "y"
                    ],
                    [
                      "2021-02-27",
                      "y"
                    ],
                    [
                      "2021-02-28",
                      "y"
                    ],
                    [
                      "2021-03-01",
                      "y"
                    ],
                    [
                      "2021-03-02",
                      "y"
                    ],
                    [
                      "2021-03-03",
                      "y"
                    ],
                    [
                      "2021-03-04",
                      "y"
                    ],
                    [
                      "2021-03-05",
                      "y"
                    ],
                    [
                      "2021-03-06",
                      "y"
                    ],
                    [
                      "2021-03-07",
                      "y"
                    ],
                    [
                      "2021-03-08",
                      "y"
                    ],
                    [
                      "2021-03-09",
                      "y"
                    ],
                    [
                      "2021-03-10",
                      "y"
                    ],
                    [
                      "2021-03-11",
                      "y"
                    ],
                    [
                      "2021-03-12",
                      "y"
                    ],
                    [
                      "2021-03-13",
                      "y"
                    ],
                    [
                      "2021-03-14",
                      "y"
                    ],
                    [
                      "2021-03-15",
                      "y"
                    ],
                    [
                      "2021-03-16",
                      "y"
                    ],
                    [
                      "2021-03-17",
                      "y"
                    ],
                    [
                      "2021-03-18",
                      "y"
                    ],
                    [
                      "2021-03-19",
                      "y"
                    ],
                    [
                      "2021-03-20",
                      "y"
                    ],
                    [
                      "2021-03-21",
                      "y"
                    ],
                    [
                      "2021-03-22",
                      "y"
                    ],
                    [
                      "2021-03-23",
                      "y"
                    ],
                    [
                      "2021-03-24",
                      "y"
                    ],
                    [
                      "2021-03-25",
                      "y"
                    ],
                    [
                      "2021-03-26",
                      "y"
                    ],
                    [
                      "2021-03-27",
                      "y"
                    ],
                    [
                      "2021-03-28",
                      "y"
                    ],
                    [
                      "2021-03-29",
                      "y"
                    ],
                    [
                      "2021-03-30",
                      "y"
                    ],
                    [
                      "2021-03-31",
                      "y"
                    ],
                    [
                      "2021-04-01",
                      "y"
                    ],
                    [
                      "2021-04-02",
                      "y"
                    ],
                    [
                      "2021-04-03",
                      "y"
                    ],
                    [
                      "2021-04-04",
                      "y"
                    ],
                    [
                      "2021-04-05",
                      "y"
                    ],
                    [
                      "2021-04-06",
                      "y"
                    ],
                    [
                      "2021-04-07",
                      "y"
                    ],
                    [
                      "2021-04-08",
                      "y"
                    ],
                    [
                      "2021-04-09",
                      "y"
                    ],
                    [
                      "2021-04-10",
                      "y"
                    ],
                    [
                      "2021-04-11",
                      "y"
                    ],
                    [
                      "2021-04-12",
                      "y"
                    ],
                    [
                      "2021-04-13",
                      "y"
                    ],
                    [
                      "2021-04-14",
                      "y"
                    ],
                    [
                      "2021-04-15",
                      "y"
                    ],
                    [
                      "2021-04-16",
                      "y"
                    ],
                    [
                      "2021-04-17",
                      "y"
                    ],
                    [
                      "2021-04-18",
                      "y"
                    ],
                    [
                      "2021-04-19",
                      "y"
                    ],
                    [
                      "2021-04-20",
                      "y"
                    ],
                    [
                      "2021-04-21",
                      "y"
                    ],
                    [
                      "2021-04-22",
                      "y"
                    ],
                    [
                      "2021-04-23",
                      "y"
                    ],
                    [
                      "2021-04-24",
                      "y"
                    ],
                    [
                      "2021-04-25",
                      "y"
                    ],
                    [
                      "2021-04-26",
                      "y"
                    ],
                    [
                      "2021-04-27",
                      "y"
                    ],
                    [
                      "2021-04-28",
                      "y"
                    ],
                    [
                      "2021-04-29",
                      "y"
                    ],
                    [
                      "2021-04-30",
                      "y"
                    ],
                    [
                      "2021-05-01",
                      "y"
                    ],
                    [
                      "2021-05-02",
                      "y"
                    ],
                    [
                      "2021-05-03",
                      "y"
                    ],
                    [
                      "2021-05-04",
                      "y"
                    ],
                    [
                      "2021-05-05",
                      "y"
                    ],
                    [
                      "2021-05-06",
                      "y"
                    ],
                    [
                      "2021-05-07",
                      "y"
                    ],
                    [
                      "2021-05-08",
                      "y"
                    ],
                    [
                      "2021-05-09",
                      "y"
                    ],
                    [
                      "2021-05-10",
                      "y"
                    ],
                    [
                      "2021-05-11",
                      "y"
                    ],
                    [
                      "2021-05-12",
                      "y"
                    ],
                    [
                      "2021-05-13",
                      "y"
                    ],
                    [
                      "2021-05-14",
                      "y"
                    ],
                    [
                      "2021-05-15",
                      "y"
                    ],
                    [
                      "2021-05-16",
                      "y"
                    ],
                    [
                      "2021-05-17",
                      "y"
                    ],
                    [
                      "2021-05-18",
                      "y"
                    ],
                    [
                      "2021-05-19",
                      "y"
                    ],
                    [
                      "2021-05-20",
                      "y"
                    ],
                    [
                      "2021-05-21",
                      "y"
                    ],
                    [
                      "2021-05-22",
                      "y"
                    ],
                    [
                      "2021-05-23",
                      "y"
                    ],
                    [
                      "2021-05-24",
                      "y"
                    ],
                    [
                      "2021-05-25",
                      "y"
                    ],
                    [
                      "2021-05-26",
                      "y"
                    ],
                    [
                      "2021-05-27",
                      "y"
                    ],
                    [
                      "2021-05-28",
                      "y"
                    ],
                    [
                      "2021-05-29",
                      "y"
                    ],
                    [
                      "2021-05-30",
                      "y"
                    ],
                    [
                      "2021-05-31",
                      "y"
                    ],
                    [
                      "2021-06-01",
                      "y"
                    ],
                    [
                      "2021-06-02",
                      "y"
                    ],
                    [
                      "2021-06-03",
                      "y"
                    ],
                    [
                      "2021-06-04",
                      "y"
                    ],
                    [
                      "2021-06-05",
                      "y"
                    ],
                    [
                      "2021-06-06",
                      "y"
                    ],
                    [
                      "2021-06-07",
                      "y"
                    ],
                    [
                      "2021-06-08",
                      "y"
                    ],
                    [
                      "2021-06-09",
                      "y"
                    ],
                    [
                      "2021-06-10",
                      "y"
                    ],
                    [
                      "2021-06-11",
                      "y"
                    ],
                    [
                      "2021-06-12",
                      "y"
                    ],
                    [
                      "2021-06-13",
                      "y"
                    ],
                    [
                      "2021-06-14",
                      "y"
                    ],
                    [
                      "2021-06-15",
                      "y"
                    ],
                    [
                      "2021-06-16",
                      "y"
                    ],
                    [
                      "2021-06-17",
                      "y"
                    ],
                    [
                      "2021-06-18",
                      "y"
                    ],
                    [
                      "2021-06-19",
                      "y"
                    ],
                    [
                      "2021-06-20",
                      "y"
                    ],
                    [
                      "2021-06-21",
                      "y"
                    ],
                    [
                      "2021-06-22",
                      "y"
                    ],
                    [
                      "2021-06-23",
                      "y"
                    ],
                    [
                      "2021-06-24",
                      "y"
                    ],
                    [
                      "2021-06-25",
                      "y"
                    ],
                    [
                      "2021-06-26",
                      "y"
                    ],
                    [
                      "2021-06-27",
                      "y"
                    ],
                    [
                      "2021-06-28",
                      "y"
                    ],
                    [
                      "2021-06-29",
                      "y"
                    ],
                    [
                      "2021-06-30",
                      "y"
                    ],
                    [
                      "2021-07-01",
                      "y"
                    ],
                    [
                      "2021-07-02",
                      "y"
                    ],
                    [
                      "2021-07-03",
                      "y"
                    ],
                    [
                      "2021-07-04",
                      "y"
                    ],
                    [
                      "2021-07-05",
                      "y"
                    ],
                    [
                      "2021-07-06",
                      "y"
                    ],
                    [
                      "2021-07-07",
                      "y"
                    ],
                    [
                      "2021-07-08",
                      "y"
                    ],
                    [
                      "2021-07-09",
                      "y"
                    ],
                    [
                      "2021-07-10",
                      "y"
                    ],
                    [
                      "2021-07-11",
                      "y"
                    ],
                    [
                      "2021-07-12",
                      "y"
                    ],
                    [
                      "2021-07-13",
                      "y"
                    ],
                    [
                      "2021-07-14",
                      "y"
                    ],
                    [
                      "2021-07-15",
                      "y"
                    ],
                    [
                      "2021-07-16",
                      "y"
                    ],
                    [
                      "2021-07-17",
                      "y"
                    ],
                    [
                      "2021-07-18",
                      "y"
                    ],
                    [
                      "2021-07-19",
                      "y"
                    ],
                    [
                      "2021-07-20",
                      "y"
                    ],
                    [
                      "2021-07-21",
                      "y"
                    ],
                    [
                      "2021-07-22",
                      "y"
                    ],
                    [
                      "2021-07-23",
                      "y"
                    ],
                    [
                      "2021-07-24",
                      "y"
                    ],
                    [
                      "2021-07-25",
                      "y"
                    ],
                    [
                      "2021-07-26",
                      "y"
                    ],
                    [
                      "2021-07-27",
                      "y"
                    ],
                    [
                      "2021-07-28",
                      "y"
                    ],
                    [
                      "2021-07-29",
                      "y"
                    ],
                    [
                      "2021-07-30",
                      "y"
                    ],
                    [
                      "2021-07-31",
                      "y"
                    ],
                    [
                      "2021-08-01",
                      "y"
                    ],
                    [
                      "2021-08-02",
                      "y"
                    ],
                    [
                      "2021-08-03",
                      "y"
                    ],
                    [
                      "2021-08-04",
                      "y"
                    ],
                    [
                      "2021-08-05",
                      "y"
                    ],
                    [
                      "2021-08-06",
                      "y"
                    ],
                    [
                      "2021-08-07",
                      "y"
                    ],
                    [
                      "2021-08-08",
                      "y"
                    ],
                    [
                      "2021-08-09",
                      "y"
                    ],
                    [
                      "2021-08-10",
                      "y"
                    ],
                    [
                      "2021-08-11",
                      "y"
                    ],
                    [
                      "2021-08-12",
                      "y"
                    ],
                    [
                      "2021-08-13",
                      "y"
                    ],
                    [
                      "2021-08-14",
                      "y"
                    ],
                    [
                      "2021-08-15",
                      "y"
                    ],
                    [
                      "2021-08-16",
                      "y"
                    ],
                    [
                      "2021-08-17",
                      "y"
                    ],
                    [
                      "2021-08-18",
                      "y"
                    ],
                    [
                      "2021-08-19",
                      "y"
                    ],
                    [
                      "2021-08-20",
                      "y"
                    ],
                    [
                      "2021-08-21",
                      "y"
                    ],
                    [
                      "2021-08-22",
                      "y"
                    ],
                    [
                      "2021-08-23",
                      "y"
                    ],
                    [
                      "2021-08-24",
                      "y"
                    ],
                    [
                      "2021-08-25",
                      "y"
                    ],
                    [
                      "2021-08-26",
                      "y"
                    ],
                    [
                      "2021-08-27",
                      "y"
                    ],
                    [
                      "2021-08-28",
                      "y"
                    ],
                    [
                      "2021-08-29",
                      "y"
                    ],
                    [
                      "2021-08-30",
                      "y"
                    ],
                    [
                      "2021-08-31",
                      "y"
                    ],
                    [
                      "2021-09-01",
                      "y"
                    ],
                    [
                      "2021-09-02",
                      "y"
                    ],
                    [
                      "2021-09-03",
                      "y"
                    ],
                    [
                      "2021-09-04",
                      "y"
                    ],
                    [
                      "2021-09-05",
                      "y"
                    ],
                    [
                      "2021-09-06",
                      "y"
                    ],
                    [
                      "2021-09-07",
                      "y"
                    ],
                    [
                      "2021-09-08",
                      "y"
                    ],
                    [
                      "2021-09-09",
                      "y"
                    ],
                    [
                      "2021-09-10",
                      "y"
                    ],
                    [
                      "2021-09-11",
                      "y"
                    ],
                    [
                      "2021-09-12",
                      "y"
                    ],
                    [
                      "2021-09-13",
                      "y"
                    ],
                    [
                      "2021-09-14",
                      "y"
                    ],
                    [
                      "2021-09-15",
                      "y"
                    ],
                    [
                      "2021-09-16",
                      "y"
                    ],
                    [
                      "2021-09-17",
                      "y"
                    ],
                    [
                      "2021-09-18",
                      "y"
                    ],
                    [
                      "2021-09-19",
                      "y"
                    ],
                    [
                      "2021-09-20",
                      "y"
                    ],
                    [
                      "2021-09-21",
                      "y"
                    ],
                    [
                      "2021-09-22",
                      "y"
                    ],
                    [
                      "2021-09-23",
                      "y"
                    ],
                    [
                      "2021-09-24",
                      "y"
                    ],
                    [
                      "2021-09-25",
                      "y"
                    ],
                    [
                      "2021-09-26",
                      "y"
                    ],
                    [
                      "2021-09-27",
                      "y"
                    ],
                    [
                      "2021-09-28",
                      "y"
                    ],
                    [
                      "2021-09-29",
                      "y"
                    ],
                    [
                      "2021-09-30",
                      "y"
                    ],
                    [
                      "2021-10-01",
                      "y"
                    ],
                    [
                      "2021-10-02",
                      "y"
                    ],
                    [
                      "2021-10-03",
                      "y"
                    ],
                    [
                      "2021-10-04",
                      "y"
                    ],
                    [
                      "2021-10-05",
                      "y"
                    ],
                    [
                      "2021-10-06",
                      "y"
                    ],
                    [
                      "2021-10-07",
                      "y"
                    ],
                    [
                      "2021-10-08",
                      "y"
                    ],
                    [
                      "2021-10-09",
                      "y"
                    ],
                    [
                      "2021-10-10",
                      "y"
                    ],
                    [
                      "2021-10-11",
                      "y"
                    ],
                    [
                      "2021-10-12",
                      "y"
                    ],
                    [
                      "2021-10-13",
                      "y"
                    ],
                    [
                      "2021-10-14",
                      "y"
                    ],
                    [
                      "2021-10-15",
                      "y"
                    ],
                    [
                      "2021-10-16",
                      "y"
                    ],
                    [
                      "2021-10-17",
                      "y"
                    ],
                    [
                      "2021-10-18",
                      "y"
                    ],
                    [
                      "2021-10-19",
                      "y"
                    ],
                    [
                      "2021-10-20",
                      "y"
                    ],
                    [
                      "2021-10-21",
                      "y"
                    ],
                    [
                      "2021-10-22",
                      "y"
                    ],
                    [
                      "2021-10-23",
                      "y"
                    ],
                    [
                      "2021-10-24",
                      "y"
                    ],
                    [
                      "2021-10-25",
                      "y"
                    ],
                    [
                      "2021-10-26",
                      "y"
                    ],
                    [
                      "2021-10-27",
                      "y"
                    ],
                    [
                      "2021-10-28",
                      "y"
                    ],
                    [
                      "2021-10-29",
                      "y"
                    ],
                    [
                      "2021-10-30",
                      "y"
                    ],
                    [
                      "2021-10-31",
                      "y"
                    ],
                    [
                      "2021-11-01",
                      "y"
                    ],
                    [
                      "2021-11-02",
                      "y"
                    ],
                    [
                      "2021-11-03",
                      "y"
                    ],
                    [
                      "2021-11-04",
                      "y"
                    ],
                    [
                      "2021-11-05",
                      "y"
                    ],
                    [
                      "2021-11-06",
                      "y"
                    ],
                    [
                      "2021-11-07",
                      "y"
                    ],
                    [
                      "2021-11-08",
                      "y"
                    ],
                    [
                      "2021-11-09",
                      "y"
                    ],
                    [
                      "2021-11-10",
                      "y"
                    ],
                    [
                      "2021-11-11",
                      "y"
                    ],
                    [
                      "2021-11-12",
                      "y"
                    ],
                    [
                      "2021-11-13",
                      "y"
                    ],
                    [
                      "2021-11-14",
                      "y"
                    ],
                    [
                      "2021-11-15",
                      "y"
                    ],
                    [
                      "2021-11-16",
                      "y"
                    ],
                    [
                      "2021-11-17",
                      "y"
                    ],
                    [
                      "2021-11-18",
                      "y"
                    ],
                    [
                      "2021-11-19",
                      "y"
                    ],
                    [
                      "2021-11-20",
                      "y"
                    ],
                    [
                      "2021-11-21",
                      "y"
                    ],
                    [
                      "2021-11-22",
                      "y"
                    ],
                    [
                      "2021-11-23",
                      "y"
                    ],
                    [
                      "2021-11-24",
                      "y"
                    ],
                    [
                      "2021-11-25",
                      "y"
                    ],
                    [
                      "2021-11-26",
                      "y"
                    ],
                    [
                      "2021-11-27",
                      "y"
                    ],
                    [
                      "2021-11-28",
                      "y"
                    ],
                    [
                      "2021-11-29",
                      "y"
                    ],
                    [
                      "2021-11-30",
                      "y"
                    ],
                    [
                      "2021-12-01",
                      "y"
                    ],
                    [
                      "2021-12-02",
                      "y"
                    ],
                    [
                      "2021-12-03",
                      "y"
                    ],
                    [
                      "2021-12-04",
                      "y"
                    ],
                    [
                      "2021-12-05",
                      "y"
                    ],
                    [
                      "2021-12-06",
                      "y"
                    ],
                    [
                      "2021-12-07",
                      "y"
                    ],
                    [
                      "2021-12-08",
                      "y"
                    ],
                    [
                      "2021-12-09",
                      "y"
                    ],
                    [
                      "2021-12-10",
                      "y"
                    ],
                    [
                      "2021-12-11",
                      "y"
                    ],
                    [
                      "2021-12-12",
                      "y"
                    ],
                    [
                      "2021-12-13",
                      "y"
                    ],
                    [
                      "2021-12-14",
                      "y"
                    ],
                    [
                      "2021-12-15",
                      "y"
                    ],
                    [
                      "2021-12-16",
                      "y"
                    ],
                    [
                      "2021-12-17",
                      "y"
                    ],
                    [
                      "2021-12-18",
                      "y"
                    ],
                    [
                      "2021-12-19",
                      "y"
                    ],
                    [
                      "2021-12-20",
                      "y"
                    ],
                    [
                      "2021-12-21",
                      "y"
                    ],
                    [
                      "2021-12-22",
                      "y"
                    ],
                    [
                      "2021-12-23",
                      "y"
                    ],
                    [
                      "2021-12-24",
                      "y"
                    ],
                    [
                      "2021-12-25",
                      "y"
                    ],
                    [
                      "2021-12-26",
                      "y"
                    ],
                    [
                      "2021-12-27",
                      "y"
                    ],
                    [
                      "2021-12-28",
                      "y"
                    ],
                    [
                      "2021-12-29",
                      "y"
                    ],
                    [
                      "2021-12-30",
                      "y"
                    ],
                    [
                      "2021-12-31",
                      "y"
                    ]
                  ],
                  "hovertemplate": "%{customdata[0]} <br>Week=%{x} <br>%{customdata[1]}=%{z}",
                  "name": "2021",
                  "showscale": false,
                  "type": "heatmap",
                  "x": [
                    0,
                    0,
                    0,
                    1,
                    1,
                    1,
                    1,
                    1,
                    1,
                    1,
                    2,
                    2,
                    2,
                    2,
                    2,
                    2,
                    2,
                    3,
                    3,
                    3,
                    3,
                    3,
                    3,
                    3,
                    4,
                    4,
                    4,
                    4,
                    4,
                    4,
                    4,
                    5,
                    5,
                    5,
                    5,
                    5,
                    5,
                    5,
                    6,
                    6,
                    6,
                    6,
                    6,
                    6,
                    6,
                    7,
                    7,
                    7,
                    7,
                    7,
                    7,
                    7,
                    8,
                    8,
                    8,
                    8,
                    8,
                    8,
                    8,
                    9,
                    9,
                    9,
                    9,
                    9,
                    9,
                    9,
                    10,
                    10,
                    10,
                    10,
                    10,
                    10,
                    10,
                    11,
                    11,
                    11,
                    11,
                    11,
                    11,
                    11,
                    12,
                    12,
                    12,
                    12,
                    12,
                    12,
                    12,
                    13,
                    13,
                    13,
                    13,
                    13,
                    13,
                    13,
                    14,
                    14,
                    14,
                    14,
                    14,
                    14,
                    14,
                    15,
                    15,
                    15,
                    15,
                    15,
                    15,
                    15,
                    16,
                    16,
                    16,
                    16,
                    16,
                    16,
                    16,
                    17,
                    17,
                    17,
                    17,
                    17,
                    17,
                    17,
                    18,
                    18,
                    18,
                    18,
                    18,
                    18,
                    18,
                    19,
                    19,
                    19,
                    19,
                    19,
                    19,
                    19,
                    20,
                    20,
                    20,
                    20,
                    20,
                    20,
                    20,
                    21,
                    21,
                    21,
                    21,
                    21,
                    21,
                    21,
                    22,
                    22,
                    22,
                    22,
                    22,
                    22,
                    22,
                    23,
                    23,
                    23,
                    23,
                    23,
                    23,
                    23,
                    24,
                    24,
                    24,
                    24,
                    24,
                    24,
                    24,
                    25,
                    25,
                    25,
                    25,
                    25,
                    25,
                    25,
                    26,
                    26,
                    26,
                    26,
                    26,
                    26,
                    26,
                    27,
                    27,
                    27,
                    27,
                    27,
                    27,
                    27,
                    28,
                    28,
                    28,
                    28,
                    28,
                    28,
                    28,
                    29,
                    29,
                    29,
                    29,
                    29,
                    29,
                    29,
                    30,
                    30,
                    30,
                    30,
                    30,
                    30,
                    30,
                    31,
                    31,
                    31,
                    31,
                    31,
                    31,
                    31,
                    32,
                    32,
                    32,
                    32,
                    32,
                    32,
                    32,
                    33,
                    33,
                    33,
                    33,
                    33,
                    33,
                    33,
                    34,
                    34,
                    34,
                    34,
                    34,
                    34,
                    34,
                    35,
                    35,
                    35,
                    35,
                    35,
                    35,
                    35,
                    36,
                    36,
                    36,
                    36,
                    36,
                    36,
                    36,
                    37,
                    37,
                    37,
                    37,
                    37,
                    37,
                    37,
                    38,
                    38,
                    38,
                    38,
                    38,
                    38,
                    38,
                    39,
                    39,
                    39,
                    39,
                    39,
                    39,
                    39,
                    40,
                    40,
                    40,
                    40,
                    40,
                    40,
                    40,
                    41,
                    41,
                    41,
                    41,
                    41,
                    41,
                    41,
                    42,
                    42,
                    42,
                    42,
                    42,
                    42,
                    42,
                    43,
                    43,
                    43,
                    43,
                    43,
                    43,
                    43,
                    44,
                    44,
                    44,
                    44,
                    44,
                    44,
                    44,
                    45,
                    45,
                    45,
                    45,
                    45,
                    45,
                    45,
                    46,
                    46,
                    46,
                    46,
                    46,
                    46,
                    46,
                    47,
                    47,
                    47,
                    47,
                    47,
                    47,
                    47,
                    48,
                    48,
                    48,
                    48,
                    48,
                    48,
                    48,
                    49,
                    49,
                    49,
                    49,
                    49,
                    49,
                    49,
                    50,
                    50,
                    50,
                    50,
                    50,
                    50,
                    50,
                    51,
                    51,
                    51,
                    51,
                    51,
                    51,
                    51,
                    52,
                    52,
                    52,
                    52,
                    52
                  ],
                  "xaxis": "x3",
                  "xgap": 1,
                  "y": [
                    4,
                    5,
                    6,
                    0,
                    1,
                    2,
                    3,
                    4,
                    5,
                    6,
                    0,
                    1,
                    2,
                    3,
                    4,
                    5,
                    6,
                    0,
                    1,
                    2,
                    3,
                    4,
                    5,
                    6,
                    0,
                    1,
                    2,
                    3,
                    4,
                    5,
                    6,
                    0,
                    1,
                    2,
                    3,
                    4,
                    5,
                    6,
                    0,
                    1,
                    2,
                    3,
                    4,
                    5,
                    6,
                    0,
                    1,
                    2,
                    3,
                    4,
                    5,
                    6,
                    0,
                    1,
                    2,
                    3,
                    4,
                    5,
                    6,
                    0,
                    1,
                    2,
                    3,
                    4,
                    5,
                    6,
                    0,
                    1,
                    2,
                    3,
                    4,
                    5,
                    6,
                    0,
                    1,
                    2,
                    3,
                    4,
                    5,
                    6,
                    0,
                    1,
                    2,
                    3,
                    4,
                    5,
                    6,
                    0,
                    1,
                    2,
                    3,
                    4,
                    5,
                    6,
                    0,
                    1,
                    2,
                    3,
                    4,
                    5,
                    6,
                    0,
                    1,
                    2,
                    3,
                    4,
                    5,
                    6,
                    0,
                    1,
                    2,
                    3,
                    4,
                    5,
                    6,
                    0,
                    1,
                    2,
                    3,
                    4,
                    5,
                    6,
                    0,
                    1,
                    2,
                    3,
                    4,
                    5,
                    6,
                    0,
                    1,
                    2,
                    3,
                    4,
                    5,
                    6,
                    0,
                    1,
                    2,
                    3,
                    4,
                    5,
                    6,
                    0,
                    1,
                    2,
                    3,
                    4,
                    5,
                    6,
                    0,
                    1,
                    2,
                    3,
                    4,
                    5,
                    6,
                    0,
                    1,
                    2,
                    3,
                    4,
                    5,
                    6,
                    0,
                    1,
                    2,
                    3,
                    4,
                    5,
                    6,
                    0,
                    1,
                    2,
                    3,
                    4,
                    5,
                    6,
                    0,
                    1,
                    2,
                    3,
                    4,
                    5,
                    6,
                    0,
                    1,
                    2,
                    3,
                    4,
                    5,
                    6,
                    0,
                    1,
                    2,
                    3,
                    4,
                    5,
                    6,
                    0,
                    1,
                    2,
                    3,
                    4,
                    5,
                    6,
                    0,
                    1,
                    2,
                    3,
                    4,
                    5,
                    6,
                    0,
                    1,
                    2,
                    3,
                    4,
                    5,
                    6,
                    0,
                    1,
                    2,
                    3,
                    4,
                    5,
                    6,
                    0,
                    1,
                    2,
                    3,
                    4,
                    5,
                    6,
                    0,
                    1,
                    2,
                    3,
                    4,
                    5,
                    6,
                    0,
                    1,
                    2,
                    3,
                    4,
                    5,
                    6,
                    0,
                    1,
                    2,
                    3,
                    4,
                    5,
                    6,
                    0,
                    1,
                    2,
                    3,
                    4,
                    5,
                    6,
                    0,
                    1,
                    2,
                    3,
                    4,
                    5,
                    6,
                    0,
                    1,
                    2,
                    3,
                    4,
                    5,
                    6,
                    0,
                    1,
                    2,
                    3,
                    4,
                    5,
                    6,
                    0,
                    1,
                    2,
                    3,
                    4,
                    5,
                    6,
                    0,
                    1,
                    2,
                    3,
                    4,
                    5,
                    6,
                    0,
                    1,
                    2,
                    3,
                    4,
                    5,
                    6,
                    0,
                    1,
                    2,
                    3,
                    4,
                    5,
                    6,
                    0,
                    1,
                    2,
                    3,
                    4,
                    5,
                    6,
                    0,
                    1,
                    2,
                    3,
                    4,
                    5,
                    6,
                    0,
                    1,
                    2,
                    3,
                    4,
                    5,
                    6,
                    0,
                    1,
                    2,
                    3,
                    4,
                    5,
                    6,
                    0,
                    1,
                    2,
                    3,
                    4,
                    5,
                    6,
                    0,
                    1,
                    2,
                    3,
                    4,
                    5,
                    6,
                    0,
                    1,
                    2,
                    3,
                    4,
                    5,
                    6,
                    0,
                    1,
                    2,
                    3,
                    4
                  ],
                  "yaxis": "y3",
                  "ygap": 1,
                  "z": [
                    5,
                    12,
                    8,
                    11,
                    19,
                    11,
                    10,
                    17,
                    20,
                    23,
                    7,
                    11,
                    13,
                    18,
                    1,
                    12,
                    11,
                    22,
                    27,
                    2,
                    12,
                    18,
                    29,
                    21,
                    2,
                    8,
                    16,
                    5,
                    22,
                    15,
                    11,
                    20,
                    26,
                    4,
                    14,
                    6,
                    18,
                    0,
                    29,
                    3,
                    11,
                    21,
                    21,
                    16,
                    2,
                    9,
                    12,
                    21,
                    13,
                    4,
                    19,
                    14,
                    6,
                    13,
                    17,
                    18,
                    4,
                    2,
                    5,
                    18,
                    14,
                    21,
                    22,
                    28,
                    16,
                    4,
                    13,
                    3,
                    7,
                    26,
                    17,
                    17,
                    22,
                    12,
                    14,
                    6,
                    5,
                    12,
                    27,
                    16,
                    24,
                    28,
                    24,
                    2,
                    24,
                    4,
                    12,
                    25,
                    0,
                    19,
                    0,
                    29,
                    21,
                    22,
                    21,
                    24,
                    28,
                    19,
                    23,
                    4,
                    18,
                    10,
                    14,
                    29,
                    3,
                    15,
                    7,
                    12,
                    27,
                    0,
                    8,
                    10,
                    29,
                    19,
                    28,
                    4,
                    6,
                    19,
                    17,
                    9,
                    22,
                    16,
                    23,
                    21,
                    29,
                    2,
                    28,
                    26,
                    8,
                    26,
                    20,
                    3,
                    7,
                    2,
                    29,
                    6,
                    6,
                    25,
                    27,
                    11,
                    27,
                    2,
                    26,
                    23,
                    3,
                    12,
                    13,
                    26,
                    3,
                    5,
                    26,
                    17,
                    0,
                    26,
                    25,
                    0,
                    9,
                    20,
                    13,
                    11,
                    0,
                    20,
                    27,
                    18,
                    4,
                    16,
                    9,
                    8,
                    29,
                    29,
                    14,
                    1,
                    28,
                    7,
                    6,
                    2,
                    18,
                    14,
                    5,
                    20,
                    24,
                    11,
                    6,
                    25,
                    20,
                    11,
                    19,
                    26,
                    24,
                    12,
                    29,
                    6,
                    25,
                    7,
                    9,
                    17,
                    17,
                    5,
                    13,
                    17,
                    4,
                    22,
                    3,
                    21,
                    23,
                    13,
                    19,
                    15,
                    11,
                    13,
                    27,
                    16,
                    6,
                    25,
                    21,
                    2,
                    14,
                    28,
                    9,
                    1,
                    8,
                    11,
                    18,
                    1,
                    27,
                    17,
                    28,
                    1,
                    11,
                    23,
                    20,
                    18,
                    3,
                    13,
                    12,
                    25,
                    22,
                    28,
                    19,
                    19,
                    2,
                    4,
                    23,
                    14,
                    6,
                    26,
                    2,
                    17,
                    22,
                    14,
                    2,
                    0,
                    18,
                    26,
                    10,
                    19,
                    26,
                    10,
                    13,
                    23,
                    29,
                    20,
                    7,
                    0,
                    24,
                    15,
                    3,
                    26,
                    8,
                    29,
                    11,
                    1,
                    28,
                    12,
                    23,
                    5,
                    null,
                    null,
                    null,
                    null,
                    null,
                    null,
                    null,
                    null,
                    null,
                    null,
                    null,
                    null,
                    null,
                    null,
                    null,
                    null,
                    null,
                    null,
                    null,
                    null,
                    null,
                    null,
                    null,
                    null,
                    null,
                    null,
                    null,
                    null,
                    null,
                    null,
                    null,
                    null,
                    null,
                    null,
                    null,
                    null,
                    null,
                    null,
                    null,
                    null,
                    null,
                    null,
                    null,
                    null,
                    null,
                    null,
                    null,
                    null,
                    null,
                    null,
                    null,
                    null,
                    null,
                    null,
                    null,
                    null,
                    null,
                    null,
                    null,
                    null,
                    null,
                    null,
                    null,
                    null,
                    null,
                    null,
                    null,
                    null,
                    null,
                    null,
                    null,
                    null,
                    null,
                    null,
                    null,
                    null,
                    null,
                    null,
                    null,
                    null,
                    null,
                    null,
                    null,
                    null,
                    null,
                    null,
                    null,
                    null,
                    null
                  ],
                  "zmax": 29,
                  "zmin": 0
                },
                {
                  "hoverinfo": "skip",
                  "line": {
                    "color": "#9e9e9e",
                    "width": 1
                  },
                  "mode": "lines",
                  "type": "scatter",
                  "x": [
                    -0.5,
                    -0.5
                  ],
                  "xaxis": "x3",
                  "y": [
                    3.5,
                    6.5
                  ],
                  "yaxis": "y3"
                },
                {
                  "hoverinfo": "skip",
                  "line": {
                    "color": "#9e9e9e",
                    "width": 1
                  },
                  "mode": "lines",
                  "type": "scatter",
                  "x": [
                    -0.5,
                    0.5
                  ],
                  "xaxis": "x3",
                  "y": [
                    3.5,
                    3.5
                  ],
                  "yaxis": "y3"
                },
                {
                  "hoverinfo": "skip",
                  "line": {
                    "color": "#9e9e9e",
                    "width": 1
                  },
                  "mode": "lines",
                  "type": "scatter",
                  "x": [
                    0.5,
                    0.5
                  ],
                  "xaxis": "x3",
                  "y": [
                    3.5,
                    -0.5
                  ],
                  "yaxis": "y3"
                },
                {
                  "hoverinfo": "skip",
                  "line": {
                    "color": "#9e9e9e",
                    "width": 1
                  },
                  "mode": "lines",
                  "type": "scatter",
                  "x": [
                    4.5,
                    4.5
                  ],
                  "xaxis": "x3",
                  "y": [
                    -0.5,
                    6.5
                  ],
                  "yaxis": "y3"
                },
                {
                  "hoverinfo": "skip",
                  "line": {
                    "color": "#9e9e9e",
                    "width": 1
                  },
                  "mode": "lines",
                  "type": "scatter",
                  "x": [
                    8.5,
                    8.5
                  ],
                  "xaxis": "x3",
                  "y": [
                    -0.5,
                    6.5
                  ],
                  "yaxis": "y3"
                },
                {
                  "hoverinfo": "skip",
                  "line": {
                    "color": "#9e9e9e",
                    "width": 1
                  },
                  "mode": "lines",
                  "type": "scatter",
                  "x": [
                    12.5,
                    12.5
                  ],
                  "xaxis": "x3",
                  "y": [
                    2.5,
                    6.5
                  ],
                  "yaxis": "y3"
                },
                {
                  "hoverinfo": "skip",
                  "line": {
                    "color": "#9e9e9e",
                    "width": 1
                  },
                  "mode": "lines",
                  "type": "scatter",
                  "x": [
                    12.5,
                    13.5
                  ],
                  "xaxis": "x3",
                  "y": [
                    2.5,
                    2.5
                  ],
                  "yaxis": "y3"
                },
                {
                  "hoverinfo": "skip",
                  "line": {
                    "color": "#9e9e9e",
                    "width": 1
                  },
                  "mode": "lines",
                  "type": "scatter",
                  "x": [
                    13.5,
                    13.5
                  ],
                  "xaxis": "x3",
                  "y": [
                    2.5,
                    -0.5
                  ],
                  "yaxis": "y3"
                },
                {
                  "hoverinfo": "skip",
                  "line": {
                    "color": "#9e9e9e",
                    "width": 1
                  },
                  "mode": "lines",
                  "type": "scatter",
                  "x": [
                    16.5,
                    16.5
                  ],
                  "xaxis": "x3",
                  "y": [
                    4.5,
                    6.5
                  ],
                  "yaxis": "y3"
                },
                {
                  "hoverinfo": "skip",
                  "line": {
                    "color": "#9e9e9e",
                    "width": 1
                  },
                  "mode": "lines",
                  "type": "scatter",
                  "x": [
                    16.5,
                    17.5
                  ],
                  "xaxis": "x3",
                  "y": [
                    4.5,
                    4.5
                  ],
                  "yaxis": "y3"
                },
                {
                  "hoverinfo": "skip",
                  "line": {
                    "color": "#9e9e9e",
                    "width": 1
                  },
                  "mode": "lines",
                  "type": "scatter",
                  "x": [
                    17.5,
                    17.5
                  ],
                  "xaxis": "x3",
                  "y": [
                    4.5,
                    -0.5
                  ],
                  "yaxis": "y3"
                },
                {
                  "hoverinfo": "skip",
                  "line": {
                    "color": "#9e9e9e",
                    "width": 1
                  },
                  "mode": "lines",
                  "type": "scatter",
                  "x": [
                    21.5,
                    21.5
                  ],
                  "xaxis": "x3",
                  "y": [
                    0.5,
                    6.5
                  ],
                  "yaxis": "y3"
                },
                {
                  "hoverinfo": "skip",
                  "line": {
                    "color": "#9e9e9e",
                    "width": 1
                  },
                  "mode": "lines",
                  "type": "scatter",
                  "x": [
                    21.5,
                    22.5
                  ],
                  "xaxis": "x3",
                  "y": [
                    0.5,
                    0.5
                  ],
                  "yaxis": "y3"
                },
                {
                  "hoverinfo": "skip",
                  "line": {
                    "color": "#9e9e9e",
                    "width": 1
                  },
                  "mode": "lines",
                  "type": "scatter",
                  "x": [
                    22.5,
                    22.5
                  ],
                  "xaxis": "x3",
                  "y": [
                    0.5,
                    -0.5
                  ],
                  "yaxis": "y3"
                },
                {
                  "hoverinfo": "skip",
                  "line": {
                    "color": "#9e9e9e",
                    "width": 1
                  },
                  "mode": "lines",
                  "type": "scatter",
                  "x": [
                    25.5,
                    25.5
                  ],
                  "xaxis": "x3",
                  "y": [
                    2.5,
                    6.5
                  ],
                  "yaxis": "y3"
                },
                {
                  "hoverinfo": "skip",
                  "line": {
                    "color": "#9e9e9e",
                    "width": 1
                  },
                  "mode": "lines",
                  "type": "scatter",
                  "x": [
                    25.5,
                    26.5
                  ],
                  "xaxis": "x3",
                  "y": [
                    2.5,
                    2.5
                  ],
                  "yaxis": "y3"
                },
                {
                  "hoverinfo": "skip",
                  "line": {
                    "color": "#9e9e9e",
                    "width": 1
                  },
                  "mode": "lines",
                  "type": "scatter",
                  "x": [
                    26.5,
                    26.5
                  ],
                  "xaxis": "x3",
                  "y": [
                    2.5,
                    -0.5
                  ],
                  "yaxis": "y3"
                },
                {
                  "hoverinfo": "skip",
                  "line": {
                    "color": "#9e9e9e",
                    "width": 1
                  },
                  "mode": "lines",
                  "type": "scatter",
                  "x": [
                    29.5,
                    29.5
                  ],
                  "xaxis": "x3",
                  "y": [
                    5.5,
                    6.5
                  ],
                  "yaxis": "y3"
                },
                {
                  "hoverinfo": "skip",
                  "line": {
                    "color": "#9e9e9e",
                    "width": 1
                  },
                  "mode": "lines",
                  "type": "scatter",
                  "x": [
                    29.5,
                    30.5
                  ],
                  "xaxis": "x3",
                  "y": [
                    5.5,
                    5.5
                  ],
                  "yaxis": "y3"
                },
                {
                  "hoverinfo": "skip",
                  "line": {
                    "color": "#9e9e9e",
                    "width": 1
                  },
                  "mode": "lines",
                  "type": "scatter",
                  "x": [
                    30.5,
                    30.5
                  ],
                  "xaxis": "x3",
                  "y": [
                    5.5,
                    -0.5
                  ],
                  "yaxis": "y3"
                },
                {
                  "hoverinfo": "skip",
                  "line": {
                    "color": "#9e9e9e",
                    "width": 1
                  },
                  "mode": "lines",
                  "type": "scatter",
                  "x": [
                    34.5,
                    34.5
                  ],
                  "xaxis": "x3",
                  "y": [
                    1.5,
                    6.5
                  ],
                  "yaxis": "y3"
                },
                {
                  "hoverinfo": "skip",
                  "line": {
                    "color": "#9e9e9e",
                    "width": 1
                  },
                  "mode": "lines",
                  "type": "scatter",
                  "x": [
                    34.5,
                    35.5
                  ],
                  "xaxis": "x3",
                  "y": [
                    1.5,
                    1.5
                  ],
                  "yaxis": "y3"
                },
                {
                  "hoverinfo": "skip",
                  "line": {
                    "color": "#9e9e9e",
                    "width": 1
                  },
                  "mode": "lines",
                  "type": "scatter",
                  "x": [
                    35.5,
                    35.5
                  ],
                  "xaxis": "x3",
                  "y": [
                    1.5,
                    -0.5
                  ],
                  "yaxis": "y3"
                },
                {
                  "hoverinfo": "skip",
                  "line": {
                    "color": "#9e9e9e",
                    "width": 1
                  },
                  "mode": "lines",
                  "type": "scatter",
                  "x": [
                    38.5,
                    38.5
                  ],
                  "xaxis": "x3",
                  "y": [
                    3.5,
                    6.5
                  ],
                  "yaxis": "y3"
                },
                {
                  "hoverinfo": "skip",
                  "line": {
                    "color": "#9e9e9e",
                    "width": 1
                  },
                  "mode": "lines",
                  "type": "scatter",
                  "x": [
                    38.5,
                    39.5
                  ],
                  "xaxis": "x3",
                  "y": [
                    3.5,
                    3.5
                  ],
                  "yaxis": "y3"
                },
                {
                  "hoverinfo": "skip",
                  "line": {
                    "color": "#9e9e9e",
                    "width": 1
                  },
                  "mode": "lines",
                  "type": "scatter",
                  "x": [
                    39.5,
                    39.5
                  ],
                  "xaxis": "x3",
                  "y": [
                    3.5,
                    -0.5
                  ],
                  "yaxis": "y3"
                },
                {
                  "hoverinfo": "skip",
                  "line": {
                    "color": "#9e9e9e",
                    "width": 1
                  },
                  "mode": "lines",
                  "type": "scatter",
                  "x": [
                    43.5,
                    43.5
                  ],
                  "xaxis": "x3",
                  "y": [
                    -0.5,
                    6.5
                  ],
                  "yaxis": "y3"
                },
                {
                  "hoverinfo": "skip",
                  "line": {
                    "color": "#9e9e9e",
                    "width": 1
                  },
                  "mode": "lines",
                  "type": "scatter",
                  "x": [
                    47.5,
                    47.5
                  ],
                  "xaxis": "x3",
                  "y": [
                    1.5,
                    6.5
                  ],
                  "yaxis": "y3"
                },
                {
                  "hoverinfo": "skip",
                  "line": {
                    "color": "#9e9e9e",
                    "width": 1
                  },
                  "mode": "lines",
                  "type": "scatter",
                  "x": [
                    47.5,
                    48.5
                  ],
                  "xaxis": "x3",
                  "y": [
                    1.5,
                    1.5
                  ],
                  "yaxis": "y3"
                },
                {
                  "hoverinfo": "skip",
                  "line": {
                    "color": "#9e9e9e",
                    "width": 1
                  },
                  "mode": "lines",
                  "type": "scatter",
                  "x": [
                    48.5,
                    48.5
                  ],
                  "xaxis": "x3",
                  "y": [
                    1.5,
                    -0.5
                  ],
                  "yaxis": "y3"
                }
              ],
              "layout": {
                "font": {
                  "color": "#9e9e9e",
                  "size": 10
                },
                "height": 450,
                "margin": {
                  "b": 20,
                  "t": 20
                },
                "plot_bgcolor": "#fff",
                "showlegend": false,
                "template": {
                  "data": {
                    "bar": [
                      {
                        "error_x": {
                          "color": "#2a3f5f"
                        },
                        "error_y": {
                          "color": "#2a3f5f"
                        },
                        "marker": {
                          "line": {
                            "color": "#E5ECF6",
                            "width": 0.5
                          },
                          "pattern": {
                            "fillmode": "overlay",
                            "size": 10,
                            "solidity": 0.2
                          }
                        },
                        "type": "bar"
                      }
                    ],
                    "barpolar": [
                      {
                        "marker": {
                          "line": {
                            "color": "#E5ECF6",
                            "width": 0.5
                          },
                          "pattern": {
                            "fillmode": "overlay",
                            "size": 10,
                            "solidity": 0.2
                          }
                        },
                        "type": "barpolar"
                      }
                    ],
                    "carpet": [
                      {
                        "aaxis": {
                          "endlinecolor": "#2a3f5f",
                          "gridcolor": "white",
                          "linecolor": "white",
                          "minorgridcolor": "white",
                          "startlinecolor": "#2a3f5f"
                        },
                        "baxis": {
                          "endlinecolor": "#2a3f5f",
                          "gridcolor": "white",
                          "linecolor": "white",
                          "minorgridcolor": "white",
                          "startlinecolor": "#2a3f5f"
                        },
                        "type": "carpet"
                      }
                    ],
                    "choropleth": [
                      {
                        "colorbar": {
                          "outlinewidth": 0,
                          "ticks": ""
                        },
                        "type": "choropleth"
                      }
                    ],
                    "contour": [
                      {
                        "colorbar": {
                          "outlinewidth": 0,
                          "ticks": ""
                        },
                        "colorscale": [
                          [
                            0,
                            "#0d0887"
                          ],
                          [
                            0.1111111111111111,
                            "#46039f"
                          ],
                          [
                            0.2222222222222222,
                            "#7201a8"
                          ],
                          [
                            0.3333333333333333,
                            "#9c179e"
                          ],
                          [
                            0.4444444444444444,
                            "#bd3786"
                          ],
                          [
                            0.5555555555555556,
                            "#d8576b"
                          ],
                          [
                            0.6666666666666666,
                            "#ed7953"
                          ],
                          [
                            0.7777777777777778,
                            "#fb9f3a"
                          ],
                          [
                            0.8888888888888888,
                            "#fdca26"
                          ],
                          [
                            1,
                            "#f0f921"
                          ]
                        ],
                        "type": "contour"
                      }
                    ],
                    "contourcarpet": [
                      {
                        "colorbar": {
                          "outlinewidth": 0,
                          "ticks": ""
                        },
                        "type": "contourcarpet"
                      }
                    ],
                    "heatmap": [
                      {
                        "colorbar": {
                          "outlinewidth": 0,
                          "ticks": ""
                        },
                        "colorscale": [
                          [
                            0,
                            "#0d0887"
                          ],
                          [
                            0.1111111111111111,
                            "#46039f"
                          ],
                          [
                            0.2222222222222222,
                            "#7201a8"
                          ],
                          [
                            0.3333333333333333,
                            "#9c179e"
                          ],
                          [
                            0.4444444444444444,
                            "#bd3786"
                          ],
                          [
                            0.5555555555555556,
                            "#d8576b"
                          ],
                          [
                            0.6666666666666666,
                            "#ed7953"
                          ],
                          [
                            0.7777777777777778,
                            "#fb9f3a"
                          ],
                          [
                            0.8888888888888888,
                            "#fdca26"
                          ],
                          [
                            1,
                            "#f0f921"
                          ]
                        ],
                        "type": "heatmap"
                      }
                    ],
                    "heatmapgl": [
                      {
                        "colorbar": {
                          "outlinewidth": 0,
                          "ticks": ""
                        },
                        "colorscale": [
                          [
                            0,
                            "#0d0887"
                          ],
                          [
                            0.1111111111111111,
                            "#46039f"
                          ],
                          [
                            0.2222222222222222,
                            "#7201a8"
                          ],
                          [
                            0.3333333333333333,
                            "#9c179e"
                          ],
                          [
                            0.4444444444444444,
                            "#bd3786"
                          ],
                          [
                            0.5555555555555556,
                            "#d8576b"
                          ],
                          [
                            0.6666666666666666,
                            "#ed7953"
                          ],
                          [
                            0.7777777777777778,
                            "#fb9f3a"
                          ],
                          [
                            0.8888888888888888,
                            "#fdca26"
                          ],
                          [
                            1,
                            "#f0f921"
                          ]
                        ],
                        "type": "heatmapgl"
                      }
                    ],
                    "histogram": [
                      {
                        "marker": {
                          "pattern": {
                            "fillmode": "overlay",
                            "size": 10,
                            "solidity": 0.2
                          }
                        },
                        "type": "histogram"
                      }
                    ],
                    "histogram2d": [
                      {
                        "colorbar": {
                          "outlinewidth": 0,
                          "ticks": ""
                        },
                        "colorscale": [
                          [
                            0,
                            "#0d0887"
                          ],
                          [
                            0.1111111111111111,
                            "#46039f"
                          ],
                          [
                            0.2222222222222222,
                            "#7201a8"
                          ],
                          [
                            0.3333333333333333,
                            "#9c179e"
                          ],
                          [
                            0.4444444444444444,
                            "#bd3786"
                          ],
                          [
                            0.5555555555555556,
                            "#d8576b"
                          ],
                          [
                            0.6666666666666666,
                            "#ed7953"
                          ],
                          [
                            0.7777777777777778,
                            "#fb9f3a"
                          ],
                          [
                            0.8888888888888888,
                            "#fdca26"
                          ],
                          [
                            1,
                            "#f0f921"
                          ]
                        ],
                        "type": "histogram2d"
                      }
                    ],
                    "histogram2dcontour": [
                      {
                        "colorbar": {
                          "outlinewidth": 0,
                          "ticks": ""
                        },
                        "colorscale": [
                          [
                            0,
                            "#0d0887"
                          ],
                          [
                            0.1111111111111111,
                            "#46039f"
                          ],
                          [
                            0.2222222222222222,
                            "#7201a8"
                          ],
                          [
                            0.3333333333333333,
                            "#9c179e"
                          ],
                          [
                            0.4444444444444444,
                            "#bd3786"
                          ],
                          [
                            0.5555555555555556,
                            "#d8576b"
                          ],
                          [
                            0.6666666666666666,
                            "#ed7953"
                          ],
                          [
                            0.7777777777777778,
                            "#fb9f3a"
                          ],
                          [
                            0.8888888888888888,
                            "#fdca26"
                          ],
                          [
                            1,
                            "#f0f921"
                          ]
                        ],
                        "type": "histogram2dcontour"
                      }
                    ],
                    "mesh3d": [
                      {
                        "colorbar": {
                          "outlinewidth": 0,
                          "ticks": ""
                        },
                        "type": "mesh3d"
                      }
                    ],
                    "parcoords": [
                      {
                        "line": {
                          "colorbar": {
                            "outlinewidth": 0,
                            "ticks": ""
                          }
                        },
                        "type": "parcoords"
                      }
                    ],
                    "pie": [
                      {
                        "automargin": true,
                        "type": "pie"
                      }
                    ],
                    "scatter": [
                      {
                        "fillpattern": {
                          "fillmode": "overlay",
                          "size": 10,
                          "solidity": 0.2
                        },
                        "type": "scatter"
                      }
                    ],
                    "scatter3d": [
                      {
                        "line": {
                          "colorbar": {
                            "outlinewidth": 0,
                            "ticks": ""
                          }
                        },
                        "marker": {
                          "colorbar": {
                            "outlinewidth": 0,
                            "ticks": ""
                          }
                        },
                        "type": "scatter3d"
                      }
                    ],
                    "scattercarpet": [
                      {
                        "marker": {
                          "colorbar": {
                            "outlinewidth": 0,
                            "ticks": ""
                          }
                        },
                        "type": "scattercarpet"
                      }
                    ],
                    "scattergeo": [
                      {
                        "marker": {
                          "colorbar": {
                            "outlinewidth": 0,
                            "ticks": ""
                          }
                        },
                        "type": "scattergeo"
                      }
                    ],
                    "scattergl": [
                      {
                        "marker": {
                          "colorbar": {
                            "outlinewidth": 0,
                            "ticks": ""
                          }
                        },
                        "type": "scattergl"
                      }
                    ],
                    "scattermapbox": [
                      {
                        "marker": {
                          "colorbar": {
                            "outlinewidth": 0,
                            "ticks": ""
                          }
                        },
                        "type": "scattermapbox"
                      }
                    ],
                    "scatterpolar": [
                      {
                        "marker": {
                          "colorbar": {
                            "outlinewidth": 0,
                            "ticks": ""
                          }
                        },
                        "type": "scatterpolar"
                      }
                    ],
                    "scatterpolargl": [
                      {
                        "marker": {
                          "colorbar": {
                            "outlinewidth": 0,
                            "ticks": ""
                          }
                        },
                        "type": "scatterpolargl"
                      }
                    ],
                    "scatterternary": [
                      {
                        "marker": {
                          "colorbar": {
                            "outlinewidth": 0,
                            "ticks": ""
                          }
                        },
                        "type": "scatterternary"
                      }
                    ],
                    "surface": [
                      {
                        "colorbar": {
                          "outlinewidth": 0,
                          "ticks": ""
                        },
                        "colorscale": [
                          [
                            0,
                            "#0d0887"
                          ],
                          [
                            0.1111111111111111,
                            "#46039f"
                          ],
                          [
                            0.2222222222222222,
                            "#7201a8"
                          ],
                          [
                            0.3333333333333333,
                            "#9c179e"
                          ],
                          [
                            0.4444444444444444,
                            "#bd3786"
                          ],
                          [
                            0.5555555555555556,
                            "#d8576b"
                          ],
                          [
                            0.6666666666666666,
                            "#ed7953"
                          ],
                          [
                            0.7777777777777778,
                            "#fb9f3a"
                          ],
                          [
                            0.8888888888888888,
                            "#fdca26"
                          ],
                          [
                            1,
                            "#f0f921"
                          ]
                        ],
                        "type": "surface"
                      }
                    ],
                    "table": [
                      {
                        "cells": {
                          "fill": {
                            "color": "#EBF0F8"
                          },
                          "line": {
                            "color": "white"
                          }
                        },
                        "header": {
                          "fill": {
                            "color": "#C8D4E3"
                          },
                          "line": {
                            "color": "white"
                          }
                        },
                        "type": "table"
                      }
                    ]
                  },
                  "layout": {
                    "annotationdefaults": {
                      "arrowcolor": "#2a3f5f",
                      "arrowhead": 0,
                      "arrowwidth": 1
                    },
                    "autotypenumbers": "strict",
                    "coloraxis": {
                      "colorbar": {
                        "outlinewidth": 0,
                        "ticks": ""
                      }
                    },
                    "colorscale": {
                      "diverging": [
                        [
                          0,
                          "#8e0152"
                        ],
                        [
                          0.1,
                          "#c51b7d"
                        ],
                        [
                          0.2,
                          "#de77ae"
                        ],
                        [
                          0.3,
                          "#f1b6da"
                        ],
                        [
                          0.4,
                          "#fde0ef"
                        ],
                        [
                          0.5,
                          "#f7f7f7"
                        ],
                        [
                          0.6,
                          "#e6f5d0"
                        ],
                        [
                          0.7,
                          "#b8e186"
                        ],
                        [
                          0.8,
                          "#7fbc41"
                        ],
                        [
                          0.9,
                          "#4d9221"
                        ],
                        [
                          1,
                          "#276419"
                        ]
                      ],
                      "sequential": [
                        [
                          0,
                          "#0d0887"
                        ],
                        [
                          0.1111111111111111,
                          "#46039f"
                        ],
                        [
                          0.2222222222222222,
                          "#7201a8"
                        ],
                        [
                          0.3333333333333333,
                          "#9c179e"
                        ],
                        [
                          0.4444444444444444,
                          "#bd3786"
                        ],
                        [
                          0.5555555555555556,
                          "#d8576b"
                        ],
                        [
                          0.6666666666666666,
                          "#ed7953"
                        ],
                        [
                          0.7777777777777778,
                          "#fb9f3a"
                        ],
                        [
                          0.8888888888888888,
                          "#fdca26"
                        ],
                        [
                          1,
                          "#f0f921"
                        ]
                      ],
                      "sequentialminus": [
                        [
                          0,
                          "#0d0887"
                        ],
                        [
                          0.1111111111111111,
                          "#46039f"
                        ],
                        [
                          0.2222222222222222,
                          "#7201a8"
                        ],
                        [
                          0.3333333333333333,
                          "#9c179e"
                        ],
                        [
                          0.4444444444444444,
                          "#bd3786"
                        ],
                        [
                          0.5555555555555556,
                          "#d8576b"
                        ],
                        [
                          0.6666666666666666,
                          "#ed7953"
                        ],
                        [
                          0.7777777777777778,
                          "#fb9f3a"
                        ],
                        [
                          0.8888888888888888,
                          "#fdca26"
                        ],
                        [
                          1,
                          "#f0f921"
                        ]
                      ]
                    },
                    "colorway": [
                      "#636efa",
                      "#EF553B",
                      "#00cc96",
                      "#ab63fa",
                      "#FFA15A",
                      "#19d3f3",
                      "#FF6692",
                      "#B6E880",
                      "#FF97FF",
                      "#FECB52"
                    ],
                    "font": {
                      "color": "#2a3f5f"
                    },
                    "geo": {
                      "bgcolor": "white",
                      "lakecolor": "white",
                      "landcolor": "#E5ECF6",
                      "showlakes": true,
                      "showland": true,
                      "subunitcolor": "white"
                    },
                    "hoverlabel": {
                      "align": "left"
                    },
                    "hovermode": "closest",
                    "mapbox": {
                      "style": "light"
                    },
                    "paper_bgcolor": "white",
                    "plot_bgcolor": "#E5ECF6",
                    "polar": {
                      "angularaxis": {
                        "gridcolor": "white",
                        "linecolor": "white",
                        "ticks": ""
                      },
                      "bgcolor": "#E5ECF6",
                      "radialaxis": {
                        "gridcolor": "white",
                        "linecolor": "white",
                        "ticks": ""
                      }
                    },
                    "scene": {
                      "xaxis": {
                        "backgroundcolor": "#E5ECF6",
                        "gridcolor": "white",
                        "gridwidth": 2,
                        "linecolor": "white",
                        "showbackground": true,
                        "ticks": "",
                        "zerolinecolor": "white"
                      },
                      "yaxis": {
                        "backgroundcolor": "#E5ECF6",
                        "gridcolor": "white",
                        "gridwidth": 2,
                        "linecolor": "white",
                        "showbackground": true,
                        "ticks": "",
                        "zerolinecolor": "white"
                      },
                      "zaxis": {
                        "backgroundcolor": "#E5ECF6",
                        "gridcolor": "white",
                        "gridwidth": 2,
                        "linecolor": "white",
                        "showbackground": true,
                        "ticks": "",
                        "zerolinecolor": "white"
                      }
                    },
                    "shapedefaults": {
                      "line": {
                        "color": "#2a3f5f"
                      }
                    },
                    "ternary": {
                      "aaxis": {
                        "gridcolor": "white",
                        "linecolor": "white",
                        "ticks": ""
                      },
                      "baxis": {
                        "gridcolor": "white",
                        "linecolor": "white",
                        "ticks": ""
                      },
                      "bgcolor": "#E5ECF6",
                      "caxis": {
                        "gridcolor": "white",
                        "linecolor": "white",
                        "ticks": ""
                      }
                    },
                    "title": {
                      "x": 0.05
                    },
                    "xaxis": {
                      "automargin": true,
                      "gridcolor": "white",
                      "linecolor": "white",
                      "ticks": "",
                      "title": {
                        "standoff": 15
                      },
                      "zerolinecolor": "white",
                      "zerolinewidth": 2
                    },
                    "yaxis": {
                      "automargin": true,
                      "gridcolor": "white",
                      "linecolor": "white",
                      "ticks": "",
                      "title": {
                        "standoff": 15
                      },
                      "zerolinecolor": "white",
                      "zerolinewidth": 2
                    }
                  }
                },
                "title": {
                  "text": ""
                },
                "xaxis": {
                  "anchor": "y",
                  "domain": [
                    0,
                    1
                  ],
                  "showgrid": false,
                  "showline": false,
                  "tickmode": "array",
                  "ticktext": [
                    "January",
                    "February",
                    "March",
                    "April",
                    "May",
                    "June",
                    "July",
                    "August",
                    "September",
                    "October",
                    "November",
                    "December"
                  ],
                  "tickvals": [
                    1.5,
                    5.909090909090909,
                    10.318181818181818,
                    14.727272727272727,
                    19.136363636363637,
                    23.545454545454547,
                    27.954545454545453,
                    32.36363636363636,
                    36.77272727272727,
                    41.18181818181818,
                    45.59090909090909,
                    50
                  ],
                  "zeroline": false
                },
                "xaxis2": {
                  "anchor": "y2",
                  "domain": [
                    0,
                    1
                  ],
                  "showgrid": false,
                  "showline": false,
                  "tickmode": "array",
                  "ticktext": [
                    "January",
                    "February",
                    "March",
                    "April",
                    "May",
                    "June",
                    "July",
                    "August",
                    "September",
                    "October",
                    "November",
                    "December"
                  ],
                  "tickvals": [
                    1.5,
                    5.909090909090909,
                    10.318181818181818,
                    14.727272727272727,
                    19.136363636363637,
                    23.545454545454547,
                    27.954545454545453,
                    32.36363636363636,
                    36.77272727272727,
                    41.18181818181818,
                    45.59090909090909,
                    50
                  ],
                  "zeroline": false
                },
                "xaxis3": {
                  "anchor": "y3",
                  "domain": [
                    0,
                    1
                  ],
                  "showgrid": false,
                  "showline": false,
                  "tickmode": "array",
                  "ticktext": [
                    "January",
                    "February",
                    "March",
                    "April",
                    "May",
                    "June",
                    "July",
                    "August",
                    "September",
                    "October",
                    "November",
                    "December"
                  ],
                  "tickvals": [
                    1.5,
                    5.909090909090909,
                    10.318181818181818,
                    14.727272727272727,
                    19.136363636363637,
                    23.545454545454547,
                    27.954545454545453,
                    32.36363636363636,
                    36.77272727272727,
                    41.18181818181818,
                    45.59090909090909,
                    50
                  ],
                  "zeroline": false
                },
                "yaxis": {
                  "anchor": "x",
                  "autorange": "reversed",
                  "domain": [
                    0.72,
                    1
                  ],
                  "showgrid": false,
                  "showline": false,
                  "tickmode": "array",
                  "ticktext": [
                    "Mon",
                    "Tue",
                    "Wed",
                    "Thu",
                    "Fri",
                    "Sat",
                    "Sun"
                  ],
                  "tickvals": [
                    0,
                    1,
                    2,
                    3,
                    4,
                    5,
                    6
                  ],
                  "zeroline": false
                },
                "yaxis2": {
                  "anchor": "x2",
                  "autorange": "reversed",
                  "domain": [
                    0.36,
                    0.6399999999999999
                  ],
                  "showgrid": false,
                  "showline": false,
                  "tickmode": "array",
                  "ticktext": [
                    "Mon",
                    "Tue",
                    "Wed",
                    "Thu",
                    "Fri",
                    "Sat",
                    "Sun"
                  ],
                  "tickvals": [
                    0,
                    1,
                    2,
                    3,
                    4,
                    5,
                    6
                  ],
                  "zeroline": false
                },
                "yaxis3": {
                  "anchor": "x3",
                  "autorange": "reversed",
                  "domain": [
                    0,
                    0.27999999999999997
                  ],
                  "showgrid": false,
                  "showline": false,
                  "tickmode": "array",
                  "ticktext": [
                    "Mon",
                    "Tue",
                    "Wed",
                    "Thu",
                    "Fri",
                    "Sat",
                    "Sun"
                  ],
                  "tickvals": [
                    0,
                    1,
                    2,
                    3,
                    4,
                    5,
                    6
                  ],
                  "zeroline": false
                }
              }
            }
          },
          "metadata": {},
          "output_type": "display_data"
        }
      ],
      "source": [
        "dummy_start_date = \"2019-01-01\"\n",
        "dummy_end_date = \"2021-10-03\"\n",
        "\n",
        "# date range from start date to end date and random\n",
        "# column named value using amount of days as shape\n",
        "dummy_df = pd.DataFrame({\n",
        "    \"ds\": pd.date_range(dummy_start_date, dummy_end_date),\n",
        "    \"value\": np.random.randint(low=0, high=30,\n",
        "size=(pd.to_datetime(dummy_end_date) - pd.to_datetime(dummy_start_date)).days + 1,),\n",
        "})\n",
        "\n",
        "print(dummy_df)\n",
        "\n",
        "fig = calplot(\n",
        "         dummy_df,\n",
        "         x=\"ds\",\n",
        "         y=\"value\"\n",
        ")\n",
        "fig.show()"
      ]
    }
  ],
  "metadata": {
    "colab": {
      "provenance": []
    },
    "kernelspec": {
      "display_name": "Python 3",
      "name": "python3"
    },
    "language_info": {
      "codemirror_mode": {
        "name": "ipython",
        "version": 3
      },
      "file_extension": ".py",
      "mimetype": "text/x-python",
      "name": "python",
      "nbconvert_exporter": "python",
      "pygments_lexer": "ipython3",
      "version": "3.10.9"
    }
  },
  "nbformat": 4,
  "nbformat_minor": 0
}
