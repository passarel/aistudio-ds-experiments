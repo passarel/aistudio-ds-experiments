{
 "cells": [
  {
   "cell_type": "markdown",
   "metadata": {},
   "source": [
    "# Webscraping"
   ]
  },
  {
   "cell_type": "markdown",
   "metadata": {},
   "source": [
    "## Importação das bibliotecas\n"
   ]
  },
  {
   "cell_type": "code",
   "execution_count": 1,
   "metadata": {},
   "outputs": [],
   "source": [
    "from selenium import webdriver\n",
    "from selenium.webdriver.common.by import By\n",
    "import requests\n",
    "import shutil\n",
    "import os\n",
    "from os import path\n",
    "import json\n",
    "import re"
   ]
  },
  {
   "cell_type": "code",
   "execution_count": 2,
   "metadata": {},
   "outputs": [],
   "source": [
    "# Driver do google chrome\n",
    "driver = webdriver.Chrome()\n",
    "# Acessa o site do IMDB\n",
    "driver.get('https://www.imdb.com/')"
   ]
  },
  {
   "cell_type": "code",
   "execution_count": 3,
   "metadata": {},
   "outputs": [],
   "source": [
    "# Acessa o menu\n",
    "driver.find_element(By.ID, \"imdbHeader-navDrawerOpen--desktop\").click()"
   ]
  },
  {
   "cell_type": "code",
   "execution_count": 4,
   "metadata": {},
   "outputs": [],
   "source": [
    "# Acessa os 250 melhores filmes\n",
    "pagMelhores = driver.find_element(By.XPATH, '//*[@id=\"imdbHeader\"]/div[2]/aside/div/div[2]/div/div[1]/span/div/div/ul/a[2]/span').click()\n",
    "\n",
    "pagMelhoresFilmes = driver.current_url "
   ]
  },
  {
   "cell_type": "code",
   "execution_count": 5,
   "metadata": {},
   "outputs": [],
   "source": [
    "# Aqui será feito o download do poster em uma pasta \n",
    "path_to_folder = './img_posters'\n",
    "\n",
    "if not path.exists(path_to_folder):\n",
    "    os.mkdir(path_to_folder)\n",
    "    \n",
    "def download_poster(poster_url, title):\n",
    "    response = requests.get(poster_url, stream=True)\n",
    "    with open(f'{path_to_folder}/{title}.png', 'wb') as f:\n",
    "        shutil.copyfileobj(response.raw, f)\n",
    "\n",
    "    return f'{path_to_folder}/{title}.png'"
   ]
  },
  {
   "cell_type": "code",
   "execution_count": 7,
   "metadata": {},
   "outputs": [],
   "source": [
    "# Aqui será feito a coleta dos dados dos filmes da página dos 250 melhores filmes\n",
    "listaFilmes = []\n",
    "for numFilme in range(1, 251):\n",
    "    filme = {}\n",
    "    titulo = driver.find_elements(By.XPATH, f'//*[@id=\"main\"]/div/span/div/div/div[3]/table/tbody/tr[{numFilme}]/td[2]/a') # Busca o titulo do filme \n",
    "    ano = driver.find_elements(By.XPATH, f'//*[@id=\"main\"]/div/span/div/div/div[3]/table/tbody/tr[{numFilme}]/td[2]/span') # Busca o ano do filme\n",
    "    poster = driver.find_elements(By.XPATH, f'//*[@id=\"main\"]/div/span/div/div/div[3]/table/tbody/tr[{numFilme}]/td[1]/a/img') # Busca o poster do filme\n",
    "    notaIMDB = driver.find_elements(By.XPATH, f'//*[@id=\"main\"]/div/span/div/div/div[3]/table/tbody/tr[{numFilme}]/td[3]/strong') # Busca a nota do filme\n",
    "\n",
    "    for elemTitle in titulo:\n",
    "        titulo = elemTitle.text\n",
    "        filme['titulo'] = titulo\n",
    "\n",
    "    for elemAno in ano:\n",
    "        filme['ano'] = elemAno.text\n",
    "        \n",
    "    for elemNota in notaIMDB:\n",
    "        elemNotaConv = elemNota.text \n",
    "        filme['nota imdb'] = elemNotaConv\n",
    "        \n",
    "    for i in poster:\n",
    "        urlPoster = i.get_attribute('src')\n",
    "        imagemPoster = download_poster(urlPoster, titulo)\n",
    "        filme['url poster na pasta'] = imagemPoster\n",
    "             \n",
    "    driver.find_element(By.XPATH, f'//*[@id=\"main\"]/div/span/div/div/div[3]/table/tbody/tr[{numFilme}]/td[2]/a').click()\n",
    "    url = driver.find_elements(By.XPATH,'//*[@id=\"__next\"]/main/div/section[1]/section/div[3]/section/section/div[3]/div[1]/div/div[1]/div/a') # Busca a url do filme\n",
    "    diretores = driver.find_elements(By.XPATH,'//*[@id=\"__next\"]/main/div/section[1]/div/section/div/div[1]/section[4]/ul/li[1]') # Busca diretores do filme\n",
    "    ListGenero = driver.find_elements(By.XPATH,'//*[@id=\"__next\"]/main/div/section[1]/section/div[3]/section/section/div[3]/div[2]/div[1]/div[1]/div/div[2]/a/span') # Busca genero do filme\n",
    "\n",
    "    for elemUrl in url:\n",
    "        try:\n",
    "            urlFilme = elemUrl.get_attribute('href')\n",
    "            filme['url poster'] = urlFilme\n",
    "        except:\n",
    "            urlFilme = elemUrl.get_attribute('href')\n",
    "            urlFilme = None\n",
    "        \n",
    "    for elemGenero in ListGenero:\n",
    "        try:\n",
    "            filme['genero'] = elemGenero.text\n",
    "        except:\n",
    "            elemGenero = None\n",
    "        \n",
    "    for elemDirect in diretores:\n",
    "        try:\n",
    "            diretoresFat = elemDirect.text[8:]\n",
    "            filme['diretores'] = diretoresFat\n",
    "        except: \n",
    "            diretoresFat = elemDirect.text[8:]\n",
    "            diretoresFat = None\n",
    "        \n",
    "    listaFilmes.append(filme)\n",
    "\n",
    "    driver.get(pagMelhoresFilmes) \n",
    "   \n",
    "# Escreve os dados coletados em um arquivo json\n",
    "with open('filmes.json', 'w') as arq:\n",
    "    json.dump(listaFilmes, arq, indent=2)"
   ]
  }
 ],
 "metadata": {
  "kernelspec": {
   "display_name": "Python 3.10.6 64-bit (microsoft store)",
   "language": "python",
   "name": "python3"
  },
  "language_info": {
   "codemirror_mode": {
    "name": "ipython",
    "version": 3
   },
   "file_extension": ".py",
   "mimetype": "text/x-python",
   "name": "python",
   "nbconvert_exporter": "python",
   "pygments_lexer": "ipython3",
   "version": "3.10.6"
  },
  "orig_nbformat": 4,
  "vscode": {
   "interpreter": {
    "hash": "ab4020b22aa0af336a18b3a77a18a4a6f563ef6e3d818e14ea4f4432fff65fa3"
   }
  }
 },
 "nbformat": 4,
 "nbformat_minor": 2
}
