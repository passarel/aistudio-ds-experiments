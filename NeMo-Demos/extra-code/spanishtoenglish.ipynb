{
 "cells": [
  {
   "cell_type": "markdown",
   "id": "d21c72a8-e082-4283-a626-230f03f15713",
   "metadata": {},
   "source": [
    "# Application Example: Spanish to English Translation\r\n",
    "\r\n",
    "This notebook demonstrates how to use NVIDIA NeMo (https://github.com/NVIDIA/NeMo) to build an interactive demo that translates Spanish audio files to English, as well as Spanish text to English.\r\n",
    "\r\n",
    "## Steps:\r\n",
    "\r\n",
    "1. **Instantiate Pre-Trained NeMo Models from NVIDIA NGC**\r\n",
    "   - Utilize the models provided by NVIDIA NGC to start the process.\r\n",
    "\r\n",
    "2. **Transcribe Audio with English Speech Recognition Model**\r\n",
    "   - The transcription is carried out using a specific model for English speech recognition.\r\n",
    "\r\n",
    "3. **Translate Text to English with Automatic Translation Model**\r\n",
    "   - After transcription, the Spanish text is translated into English using an automatic translation model.\r\n"
   ]
  },
  {
   "cell_type": "markdown",
   "id": "d3eef8a1-f912-4509-a119-42112147c71a",
   "metadata": {},
   "source": [
    "### Import all the necessary packages"
   ]
  },
  {
   "cell_type": "code",
   "execution_count": 49,
   "id": "df6b119b-aff5-4487-a9d6-7647b7bc13e1",
   "metadata": {},
   "outputs": [],
   "source": [
    "import ipywidgets as widgets\n",
    "from IPython.display import display, Audio\n",
    "import ipywidgets as widgets\n",
    "from IPython.display import display, Audio\n",
    "import IPython"
   ]
  },
  {
   "cell_type": "code",
   "execution_count": 50,
   "id": "bdf7075e-1e78-4b37-8589-27befcefee3f",
   "metadata": {},
   "outputs": [],
   "source": [
    "# Ignore pre-production warnings\n",
    "import warnings\n",
    "warnings.filterwarnings('ignore')\n",
    "import nemo\n",
    "# Import Speech Recognition collection\n",
    "import nemo.collections.asr as nemo_asr\n",
    "# Import Natural Language Processing collection\n",
    "import nemo.collections.nlp as nemo_nlp\n",
    "# Import Speech Synthesis collection\n",
    "import nemo.collections.tts as nemo_tts\n",
    "# We'll use this to listen to audio\n",
    "import IPython"
   ]
  },
  {
   "cell_type": "markdown",
   "id": "7eaf5b4d-e7d7-4784-8adf-c839b62c1d4f",
   "metadata": {},
   "source": [
    "### Starting MLFlow experiment"
   ]
  },
  {
   "cell_type": "code",
   "execution_count": 51,
   "id": "de9d55ef-e880-4daf-b61b-f7cf64c8be2d",
   "metadata": {},
   "outputs": [
    {
     "data": {
      "text/plain": [
       "<Experiment: artifact_location='/phoenix/mlflow/488162201757723049', creation_time=1707186401657, experiment_id='488162201757723049', last_update_time=1707186401657, lifecycle_stage='active', name='NeMoInferencePipeline', tags={}>"
      ]
     },
     "execution_count": 51,
     "metadata": {},
     "output_type": "execute_result"
    }
   ],
   "source": [
    "import mlflow\n",
    "mlflow.set_experiment(\"NeMoInferencePipeline\")\n"
   ]
  },
  {
   "cell_type": "markdown",
   "id": "28f86a4a-2067-4a6b-9848-7535144c35ac",
   "metadata": {},
   "source": [
    "### Loading from local saved models\r",
    "Here, instead of downloading the models directly from NGC via code, we are showing that we can access the models that were downloaded previously, using Ai Studio assets manager\n"
   ]
  },
  {
   "cell_type": "code",
   "execution_count": 52,
   "id": "42c941e0-a2fc-4029-9772-62238f3dab5c",
   "metadata": {},
   "outputs": [
    {
     "name": "stderr",
     "output_type": "stream",
     "text": [
      "[NeMo W 2024-02-06 09:18:52 modelPT:161] If you intend to do training or fine-tuning, please call the ModelPT.setup_training_data() method and provide a valid configuration file to setup the train data loader.\n",
      "    Train config : \n",
      "    manifest_filepath: /raid/noneval.json\n",
      "    sample_rate: 16000\n",
      "    labels:\n",
      "    - ' '\n",
      "    - a\n",
      "    - b\n",
      "    - c\n",
      "    - d\n",
      "    - e\n",
      "    - f\n",
      "    - g\n",
      "    - h\n",
      "    - i\n",
      "    - j\n",
      "    - k\n",
      "    - l\n",
      "    - m\n",
      "    - 'n'\n",
      "    - o\n",
      "    - p\n",
      "    - q\n",
      "    - r\n",
      "    - s\n",
      "    - t\n",
      "    - u\n",
      "    - v\n",
      "    - w\n",
      "    - x\n",
      "    - 'y'\n",
      "    - z\n",
      "    - ''''\n",
      "    - á\n",
      "    - é\n",
      "    - í\n",
      "    - ó\n",
      "    - ú\n",
      "    - ñ\n",
      "    - ü\n",
      "    batch_size: 16\n",
      "    trim_silence: true\n",
      "    max_duration: 16.7\n",
      "    shuffle: true\n",
      "    is_tarred: false\n",
      "    tarred_audio_filepaths: null\n",
      "    num_workers: 8\n",
      "    pin_memory: true\n",
      "    \n",
      "[NeMo W 2024-02-06 09:18:52 modelPT:168] If you intend to do validation, please call the ModelPT.setup_validation_data() or ModelPT.setup_multiple_validation_data() method and provide a valid configuration file to setup the validation data loader(s). \n",
      "    Validation config : \n",
      "    manifest_filepath: /raid/dev.json\n",
      "    sample_rate: 16000\n",
      "    labels:\n",
      "    - ' '\n",
      "    - a\n",
      "    - b\n",
      "    - c\n",
      "    - d\n",
      "    - e\n",
      "    - f\n",
      "    - g\n",
      "    - h\n",
      "    - i\n",
      "    - j\n",
      "    - k\n",
      "    - l\n",
      "    - m\n",
      "    - 'n'\n",
      "    - o\n",
      "    - p\n",
      "    - q\n",
      "    - r\n",
      "    - s\n",
      "    - t\n",
      "    - u\n",
      "    - v\n",
      "    - w\n",
      "    - x\n",
      "    - 'y'\n",
      "    - z\n",
      "    - ''''\n",
      "    - á\n",
      "    - é\n",
      "    - í\n",
      "    - ó\n",
      "    - ú\n",
      "    - ñ\n",
      "    - ü\n",
      "    batch_size: 32\n",
      "    shuffle: false\n",
      "    num_workers: 8\n",
      "    pin_memory: true\n",
      "    \n"
     ]
    },
    {
     "name": "stdout",
     "output_type": "stream",
     "text": [
      "[NeMo I 2024-02-06 09:18:52 features:289] PADDING: 16\n",
      "[NeMo I 2024-02-06 09:18:54 save_restore_connector:249] Model EncDecCTCModel was successfully restored from /mnt/c/Users/ViDi132/Desktop/ModelsNGC/stt_es_quartznet15x5/stt_es_quartznet15x5.nemo.\n",
      "[NeMo I 2024-02-06 09:19:49 tokenizer_utils:179] Getting YouTokenToMeTokenizer with model: /tmp/tmp_3z7ck45/tokenizer.32000.BPE.model with r2l: False.\n",
      "[NeMo I 2024-02-06 09:19:49 tokenizer_utils:179] Getting YouTokenToMeTokenizer with model: /tmp/tmp_3z7ck45/tokenizer.32000.BPE.model with r2l: False.\n"
     ]
    },
    {
     "name": "stderr",
     "output_type": "stream",
     "text": [
      "[NeMo W 2024-02-06 09:19:49 modelPT:161] If you intend to do training or fine-tuning, please call the ModelPT.setup_training_data() method and provide a valid configuration file to setup the train data loader.\n",
      "    Train config : \n",
      "    src_file_name: /raid/sharded_tarfiles_60_even/batches.tokens.16000._OP_1..302_CL_.tar\n",
      "    tgt_file_name: /raid/sharded_tarfiles_60_even/batches.tokens.16000._OP_1..302_CL_.tar\n",
      "    tokens_in_batch: 16000\n",
      "    clean: true\n",
      "    max_seq_length: 512\n",
      "    cache_ids: false\n",
      "    cache_data_per_node: false\n",
      "    use_cache: false\n",
      "    shuffle: true\n",
      "    num_samples: -1\n",
      "    drop_last: false\n",
      "    pin_memory: false\n",
      "    num_workers: 8\n",
      "    load_from_cached_dataset: false\n",
      "    reverse_lang_direction: true\n",
      "    load_from_tarred_dataset: true\n",
      "    metadata_path: /raid/sharded_tarfiles_60_even/metadata.json\n",
      "    tar_shuffle_n: 100\n",
      "    \n",
      "[NeMo W 2024-02-06 09:19:49 modelPT:168] If you intend to do validation, please call the ModelPT.setup_validation_data() or ModelPT.setup_multiple_validation_data() method and provide a valid configuration file to setup the validation data loader(s). \n",
      "    Validation config : \n",
      "    src_file_name: /raid/newstest2012-es-en.clean.tok.src\n",
      "    tgt_file_name: /raid/newstest2012-es-en.clean.tok.ref\n",
      "    tokens_in_batch: 512\n",
      "    clean: false\n",
      "    max_seq_length: 512\n",
      "    cache_ids: false\n",
      "    cache_data_per_node: false\n",
      "    use_cache: false\n",
      "    shuffle: false\n",
      "    num_samples: -1\n",
      "    drop_last: false\n",
      "    pin_memory: false\n",
      "    num_workers: 8\n",
      "    load_from_cached_dataset: false\n",
      "    reverse_lang_direction: false\n",
      "    load_from_tarred_dataset: false\n",
      "    metadata_path: null\n",
      "    tar_shuffle_n: 100\n",
      "    \n",
      "[NeMo W 2024-02-06 09:19:49 modelPT:174] Please call the ModelPT.setup_test_data() or ModelPT.setup_multiple_test_data() method and provide a valid configuration file to setup the test data loader(s).\n",
      "    Test config : \n",
      "    src_file_name: /raid/newstest2013-es-en.clean.tok.src\n",
      "    tgt_file_name: /raid/newstest2013-es-en.clean.tok.ref\n",
      "    tokens_in_batch: 512\n",
      "    clean: false\n",
      "    max_seq_length: 512\n",
      "    cache_ids: false\n",
      "    cache_data_per_node: false\n",
      "    use_cache: false\n",
      "    shuffle: false\n",
      "    num_samples: -1\n",
      "    drop_last: false\n",
      "    pin_memory: false\n",
      "    num_workers: 8\n",
      "    load_from_cached_dataset: false\n",
      "    reverse_lang_direction: false\n",
      "    load_from_tarred_dataset: false\n",
      "    metadata_path: null\n",
      "    tar_shuffle_n: 100\n",
      "    \n"
     ]
    },
    {
     "name": "stdout",
     "output_type": "stream",
     "text": [
      "[NeMo I 2024-02-06 09:19:54 nlp_overrides:752] Model MTEncDecModel was successfully restored from /mnt/c/Users/ViDi132/Desktop/ModelsNGC/nmt_es_en_transformer12x2/nmt_es_en_transformer12x2.nemo.\n"
     ]
    },
    {
     "name": "stderr",
     "output_type": "stream",
     "text": [
      " NeMo-text-processing :: INFO     :: Creating ClassifyFst grammars.\n",
      "I0206 09:20:01.148831 140647469093312 tokenize_and_classify.py:86] Creating ClassifyFst grammars.\n",
      "[NeMo W 2024-02-06 09:20:29 experimental:26] `<class 'nemo.collections.tts.g2p.models.i18n_ipa.IpaG2p'>` is experimental and not ready for production yet. Use at your own risk.\n",
      "[NeMo W 2024-02-06 09:20:34 i18n_ipa:124] apply_to_oov_word=None, This means that some of words will remain unchanged if they are not handled by any of the rules in self.parse_one_word(). This may be intended if phonemes and chars are both valid inputs, otherwise, you may see unexpected deletions in your input.\n",
      "[NeMo W 2024-02-06 09:20:34 experimental:26] `<class 'nemo.collections.common.tokenizers.text_to_speech.tts_tokenizers.IPATokenizer'>` is experimental and not ready for production yet. Use at your own risk.\n",
      "[NeMo W 2024-02-06 09:20:34 modelPT:161] If you intend to do training or fine-tuning, please call the ModelPT.setup_training_data() method and provide a valid configuration file to setup the train data loader.\n",
      "    Train config : \n",
      "    dataset:\n",
      "      _target_: nemo.collections.tts.torch.data.TTSDataset\n",
      "      manifest_filepath: /data3/LJSpeech/nvidia_ljspeech_train.json\n",
      "      sample_rate: 22050\n",
      "      sup_data_path: /data3/LJSpeech/tmp_ignoreamb/\n",
      "      sup_data_types:\n",
      "      - align_prior_matrix\n",
      "      - pitch\n",
      "      n_fft: 1024\n",
      "      win_length: 1024\n",
      "      hop_length: 256\n",
      "      window: hann\n",
      "      n_mels: 80\n",
      "      lowfreq: 0\n",
      "      highfreq: 8000\n",
      "      max_duration: null\n",
      "      min_duration: 0.1\n",
      "      ignore_file: null\n",
      "      trim: false\n",
      "      pitch_fmin: 65.40639132514966\n",
      "      pitch_fmax: 2093.004522404789\n",
      "      pitch_norm: true\n",
      "      pitch_mean: 212.35873413085938\n",
      "      pitch_std: 68.52806091308594\n",
      "      use_beta_binomial_interpolator: true\n",
      "    dataloader_params:\n",
      "      drop_last: false\n",
      "      shuffle: true\n",
      "      batch_size: 32\n",
      "      num_workers: 12\n",
      "    \n",
      "[NeMo W 2024-02-06 09:20:34 modelPT:168] If you intend to do validation, please call the ModelPT.setup_validation_data() or ModelPT.setup_multiple_validation_data() method and provide a valid configuration file to setup the validation data loader(s). \n",
      "    Validation config : \n",
      "    dataset:\n",
      "      _target_: nemo.collections.tts.torch.data.TTSDataset\n",
      "      manifest_filepath: /data3/LJSpeech/nvidia_ljspeech_val.json\n",
      "      sample_rate: 22050\n",
      "      sup_data_path: /data3/LJSpeech/tmp_ignoreamb/\n",
      "      sup_data_types:\n",
      "      - align_prior_matrix\n",
      "      - pitch\n",
      "      n_fft: 1024\n",
      "      win_length: 1024\n",
      "      hop_length: 256\n",
      "      window: hann\n",
      "      n_mels: 80\n",
      "      lowfreq: 0\n",
      "      highfreq: 8000\n",
      "      max_duration: null\n",
      "      min_duration: null\n",
      "      ignore_file: null\n",
      "      trim: false\n",
      "      pitch_fmin: 65.40639132514966\n",
      "      pitch_fmax: 2093.004522404789\n",
      "      pitch_norm: true\n",
      "      pitch_mean: 212.35873413085938\n",
      "      pitch_std: 68.52806091308594\n",
      "      use_beta_binomial_interpolator: true\n",
      "    dataloader_params:\n",
      "      drop_last: false\n",
      "      shuffle: false\n",
      "      batch_size: 32\n",
      "      num_workers: 8\n",
      "    \n"
     ]
    },
    {
     "name": "stdout",
     "output_type": "stream",
     "text": [
      "[NeMo I 2024-02-06 09:20:34 features:289] PADDING: 1\n",
      "[NeMo I 2024-02-06 09:20:34 save_restore_connector:249] Model FastPitchModel was successfully restored from /mnt/c/Users/ViDi132/Desktop/ModelsNGC/tts_en_fastpitch/tts_en_fastpitch_align_ipa.nemo.\n"
     ]
    },
    {
     "name": "stderr",
     "output_type": "stream",
     "text": [
      "[NeMo W 2024-02-06 09:20:43 modelPT:161] If you intend to do training or fine-tuning, please call the ModelPT.setup_training_data() method and provide a valid configuration file to setup the train data loader.\n",
      "    Train config : \n",
      "    dataset:\n",
      "      _target_: nemo.collections.tts.data.tts_dataset.VocoderDataset\n",
      "      manifest_filepath: /ws/mel-dataset/Hifitts-VCTK-FP-mels-118-large/hifigan_train.json\n",
      "      sample_rate: 44100\n",
      "      n_segments: 16384\n",
      "      max_duration: null\n",
      "      min_duration: 0.75\n",
      "      load_precomputed_mel: true\n",
      "      hop_length: 512\n",
      "    dataloader_params:\n",
      "      drop_last: false\n",
      "      shuffle: true\n",
      "      batch_size: 40\n",
      "      num_workers: 4\n",
      "      pin_memory: true\n",
      "    \n",
      "[NeMo W 2024-02-06 09:20:43 modelPT:168] If you intend to do validation, please call the ModelPT.setup_validation_data() or ModelPT.setup_multiple_validation_data() method and provide a valid configuration file to setup the validation data loader(s). \n",
      "    Validation config : \n",
      "    dataset:\n",
      "      _target_: nemo.collections.tts.data.tts_dataset.VocoderDataset\n",
      "      manifest_filepath: /ws/mel-dataset/Hifitts-VCTK-FP-mels-118-large/hifigan_val.json\n",
      "      sample_rate: 44100\n",
      "      n_segments: 131072\n",
      "      max_duration: null\n",
      "      min_duration: 3\n",
      "      load_precomputed_mel: true\n",
      "      hop_length: 512\n",
      "    dataloader_params:\n",
      "      drop_last: false\n",
      "      shuffle: false\n",
      "      batch_size: 16\n",
      "      num_workers: 4\n",
      "      pin_memory: true\n",
      "    \n"
     ]
    },
    {
     "name": "stdout",
     "output_type": "stream",
     "text": [
      "[NeMo I 2024-02-06 09:20:43 features:289] PADDING: 0\n",
      "[NeMo I 2024-02-06 09:20:43 features:297] STFT using exact pad\n",
      "[NeMo I 2024-02-06 09:20:43 features:289] PADDING: 0\n",
      "[NeMo I 2024-02-06 09:20:43 features:297] STFT using exact pad\n",
      "[NeMo I 2024-02-06 09:20:44 save_restore_connector:249] Model HifiGanModel was successfully restored from /mnt/c/Users/ViDi132/Desktop/ModelsNGC/tts_en_hifigan_adapter/tts_en_hifigan_adapter.nemo.\n"
     ]
    }
   ],
   "source": [
    "quartznet = nemo_asr.models.EncDecCTCModel.restore_from(restore_path=\"/mnt/c/Users/ViDi132/Desktop/ModelsNGC/stt_es_quartznet15x5/stt_es_quartznet15x5.nemo\").cuda()\n",
    "\n",
    "translate = nemo_nlp.models.MTEncDecModel.restore_from(restore_path=\"/mnt/c/Users/ViDi132/Desktop/ModelsNGC/nmt_es_en_transformer12x2/nmt_es_en_transformer12x2.nemo\").cuda()\n",
    "\n",
    "spectrogram_generator = nemo_tts.models.FastPitchModel.restore_from(restore_path=\"/mnt/c/Users/ViDi132/Desktop/ModelsNGC/tts_en_fastpitch/tts_en_fastpitch_align_ipa.nemo\").cuda()\n",
    "\n",
    "vocoder = nemo_tts.models.HifiGanModel.restore_from(restore_path=\"/mnt/c/Users/ViDi132/Desktop/ModelsNGC/tts_en_hifigan_adapter/tts_en_hifigan_adapter.nemo\").cuda()"
   ]
  },
  {
   "cell_type": "markdown",
   "id": "53b24739-8099-40c1-b77a-ef24381c8003",
   "metadata": {},
   "source": [
    "### Get an audio sample in Spanish\r\n"
   ]
  },
  {
   "cell_type": "code",
   "execution_count": 53,
   "id": "98163c31-1dfc-4c78-bff9-ed39f80e1020",
   "metadata": {},
   "outputs": [
    {
     "data": {
      "text/html": [
       "\n",
       "                <audio  controls=\"controls\" >\n",
       "                    <source src=\"data:audio/x-wav;base64,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\" type=\"audio/x-wav\" />\n",
       "                    Your browser does not support the audio element.\n",
       "                </audio>\n",
       "              "
      ],
      "text/plain": [
       "<IPython.lib.display.Audio object>"
      ]
     },
     "execution_count": 53,
     "metadata": {},
     "output_type": "execute_result"
    }
   ],
   "source": [
    "# Download audio sample which we'll try\n",
    "# This is a sample from LibriSpeech Dev Clean dataset - the model hasn't seen it before\n",
    "Audio_sample = 'como-te-llamas.wav'\n",
    "\n",
    "\n",
    "# Listen to it\n",
    "IPython.display.Audio(Audio_sample)"
   ]
  },
  {
   "cell_type": "markdown",
   "id": "8e68cf66-250d-49e3-8206-8f13f6b48578",
   "metadata": {},
   "source": [
    "### Transcribe audio file\n",
    "We will use speech recognition model to convert audio into text.\r",
    "\r\n"
   ]
  },
  {
   "cell_type": "code",
   "execution_count": 54,
   "id": "fb86f3ca-06d6-477a-a2c8-72d487c4a8a0",
   "metadata": {
    "scrolled": true
   },
   "outputs": [
    {
     "data": {
      "application/vnd.jupyter.widget-view+json": {
       "model_id": "646c995b2a8246789bc9414ecbf57d09",
       "version_major": 2,
       "version_minor": 0
      },
      "text/plain": [
       "Transcribing:   0%|          | 0/1 [00:00<?, ?it/s]"
      ]
     },
     "metadata": {},
     "output_type": "display_data"
    }
   ],
   "source": [
    "# Convert our audio sample to text\n",
    "files = [Audio_sample]\n",
    "raw_text = ''\n",
    "text = ''\n",
    "for fname, transcription in zip(files, quartznet.transcribe(paths2audio_files=files)):\n",
    "  raw_text = transcription\n"
   ]
  },
  {
   "cell_type": "code",
   "execution_count": 55,
   "id": "a38120eb-72bb-4536-9252-53aad0f21b5d",
   "metadata": {},
   "outputs": [
    {
     "name": "stdout",
     "output_type": "stream",
     "text": [
      "cómo te llamas\n"
     ]
    }
   ],
   "source": [
    "print(raw_text)"
   ]
  },
  {
   "cell_type": "markdown",
   "id": "32c7df5d-1e3a-48a8-8373-65df54fdae29",
   "metadata": {},
   "source": [
    "### Translate Spanish text into English\r",
    "NeMo's NMT models have a handy .translate() method.\n",
    "\r\n",
    "\n"
   ]
  },
  {
   "cell_type": "code",
   "execution_count": 56,
   "id": "6255d393-2cf1-4c60-ad6c-7f159827a16c",
   "metadata": {},
   "outputs": [],
   "source": [
    "translations = translate.translate([raw_text], source_lang=\"es\", target_lang=\"en\")\n",
    "final = translations"
   ]
  },
  {
   "cell_type": "code",
   "execution_count": 57,
   "id": "e22cb955-1137-4696-8bb5-ffa3194f4642",
   "metadata": {
    "scrolled": true
   },
   "outputs": [
    {
     "name": "stdout",
     "output_type": "stream",
     "text": [
      "[\"What's your name\"]\n"
     ]
    }
   ],
   "source": [
    "print(final)"
   ]
  },
  {
   "cell_type": "markdown",
   "id": "11a2e2dc-7b82-43f3-b63d-495a4513f115",
   "metadata": {},
   "source": [
    "### Generate English audio from text\r",
    "Speech generation from text typically has two steps:\r\n",
    "\r\n",
    "Generate spectrogram from the text. In this example we will use FastPitch model for this.\r\n",
    "Generate actual audio from the spectrogram. In this example we will use HifiGan model for this\n"
   ]
  },
  {
   "cell_type": "code",
   "execution_count": 58,
   "id": "985dd3cb-0490-43f2-b793-c09e0a83c7dd",
   "metadata": {},
   "outputs": [],
   "source": [
    "# A helper function which combines TTS models to go directly from \n",
    "# text to audio\n",
    "def text_to_audio(text):\n",
    "    parsed = spectrogram_generator.parse(text)\n",
    "    spectrogram = spectrogram_generator.generate_spectrogram(tokens=parsed)\n",
    "    audio = vocoder.convert_spectrogram_to_audio(spec=spectrogram)\n",
    "    return audio.to('cpu').detach().numpy()"
   ]
  },
  {
   "cell_type": "code",
   "execution_count": 59,
   "id": "4da3f2f7-a6cb-473a-8ade-6c00d0278883",
   "metadata": {},
   "outputs": [
    {
     "name": "stderr",
     "output_type": "stream",
     "text": [
      "[NeMo W 2024-02-06 09:20:45 fastpitch:291] parse() is meant to be called in eval mode.\n",
      "[NeMo W 2024-02-06 09:20:45 fastpitch:368] generate_spectrogram() is meant to be called in eval mode.\n"
     ]
    }
   ],
   "source": [
    "for text in translations:\n",
    "    audio_output = text_to_audio(text)\n",
    "    IPython.display.Audio(audio_output, rate=40000)"
   ]
  },
  {
   "cell_type": "code",
   "execution_count": 60,
   "id": "b267f488-36d0-4762-9eaa-db7532fc2656",
   "metadata": {},
   "outputs": [
    {
     "data": {
      "text/html": [
       "\n",
       "                <audio  controls=\"controls\" >\n",
       "                    <source src=\"data:audio/wav;base64,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\" type=\"audio/wav\" />\n",
       "                    Your browser does not support the audio element.\n",
       "                </audio>\n",
       "              "
      ],
      "text/plain": [
       "<IPython.lib.display.Audio object>"
      ]
     },
     "execution_count": 60,
     "metadata": {},
     "output_type": "execute_result"
    }
   ],
   "source": [
    "IPython.display.Audio(audio_output, rate=40000)"
   ]
  },
  {
   "cell_type": "markdown",
   "id": "0c1559da-226b-4a1c-88fe-b98c2f8cc2d4",
   "metadata": {},
   "source": [
    "### Register Individual Model\r\n",
    "If you choose to register each individual model in MLflow, follow the example below:"
   ]
  },
  {
   "cell_type": "code",
   "execution_count": 14,
   "id": "b3322add-1d22-4f19-84e3-c1a055d16a41",
   "metadata": {},
   "outputs": [
    {
     "data": {
      "application/vnd.jupyter.widget-view+json": {
       "model_id": "ca498dc6d6df4c9ebde872f14fcac8a4",
       "version_major": 2,
       "version_minor": 0
      },
      "text/plain": [
       "Downloading artifacts:   0%|          | 0/1 [00:00<?, ?it/s]"
      ]
     },
     "metadata": {},
     "output_type": "display_data"
    },
    {
     "name": "stderr",
     "output_type": "stream",
     "text": [
      "Successfully registered model 'quartznet_model'.\n",
      "2024/02/06 02:44:20 INFO mlflow.tracking._model_registry.client: Waiting up to 300 seconds for model version to finish creation. Model name: quartznet_model, version 1\n",
      "Created version '1' of model 'quartznet_model'.\n"
     ]
    }
   ],
   "source": [
    "import os\n",
    "import mlflow\n",
    "from mlflow.pyfunc import PythonModel\n",
    "\n",
    "class NeMoWrapper(PythonModel):\n",
    "    def __init__(self, model_path):\n",
    "        self.model_path = model_path\n",
    "\n",
    "    def predict(self, context, model_input):\n",
    "        # Load the model here\n",
    "        model = nemo_asr.models.EncDecCTCModel.restore_from(self.model_path)\n",
    "        return [transcription for _, transcription in zip(model_input, model.transcribe(paths2audio_files=model_input))]\n",
    "\n",
    "def log_nemo_model(model, model_name, model_path, requirements):\n",
    "    model_wrapper = NeMoWrapper(model_path)\n",
    "    mlflow.pyfunc.log_model(\n",
    "        artifact_path=model_name,\n",
    "        python_model=model_wrapper,\n",
    "        artifacts={\"model\": model_path},\n",
    "        pip_requirements=requirements\n",
    "    )\n",
    "    return f\"models:/{model_name}\"\n",
    "\n",
    "# Save the model and get the path\n",
    "quartznet.save_to(\"quartznet_model.nemo\")\n",
    "model_path = \"quartznet_model.nemo\"\n",
    "\n",
    "# Log the model\n",
    "with mlflow.start_run():\n",
    "    requirements = [\n",
    "        \"nemo_toolkit[all]=={}\".format(nemo.__version__)\n",
    "        # Add other specific dependencies if needed\n",
    "    ]\n",
    "\n",
    "    model_uri = log_nemo_model(quartznet, \"quartznet_model\", model_path, requirements)\n",
    "    mlflow.register_model(model_uri=model_uri, name=\"quartznet_model\")\n"
   ]
  },
  {
   "cell_type": "markdown",
   "id": "196c80dc-b87f-409d-88e0-c79ff6aec59f",
   "metadata": {},
   "source": [
    "### Registering a NeMo Model Combination\r\n",
    "If you choose to create an execution pipeline by combining different NeMo models, follow these steps:"
   ]
  },
  {
   "cell_type": "code",
   "execution_count": 74,
   "id": "5eeace1c-4bf2-446f-aaf1-b27c01fa4106",
   "metadata": {
    "scrolled": true
   },
   "outputs": [
    {
     "name": "stderr",
     "output_type": "stream",
     "text": [
      "Registered model 'combined_nemo_model' already exists. Creating a new version of this model...\n",
      "2024/02/06 10:49:39 INFO mlflow.tracking._model_registry.client: Waiting up to 300 seconds for model version to finish creation. Model name: combined_nemo_model, version 7\n",
      "Created version '7' of model 'combined_nemo_model'.\n"
     ]
    }
   ],
   "source": [
    "import mlflow\n",
    "import nemo.collections.asr as nemo_asr\n",
    "import nemo.collections.nlp as nemo_nlp\n",
    "import nemo.collections.tts as nemo_tts\n",
    "from mlflow.pyfunc import PythonModel\n",
    "\n",
    "class NeMoCombinedModel(PythonModel):\n",
    "    def __init__(self, asr_model_path, nlp_model_path, tts_model_path, vocoder_model_path):\n",
    "        self.asr_model_path = asr_model_path\n",
    "        self.nlp_model_path = nlp_model_path\n",
    "        self.tts_model_path = tts_model_path\n",
    "        self.vocoder_model_path = vocoder_model_path\n",
    "\n",
    "    def predict(self, context, model_input):\n",
    "        # Load the models\n",
    "        asr_model = nemo_asr.models.EncDecCTCModel.restore_from(self.asr_model_path)\n",
    "        nlp_model = nemo_nlp.models.MTEncDecModel.restore_from(self.nlp_model_path)\n",
    "        tts_model = nemo_tts.models.FastPitchModel.restore_from(self.tts_model_path)\n",
    "        vocoder_model = nemo_tts.models.HifiGanModel.restore_from(self.vocoder_model_path)\n",
    "\n",
    "        # Check if input is a file path (treating as audio) or text\n",
    "        if isinstance(model_input, str) and os.path.isfile(model_input):\n",
    "            # Process audio: Transcribe, Translate and TTS\n",
    "            transcription = asr_model.transcribe(paths2audio_files=[model_input])[0]\n",
    "            translation = nlp_model.translate([transcription], source_lang=\"es\", target_lang=\"en\")[0]\n",
    "            parsed = tts_model.parse(translation)\n",
    "            spectrogram = tts_model.generate_spectrogram(tokens=parsed)\n",
    "            audio = vocoder_model.convert_spectrogram_to_audio(spec=spectrogram)\n",
    "            return audio.to('cpu').detach().numpy().tolist()\n",
    "\n",
    "        # Otherwise, assume it is text for translation\n",
    "        else:\n",
    "            # Process text: Just Translate\n",
    "            translation = nlp_model.translate([model_input], source_lang=\"es\", target_lang=\"en\")[0]\n",
    "            return translation\n",
    "\n",
    "        # NLP - Translate text\n",
    "        translation = nlp_model.translate([transcription], source_lang=\"es\", target_lang=\"en\")[0]\n",
    "\n",
    "        # TTS - Convert translated text to audio\n",
    "        parsed = tts_model.parse(translation)\n",
    "        spectrogram = tts_model.generate_spectrogram(tokens=parsed)\n",
    "        audio = vocoder_model.convert_spectrogram_to_audio(spec=spectrogram)\n",
    "\n",
    "        return audio.to('cpu').detach().numpy()\n",
    "\n",
    "def log_combined_nemo_model(asr_model_path, nlp_model_path, tts_model_path, vocoder_model_path, model_name, requirements):\n",
    "    combined_model = NeMoCombinedModel(asr_model_path, nlp_model_path, tts_model_path, vocoder_model_path)\n",
    "    mlflow.pyfunc.log_model(\n",
    "        artifact_path=model_name,\n",
    "        python_model=combined_model,\n",
    "        pip_requirements=requirements\n",
    "    )\n",
    "    return f\"models:/{model_name}\"\n",
    "\n",
    "# Configure MLflow experiment\n",
    "mlflow.set_experiment(\"NeMoCombinedInferencePipeline\")\n",
    "\n",
    "# Paths to saved models\n",
    "asr_model_path = \"/mnt/c/Users/ViDi132/Desktop/ModelsNGC/stt_es_quartznet15x5/stt_es_quartznet15x5.nemo\"\n",
    "nlp_model_path = \"/mnt/c/Users/ViDi132/Desktop/ModelsNGC/nmt_es_en_transformer12x2/nmt_es_en_transformer12x2.nemo\"\n",
    "tts_model_path = \"/mnt/c/Users/ViDi132/Desktop/ModelsNGC/tts_en_fastpitch/tts_en_fastpitch_align_ipa.nemo\"\n",
    "vocoder_model_path = \"/mnt/c/Users/ViDi132/Desktop/ModelsNGC/tts_en_hifigan_adapter/tts_en_hifigan_adapter.nemo\"\n",
    "\n",
    "# Log and register the combined model\n",
    "with mlflow.start_run():\n",
    "    requirements = [\n",
    "        \"nemo_toolkit[all]=={}\".format(nemo.__version__)\n",
    "        # Add other specific dependencies if needed\n",
    "    ]\n",
    "\n",
    "    model_uri = log_combined_nemo_model(asr_model_path, nlp_model_path, tts_model_path, vocoder_model_path, \"combined_nemo_model\", requirements)\n",
    "    mlflow.register_model(model_uri=model_uri, name=\"combined_nemo_model\")\n"
   ]
  },
  {
   "cell_type": "markdown",
   "id": "49c06057-de6f-4b6a-8557-b309b54589e1",
   "metadata": {},
   "source": [
    "### Deploying a Model with Conda\r\n",
    "\r\n"
   ]
  },
  {
   "cell_type": "code",
   "execution_count": 76,
   "id": "36a36c55-af01-494c-b67a-bb2e3f31aaa4",
   "metadata": {},
   "outputs": [
    {
     "name": "stdout",
     "output_type": "stream",
     "text": [
      "/usr/local/lib/python3.10/dist-packages/click/core.py:2307: UserWarning: Use of conda is discouraged. If you use it, please ensure that your use of conda complies with Anaconda's terms of service (https://legal.anaconda.com/policies/en/?name=terms-of-service). virtualenv is the recommended tool for environment reproducibility. To suppress this warning, set the MLFLOW_DISABLE_ENV_MANAGER_CONDA_WARNING environment variable to 'TRUE'.\n",
      "  value = self.callback(ctx, self, value)\n",
      "Downloading artifacts: 100%|█████████████████████| 1/1 [00:00<00:00, 299.79it/s]\n",
      "2024/02/06 12:20:27 INFO mlflow.models.flavor_backend_registry: Selected backend for flavor 'python_function'\n",
      "Traceback (most recent call last):\n",
      "  File \"/usr/local/lib/python3.10/dist-packages/mlflow/utils/conda.py\", line 227, in get_or_create_conda_env\n",
      "    process._exec_cmd([conda_path, \"--help\"], throw_on_error=False)\n",
      "  File \"/usr/local/lib/python3.10/dist-packages/mlflow/utils/process.py\", line 95, in _exec_cmd\n",
      "    process = subprocess.Popen(\n",
      "  File \"/usr/lib/python3.10/subprocess.py\", line 971, in __init__\n",
      "    self._execute_child(args, executable, preexec_fn, close_fds,\n",
      "  File \"/usr/lib/python3.10/subprocess.py\", line 1863, in _execute_child\n",
      "    raise child_exception_type(errno_num, err_msg, err_filename)\n",
      "FileNotFoundError: [Errno 2] No such file or directory: 'conda'\n",
      "\n",
      "During handling of the above exception, another exception occurred:\n",
      "\n",
      "Traceback (most recent call last):\n",
      "  File \"/usr/local/bin/mlflow\", line 8, in <module>\n",
      "    sys.exit(cli())\n",
      "  File \"/usr/local/lib/python3.10/dist-packages/click/core.py\", line 1126, in __call__\n",
      "    return self.main(*args, **kwargs)\n",
      "  File \"/usr/local/lib/python3.10/dist-packages/click/core.py\", line 1051, in main\n",
      "    rv = self.invoke(ctx)\n",
      "  File \"/usr/local/lib/python3.10/dist-packages/click/core.py\", line 1657, in invoke\n",
      "    return _process_result(sub_ctx.command.invoke(sub_ctx))\n",
      "  File \"/usr/local/lib/python3.10/dist-packages/click/core.py\", line 1657, in invoke\n",
      "    return _process_result(sub_ctx.command.invoke(sub_ctx))\n",
      "  File \"/usr/local/lib/python3.10/dist-packages/click/core.py\", line 1393, in invoke\n",
      "    return ctx.invoke(self.callback, **ctx.params)\n",
      "  File \"/usr/local/lib/python3.10/dist-packages/click/core.py\", line 752, in invoke\n",
      "    return __callback(*args, **kwargs)\n",
      "  File \"/usr/local/lib/python3.10/dist-packages/mlflow/models/cli.py\", line 105, in serve\n",
      "    return get_flavor_backend(\n",
      "  File \"/usr/local/lib/python3.10/dist-packages/mlflow/pyfunc/backend.py\", line 230, in serve\n",
      "    return self.prepare_env(local_path).execute(\n",
      "  File \"/usr/local/lib/python3.10/dist-packages/mlflow/pyfunc/backend.py\", line 117, in prepare_env\n",
      "    self._environment = get_or_create_conda_env(\n",
      "  File \"/usr/local/lib/python3.10/dist-packages/mlflow/utils/conda.py\", line 229, in get_or_create_conda_env\n",
      "    raise ExecutionException(\n",
      "mlflow.exceptions.ExecutionException: Could not find Conda executable at conda. Ensure Conda is installed as per the instructions at https://conda.io/projects/conda/en/latest/user-guide/install/index.html. You can also configure MLflow to look for a specific Conda executable by setting the MLFLOW_CONDA_HOME environment variable to the path of the Conda executable\n"
     ]
    }
   ],
   "source": [
    "!mlflow models serve -m \"runs:/bf40e08635044651aa66da803161e9ec/combined_nemo_model\" --env-manager conda --port 5001 --port 5001\n"
   ]
  },
  {
   "cell_type": "markdown",
   "id": "ae6e001c-e6a1-4252-89c6-f4b7377c71f1",
   "metadata": {},
   "source": [
    "### Deploying a Model with virtualenv"
   ]
  },
  {
   "cell_type": "code",
   "execution_count": 21,
   "id": "336b1fde-6754-4b60-b1bf-b2509cfee4c8",
   "metadata": {},
   "outputs": [],
   "source": [
    "!export MLFLOW_DISABLE_ENV_MANAGER_CONDA_WARNING=TRUE"
   ]
  },
  {
   "cell_type": "code",
   "execution_count": 65,
   "id": "e3b117da-6009-48aa-b5c6-5fc3126338ec",
   "metadata": {
    "scrolled": true
   },
   "outputs": [
    {
     "name": "stdout",
     "output_type": "stream",
     "text": [
      "Downloading artifacts: 100%|█████████████████████| 1/1 [00:00<00:00, 176.67it/s]\n",
      "2024/02/06 09:28:44 INFO mlflow.models.flavor_backend_registry: Selected backend for flavor 'python_function'\n",
      "Traceback (most recent call last):\n",
      "  File \"/usr/local/bin/mlflow\", line 8, in <module>\n",
      "    sys.exit(cli())\n",
      "  File \"/usr/local/lib/python3.10/dist-packages/click/core.py\", line 1126, in __call__\n",
      "    return self.main(*args, **kwargs)\n",
      "  File \"/usr/local/lib/python3.10/dist-packages/click/core.py\", line 1051, in main\n",
      "    rv = self.invoke(ctx)\n",
      "  File \"/usr/local/lib/python3.10/dist-packages/click/core.py\", line 1657, in invoke\n",
      "    return _process_result(sub_ctx.command.invoke(sub_ctx))\n",
      "  File \"/usr/local/lib/python3.10/dist-packages/click/core.py\", line 1657, in invoke\n",
      "    return _process_result(sub_ctx.command.invoke(sub_ctx))\n",
      "  File \"/usr/local/lib/python3.10/dist-packages/click/core.py\", line 1393, in invoke\n",
      "    return ctx.invoke(self.callback, **ctx.params)\n",
      "  File \"/usr/local/lib/python3.10/dist-packages/click/core.py\", line 752, in invoke\n",
      "    return __callback(*args, **kwargs)\n",
      "  File \"/usr/local/lib/python3.10/dist-packages/mlflow/models/cli.py\", line 105, in serve\n",
      "    return get_flavor_backend(\n",
      "  File \"/usr/local/lib/python3.10/dist-packages/mlflow/pyfunc/backend.py\", line 230, in serve\n",
      "    return self.prepare_env(local_path).execute(\n",
      "  File \"/usr/local/lib/python3.10/dist-packages/mlflow/pyfunc/backend.py\", line 108, in prepare_env\n",
      "    activate_cmd = _get_or_create_virtualenv(\n",
      "  File \"/usr/local/lib/python3.10/dist-packages/mlflow/utils/virtualenv.py\", line 339, in _get_or_create_virtualenv\n",
      "    _validate_pyenv_is_available()\n",
      "  File \"/usr/local/lib/python3.10/dist-packages/mlflow/utils/virtualenv.py\", line 64, in _validate_pyenv_is_available\n",
      "    raise MlflowException(\n",
      "mlflow.exceptions.MlflowException: Could not find the pyenv binary. See https://github.com/pyenv/pyenv#installation for installation instructions.\n"
     ]
    }
   ],
   "source": [
    "!mlflow models serve -m \"runs:/bf40e08635044651aa66da803161e9ec/combined_nemo_model\" --port 5001"
   ]
  },
  {
   "cell_type": "markdown",
   "id": "e2bcecf4-5f03-41f1-934b-3be4869ab736",
   "metadata": {},
   "source": [
    "### Deploying a Model with Flask"
   ]
  },
  {
   "cell_type": "code",
   "execution_count": 77,
   "id": "04012d4c-f4c9-4a2d-8c4f-463a3ac3ebbc",
   "metadata": {},
   "outputs": [
    {
     "name": "stdout",
     "output_type": "stream",
     "text": [
      " * Serving Flask app '__main__'\n",
      " * Debug mode: off\n"
     ]
    },
    {
     "name": "stderr",
     "output_type": "stream",
     "text": [
      "I0206 12:32:07.032308 140647469093312 _internal.py:96] \u001b[31m\u001b[1mWARNING: This is a development server. Do not use it in a production deployment. Use a production WSGI server instead.\u001b[0m\n",
      " * Running on all addresses (0.0.0.0)\n",
      " * Running on http://127.0.0.1:5001\n",
      " * Running on http://10.137.137.111:5001\n",
      "I0206 12:32:07.034360 140647469093312 _internal.py:96] \u001b[33mPress CTRL+C to quit\u001b[0m\n",
      "[NeMo W 2024-02-06 12:32:23 modelPT:161] If you intend to do training or fine-tuning, please call the ModelPT.setup_training_data() method and provide a valid configuration file to setup the train data loader.\n",
      "    Train config : \n",
      "    manifest_filepath: /raid/noneval.json\n",
      "    sample_rate: 16000\n",
      "    labels:\n",
      "    - ' '\n",
      "    - a\n",
      "    - b\n",
      "    - c\n",
      "    - d\n",
      "    - e\n",
      "    - f\n",
      "    - g\n",
      "    - h\n",
      "    - i\n",
      "    - j\n",
      "    - k\n",
      "    - l\n",
      "    - m\n",
      "    - 'n'\n",
      "    - o\n",
      "    - p\n",
      "    - q\n",
      "    - r\n",
      "    - s\n",
      "    - t\n",
      "    - u\n",
      "    - v\n",
      "    - w\n",
      "    - x\n",
      "    - 'y'\n",
      "    - z\n",
      "    - ''''\n",
      "    - á\n",
      "    - é\n",
      "    - í\n",
      "    - ó\n",
      "    - ú\n",
      "    - ñ\n",
      "    - ü\n",
      "    batch_size: 16\n",
      "    trim_silence: true\n",
      "    max_duration: 16.7\n",
      "    shuffle: true\n",
      "    is_tarred: false\n",
      "    tarred_audio_filepaths: null\n",
      "    num_workers: 8\n",
      "    pin_memory: true\n",
      "    \n",
      "[NeMo W 2024-02-06 12:32:23 modelPT:168] If you intend to do validation, please call the ModelPT.setup_validation_data() or ModelPT.setup_multiple_validation_data() method and provide a valid configuration file to setup the validation data loader(s). \n",
      "    Validation config : \n",
      "    manifest_filepath: /raid/dev.json\n",
      "    sample_rate: 16000\n",
      "    labels:\n",
      "    - ' '\n",
      "    - a\n",
      "    - b\n",
      "    - c\n",
      "    - d\n",
      "    - e\n",
      "    - f\n",
      "    - g\n",
      "    - h\n",
      "    - i\n",
      "    - j\n",
      "    - k\n",
      "    - l\n",
      "    - m\n",
      "    - 'n'\n",
      "    - o\n",
      "    - p\n",
      "    - q\n",
      "    - r\n",
      "    - s\n",
      "    - t\n",
      "    - u\n",
      "    - v\n",
      "    - w\n",
      "    - x\n",
      "    - 'y'\n",
      "    - z\n",
      "    - ''''\n",
      "    - á\n",
      "    - é\n",
      "    - í\n",
      "    - ó\n",
      "    - ú\n",
      "    - ñ\n",
      "    - ü\n",
      "    batch_size: 32\n",
      "    shuffle: false\n",
      "    num_workers: 8\n",
      "    pin_memory: true\n",
      "    \n"
     ]
    },
    {
     "name": "stdout",
     "output_type": "stream",
     "text": [
      "[NeMo I 2024-02-06 12:32:23 features:289] PADDING: 16\n",
      "[NeMo I 2024-02-06 12:32:27 save_restore_connector:249] Model EncDecCTCModel was successfully restored from /mnt/c/Users/ViDi132/Desktop/ModelsNGC/stt_es_quartznet15x5/stt_es_quartznet15x5.nemo.\n",
      "[NeMo I 2024-02-06 12:33:28 tokenizer_utils:179] Getting YouTokenToMeTokenizer with model: /tmp/tmpq8ukw20f/tokenizer.32000.BPE.model with r2l: False.\n",
      "[NeMo I 2024-02-06 12:33:28 tokenizer_utils:179] Getting YouTokenToMeTokenizer with model: /tmp/tmpq8ukw20f/tokenizer.32000.BPE.model with r2l: False.\n"
     ]
    },
    {
     "name": "stderr",
     "output_type": "stream",
     "text": [
      "[NeMo W 2024-02-06 12:33:28 modelPT:161] If you intend to do training or fine-tuning, please call the ModelPT.setup_training_data() method and provide a valid configuration file to setup the train data loader.\n",
      "    Train config : \n",
      "    src_file_name: /raid/sharded_tarfiles_60_even/batches.tokens.16000._OP_1..302_CL_.tar\n",
      "    tgt_file_name: /raid/sharded_tarfiles_60_even/batches.tokens.16000._OP_1..302_CL_.tar\n",
      "    tokens_in_batch: 16000\n",
      "    clean: true\n",
      "    max_seq_length: 512\n",
      "    cache_ids: false\n",
      "    cache_data_per_node: false\n",
      "    use_cache: false\n",
      "    shuffle: true\n",
      "    num_samples: -1\n",
      "    drop_last: false\n",
      "    pin_memory: false\n",
      "    num_workers: 8\n",
      "    load_from_cached_dataset: false\n",
      "    reverse_lang_direction: true\n",
      "    load_from_tarred_dataset: true\n",
      "    metadata_path: /raid/sharded_tarfiles_60_even/metadata.json\n",
      "    tar_shuffle_n: 100\n",
      "    \n",
      "[NeMo W 2024-02-06 12:33:28 modelPT:168] If you intend to do validation, please call the ModelPT.setup_validation_data() or ModelPT.setup_multiple_validation_data() method and provide a valid configuration file to setup the validation data loader(s). \n",
      "    Validation config : \n",
      "    src_file_name: /raid/newstest2012-es-en.clean.tok.src\n",
      "    tgt_file_name: /raid/newstest2012-es-en.clean.tok.ref\n",
      "    tokens_in_batch: 512\n",
      "    clean: false\n",
      "    max_seq_length: 512\n",
      "    cache_ids: false\n",
      "    cache_data_per_node: false\n",
      "    use_cache: false\n",
      "    shuffle: false\n",
      "    num_samples: -1\n",
      "    drop_last: false\n",
      "    pin_memory: false\n",
      "    num_workers: 8\n",
      "    load_from_cached_dataset: false\n",
      "    reverse_lang_direction: false\n",
      "    load_from_tarred_dataset: false\n",
      "    metadata_path: null\n",
      "    tar_shuffle_n: 100\n",
      "    \n",
      "[NeMo W 2024-02-06 12:33:28 modelPT:174] Please call the ModelPT.setup_test_data() or ModelPT.setup_multiple_test_data() method and provide a valid configuration file to setup the test data loader(s).\n",
      "    Test config : \n",
      "    src_file_name: /raid/newstest2013-es-en.clean.tok.src\n",
      "    tgt_file_name: /raid/newstest2013-es-en.clean.tok.ref\n",
      "    tokens_in_batch: 512\n",
      "    clean: false\n",
      "    max_seq_length: 512\n",
      "    cache_ids: false\n",
      "    cache_data_per_node: false\n",
      "    use_cache: false\n",
      "    shuffle: false\n",
      "    num_samples: -1\n",
      "    drop_last: false\n",
      "    pin_memory: false\n",
      "    num_workers: 8\n",
      "    load_from_cached_dataset: false\n",
      "    reverse_lang_direction: false\n",
      "    load_from_tarred_dataset: false\n",
      "    metadata_path: null\n",
      "    tar_shuffle_n: 100\n",
      "    \n"
     ]
    },
    {
     "name": "stdout",
     "output_type": "stream",
     "text": [
      "[NeMo I 2024-02-06 12:33:40 nlp_overrides:752] Model MTEncDecModel was successfully restored from /mnt/c/Users/ViDi132/Desktop/ModelsNGC/nmt_es_en_transformer12x2/nmt_es_en_transformer12x2.nemo.\n"
     ]
    },
    {
     "name": "stderr",
     "output_type": "stream",
     "text": [
      " NeMo-text-processing :: INFO     :: Creating ClassifyFst grammars.\n",
      "I0206 12:33:49.662055 140639308084800 tokenize_and_classify.py:86] Creating ClassifyFst grammars.\n",
      "[NeMo W 2024-02-06 12:34:39 experimental:26] `<class 'nemo.collections.tts.g2p.models.i18n_ipa.IpaG2p'>` is experimental and not ready for production yet. Use at your own risk.\n",
      "[NeMo W 2024-02-06 12:34:41 i18n_ipa:124] apply_to_oov_word=None, This means that some of words will remain unchanged if they are not handled by any of the rules in self.parse_one_word(). This may be intended if phonemes and chars are both valid inputs, otherwise, you may see unexpected deletions in your input.\n",
      "[NeMo W 2024-02-06 12:34:41 experimental:26] `<class 'nemo.collections.common.tokenizers.text_to_speech.tts_tokenizers.IPATokenizer'>` is experimental and not ready for production yet. Use at your own risk.\n",
      "[NeMo W 2024-02-06 12:34:41 modelPT:161] If you intend to do training or fine-tuning, please call the ModelPT.setup_training_data() method and provide a valid configuration file to setup the train data loader.\n",
      "    Train config : \n",
      "    dataset:\n",
      "      _target_: nemo.collections.tts.torch.data.TTSDataset\n",
      "      manifest_filepath: /data3/LJSpeech/nvidia_ljspeech_train.json\n",
      "      sample_rate: 22050\n",
      "      sup_data_path: /data3/LJSpeech/tmp_ignoreamb/\n",
      "      sup_data_types:\n",
      "      - align_prior_matrix\n",
      "      - pitch\n",
      "      n_fft: 1024\n",
      "      win_length: 1024\n",
      "      hop_length: 256\n",
      "      window: hann\n",
      "      n_mels: 80\n",
      "      lowfreq: 0\n",
      "      highfreq: 8000\n",
      "      max_duration: null\n",
      "      min_duration: 0.1\n",
      "      ignore_file: null\n",
      "      trim: false\n",
      "      pitch_fmin: 65.40639132514966\n",
      "      pitch_fmax: 2093.004522404789\n",
      "      pitch_norm: true\n",
      "      pitch_mean: 212.35873413085938\n",
      "      pitch_std: 68.52806091308594\n",
      "      use_beta_binomial_interpolator: true\n",
      "    dataloader_params:\n",
      "      drop_last: false\n",
      "      shuffle: true\n",
      "      batch_size: 32\n",
      "      num_workers: 12\n",
      "    \n",
      "[NeMo W 2024-02-06 12:34:41 modelPT:168] If you intend to do validation, please call the ModelPT.setup_validation_data() or ModelPT.setup_multiple_validation_data() method and provide a valid configuration file to setup the validation data loader(s). \n",
      "    Validation config : \n",
      "    dataset:\n",
      "      _target_: nemo.collections.tts.torch.data.TTSDataset\n",
      "      manifest_filepath: /data3/LJSpeech/nvidia_ljspeech_val.json\n",
      "      sample_rate: 22050\n",
      "      sup_data_path: /data3/LJSpeech/tmp_ignoreamb/\n",
      "      sup_data_types:\n",
      "      - align_prior_matrix\n",
      "      - pitch\n",
      "      n_fft: 1024\n",
      "      win_length: 1024\n",
      "      hop_length: 256\n",
      "      window: hann\n",
      "      n_mels: 80\n",
      "      lowfreq: 0\n",
      "      highfreq: 8000\n",
      "      max_duration: null\n",
      "      min_duration: null\n",
      "      ignore_file: null\n",
      "      trim: false\n",
      "      pitch_fmin: 65.40639132514966\n",
      "      pitch_fmax: 2093.004522404789\n",
      "      pitch_norm: true\n",
      "      pitch_mean: 212.35873413085938\n",
      "      pitch_std: 68.52806091308594\n",
      "      use_beta_binomial_interpolator: true\n",
      "    dataloader_params:\n",
      "      drop_last: false\n",
      "      shuffle: false\n",
      "      batch_size: 32\n",
      "      num_workers: 8\n",
      "    \n"
     ]
    },
    {
     "name": "stdout",
     "output_type": "stream",
     "text": [
      "[NeMo I 2024-02-06 12:34:41 features:289] PADDING: 1\n",
      "[NeMo I 2024-02-06 12:34:42 save_restore_connector:249] Model FastPitchModel was successfully restored from /mnt/c/Users/ViDi132/Desktop/ModelsNGC/tts_en_fastpitch/tts_en_fastpitch_align_ipa.nemo.\n"
     ]
    },
    {
     "name": "stderr",
     "output_type": "stream",
     "text": [
      "[NeMo W 2024-02-06 12:34:52 modelPT:161] If you intend to do training or fine-tuning, please call the ModelPT.setup_training_data() method and provide a valid configuration file to setup the train data loader.\n",
      "    Train config : \n",
      "    dataset:\n",
      "      _target_: nemo.collections.tts.data.tts_dataset.VocoderDataset\n",
      "      manifest_filepath: /ws/mel-dataset/Hifitts-VCTK-FP-mels-118-large/hifigan_train.json\n",
      "      sample_rate: 44100\n",
      "      n_segments: 16384\n",
      "      max_duration: null\n",
      "      min_duration: 0.75\n",
      "      load_precomputed_mel: true\n",
      "      hop_length: 512\n",
      "    dataloader_params:\n",
      "      drop_last: false\n",
      "      shuffle: true\n",
      "      batch_size: 40\n",
      "      num_workers: 4\n",
      "      pin_memory: true\n",
      "    \n",
      "[NeMo W 2024-02-06 12:34:52 modelPT:168] If you intend to do validation, please call the ModelPT.setup_validation_data() or ModelPT.setup_multiple_validation_data() method and provide a valid configuration file to setup the validation data loader(s). \n",
      "    Validation config : \n",
      "    dataset:\n",
      "      _target_: nemo.collections.tts.data.tts_dataset.VocoderDataset\n",
      "      manifest_filepath: /ws/mel-dataset/Hifitts-VCTK-FP-mels-118-large/hifigan_val.json\n",
      "      sample_rate: 44100\n",
      "      n_segments: 131072\n",
      "      max_duration: null\n",
      "      min_duration: 3\n",
      "      load_precomputed_mel: true\n",
      "      hop_length: 512\n",
      "    dataloader_params:\n",
      "      drop_last: false\n",
      "      shuffle: false\n",
      "      batch_size: 16\n",
      "      num_workers: 4\n",
      "      pin_memory: true\n",
      "    \n"
     ]
    },
    {
     "name": "stdout",
     "output_type": "stream",
     "text": [
      "[NeMo I 2024-02-06 12:34:52 features:289] PADDING: 0\n",
      "[NeMo I 2024-02-06 12:34:52 features:297] STFT using exact pad\n",
      "[NeMo I 2024-02-06 12:34:52 features:289] PADDING: 0\n",
      "[NeMo I 2024-02-06 12:34:52 features:297] STFT using exact pad\n",
      "[NeMo I 2024-02-06 12:34:55 save_restore_connector:249] Model HifiGanModel was successfully restored from /mnt/c/Users/ViDi132/Desktop/ModelsNGC/tts_en_hifigan_adapter/tts_en_hifigan_adapter.nemo.\n"
     ]
    },
    {
     "name": "stderr",
     "output_type": "stream",
     "text": [
      "I0206 12:34:55.827695 140639308084800 _internal.py:96] 127.0.0.1 - - [06/Feb/2024 12:34:55] \"POST /predict HTTP/1.1\" 200 -\n",
      "[NeMo W 2024-02-06 12:35:50 modelPT:161] If you intend to do training or fine-tuning, please call the ModelPT.setup_training_data() method and provide a valid configuration file to setup the train data loader.\n",
      "    Train config : \n",
      "    manifest_filepath: /raid/noneval.json\n",
      "    sample_rate: 16000\n",
      "    labels:\n",
      "    - ' '\n",
      "    - a\n",
      "    - b\n",
      "    - c\n",
      "    - d\n",
      "    - e\n",
      "    - f\n",
      "    - g\n",
      "    - h\n",
      "    - i\n",
      "    - j\n",
      "    - k\n",
      "    - l\n",
      "    - m\n",
      "    - 'n'\n",
      "    - o\n",
      "    - p\n",
      "    - q\n",
      "    - r\n",
      "    - s\n",
      "    - t\n",
      "    - u\n",
      "    - v\n",
      "    - w\n",
      "    - x\n",
      "    - 'y'\n",
      "    - z\n",
      "    - ''''\n",
      "    - á\n",
      "    - é\n",
      "    - í\n",
      "    - ó\n",
      "    - ú\n",
      "    - ñ\n",
      "    - ü\n",
      "    batch_size: 16\n",
      "    trim_silence: true\n",
      "    max_duration: 16.7\n",
      "    shuffle: true\n",
      "    is_tarred: false\n",
      "    tarred_audio_filepaths: null\n",
      "    num_workers: 8\n",
      "    pin_memory: true\n",
      "    \n",
      "[NeMo W 2024-02-06 12:35:50 modelPT:168] If you intend to do validation, please call the ModelPT.setup_validation_data() or ModelPT.setup_multiple_validation_data() method and provide a valid configuration file to setup the validation data loader(s). \n",
      "    Validation config : \n",
      "    manifest_filepath: /raid/dev.json\n",
      "    sample_rate: 16000\n",
      "    labels:\n",
      "    - ' '\n",
      "    - a\n",
      "    - b\n",
      "    - c\n",
      "    - d\n",
      "    - e\n",
      "    - f\n",
      "    - g\n",
      "    - h\n",
      "    - i\n",
      "    - j\n",
      "    - k\n",
      "    - l\n",
      "    - m\n",
      "    - 'n'\n",
      "    - o\n",
      "    - p\n",
      "    - q\n",
      "    - r\n",
      "    - s\n",
      "    - t\n",
      "    - u\n",
      "    - v\n",
      "    - w\n",
      "    - x\n",
      "    - 'y'\n",
      "    - z\n",
      "    - ''''\n",
      "    - á\n",
      "    - é\n",
      "    - í\n",
      "    - ó\n",
      "    - ú\n",
      "    - ñ\n",
      "    - ü\n",
      "    batch_size: 32\n",
      "    shuffle: false\n",
      "    num_workers: 8\n",
      "    pin_memory: true\n",
      "    \n"
     ]
    },
    {
     "name": "stdout",
     "output_type": "stream",
     "text": [
      "[NeMo I 2024-02-06 12:35:50 features:289] PADDING: 16\n",
      "[NeMo I 2024-02-06 12:35:52 save_restore_connector:249] Model EncDecCTCModel was successfully restored from /mnt/c/Users/ViDi132/Desktop/ModelsNGC/stt_es_quartznet15x5/stt_es_quartznet15x5.nemo.\n",
      "[NeMo I 2024-02-06 12:36:57 tokenizer_utils:179] Getting YouTokenToMeTokenizer with model: /tmp/tmp0oqnrwl7/tokenizer.32000.BPE.model with r2l: False.\n",
      "[NeMo I 2024-02-06 12:36:57 tokenizer_utils:179] Getting YouTokenToMeTokenizer with model: /tmp/tmp0oqnrwl7/tokenizer.32000.BPE.model with r2l: False.\n"
     ]
    },
    {
     "name": "stderr",
     "output_type": "stream",
     "text": [
      "[NeMo W 2024-02-06 12:36:58 modelPT:161] If you intend to do training or fine-tuning, please call the ModelPT.setup_training_data() method and provide a valid configuration file to setup the train data loader.\n",
      "    Train config : \n",
      "    src_file_name: /raid/sharded_tarfiles_60_even/batches.tokens.16000._OP_1..302_CL_.tar\n",
      "    tgt_file_name: /raid/sharded_tarfiles_60_even/batches.tokens.16000._OP_1..302_CL_.tar\n",
      "    tokens_in_batch: 16000\n",
      "    clean: true\n",
      "    max_seq_length: 512\n",
      "    cache_ids: false\n",
      "    cache_data_per_node: false\n",
      "    use_cache: false\n",
      "    shuffle: true\n",
      "    num_samples: -1\n",
      "    drop_last: false\n",
      "    pin_memory: false\n",
      "    num_workers: 8\n",
      "    load_from_cached_dataset: false\n",
      "    reverse_lang_direction: true\n",
      "    load_from_tarred_dataset: true\n",
      "    metadata_path: /raid/sharded_tarfiles_60_even/metadata.json\n",
      "    tar_shuffle_n: 100\n",
      "    \n",
      "[NeMo W 2024-02-06 12:36:58 modelPT:168] If you intend to do validation, please call the ModelPT.setup_validation_data() or ModelPT.setup_multiple_validation_data() method and provide a valid configuration file to setup the validation data loader(s). \n",
      "    Validation config : \n",
      "    src_file_name: /raid/newstest2012-es-en.clean.tok.src\n",
      "    tgt_file_name: /raid/newstest2012-es-en.clean.tok.ref\n",
      "    tokens_in_batch: 512\n",
      "    clean: false\n",
      "    max_seq_length: 512\n",
      "    cache_ids: false\n",
      "    cache_data_per_node: false\n",
      "    use_cache: false\n",
      "    shuffle: false\n",
      "    num_samples: -1\n",
      "    drop_last: false\n",
      "    pin_memory: false\n",
      "    num_workers: 8\n",
      "    load_from_cached_dataset: false\n",
      "    reverse_lang_direction: false\n",
      "    load_from_tarred_dataset: false\n",
      "    metadata_path: null\n",
      "    tar_shuffle_n: 100\n",
      "    \n",
      "[NeMo W 2024-02-06 12:36:58 modelPT:174] Please call the ModelPT.setup_test_data() or ModelPT.setup_multiple_test_data() method and provide a valid configuration file to setup the test data loader(s).\n",
      "    Test config : \n",
      "    src_file_name: /raid/newstest2013-es-en.clean.tok.src\n",
      "    tgt_file_name: /raid/newstest2013-es-en.clean.tok.ref\n",
      "    tokens_in_batch: 512\n",
      "    clean: false\n",
      "    max_seq_length: 512\n",
      "    cache_ids: false\n",
      "    cache_data_per_node: false\n",
      "    use_cache: false\n",
      "    shuffle: false\n",
      "    num_samples: -1\n",
      "    drop_last: false\n",
      "    pin_memory: false\n",
      "    num_workers: 8\n",
      "    load_from_cached_dataset: false\n",
      "    reverse_lang_direction: false\n",
      "    load_from_tarred_dataset: false\n",
      "    metadata_path: null\n",
      "    tar_shuffle_n: 100\n",
      "    \n"
     ]
    },
    {
     "name": "stdout",
     "output_type": "stream",
     "text": [
      "[NeMo I 2024-02-06 12:37:08 nlp_overrides:752] Model MTEncDecModel was successfully restored from /mnt/c/Users/ViDi132/Desktop/ModelsNGC/nmt_es_en_transformer12x2/nmt_es_en_transformer12x2.nemo.\n"
     ]
    },
    {
     "name": "stderr",
     "output_type": "stream",
     "text": [
      " NeMo-text-processing :: INFO     :: Creating ClassifyFst grammars.\n",
      "I0206 12:37:18.696577 140639282906688 tokenize_and_classify.py:86] Creating ClassifyFst grammars.\n",
      "[NeMo W 2024-02-06 12:38:07 experimental:26] `<class 'nemo.collections.tts.g2p.models.i18n_ipa.IpaG2p'>` is experimental and not ready for production yet. Use at your own risk.\n",
      "[NeMo W 2024-02-06 12:38:09 i18n_ipa:124] apply_to_oov_word=None, This means that some of words will remain unchanged if they are not handled by any of the rules in self.parse_one_word(). This may be intended if phonemes and chars are both valid inputs, otherwise, you may see unexpected deletions in your input.\n",
      "[NeMo W 2024-02-06 12:38:09 experimental:26] `<class 'nemo.collections.common.tokenizers.text_to_speech.tts_tokenizers.IPATokenizer'>` is experimental and not ready for production yet. Use at your own risk.\n",
      "[NeMo W 2024-02-06 12:38:09 modelPT:161] If you intend to do training or fine-tuning, please call the ModelPT.setup_training_data() method and provide a valid configuration file to setup the train data loader.\n",
      "    Train config : \n",
      "    dataset:\n",
      "      _target_: nemo.collections.tts.torch.data.TTSDataset\n",
      "      manifest_filepath: /data3/LJSpeech/nvidia_ljspeech_train.json\n",
      "      sample_rate: 22050\n",
      "      sup_data_path: /data3/LJSpeech/tmp_ignoreamb/\n",
      "      sup_data_types:\n",
      "      - align_prior_matrix\n",
      "      - pitch\n",
      "      n_fft: 1024\n",
      "      win_length: 1024\n",
      "      hop_length: 256\n",
      "      window: hann\n",
      "      n_mels: 80\n",
      "      lowfreq: 0\n",
      "      highfreq: 8000\n",
      "      max_duration: null\n",
      "      min_duration: 0.1\n",
      "      ignore_file: null\n",
      "      trim: false\n",
      "      pitch_fmin: 65.40639132514966\n",
      "      pitch_fmax: 2093.004522404789\n",
      "      pitch_norm: true\n",
      "      pitch_mean: 212.35873413085938\n",
      "      pitch_std: 68.52806091308594\n",
      "      use_beta_binomial_interpolator: true\n",
      "    dataloader_params:\n",
      "      drop_last: false\n",
      "      shuffle: true\n",
      "      batch_size: 32\n",
      "      num_workers: 12\n",
      "    \n",
      "[NeMo W 2024-02-06 12:38:09 modelPT:168] If you intend to do validation, please call the ModelPT.setup_validation_data() or ModelPT.setup_multiple_validation_data() method and provide a valid configuration file to setup the validation data loader(s). \n",
      "    Validation config : \n",
      "    dataset:\n",
      "      _target_: nemo.collections.tts.torch.data.TTSDataset\n",
      "      manifest_filepath: /data3/LJSpeech/nvidia_ljspeech_val.json\n",
      "      sample_rate: 22050\n",
      "      sup_data_path: /data3/LJSpeech/tmp_ignoreamb/\n",
      "      sup_data_types:\n",
      "      - align_prior_matrix\n",
      "      - pitch\n",
      "      n_fft: 1024\n",
      "      win_length: 1024\n",
      "      hop_length: 256\n",
      "      window: hann\n",
      "      n_mels: 80\n",
      "      lowfreq: 0\n",
      "      highfreq: 8000\n",
      "      max_duration: null\n",
      "      min_duration: null\n",
      "      ignore_file: null\n",
      "      trim: false\n",
      "      pitch_fmin: 65.40639132514966\n",
      "      pitch_fmax: 2093.004522404789\n",
      "      pitch_norm: true\n",
      "      pitch_mean: 212.35873413085938\n",
      "      pitch_std: 68.52806091308594\n",
      "      use_beta_binomial_interpolator: true\n",
      "    dataloader_params:\n",
      "      drop_last: false\n",
      "      shuffle: false\n",
      "      batch_size: 32\n",
      "      num_workers: 8\n",
      "    \n"
     ]
    },
    {
     "name": "stdout",
     "output_type": "stream",
     "text": [
      "[NeMo I 2024-02-06 12:38:09 features:289] PADDING: 1\n",
      "[NeMo I 2024-02-06 12:38:10 save_restore_connector:249] Model FastPitchModel was successfully restored from /mnt/c/Users/ViDi132/Desktop/ModelsNGC/tts_en_fastpitch/tts_en_fastpitch_align_ipa.nemo.\n"
     ]
    },
    {
     "name": "stderr",
     "output_type": "stream",
     "text": [
      "[NeMo W 2024-02-06 12:38:19 modelPT:161] If you intend to do training or fine-tuning, please call the ModelPT.setup_training_data() method and provide a valid configuration file to setup the train data loader.\n",
      "    Train config : \n",
      "    dataset:\n",
      "      _target_: nemo.collections.tts.data.tts_dataset.VocoderDataset\n",
      "      manifest_filepath: /ws/mel-dataset/Hifitts-VCTK-FP-mels-118-large/hifigan_train.json\n",
      "      sample_rate: 44100\n",
      "      n_segments: 16384\n",
      "      max_duration: null\n",
      "      min_duration: 0.75\n",
      "      load_precomputed_mel: true\n",
      "      hop_length: 512\n",
      "    dataloader_params:\n",
      "      drop_last: false\n",
      "      shuffle: true\n",
      "      batch_size: 40\n",
      "      num_workers: 4\n",
      "      pin_memory: true\n",
      "    \n",
      "[NeMo W 2024-02-06 12:38:19 modelPT:168] If you intend to do validation, please call the ModelPT.setup_validation_data() or ModelPT.setup_multiple_validation_data() method and provide a valid configuration file to setup the validation data loader(s). \n",
      "    Validation config : \n",
      "    dataset:\n",
      "      _target_: nemo.collections.tts.data.tts_dataset.VocoderDataset\n",
      "      manifest_filepath: /ws/mel-dataset/Hifitts-VCTK-FP-mels-118-large/hifigan_val.json\n",
      "      sample_rate: 44100\n",
      "      n_segments: 131072\n",
      "      max_duration: null\n",
      "      min_duration: 3\n",
      "      load_precomputed_mel: true\n",
      "      hop_length: 512\n",
      "    dataloader_params:\n",
      "      drop_last: false\n",
      "      shuffle: false\n",
      "      batch_size: 16\n",
      "      num_workers: 4\n",
      "      pin_memory: true\n",
      "    \n"
     ]
    },
    {
     "name": "stdout",
     "output_type": "stream",
     "text": [
      "[NeMo I 2024-02-06 12:38:19 features:289] PADDING: 0\n",
      "[NeMo I 2024-02-06 12:38:19 features:297] STFT using exact pad\n",
      "[NeMo I 2024-02-06 12:38:19 features:289] PADDING: 0\n",
      "[NeMo I 2024-02-06 12:38:19 features:297] STFT using exact pad\n",
      "[NeMo I 2024-02-06 12:38:22 save_restore_connector:249] Model HifiGanModel was successfully restored from /mnt/c/Users/ViDi132/Desktop/ModelsNGC/tts_en_hifigan_adapter/tts_en_hifigan_adapter.nemo.\n"
     ]
    },
    {
     "name": "stderr",
     "output_type": "stream",
     "text": [
      "I0206 12:38:23.125063 140639282906688 _internal.py:96] 127.0.0.1 - - [06/Feb/2024 12:38:23] \"POST /predict HTTP/1.1\" 200 -\n"
     ]
    }
   ],
   "source": [
    "from flask import Flask, request, jsonify\n",
    "import mlflow.pyfunc\n",
    "import os\n",
    "\n",
    "app = Flask(__name__)\n",
    "\n",
    "# Load the model\n",
    "model = mlflow.pyfunc.load_model(\"runs:/74360ddce3c847c294c7afe28e9b5428/combined_nemo_model\")\n",
    "\n",
    "@app.route('/predict', methods=['POST'])\n",
    "def predict():\n",
    "    data = request.get_json()\n",
    "    input_data = data.get('text') or data.get('audio_path')\n",
    "\n",
    "    if not input_data:\n",
    "        return jsonify({\"error\": \"No text or audio_path provided\"}), 400\n",
    "\n",
    "    # Model prediction\n",
    "    try:\n",
    "        result = model.predict(input_data)\n",
    "\n",
    "        # If input is a file path, it is audio\n",
    "        if isinstance(input_data, str) and os.path.isfile(input_data):\n",
    "            # Resultado é áudio\n",
    "            result = {\"audio\": result.tolist() if isinstance(result, np.ndarray) else result}\n",
    "        else:\n",
    "            # Result is translated text\n",
    "            result = {\"translation\": result}\n",
    "\n",
    "        return jsonify(result)\n",
    "    except Exception as e:\n",
    "        return jsonify({\"error\": str(e)}), 500\n",
    "\n",
    "if __name__ == '__main__':\n",
    "    app.run(host='0.0.0.0', port=5001)\n"
   ]
  },
  {
   "cell_type": "markdown",
   "id": "1a870e12-ea82-4d00-9c0a-c9f7e702d14c",
   "metadata": {},
   "source": [
    "### Example of text-only application"
   ]
  },
  {
   "cell_type": "code",
   "execution_count": 16,
   "id": "ba33c1db-6144-4382-8db3-a65a2d6358e1",
   "metadata": {
    "scrolled": true
   },
   "outputs": [
    {
     "name": "stdin",
     "output_type": "stream",
     "text": [
      "Translate to English (type 'exit' to quit):  Hola\n"
     ]
    },
    {
     "name": "stdout",
     "output_type": "stream",
     "text": [
      "Translated text: Hello there\n"
     ]
    },
    {
     "name": "stdin",
     "output_type": "stream",
     "text": [
      "Translate to English (type 'exit' to quit):  Despacito\n"
     ]
    },
    {
     "name": "stdout",
     "output_type": "stream",
     "text": [
      "Translated text: Slowly\n"
     ]
    },
    {
     "name": "stdin",
     "output_type": "stream",
     "text": [
      "Translate to English (type 'exit' to quit):  exit\n"
     ]
    }
   ],
   "source": [
    "\n",
    "while True:\n",
    "    text = input(\"Translate to English (type 'exit' to quit): \")\n",
    "    \n",
    "\n",
    "    if text.lower() == 'exit':\n",
    "        break\n",
    "\n",
    "    try:\n",
    "        translations = translate.translate([text], source_lang=\"es\", target_lang=\"en\")\n",
    "        final = translations[0]\n",
    "        print(\"Translated text:\", final)\n",
    "    except Exception as e:\n",
    "        print(\"An error occurred during translation:\", e)\n"
   ]
  },
  {
   "cell_type": "markdown",
   "id": "85d309e9-6f0f-4d50-95ae-6ef930dabe29",
   "metadata": {},
   "source": [
    "### Example of Audio-to-Text."
   ]
  },
  {
   "cell_type": "code",
   "execution_count": 44,
   "id": "670b21a8-e9b6-4567-99a1-73acafdb6b69",
   "metadata": {},
   "outputs": [
    {
     "name": "stdin",
     "output_type": "stream",
     "text": [
      "Enter the path of the .wav file or (exit) to exit.  ds-experiments/NeMo-Demos/como-te-llamas.wav\n"
     ]
    },
    {
     "data": {
      "application/vnd.jupyter.widget-view+json": {
       "model_id": "2b4d403dbce64a7e8aa356c17c014fad",
       "version_major": 2,
       "version_minor": 0
      },
      "text/plain": [
       "Transcribing:   0%|          | 0/1 [00:00<?, ?it/s]"
      ]
     },
     "metadata": {},
     "output_type": "display_data"
    },
    {
     "name": "stderr",
     "output_type": "stream",
     "text": [
      "[NeMo E 2024-02-06 03:57:29 segment:249] Loading ds-experiments/NeMo-Demos/como-te-llamas.wav via SoundFile raised RuntimeError: `Error opening 'ds-experiments/NeMo-Demos/como-te-llamas.wav': System error.`. NeMo will fallback to loading via pydub.\n"
     ]
    },
    {
     "name": "stdout",
     "output_type": "stream",
     "text": [
      "An error has occurred: [Errno 2] No such file or directory: 'ds-experiments/NeMo-Demos/como-te-llamas.wav'\n"
     ]
    },
    {
     "name": "stdin",
     "output_type": "stream",
     "text": [
      "Enter the path of the .wav file or (exit) to exit.  como-te-llamas.wav\n"
     ]
    },
    {
     "data": {
      "application/vnd.jupyter.widget-view+json": {
       "model_id": "117424adec774ed1a652e02a793c517d",
       "version_major": 2,
       "version_minor": 0
      },
      "text/plain": [
       "Transcribing:   0%|          | 0/1 [00:00<?, ?it/s]"
      ]
     },
     "metadata": {},
     "output_type": "display_data"
    },
    {
     "name": "stdout",
     "output_type": "stream",
     "text": [
      "Transcrição: cómo te llamas\n"
     ]
    },
    {
     "name": "stderr",
     "output_type": "stream",
     "text": [
      "[NeMo W 2024-02-06 03:57:46 fastpitch:291] parse() is meant to be called in eval mode.\n",
      "[NeMo W 2024-02-06 03:57:46 fastpitch:368] generate_spectrogram() is meant to be called in eval mode.\n"
     ]
    },
    {
     "name": "stdout",
     "output_type": "stream",
     "text": [
      "Translation to English: What's your name\n",
      "An error has occurred: name 'ipd' is not defined\n"
     ]
    },
    {
     "name": "stdin",
     "output_type": "stream",
     "text": [
      "Enter the path of the .wav file or (exit) to exit.  exit\n"
     ]
    }
   ],
   "source": [
    "while True:\n",
    "    audio_path = input(\"Enter the path of the .wav file or (exit) to exit. \")\n",
    "\n",
    "\n",
    "    if audio_path.lower() == 'exit':\n",
    "        break\n",
    "\n",
    "    try:\n",
    "\n",
    "        raw_text = quartznet.transcribe(paths2audio_files=[audio_path])[0]\n",
    "        print(f\"Transcrição: {raw_text}\")\n",
    "\n",
    "\n",
    "        translation = translate.translate([raw_text], source_lang=\"es\", target_lang=\"en\")[0]\n",
    "        print(f\"Translation to English: {translation}\")\n",
    "\n",
    "\n",
    "        audio_output = text_to_audio(translation)\n",
    "        ipd.display(ipd.Audio(audio_output, rate=40000))\n",
    "\n",
    "    except Exception as e:\n",
    "        print(f\"An error has occurred: {e}\")"
   ]
  }
 ],
 "metadata": {
  "kernelspec": {
   "display_name": "Python 3 (ipykernel)",
   "language": "python",
   "name": "python3"
  },
  "language_info": {
   "codemirror_mode": {
    "name": "ipython",
    "version": 3
   },
   "file_extension": ".py",
   "mimetype": "text/x-python",
   "name": "python",
   "nbconvert_exporter": "python",
   "pygments_lexer": "ipython3",
   "version": "3.10.12"
  }
 },
 "nbformat": 4,
 "nbformat_minor": 5
}
