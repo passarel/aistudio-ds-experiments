{
 "cells": [
  {
   "cell_type": "code",
   "execution_count": 22,
   "id": "fe25f744-30f0-4ebd-9fbc-a23afb153750",
   "metadata": {},
   "outputs": [],
   "source": [
    "import mlflow\n",
    "from mlflow.models import ModelSignature\n",
    "from mlflow.types.schema import Schema, ColSpec, ParamSchema, ParamSpec\n",
    "import requests\n",
    "\n",
    "class MyModel(mlflow.pyfunc.PythonModel):\n",
    "    def predict(self, ctx, model_input, params):\n",
    "        flower_name = model_input['flowerName'][0]\n",
    "        return {\"flowerName\":flower_name.upper() if params['do_work'] else flower_name, \"do_work\": params['do_work']  }"
   ]
  },
  {
   "cell_type": "code",
   "execution_count": 23,
   "id": "8c968255-28ed-44b0-bb9f-b209bffc4c8d",
   "metadata": {},
   "outputs": [
    {
     "name": "stderr",
     "output_type": "stream",
     "text": [
      "Registered model 'my_model' already exists. Creating a new version of this model...\n",
      "2023/12/13 20:16:21 INFO mlflow.tracking._model_registry.client: Waiting up to 300 seconds for model version to finish creation. Model name: my_model, version 9\n",
      "Created version '9' of model 'my_model'.\n"
     ]
    }
   ],
   "source": [
    "params_schema = ParamSchema(\n",
    "    [\n",
    "        ParamSpec(\"do_work\", \"boolean\", False)\n",
    "    ]\n",
    ")\n",
    "\n",
    "input_schema = Schema(\n",
    "    [\n",
    "        ColSpec(\"string\", \"flowerName\")\n",
    "    ]\n",
    ")\n",
    "\n",
    "output_schema = Schema(\n",
    "    [\n",
    "        ColSpec(\"string\",\"flowerName\")\n",
    "    ]\n",
    ")\n",
    "\n",
    "signature = ModelSignature(inputs=input_schema, outputs=output_schema, params = params_schema)\n",
    "\n",
    "mlflow.set_experiment(\"PyFunc\")\n",
    "with mlflow.start_run() as run:\n",
    "    model_info = mlflow.pyfunc.log_model(\n",
    "        python_model=MyModel(), artifact_path=\"my_model\", signature=signature,\n",
    "    )\n",
    "    \n",
    "    mlflow.register_model(model_uri = f\"runs:/{run.info.run_id}/my_model\", name=\"my_model\")"
   ]
  },
  {
   "cell_type": "markdown",
   "id": "2a90b9eb-cd49-489b-897b-2464934e8652",
   "metadata": {},
   "source": [
    "# Usage\n",
    "\n",
    "In the following are two ways to use the registered models. "
   ]
  },
  {
   "cell_type": "markdown",
   "id": "2254712a-0fa8-4f14-83e0-2d9b4dff73e6",
   "metadata": {},
   "source": [
    "## Loading the model\n",
    "\n",
    "Using pyfunc.load_model you can test if your model is working well, but it doesn`t involves nothing of the model services feature.\n",
    "\n",
    "In order to use it, change the version of model_uri to the latests version you deployed"
   ]
  },
  {
   "cell_type": "code",
   "execution_count": 26,
   "id": "550847b6-9245-4e75-b0e8-829ed038760c",
   "metadata": {},
   "outputs": [
    {
     "name": "stdout",
     "output_type": "stream",
     "text": [
      "{'flowerName': 'ROSE', 'do_work': True}\n",
      "{'flowerName': 'rose', 'do_work': False}\n"
     ]
    }
   ],
   "source": [
    "model = mlflow.pyfunc.load_model(model_uri=f\"models:/my_model/9\")\n",
    "print(model.predict({\"flowerName\":\"rose\"}, params={\"do_work\":True}))\n",
    "print(model.predict({\"flowerName\":\"rose\"}, params={\"do_work\":False}))"
   ]
  },
  {
   "cell_type": "markdown",
   "id": "53868ec9-87b3-4f6b-9019-6eb7685f609c",
   "metadata": {},
   "source": [
    "## Model services\n",
    "\n",
    "Go to the published services page and create a model, run it and wait until the running state. Change the URL field below to the url of the published services."
   ]
  },
  {
   "cell_type": "code",
   "execution_count": 20,
   "id": "34ab01d1-426b-4d8a-a892-d2b72072c073",
   "metadata": {},
   "outputs": [
    {
     "name": "stdout",
     "output_type": "stream",
     "text": [
      "{\"predictions\": {\"flowerName\": \"SUNFLOWER\", \"do_work\": true}}\n"
     ]
    },
    {
     "name": "stderr",
     "output_type": "stream",
     "text": [
      "/opt/conda/lib/python3.11/site-packages/urllib3/connectionpool.py:1095: InsecureRequestWarning: Unverified HTTPS request is being made to host '10.137.137.218'. Adding certificate verification is strongly advised. See: https://urllib3.readthedocs.io/en/latest/advanced-usage.html#tls-warnings\n",
      "  warnings.warn(\n"
     ]
    }
   ],
   "source": [
    "# Model service 🤘\n",
    "\n",
    "url = \"https://10.137.137.218:5000\"+\"/invocations\"\n",
    "data = {\n",
    "    \"inputs\":{\n",
    "        \"flowerName\":[\"sunflower\"],\n",
    "    },\n",
    "    \"params\":{\n",
    "        \"do_work\": True\n",
    "    }\n",
    "}\n",
    "\n",
    "headers = {'Content-type': 'application/json'}\n",
    "x = requests.post(url, json = data, verify=False, headers=headers)\n",
    "\n",
    "print(x.text)"
   ]
  }
 ],
 "metadata": {
  "kernelspec": {
   "display_name": "Python 3 (ipykernel)",
   "language": "python",
   "name": "python3"
  },
  "language_info": {
   "codemirror_mode": {
    "name": "ipython",
    "version": 3
   },
   "file_extension": ".py",
   "mimetype": "text/x-python",
   "name": "python",
   "nbconvert_exporter": "python",
   "pygments_lexer": "ipython3",
   "version": "3.11.6"
  }
 },
 "nbformat": 4,
 "nbformat_minor": 5
}
