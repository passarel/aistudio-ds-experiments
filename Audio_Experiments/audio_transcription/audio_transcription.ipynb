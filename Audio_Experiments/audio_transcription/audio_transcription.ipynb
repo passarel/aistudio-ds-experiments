{
 "cells": [
  {
   "cell_type": "markdown",
   "id": "d90b6de9-c749-4594-a0d4-4bda21983667",
   "metadata": {},
   "source": [
    "# Audio transcription"
   ]
  },
  {
   "cell_type": "markdown",
   "id": "e757efd7",
   "metadata": {},
   "source": [
    "## Imports"
   ]
  },
  {
   "cell_type": "code",
   "execution_count": 5,
   "id": "79193cb7-c5f3-4816-90ad-b60d548a9d65",
   "metadata": {},
   "outputs": [
    {
     "name": "stdout",
     "output_type": "stream",
     "text": [
      "Collecting pytube\n",
      "  Downloading pytube-15.0.0-py3-none-any.whl.metadata (5.0 kB)\n",
      "Downloading pytube-15.0.0-py3-none-any.whl (57 kB)\n",
      "\u001b[2K   \u001b[90m━━━━━━━━━━━━━━━━━━━━━━━━━━━━━━━━━━━━━━━━\u001b[0m \u001b[32m57.6/57.6 kB\u001b[0m \u001b[31m289.4 kB/s\u001b[0m eta \u001b[36m0:00:00\u001b[0ma \u001b[36m0:00:01\u001b[0m\n",
      "\u001b[?25hInstalling collected packages: pytube\n",
      "Successfully installed pytube-15.0.0\n",
      "\u001b[33mWARNING: Running pip as the 'root' user can result in broken permissions and conflicting behaviour with the system package manager. It is recommended to use a virtual environment instead: https://pip.pypa.io/warnings/venv\u001b[0m\u001b[33m\n",
      "\u001b[0mNote: you may need to restart the kernel to use updated packages.\n"
     ]
    }
   ],
   "source": [
    "pip install pytube"
   ]
  },
  {
   "cell_type": "code",
   "execution_count": 9,
   "id": "6c40efe3-9607-4395-b65a-00b308970480",
   "metadata": {},
   "outputs": [],
   "source": [
    "import whisper\n",
    "from pytube import YouTube"
   ]
  },
  {
   "cell_type": "markdown",
   "id": "0ef626b4-fbb7-4c33-b971-a92cc947b40c",
   "metadata": {},
   "source": [
    "## Downalod the youtube video audio"
   ]
  },
  {
   "cell_type": "markdown",
   "id": "15d2bd62-a8f8-4244-95fe-3212b82aaf99",
   "metadata": {},
   "source": [
    "You can change the URL bellow to the video you want to transcribe."
   ]
  },
  {
   "cell_type": "code",
   "execution_count": null,
   "id": "27025dac-63d4-41cb-8dec-abc0ad4a6060",
   "metadata": {},
   "outputs": [],
   "source": [
    "url = 'https://youtu.be/JAzF4yp2Ef4'"
   ]
  },
  {
   "cell_type": "code",
   "execution_count": 1,
   "id": "fc032cea-0b2c-4911-852c-c54ada056ae3",
   "metadata": {},
   "outputs": [
    {
     "data": {
      "text/plain": [
       "'/home/jovyan/HP x Real Madrid  HP.mp4'"
      ]
     },
     "execution_count": 1,
     "metadata": {},
     "output_type": "execute_result"
    }
   ],
   "source": [
    "yt = YouTube(url)\n",
    "yt.streams.get_highest_resolution().download()"
   ]
  },
  {
   "cell_type": "markdown",
   "id": "f3c55040-af3c-4e16-b01f-f02302da59f6",
   "metadata": {},
   "source": [
    "## Model"
   ]
  },
  {
   "cell_type": "code",
   "execution_count": 6,
   "id": "415ea554-5be0-4776-8e13-91147052a70c",
   "metadata": {},
   "outputs": [
    {
     "name": "stderr",
     "output_type": "stream",
     "text": [
      "100%|███████████████████████████████████████| 461M/461M [01:41<00:00, 4.75MiB/s]\n"
     ]
    },
    {
     "data": {
      "text/plain": [
       "' Two icons, both with a legacy of performance and innovation, are now sharing the pitch, dedicated to making an impact. With tech pushing human potential and with passion driving performance, they empower big ideas and bigger opportunities. Imagine the possibilities when community shares ambition, when tech meets sport. We can push our potential to the next level. HB, Israel, Madrid. Welcome to the team.'"
      ]
     },
     "execution_count": 6,
     "metadata": {},
     "output_type": "execute_result"
    }
   ],
   "source": [
    "small_model = whisper.load_model('small')\n",
    "result = small_model.transcribe('HP x Real Madrid  HP.mp4')"
   ]
  },
  {
   "cell_type": "markdown",
   "id": "35de8a65-1ec5-4361-97d1-c30ebed1f452",
   "metadata": {},
   "source": [
    "## Text result"
   ]
  },
  {
   "cell_type": "code",
   "execution_count": 11,
   "id": "b44ebdc0-3ed9-4a14-8cd6-543432b14429",
   "metadata": {},
   "outputs": [
    {
     "data": {
      "text/plain": [
       "' Two icons, both with legacy of performance and innovation are now sharing the pitch dedicated to making an impact. With tech pushing human potential and with passion, driving performance, they empower big ideas and bigger opportunities. Imagine the possibilities. When community shares ambition, when tech needs sport, we can push our potential to the next level. HB, Eerreal Madrid. Welcome to the team.'"
      ]
     },
     "execution_count": 11,
     "metadata": {},
     "output_type": "execute_result"
    }
   ],
   "source": [
    "result['text']"
   ]
  }
 ],
 "metadata": {
  "kernelspec": {
   "display_name": "Python 3 (ipykernel)",
   "language": "python",
   "name": "python3"
  },
  "language_info": {
   "codemirror_mode": {
    "name": "ipython",
    "version": 3
   },
   "file_extension": ".py",
   "mimetype": "text/x-python",
   "name": "python",
   "nbconvert_exporter": "python",
   "pygments_lexer": "ipython3",
   "version": "3.10.11"
  }
 },
 "nbformat": 4,
 "nbformat_minor": 5
}
