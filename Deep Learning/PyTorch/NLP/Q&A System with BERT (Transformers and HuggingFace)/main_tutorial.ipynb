{
 "cells": [
  {
   "attachments": {},
   "cell_type": "markdown",
   "metadata": {},
   "source": [
    "### <h1 style=\"font-family:Helvetica;border:2px solid Violet;text-align:center;\">Using pre-trained BERT for building a Q&A system</h1>"
   ]
  },
  {
   "attachments": {},
   "cell_type": "markdown",
   "metadata": {},
   "source": [
    "##### **😉 Hello there!**\n",
    "\n",
    "Before starting to explore and run this notebook, here are a few things you should know:"
   ]
  },
  {
   "attachments": {},
   "cell_type": "markdown",
   "metadata": {},
   "source": [
    "<div class=\"alert alert-info\">\n",
    "<b>🧐 What is BERT?</b>\n",
    "\n",
    "It is a language representation model which stands for Bidirectional Encoder Representations from Transformers. BERT model can be finetuned with just one additional output layer to create state-of-the-art models for a wide range of tasks, such as question answering and language inference, without substantial taskspecific architecture modifications. See more details in the official paper [BERT: Pre-training of Deep Bidirectional Transformers for Language Understanding.](https://arxiv.org/abs/1810.04805)\n",
    "</div>"
   ]
  },
  {
   "attachments": {},
   "cell_type": "markdown",
   "metadata": {},
   "source": [
    "<div class=\"alert alert-info\">\n",
    "<b>🧐 What is transformers?</b>\n",
    "\n",
    "[Transformers](https://huggingface.co/docs/transformers/index) provides APIs and tools to easily download and train state-of-the-art pretrained models. Using pretrained models can reduce your compute costs, carbon footprint, and save you the time and resources required to train a model from scratch. These models support common tasks in different modalities, such as:\n",
    "\n",
    "- Natural Language Processing\n",
    "- Computer Vision\n",
    "- Audio\n",
    "- Multimodal\n",
    "</div>"
   ]
  },
  {
   "attachments": {},
   "cell_type": "markdown",
   "metadata": {},
   "source": [
    "<div class=\"alert alert-info\">\n",
    "<b>🧐 What is HuggingFace?</b>\n",
    "\n",
    "[Hugging Face, Inc.](https://huggingface.co/) is a French company that develops tools for building applications using machine learning. It is most notable for its Transformers library built for natural language processing applications and its platform that allows users to share machine learning models and datasets. The [HuggingFace Hub ](https://huggingface.co/docs/hub/index) is a platform with over 120k models, 20k datasets, and 50k demo apps (Spaces), all open source and publicly available, in an online platform where people can easily collaborate and build ML together. The Hub works as a central place where anyone can explore, experiment, collaborate and build technology with Machine Learning.\n",
    "</div>"
   ]
  },
  {
   "attachments": {},
   "cell_type": "markdown",
   "metadata": {},
   "source": [
    "# **Imports**"
   ]
  },
  {
   "cell_type": "code",
   "execution_count": 1,
   "metadata": {},
   "outputs": [
    {
     "name": "stderr",
     "output_type": "stream",
     "text": [
      "c:\\Users\\diasrodr\\Anaconda3\\envs\\transformers3\\lib\\site-packages\\tqdm\\auto.py:21: TqdmWarning: IProgress not found. Please update jupyter and ipywidgets. See https://ipywidgets.readthedocs.io/en/stable/user_install.html\n",
      "  from .autonotebook import tqdm as notebook_tqdm\n"
     ]
    }
   ],
   "source": [
    "# These are all the libraries and frameworks we're going to use\n",
    "from datasets import load_dataset, load_metric\n",
    "from datetime import datetime\n",
    "import mlflow\n",
    "import mlflow.pytorch\n",
    "import torch\n",
    "from tqdm.autonotebook import tqdm\n",
    "from transformers import AutoTokenizer, AutoModelForQuestionAnswering, TrainingArguments, Trainer, pipeline"
   ]
  },
  {
   "cell_type": "code",
   "execution_count": 2,
   "metadata": {},
   "outputs": [],
   "source": [
    "start_time_all_execution = datetime.now() # This variable is to help us to see in how much time this notebook will run"
   ]
  },
  {
   "attachments": {},
   "cell_type": "markdown",
   "metadata": {},
   "source": [
    "# **Dataset**"
   ]
  },
  {
   "attachments": {},
   "cell_type": "markdown",
   "metadata": {},
   "source": [
    "## <div class=\"alert alert-info\">\n",
    "<b>🧐 What is the SQuAD dataset?</b>\n",
    "\n",
    "Stanford Question Answering Dataset ([SQuAD](https://rajpurkar.github.io/SQuAD-explorer/)) is a reading comprehension dataset, consisting of questions posed by crowdworkers on a set of Wikipedia articles, where the answer to every question is a segment of text, or span, from the corresponding reading passage, or the question might be unanswerable. See more details at SQuAD.\n",
    "\n",
    "In this case, we're going to download this dataset from the [HuggingFace datasets](https://huggingface.co/datasets) repository.\n",
    "</div>"
   ]
  },
  {
   "cell_type": "code",
   "execution_count": 3,
   "metadata": {},
   "outputs": [
    {
     "name": "stderr",
     "output_type": "stream",
     "text": [
      "Found cached dataset squad (C:/Users/diasrodr/.cache/huggingface/datasets/squad/plain_text/1.0.0/d6ec3ceb99ca480ce37cdd35555d6cb2511d223b9150cce08a837ef62ffea453)\n",
      "100%|██████████| 2/2 [00:00<00:00, 16.58it/s]\n"
     ]
    },
    {
     "data": {
      "text/plain": [
       "DatasetDict({\n",
       "    train: Dataset({\n",
       "        features: ['id', 'title', 'context', 'question', 'answers'],\n",
       "        num_rows: 87599\n",
       "    })\n",
       "    validation: Dataset({\n",
       "        features: ['id', 'title', 'context', 'question', 'answers'],\n",
       "        num_rows: 10570\n",
       "    })\n",
       "})"
      ]
     },
     "execution_count": 3,
     "metadata": {},
     "output_type": "execute_result"
    }
   ],
   "source": [
    "squad_dataset = load_dataset(\"squad\") # Downloading the dataset\n",
    "squad_dataset"
   ]
  },
  {
   "attachments": {},
   "cell_type": "markdown",
   "metadata": {},
   "source": [
    "By printing the squad_dataset variable, we can see it is a dict composed by two key-values: the 'train' key, with all the train dataset as value, and the 'validation' key, with all the validation dataset as value. In this first part, we're using just the train dataset. Let's explore it a little bit, shall we?"
   ]
  },
  {
   "attachments": {},
   "cell_type": "markdown",
   "metadata": {},
   "source": [
    "## **The train dataset**"
   ]
  },
  {
   "attachments": {},
   "cell_type": "markdown",
   "metadata": {},
   "source": [
    "As we saw, we have and dict with two key-values. Let's access the \"train\" key."
   ]
  },
  {
   "cell_type": "code",
   "execution_count": 4,
   "metadata": {},
   "outputs": [
    {
     "data": {
      "text/plain": [
       "Dataset({\n",
       "    features: ['id', 'title', 'context', 'question', 'answers'],\n",
       "    num_rows: 87599\n",
       "})"
      ]
     },
     "execution_count": 4,
     "metadata": {},
     "output_type": "execute_result"
    }
   ],
   "source": [
    "squad_train_dataset = squad_dataset['train']\n",
    "squad_train_dataset"
   ]
  },
  {
   "attachments": {},
   "cell_type": "markdown",
   "metadata": {},
   "source": [
    "We can see that, inside the squad_train_dataset, we have another type of data, which is a Dataset type, (very similar to a dict) composed by two key-values: 'features' and 'num_rows'. \n",
    "We have in this Dataset 87599 rows, which corresponds to 87599 indixes inside it, each index corresponds to one question-anwser input for our model, like this:\n",
    "\n"
   ]
  },
  {
   "cell_type": "code",
   "execution_count": 5,
   "metadata": {},
   "outputs": [
    {
     "data": {
      "text/plain": [
       "{'id': '5733be284776f4190066117f',\n",
       " 'title': 'University_of_Notre_Dame',\n",
       " 'context': 'Architecturally, the school has a Catholic character. Atop the Main Building\\'s gold dome is a golden statue of the Virgin Mary. Immediately in front of the Main Building and facing it, is a copper statue of Christ with arms upraised with the legend \"Venite Ad Me Omnes\". Next to the Main Building is the Basilica of the Sacred Heart. Immediately behind the basilica is the Grotto, a Marian place of prayer and reflection. It is a replica of the grotto at Lourdes, France where the Virgin Mary reputedly appeared to Saint Bernadette Soubirous in 1858. At the end of the main drive (and in a direct line that connects through 3 statues and the Gold Dome), is a simple, modern stone statue of Mary.',\n",
       " 'question': 'What is in front of the Notre Dame Main Building?',\n",
       " 'answers': {'text': ['a copper statue of Christ'], 'answer_start': [188]}}"
      ]
     },
     "execution_count": 5,
     "metadata": {},
     "output_type": "execute_result"
    }
   ],
   "source": [
    "index_input = 1\n",
    "\n",
    "squad_train_dataset[index_input]"
   ]
  },
  {
   "attachments": {},
   "cell_type": "markdown",
   "metadata": {},
   "source": [
    "Looking into the this input of this Dataset object, we can see our first input.\n",
    "\n",
    "The inputs are a dict where each key comes from the 'features' list we just seen earlier, so we have:\n",
    "\n",
    "- id: A unique id for each input\n",
    "- title: The title for the question-answer (to give context)\n",
    "- context: The text input for the model to search the answer for the question\n",
    "- question: The question based on the context\n",
    "- answers: The answer based on the context\n",
    "\n",
    "Each of this feature can be accessed individually, like this:"
   ]
  },
  {
   "cell_type": "code",
   "execution_count": 6,
   "metadata": {},
   "outputs": [
    {
     "name": "stdout",
     "output_type": "stream",
     "text": [
      "University_of_Notre_Dame\n",
      "Architecturally, the school has a Catholic character. Atop the Main Building's gold dome is a golden statue of the Virgin Mary. Immediately in front of the Main Building and facing it, is a copper statue of Christ with arms upraised with the legend \"Venite Ad Me Omnes\". Next to the Main Building is the Basilica of the Sacred Heart. Immediately behind the basilica is the Grotto, a Marian place of prayer and reflection. It is a replica of the grotto at Lourdes, France where the Virgin Mary reputedly appeared to Saint Bernadette Soubirous in 1858. At the end of the main drive (and in a direct line that connects through 3 statues and the Gold Dome), is a simple, modern stone statue of Mary.\n",
      "What is in front of the Notre Dame Main Building?\n",
      "{'text': ['a copper statue of Christ'], 'answer_start': [188]}\n"
     ]
    }
   ],
   "source": [
    "print(squad_train_dataset[index_input]['title'])\n",
    "print(squad_train_dataset[index_input]['context'])\n",
    "print(squad_train_dataset[index_input]['question'])\n",
    "print(squad_train_dataset[index_input]['answers'])"
   ]
  },
  {
   "attachments": {},
   "cell_type": "markdown",
   "metadata": {},
   "source": [
    "Something important to notice here is that the 'answers' is an key composed by a dict as a value with two key-values: 'text' and 'answer_start'.\n",
    "The 'text' key corresponds to a list with the text answers, so yes! We can have more than one answer for each question in the datasets!\n",
    "In this case, for the first input we just have one answer. But we should check in the rest of the inputs. Let's do this using the filter method."
   ]
  },
  {
   "cell_type": "code",
   "execution_count": 7,
   "metadata": {},
   "outputs": [
    {
     "name": "stderr",
     "output_type": "stream",
     "text": [
      "Loading cached processed dataset at C:\\Users\\diasrodr\\.cache\\huggingface\\datasets\\squad\\plain_text\\1.0.0\\d6ec3ceb99ca480ce37cdd35555d6cb2511d223b9150cce08a837ef62ffea453\\cache-7127000c44dfd643.arrow\n"
     ]
    },
    {
     "data": {
      "text/plain": [
       "Dataset({\n",
       "    features: ['id', 'title', 'context', 'question', 'answers'],\n",
       "    num_rows: 0\n",
       "})"
      ]
     },
     "execution_count": 7,
     "metadata": {},
     "output_type": "execute_result"
    }
   ],
   "source": [
    "# Checking in the train dataset if we have just one answer for each question\n",
    "squad_train_dataset.filter(lambda x: len(x['answers']['text']) != 1)"
   ]
  },
  {
   "attachments": {},
   "cell_type": "markdown",
   "metadata": {},
   "source": [
    "Great, we don't have more than one answer for each question. \n",
    "\n",
    "Well, we're done exploring the train dataset. Let's go to the next part, shall we?"
   ]
  },
  {
   "attachments": {},
   "cell_type": "markdown",
   "metadata": {},
   "source": [
    "# **Tokenizer**"
   ]
  },
  {
   "attachments": {},
   "cell_type": "markdown",
   "metadata": {},
   "source": [
    "## <div class=\"alert alert-info\">\n",
    "<b>🧐 What is a tokenizer?</b>\n",
    "\n",
    "A tokenizer is in charge of preparing the inputs for a model. There are a range of tokenizers, so let's get to know the BERT tokenizer and what it does with the text.\n",
    "</div>"
   ]
  },
  {
   "attachments": {},
   "cell_type": "markdown",
   "metadata": {},
   "source": [
    "## **BERT Tokenizer**"
   ]
  },
  {
   "attachments": {},
   "cell_type": "markdown",
   "metadata": {},
   "source": [
    "First thing we have to do is to load the [BERT](https://huggingface.co/docs/transformers/model_doc/bert) pre-trained model from the HuggigngFace Hub. In this case, we're using the [distilbert-base-cased](https://huggingface.co/distilbert-base-cased) model."
   ]
  },
  {
   "cell_type": "code",
   "execution_count": 8,
   "metadata": {},
   "outputs": [],
   "source": [
    "model_checkpoint_bbc = \"distilbert-base-cased\" #\"bert-base-cased\" is a larger option if you want to test!\n",
    "tokenizer = AutoTokenizer.from_pretrained(model_checkpoint_bbc) # getting the model's tokenizer "
   ]
  },
  {
   "attachments": {},
   "cell_type": "markdown",
   "metadata": {},
   "source": [
    "For exploring it, let's take the same sample from the train dataset exploration."
   ]
  },
  {
   "cell_type": "code",
   "execution_count": 9,
   "metadata": {},
   "outputs": [
    {
     "name": "stdout",
     "output_type": "stream",
     "text": [
      "Architecturally, the school has a Catholic character. Atop the Main Building's gold dome is a golden statue of the Virgin Mary. Immediately in front of the Main Building and facing it, is a copper statue of Christ with arms upraised with the legend \"Venite Ad Me Omnes\". Next to the Main Building is the Basilica of the Sacred Heart. Immediately behind the basilica is the Grotto, a Marian place of prayer and reflection. It is a replica of the grotto at Lourdes, France where the Virgin Mary reputedly appeared to Saint Bernadette Soubirous in 1858. At the end of the main drive (and in a direct line that connects through 3 statues and the Gold Dome), is a simple, modern stone statue of Mary.\n",
      "What is in front of the Notre Dame Main Building?\n"
     ]
    }
   ],
   "source": [
    "# getting just context and the question\n",
    "#print(index_input) # uncoment to remember the index\n",
    "\n",
    "context = squad_train_dataset[index_input]['context'] \n",
    "question = squad_train_dataset[index_input]['question']\n",
    "print(context)\n",
    "print(question)"
   ]
  },
  {
   "attachments": {},
   "cell_type": "markdown",
   "metadata": {},
   "source": [
    "Let's pass the question and the context for the tokenizer, in this order, since it is the way BERT receives the inputs."
   ]
  },
  {
   "cell_type": "code",
   "execution_count": 10,
   "metadata": {},
   "outputs": [
    {
     "data": {
      "text/plain": [
       "{'input_ids': [101, 1327, 1110, 1107, 1524, 1104, 1103, 10360, 8022, 4304, 4334, 136, 102, 22182, 1193, 117, 1103, 1278, 1144, 170, 2336, 1959, 119, 1335, 4184, 1103, 4304, 4334, 112, 188, 2284, 10945, 1110, 170, 5404, 5921, 1104, 1103, 6567, 2090, 119, 13301, 1107, 1524, 1104, 1103, 4304, 4334, 1105, 4749, 1122, 117, 1110, 170, 7335, 5921, 1104, 4028, 1114, 1739, 1146, 14089, 5591, 1114, 1103, 7051, 107, 159, 21462, 1566, 24930, 2508, 152, 1306, 3965, 107, 119, 5893, 1106, 1103, 4304, 4334, 1110, 1103, 19349, 1104, 1103, 11373, 4641, 119, 13301, 1481, 1103, 171, 17506, 9538, 1110, 1103, 144, 10595, 2430, 117, 170, 14789, 1282, 1104, 8070, 1105, 9284, 119, 1135, 1110, 170, 16498, 1104, 1103, 176, 10595, 2430, 1120, 10111, 20500, 117, 1699, 1187, 1103, 6567, 2090, 25153, 1193, 1691, 1106, 2216, 17666, 6397, 3786, 1573, 25422, 13149, 1107, 8109, 119, 1335, 1103, 1322, 1104, 1103, 1514, 2797, 113, 1105, 1107, 170, 2904, 1413, 1115, 8200, 1194, 124, 11739, 1105, 1103, 3487, 17917, 114, 117, 1110, 170, 3014, 117, 2030, 2576, 5921, 1104, 2090, 119, 102], 'attention_mask': [1, 1, 1, 1, 1, 1, 1, 1, 1, 1, 1, 1, 1, 1, 1, 1, 1, 1, 1, 1, 1, 1, 1, 1, 1, 1, 1, 1, 1, 1, 1, 1, 1, 1, 1, 1, 1, 1, 1, 1, 1, 1, 1, 1, 1, 1, 1, 1, 1, 1, 1, 1, 1, 1, 1, 1, 1, 1, 1, 1, 1, 1, 1, 1, 1, 1, 1, 1, 1, 1, 1, 1, 1, 1, 1, 1, 1, 1, 1, 1, 1, 1, 1, 1, 1, 1, 1, 1, 1, 1, 1, 1, 1, 1, 1, 1, 1, 1, 1, 1, 1, 1, 1, 1, 1, 1, 1, 1, 1, 1, 1, 1, 1, 1, 1, 1, 1, 1, 1, 1, 1, 1, 1, 1, 1, 1, 1, 1, 1, 1, 1, 1, 1, 1, 1, 1, 1, 1, 1, 1, 1, 1, 1, 1, 1, 1, 1, 1, 1, 1, 1, 1, 1, 1, 1, 1, 1, 1, 1, 1, 1, 1, 1, 1, 1, 1, 1, 1, 1, 1, 1, 1, 1, 1, 1, 1, 1]}"
      ]
     },
     "execution_count": 10,
     "metadata": {},
     "output_type": "execute_result"
    }
   ],
   "source": [
    "inputs = tokenizer(question, context) # Decoding the inputs\n",
    "inputs"
   ]
  },
  {
   "attachments": {},
   "cell_type": "markdown",
   "metadata": {},
   "source": [
    "We can see that it returned a big dict. Let's chekc its keys."
   ]
  },
  {
   "cell_type": "code",
   "execution_count": 11,
   "metadata": {},
   "outputs": [
    {
     "data": {
      "text/plain": [
       "dict_keys(['input_ids', 'attention_mask'])"
      ]
     },
     "execution_count": 11,
     "metadata": {},
     "output_type": "execute_result"
    }
   ],
   "source": [
    "inputs.keys()"
   ]
  },
  {
   "attachments": {},
   "cell_type": "markdown",
   "metadata": {},
   "source": [
    "We have 2 keys here, but in this experiment, we're just interested in the 'input_ids', okay? Let's understand it."
   ]
  },
  {
   "attachments": {},
   "cell_type": "markdown",
   "metadata": {},
   "source": [
    "### **input_ids**"
   ]
  },
  {
   "attachments": {},
   "cell_type": "markdown",
   "metadata": {},
   "source": [
    "Let's get the first 26 items."
   ]
  },
  {
   "cell_type": "code",
   "execution_count": 12,
   "metadata": {},
   "outputs": [
    {
     "name": "stdout",
     "output_type": "stream",
     "text": [
      "[101, 1327, 1110, 1107, 1524, 1104, 1103, 10360, 8022, 4304, 4334, 136, 102, 22182, 1193, 117, 1103, 1278, 1144, 170, 2336, 1959, 119, 1335, 4184, 1103, 4304]\n"
     ]
    }
   ],
   "source": [
    "print(inputs['input_ids'][0:27])"
   ]
  },
  {
   "attachments": {},
   "cell_type": "markdown",
   "metadata": {},
   "source": [
    "You can be asking yourself what are those numbers. Let's decode them with the same tokenizer we've just used."
   ]
  },
  {
   "cell_type": "code",
   "execution_count": 13,
   "metadata": {},
   "outputs": [
    {
     "data": {
      "text/plain": [
       "'[CLS] What is in front of the Notre Dame Main Building? [SEP] Architecturally, the school has a Catholic character. Atop the Main'"
      ]
     },
     "execution_count": 13,
     "metadata": {},
     "output_type": "execute_result"
    }
   ],
   "source": [
    "tokenizer.decode(inputs['input_ids'][0:27])"
   ]
  },
  {
   "attachments": {},
   "cell_type": "markdown",
   "metadata": {},
   "source": [
    "Just like magic, right? 😌\n",
    "\n",
    "What the tokenizer did was to concatenate both the question and the context in one long string and give as output the dict with two keys, where the input_ids has a list of each token of the original context and answer in a numerical representation. For example, the token \"What\" from the text is corresponding to the input_id 1327."
   ]
  },
  {
   "attachments": {},
   "cell_type": "markdown",
   "metadata": {},
   "source": [
    "Ok, and how about the tokens [CLS] and [SEP]?\n",
    "\n",
    "Don't worry, I got you! These are called special tokens. CLS is the classification token and comes before the question. The SEP token is to delimit the begining and the end of the context. So, the format that BERT outputs is follows is:\n",
    "\n",
    "**[CLS] 'question' [SEP] 'context' [SEP]**"
   ]
  },
  {
   "attachments": {},
   "cell_type": "markdown",
   "metadata": {},
   "source": [
    "### **BERT and (way too) long contexts**"
   ]
  },
  {
   "attachments": {},
   "cell_type": "markdown",
   "metadata": {},
   "source": [
    "We saw that the context of the inputs can be very long. Let's get the context from the previous part."
   ]
  },
  {
   "cell_type": "code",
   "execution_count": 14,
   "metadata": {},
   "outputs": [
    {
     "name": "stdout",
     "output_type": "stream",
     "text": [
      "Architecturally, the school has a Catholic character. Atop the Main Building's gold dome is a golden statue of the Virgin Mary. Immediately in front of the Main Building and facing it, is a copper statue of Christ with arms upraised with the legend \"Venite Ad Me Omnes\". Next to the Main Building is the Basilica of the Sacred Heart. Immediately behind the basilica is the Grotto, a Marian place of prayer and reflection. It is a replica of the grotto at Lourdes, France where the Virgin Mary reputedly appeared to Saint Bernadette Soubirous in 1858. At the end of the main drive (and in a direct line that connects through 3 statues and the Gold Dome), is a simple, modern stone statue of Mary.\n",
      "Total number of words: 695\n",
      "Total number of sentences: 7\n"
     ]
    }
   ],
   "source": [
    "sentences = 0 \n",
    "for i in context:\n",
    "    if str(i) == '.':\n",
    "        sentences += 1\n",
    "\n",
    "print(context)\n",
    "print(f\"Total number of words: {len(context)}\")\n",
    "print(f\"Total number of sentences: {sentences}\")"
   ]
  },
  {
   "attachments": {},
   "cell_type": "markdown",
   "metadata": {},
   "source": [
    "This was something that would worry in the NLP area, since it's pretty different from other commom application like next sentence predictions where the inputs were just single sentences, and not just that: BERT can only handle a limited number of tokens! (In 2023, right now, it is limited to 512 tokens). You could think \"Why we just don't truncate the context?\". Well, this is a terrible option since our answer could be cut off from it."
   ]
  },
  {
   "attachments": {},
   "cell_type": "markdown",
   "metadata": {},
   "source": [
    "The solution that was found is to split the context into **multiple context windows**!\n",
    "It means that one data sample will turn into multiple data samples, and at least one of them will certanly contain the answer.\n",
    "\n",
    "But, what if a part of the answer begins in one window and is cut off and then the rest is in the next window?\n",
    "\n",
    "Well, in this case, we use **overlaping windows**!\n",
    "It is easier to understand and visualize all of those concepts when we use the tokenizer again. Let's go!"
   ]
  },
  {
   "attachments": {},
   "cell_type": "markdown",
   "metadata": {},
   "source": [
    "### **Understanding the model's tokenizer**"
   ]
  },
  {
   "attachments": {},
   "cell_type": "markdown",
   "metadata": {},
   "source": [
    "As before, we're using the same quenstion and context from the previous part and also passing them to the tokenizer in this specific order. \n",
    "\n",
    "- max_length: refers to the maximum length of the entire input (including the question, context and special tokens [CLS] and [SEP]). \n",
    "- truncation: here, we're saying that we just want to truncate the second input, which is the context.\n",
    "- stride: this one defines how much overlap there is between the context windows when they're splited up.\n",
    "- return_overflowing_tokens: this one is to return the overlaping tokens."
   ]
  },
  {
   "cell_type": "code",
   "execution_count": 15,
   "metadata": {},
   "outputs": [],
   "source": [
    "inputs = tokenizer(\n",
    "    question,\n",
    "    context, \n",
    "    max_length=100,\n",
    "    truncation=\"only_second\",\n",
    "    stride=50,\n",
    "    return_overflowing_tokens=True\n",
    ")"
   ]
  },
  {
   "attachments": {},
   "cell_type": "markdown",
   "metadata": {},
   "source": [
    "Let's see what we've got in the inputs and its keys."
   ]
  },
  {
   "cell_type": "code",
   "execution_count": 16,
   "metadata": {},
   "outputs": [
    {
     "name": "stdout",
     "output_type": "stream",
     "text": [
      "{'input_ids': [[101, 1327, 1110, 1107, 1524, 1104, 1103, 10360, 8022, 4304, 4334, 136, 102, 22182, 1193, 117, 1103, 1278, 1144, 170, 2336, 1959, 119, 1335, 4184, 1103, 4304, 4334, 112, 188, 2284, 10945, 1110, 170, 5404, 5921, 1104, 1103, 6567, 2090, 119, 13301, 1107, 1524, 1104, 1103, 4304, 4334, 1105, 4749, 1122, 117, 1110, 170, 7335, 5921, 1104, 4028, 1114, 1739, 1146, 14089, 5591, 1114, 1103, 7051, 107, 159, 21462, 1566, 24930, 2508, 152, 1306, 3965, 107, 119, 5893, 1106, 1103, 4304, 4334, 1110, 1103, 19349, 1104, 1103, 11373, 4641, 119, 13301, 1481, 1103, 171, 17506, 9538, 1110, 1103, 144, 102], [101, 1327, 1110, 1107, 1524, 1104, 1103, 10360, 8022, 4304, 4334, 136, 102, 4749, 1122, 117, 1110, 170, 7335, 5921, 1104, 4028, 1114, 1739, 1146, 14089, 5591, 1114, 1103, 7051, 107, 159, 21462, 1566, 24930, 2508, 152, 1306, 3965, 107, 119, 5893, 1106, 1103, 4304, 4334, 1110, 1103, 19349, 1104, 1103, 11373, 4641, 119, 13301, 1481, 1103, 171, 17506, 9538, 1110, 1103, 144, 10595, 2430, 117, 170, 14789, 1282, 1104, 8070, 1105, 9284, 119, 1135, 1110, 170, 16498, 1104, 1103, 176, 10595, 2430, 1120, 10111, 20500, 117, 1699, 1187, 1103, 6567, 2090, 25153, 1193, 1691, 1106, 2216, 17666, 6397, 102], [101, 1327, 1110, 1107, 1524, 1104, 1103, 10360, 8022, 4304, 4334, 136, 102, 1104, 1103, 11373, 4641, 119, 13301, 1481, 1103, 171, 17506, 9538, 1110, 1103, 144, 10595, 2430, 117, 170, 14789, 1282, 1104, 8070, 1105, 9284, 119, 1135, 1110, 170, 16498, 1104, 1103, 176, 10595, 2430, 1120, 10111, 20500, 117, 1699, 1187, 1103, 6567, 2090, 25153, 1193, 1691, 1106, 2216, 17666, 6397, 3786, 1573, 25422, 13149, 1107, 8109, 119, 1335, 1103, 1322, 1104, 1103, 1514, 2797, 113, 1105, 1107, 170, 2904, 1413, 1115, 8200, 1194, 124, 11739, 1105, 1103, 3487, 17917, 114, 117, 1110, 170, 3014, 117, 2030, 102], [101, 1327, 1110, 1107, 1524, 1104, 1103, 10360, 8022, 4304, 4334, 136, 102, 20500, 117, 1699, 1187, 1103, 6567, 2090, 25153, 1193, 1691, 1106, 2216, 17666, 6397, 3786, 1573, 25422, 13149, 1107, 8109, 119, 1335, 1103, 1322, 1104, 1103, 1514, 2797, 113, 1105, 1107, 170, 2904, 1413, 1115, 8200, 1194, 124, 11739, 1105, 1103, 3487, 17917, 114, 117, 1110, 170, 3014, 117, 2030, 2576, 5921, 1104, 2090, 119, 102]], 'attention_mask': [[1, 1, 1, 1, 1, 1, 1, 1, 1, 1, 1, 1, 1, 1, 1, 1, 1, 1, 1, 1, 1, 1, 1, 1, 1, 1, 1, 1, 1, 1, 1, 1, 1, 1, 1, 1, 1, 1, 1, 1, 1, 1, 1, 1, 1, 1, 1, 1, 1, 1, 1, 1, 1, 1, 1, 1, 1, 1, 1, 1, 1, 1, 1, 1, 1, 1, 1, 1, 1, 1, 1, 1, 1, 1, 1, 1, 1, 1, 1, 1, 1, 1, 1, 1, 1, 1, 1, 1, 1, 1, 1, 1, 1, 1, 1, 1, 1, 1, 1, 1], [1, 1, 1, 1, 1, 1, 1, 1, 1, 1, 1, 1, 1, 1, 1, 1, 1, 1, 1, 1, 1, 1, 1, 1, 1, 1, 1, 1, 1, 1, 1, 1, 1, 1, 1, 1, 1, 1, 1, 1, 1, 1, 1, 1, 1, 1, 1, 1, 1, 1, 1, 1, 1, 1, 1, 1, 1, 1, 1, 1, 1, 1, 1, 1, 1, 1, 1, 1, 1, 1, 1, 1, 1, 1, 1, 1, 1, 1, 1, 1, 1, 1, 1, 1, 1, 1, 1, 1, 1, 1, 1, 1, 1, 1, 1, 1, 1, 1, 1, 1], [1, 1, 1, 1, 1, 1, 1, 1, 1, 1, 1, 1, 1, 1, 1, 1, 1, 1, 1, 1, 1, 1, 1, 1, 1, 1, 1, 1, 1, 1, 1, 1, 1, 1, 1, 1, 1, 1, 1, 1, 1, 1, 1, 1, 1, 1, 1, 1, 1, 1, 1, 1, 1, 1, 1, 1, 1, 1, 1, 1, 1, 1, 1, 1, 1, 1, 1, 1, 1, 1, 1, 1, 1, 1, 1, 1, 1, 1, 1, 1, 1, 1, 1, 1, 1, 1, 1, 1, 1, 1, 1, 1, 1, 1, 1, 1, 1, 1, 1, 1], [1, 1, 1, 1, 1, 1, 1, 1, 1, 1, 1, 1, 1, 1, 1, 1, 1, 1, 1, 1, 1, 1, 1, 1, 1, 1, 1, 1, 1, 1, 1, 1, 1, 1, 1, 1, 1, 1, 1, 1, 1, 1, 1, 1, 1, 1, 1, 1, 1, 1, 1, 1, 1, 1, 1, 1, 1, 1, 1, 1, 1, 1, 1, 1, 1, 1, 1, 1, 1]], 'overflow_to_sample_mapping': [0, 0, 0, 0]}\n",
      "dict_keys(['input_ids', 'attention_mask', 'overflow_to_sample_mapping'])\n"
     ]
    }
   ],
   "source": [
    "print(inputs)\n",
    "print(inputs.keys())"
   ]
  },
  {
   "attachments": {},
   "cell_type": "markdown",
   "metadata": {},
   "source": [
    "Despite the 'attention_mask' key appears again, we're just interested in the other 2 keys. Let's dive in!"
   ]
  },
  {
   "attachments": {},
   "cell_type": "markdown",
   "metadata": {},
   "source": [
    "#### **input_ids**"
   ]
  },
  {
   "attachments": {},
   "cell_type": "markdown",
   "metadata": {},
   "source": [
    "We can see now that the 'input_ids' is now a list of lists."
   ]
  },
  {
   "cell_type": "code",
   "execution_count": 17,
   "metadata": {},
   "outputs": [
    {
     "name": "stdout",
     "output_type": "stream",
     "text": [
      "Total number of lists: 4\n"
     ]
    }
   ],
   "source": [
    "print(f'Total number of lists: {len(inputs[\"input_ids\"])}')"
   ]
  },
  {
   "attachments": {},
   "cell_type": "markdown",
   "metadata": {},
   "source": [
    "Let's decode those lists and see what we have."
   ]
  },
  {
   "cell_type": "code",
   "execution_count": 18,
   "metadata": {},
   "outputs": [
    {
     "name": "stdout",
     "output_type": "stream",
     "text": [
      "[CLS] What is in front of the Notre Dame Main Building? [SEP] Architecturally, the school has a Catholic character. Atop the Main Building's gold dome is a golden statue of the Virgin Mary. Immediately in front of the Main Building and facing it, is a copper statue of Christ with arms upraised with the legend \" Venite Ad Me Omnes \". Next to the Main Building is the Basilica of the Sacred Heart. Immediately behind the basilica is the G [SEP]\n",
      "[CLS] What is in front of the Notre Dame Main Building? [SEP] facing it, is a copper statue of Christ with arms upraised with the legend \" Venite Ad Me Omnes \". Next to the Main Building is the Basilica of the Sacred Heart. Immediately behind the basilica is the Grotto, a Marian place of prayer and reflection. It is a replica of the grotto at Lourdes, France where the Virgin Mary reputedly appeared to Saint Bernade [SEP]\n",
      "[CLS] What is in front of the Notre Dame Main Building? [SEP] of the Sacred Heart. Immediately behind the basilica is the Grotto, a Marian place of prayer and reflection. It is a replica of the grotto at Lourdes, France where the Virgin Mary reputedly appeared to Saint Bernadette Soubirous in 1858. At the end of the main drive ( and in a direct line that connects through 3 statues and the Gold Dome ), is a simple, modern [SEP]\n",
      "[CLS] What is in front of the Notre Dame Main Building? [SEP]rdes, France where the Virgin Mary reputedly appeared to Saint Bernadette Soubirous in 1858. At the end of the main drive ( and in a direct line that connects through 3 statues and the Gold Dome ), is a simple, modern stone statue of Mary. [SEP]\n"
     ]
    }
   ],
   "source": [
    "for id in inputs[\"input_ids\"]:\n",
    "    print(tokenizer.decode(id))"
   ]
  },
  {
   "attachments": {},
   "cell_type": "markdown",
   "metadata": {},
   "source": [
    "Wonderful! The tokenizer has splited the context into 4 different inputs and has conserved the question and the special tokens in each one of them."
   ]
  },
  {
   "attachments": {},
   "cell_type": "markdown",
   "metadata": {},
   "source": [
    "#### **overflow_to_sample_mapping**"
   ]
  },
  {
   "attachments": {},
   "cell_type": "markdown",
   "metadata": {},
   "source": [
    "To do a better demonstration of what is this new key, let's pass to the tokenizer more than one input sample."
   ]
  },
  {
   "cell_type": "code",
   "execution_count": 19,
   "metadata": {},
   "outputs": [
    {
     "name": "stdout",
     "output_type": "stream",
     "text": [
      "To whom did the Virgin Mary allegedly appear in 1858 in Lourdes France?\n",
      "What is in front of the Notre Dame Main Building?\n",
      "The Basilica of the Sacred heart at Notre Dame is beside to which structure?\n"
     ]
    }
   ],
   "source": [
    "question_samples = squad_train_dataset[:3][\"question\"] # Getting the first 3 questions\n",
    "context_samples = squad_train_dataset[:3][\"context\"] #  and contexts\n",
    "\n",
    "for i in question_samples:\n",
    "    print(i)"
   ]
  },
  {
   "cell_type": "code",
   "execution_count": 20,
   "metadata": {},
   "outputs": [
    {
     "name": "stdout",
     "output_type": "stream",
     "text": [
      "Architecturally, the school has a Catholic character. Atop the Main Building's gold dome is a golden statue of the Virgin Mary. Immediately in front of the Main Building and facing it, is a copper statue of Christ with arms upraised with the legend \"Venite Ad Me Omnes\". Next to the Main Building is the Basilica of the Sacred Heart. Immediately behind the basilica is the Grotto, a Marian place of prayer and reflection. It is a replica of the grotto at Lourdes, France where the Virgin Mary reputedly appeared to Saint Bernadette Soubirous in 1858. At the end of the main drive (and in a direct line that connects through 3 statues and the Gold Dome), is a simple, modern stone statue of Mary.\n"
     ]
    }
   ],
   "source": [
    "print(context) # You can check if you want but those questions are from the same context, so no need to print all of the 3."
   ]
  },
  {
   "attachments": {},
   "cell_type": "markdown",
   "metadata": {},
   "source": [
    "Let's set up the tokenizer with these new samples and one more argument to understand the overflow mapping:\n",
    "\n",
    "- return_offsets_mapping: this returns the start and end character for each token (it will be explained after this part)"
   ]
  },
  {
   "cell_type": "code",
   "execution_count": 21,
   "metadata": {},
   "outputs": [],
   "source": [
    "inputs = tokenizer(\n",
    "    question_samples, \n",
    "    context_samples,\n",
    "    max_length=100,\n",
    "    truncation=\"only_second\",\n",
    "    stride=50,\n",
    "    return_overflowing_tokens=True,\n",
    "    return_offsets_mapping=True\n",
    ")"
   ]
  },
  {
   "attachments": {},
   "cell_type": "markdown",
   "metadata": {},
   "source": [
    "Let's see how many windows we have now with 3 inputs:"
   ]
  },
  {
   "cell_type": "code",
   "execution_count": 22,
   "metadata": {},
   "outputs": [
    {
     "name": "stdout",
     "output_type": "stream",
     "text": [
      "12\n"
     ]
    }
   ],
   "source": [
    "print(len(inputs[\"input_ids\"]))"
   ]
  },
  {
   "attachments": {},
   "cell_type": "markdown",
   "metadata": {},
   "source": [
    "Great! But how do we know how much each input was splitted on? That's what the overflow_to_sample_mapping gives to us! Look at this:"
   ]
  },
  {
   "cell_type": "code",
   "execution_count": 23,
   "metadata": {},
   "outputs": [
    {
     "data": {
      "text/plain": [
       "[0, 0, 0, 0, 1, 1, 1, 1, 2, 2, 2, 2]"
      ]
     },
     "execution_count": 23,
     "metadata": {},
     "output_type": "execute_result"
    }
   ],
   "source": [
    "inputs[\"overflow_to_sample_mapping\"]"
   ]
  },
  {
   "attachments": {},
   "cell_type": "markdown",
   "metadata": {},
   "source": [
    "The first sample corresponds to 0, so it was splied into 4 windows. The second sample corresponds to 1, and it was also splitted into 4 windows. The for the third sample, which is number 2. Since they como from the same context, it's usual to have the same amount of windows for the samples."
   ]
  },
  {
   "cell_type": "code",
   "execution_count": 24,
   "metadata": {},
   "outputs": [
    {
     "name": "stdout",
     "output_type": "stream",
     "text": [
      "[CLS] To whom did the Virgin Mary allegedly appear in 1858 in Lourdes France? [SEP] Architecturally, the school has a Catholic character. Atop the Main Building's gold dome is a golden statue of the Virgin Mary. Immediately in front of the Main Building and facing it, is a copper statue of Christ with arms upraised with the legend \" Venite Ad Me Omnes \". Next to the Main Building is the Basilica of the Sacred Heart. Immediately behind the basi [SEP]\n",
      "[CLS] To whom did the Virgin Mary allegedly appear in 1858 in Lourdes France? [SEP] the Main Building and facing it, is a copper statue of Christ with arms upraised with the legend \" Venite Ad Me Omnes \". Next to the Main Building is the Basilica of the Sacred Heart. Immediately behind the basilica is the Grotto, a Marian place of prayer and reflection. It is a replica of the grotto at Lourdes, France where the Virgin [SEP]\n",
      "[CLS] To whom did the Virgin Mary allegedly appear in 1858 in Lourdes France? [SEP] Next to the Main Building is the Basilica of the Sacred Heart. Immediately behind the basilica is the Grotto, a Marian place of prayer and reflection. It is a replica of the grotto at Lourdes, France where the Virgin Mary reputedly appeared to Saint Bernadette Soubirous in 1858. At the end of the main drive ( and in a direct line that connects through 3 [SEP]\n",
      "[CLS] To whom did the Virgin Mary allegedly appear in 1858 in Lourdes France? [SEP]. It is a replica of the grotto at Lourdes, France where the Virgin Mary reputedly appeared to Saint Bernadette Soubirous in 1858. At the end of the main drive ( and in a direct line that connects through 3 statues and the Gold Dome ), is a simple, modern stone statue of Mary. [SEP]\n",
      "[CLS] What is in front of the Notre Dame Main Building? [SEP] Architecturally, the school has a Catholic character. Atop the Main Building's gold dome is a golden statue of the Virgin Mary. Immediately in front of the Main Building and facing it, is a copper statue of Christ with arms upraised with the legend \" Venite Ad Me Omnes \". Next to the Main Building is the Basilica of the Sacred Heart. Immediately behind the basilica is the G [SEP]\n",
      "[CLS] What is in front of the Notre Dame Main Building? [SEP] facing it, is a copper statue of Christ with arms upraised with the legend \" Venite Ad Me Omnes \". Next to the Main Building is the Basilica of the Sacred Heart. Immediately behind the basilica is the Grotto, a Marian place of prayer and reflection. It is a replica of the grotto at Lourdes, France where the Virgin Mary reputedly appeared to Saint Bernade [SEP]\n",
      "[CLS] What is in front of the Notre Dame Main Building? [SEP] of the Sacred Heart. Immediately behind the basilica is the Grotto, a Marian place of prayer and reflection. It is a replica of the grotto at Lourdes, France where the Virgin Mary reputedly appeared to Saint Bernadette Soubirous in 1858. At the end of the main drive ( and in a direct line that connects through 3 statues and the Gold Dome ), is a simple, modern [SEP]\n",
      "[CLS] What is in front of the Notre Dame Main Building? [SEP]rdes, France where the Virgin Mary reputedly appeared to Saint Bernadette Soubirous in 1858. At the end of the main drive ( and in a direct line that connects through 3 statues and the Gold Dome ), is a simple, modern stone statue of Mary. [SEP]\n",
      "[CLS] The Basilica of the Sacred heart at Notre Dame is beside to which structure? [SEP] Architecturally, the school has a Catholic character. Atop the Main Building's gold dome is a golden statue of the Virgin Mary. Immediately in front of the Main Building and facing it, is a copper statue of Christ with arms upraised with the legend \" Venite Ad Me Omnes \". Next to the Main Building is the Basilica of the Sacred Heart. Immediately behind the basi [SEP]\n",
      "[CLS] The Basilica of the Sacred heart at Notre Dame is beside to which structure? [SEP] the Main Building and facing it, is a copper statue of Christ with arms upraised with the legend \" Venite Ad Me Omnes \". Next to the Main Building is the Basilica of the Sacred Heart. Immediately behind the basilica is the Grotto, a Marian place of prayer and reflection. It is a replica of the grotto at Lourdes, France where the Virgin [SEP]\n",
      "[CLS] The Basilica of the Sacred heart at Notre Dame is beside to which structure? [SEP] Next to the Main Building is the Basilica of the Sacred Heart. Immediately behind the basilica is the Grotto, a Marian place of prayer and reflection. It is a replica of the grotto at Lourdes, France where the Virgin Mary reputedly appeared to Saint Bernadette Soubirous in 1858. At the end of the main drive ( and in a direct line that connects through 3 [SEP]\n",
      "[CLS] The Basilica of the Sacred heart at Notre Dame is beside to which structure? [SEP]. It is a replica of the grotto at Lourdes, France where the Virgin Mary reputedly appeared to Saint Bernadette Soubirous in 1858. At the end of the main drive ( and in a direct line that connects through 3 statues and the Gold Dome ), is a simple, modern stone statue of Mary. [SEP]\n"
     ]
    }
   ],
   "source": [
    "for id in inputs[\"input_ids\"]:\n",
    "    print(tokenizer.decode(id))"
   ]
  },
  {
   "attachments": {},
   "cell_type": "markdown",
   "metadata": {},
   "source": [
    "#### **offset_mapping**"
   ]
  },
  {
   "attachments": {},
   "cell_type": "markdown",
   "metadata": {},
   "source": [
    "To do a better demonstration, let's go back to the single input and pass to the same tokenizer from the previous part."
   ]
  },
  {
   "cell_type": "code",
   "execution_count": 25,
   "metadata": {},
   "outputs": [],
   "source": [
    "# print(question, \"\\n\", context) #descoment this cell if you don't remember them"
   ]
  },
  {
   "cell_type": "code",
   "execution_count": 26,
   "metadata": {},
   "outputs": [
    {
     "data": {
      "text/plain": [
       "dict_keys(['input_ids', 'attention_mask', 'offset_mapping', 'overflow_to_sample_mapping'])"
      ]
     },
     "execution_count": 26,
     "metadata": {},
     "output_type": "execute_result"
    }
   ],
   "source": [
    "inputs = tokenizer(\n",
    "    question,\n",
    "    context, \n",
    "    max_length=100,\n",
    "    truncation=\"only_second\",\n",
    "    stride=50,\n",
    "    return_overflowing_tokens=True,\n",
    "    return_offsets_mapping=True\n",
    ")\n",
    "\n",
    "inputs.keys()"
   ]
  },
  {
   "attachments": {},
   "cell_type": "markdown",
   "metadata": {},
   "source": [
    "We have now a new key, the offset_mapping key. Let's print it."
   ]
  },
  {
   "cell_type": "code",
   "execution_count": 27,
   "metadata": {},
   "outputs": [
    {
     "data": {
      "text/plain": [
       "[[(0, 0),\n",
       "  (0, 4),\n",
       "  (5, 7),\n",
       "  (8, 10),\n",
       "  (11, 16),\n",
       "  (17, 19),\n",
       "  (20, 23),\n",
       "  (24, 29),\n",
       "  (30, 34),\n",
       "  (35, 39),\n",
       "  (40, 48),\n",
       "  (48, 49),\n",
       "  (0, 0),\n",
       "  (0, 13),\n",
       "  (13, 15),\n",
       "  (15, 16),\n",
       "  (17, 20),\n",
       "  (21, 27),\n",
       "  (28, 31),\n",
       "  (32, 33),\n",
       "  (34, 42),\n",
       "  (43, 52),\n",
       "  (52, 53),\n",
       "  (54, 56),\n",
       "  (56, 58),\n",
       "  (59, 62),\n",
       "  (63, 67),\n",
       "  (68, 76),\n",
       "  (76, 77),\n",
       "  (77, 78),\n",
       "  (79, 83),\n",
       "  (84, 88),\n",
       "  (89, 91),\n",
       "  (92, 93),\n",
       "  (94, 100),\n",
       "  (101, 107),\n",
       "  (108, 110),\n",
       "  (111, 114),\n",
       "  (115, 121),\n",
       "  (122, 126),\n",
       "  (126, 127),\n",
       "  (128, 139),\n",
       "  (140, 142),\n",
       "  (143, 148),\n",
       "  (149, 151),\n",
       "  (152, 155),\n",
       "  (156, 160),\n",
       "  (161, 169),\n",
       "  (170, 173),\n",
       "  (174, 180),\n",
       "  (181, 183),\n",
       "  (183, 184),\n",
       "  (185, 187),\n",
       "  (188, 189),\n",
       "  (190, 196),\n",
       "  (197, 203),\n",
       "  (204, 206),\n",
       "  (207, 213),\n",
       "  (214, 218),\n",
       "  (219, 223),\n",
       "  (224, 226),\n",
       "  (226, 229),\n",
       "  (229, 232),\n",
       "  (233, 237),\n",
       "  (238, 241),\n",
       "  (242, 248),\n",
       "  (249, 250),\n",
       "  (250, 251),\n",
       "  (251, 254),\n",
       "  (254, 256),\n",
       "  (257, 259),\n",
       "  (260, 262),\n",
       "  (263, 264),\n",
       "  (264, 265),\n",
       "  (265, 268),\n",
       "  (268, 269),\n",
       "  (269, 270),\n",
       "  (271, 275),\n",
       "  (276, 278),\n",
       "  (279, 282),\n",
       "  (283, 287),\n",
       "  (288, 296),\n",
       "  (297, 299),\n",
       "  (300, 303),\n",
       "  (304, 312),\n",
       "  (313, 315),\n",
       "  (316, 319),\n",
       "  (320, 326),\n",
       "  (327, 332),\n",
       "  (332, 333),\n",
       "  (334, 345),\n",
       "  (346, 352),\n",
       "  (353, 356),\n",
       "  (357, 358),\n",
       "  (358, 361),\n",
       "  (361, 365),\n",
       "  (366, 368),\n",
       "  (369, 372),\n",
       "  (373, 374),\n",
       "  (0, 0)],\n",
       " [(0, 0),\n",
       "  (0, 4),\n",
       "  (5, 7),\n",
       "  (8, 10),\n",
       "  (11, 16),\n",
       "  (17, 19),\n",
       "  (20, 23),\n",
       "  (24, 29),\n",
       "  (30, 34),\n",
       "  (35, 39),\n",
       "  (40, 48),\n",
       "  (48, 49),\n",
       "  (0, 0),\n",
       "  (174, 180),\n",
       "  (181, 183),\n",
       "  (183, 184),\n",
       "  (185, 187),\n",
       "  (188, 189),\n",
       "  (190, 196),\n",
       "  (197, 203),\n",
       "  (204, 206),\n",
       "  (207, 213),\n",
       "  (214, 218),\n",
       "  (219, 223),\n",
       "  (224, 226),\n",
       "  (226, 229),\n",
       "  (229, 232),\n",
       "  (233, 237),\n",
       "  (238, 241),\n",
       "  (242, 248),\n",
       "  (249, 250),\n",
       "  (250, 251),\n",
       "  (251, 254),\n",
       "  (254, 256),\n",
       "  (257, 259),\n",
       "  (260, 262),\n",
       "  (263, 264),\n",
       "  (264, 265),\n",
       "  (265, 268),\n",
       "  (268, 269),\n",
       "  (269, 270),\n",
       "  (271, 275),\n",
       "  (276, 278),\n",
       "  (279, 282),\n",
       "  (283, 287),\n",
       "  (288, 296),\n",
       "  (297, 299),\n",
       "  (300, 303),\n",
       "  (304, 312),\n",
       "  (313, 315),\n",
       "  (316, 319),\n",
       "  (320, 326),\n",
       "  (327, 332),\n",
       "  (332, 333),\n",
       "  (334, 345),\n",
       "  (346, 352),\n",
       "  (353, 356),\n",
       "  (357, 358),\n",
       "  (358, 361),\n",
       "  (361, 365),\n",
       "  (366, 368),\n",
       "  (369, 372),\n",
       "  (373, 374),\n",
       "  (374, 377),\n",
       "  (377, 379),\n",
       "  (379, 380),\n",
       "  (381, 382),\n",
       "  (383, 389),\n",
       "  (390, 395),\n",
       "  (396, 398),\n",
       "  (399, 405),\n",
       "  (406, 409),\n",
       "  (410, 420),\n",
       "  (420, 421),\n",
       "  (422, 424),\n",
       "  (425, 427),\n",
       "  (428, 429),\n",
       "  (430, 437),\n",
       "  (438, 440),\n",
       "  (441, 444),\n",
       "  (445, 446),\n",
       "  (446, 449),\n",
       "  (449, 451),\n",
       "  (452, 454),\n",
       "  (455, 458),\n",
       "  (458, 462),\n",
       "  (462, 463),\n",
       "  (464, 470),\n",
       "  (471, 476),\n",
       "  (477, 480),\n",
       "  (481, 487),\n",
       "  (488, 492),\n",
       "  (493, 500),\n",
       "  (500, 502),\n",
       "  (503, 511),\n",
       "  (512, 514),\n",
       "  (515, 520),\n",
       "  (521, 525),\n",
       "  (525, 528),\n",
       "  (0, 0)],\n",
       " [(0, 0),\n",
       "  (0, 4),\n",
       "  (5, 7),\n",
       "  (8, 10),\n",
       "  (11, 16),\n",
       "  (17, 19),\n",
       "  (20, 23),\n",
       "  (24, 29),\n",
       "  (30, 34),\n",
       "  (35, 39),\n",
       "  (40, 48),\n",
       "  (48, 49),\n",
       "  (0, 0),\n",
       "  (313, 315),\n",
       "  (316, 319),\n",
       "  (320, 326),\n",
       "  (327, 332),\n",
       "  (332, 333),\n",
       "  (334, 345),\n",
       "  (346, 352),\n",
       "  (353, 356),\n",
       "  (357, 358),\n",
       "  (358, 361),\n",
       "  (361, 365),\n",
       "  (366, 368),\n",
       "  (369, 372),\n",
       "  (373, 374),\n",
       "  (374, 377),\n",
       "  (377, 379),\n",
       "  (379, 380),\n",
       "  (381, 382),\n",
       "  (383, 389),\n",
       "  (390, 395),\n",
       "  (396, 398),\n",
       "  (399, 405),\n",
       "  (406, 409),\n",
       "  (410, 420),\n",
       "  (420, 421),\n",
       "  (422, 424),\n",
       "  (425, 427),\n",
       "  (428, 429),\n",
       "  (430, 437),\n",
       "  (438, 440),\n",
       "  (441, 444),\n",
       "  (445, 446),\n",
       "  (446, 449),\n",
       "  (449, 451),\n",
       "  (452, 454),\n",
       "  (455, 458),\n",
       "  (458, 462),\n",
       "  (462, 463),\n",
       "  (464, 470),\n",
       "  (471, 476),\n",
       "  (477, 480),\n",
       "  (481, 487),\n",
       "  (488, 492),\n",
       "  (493, 500),\n",
       "  (500, 502),\n",
       "  (503, 511),\n",
       "  (512, 514),\n",
       "  (515, 520),\n",
       "  (521, 525),\n",
       "  (525, 528),\n",
       "  (528, 531),\n",
       "  (532, 534),\n",
       "  (534, 537),\n",
       "  (537, 541),\n",
       "  (542, 544),\n",
       "  (545, 549),\n",
       "  (549, 550),\n",
       "  (551, 553),\n",
       "  (554, 557),\n",
       "  (558, 561),\n",
       "  (562, 564),\n",
       "  (565, 568),\n",
       "  (569, 573),\n",
       "  (574, 579),\n",
       "  (580, 581),\n",
       "  (581, 584),\n",
       "  (585, 587),\n",
       "  (588, 589),\n",
       "  (590, 596),\n",
       "  (597, 601),\n",
       "  (602, 606),\n",
       "  (607, 615),\n",
       "  (616, 623),\n",
       "  (624, 625),\n",
       "  (626, 633),\n",
       "  (634, 637),\n",
       "  (638, 641),\n",
       "  (642, 646),\n",
       "  (647, 651),\n",
       "  (651, 652),\n",
       "  (652, 653),\n",
       "  (654, 656),\n",
       "  (657, 658),\n",
       "  (659, 665),\n",
       "  (665, 666),\n",
       "  (667, 673),\n",
       "  (0, 0)],\n",
       " [(0, 0),\n",
       "  (0, 4),\n",
       "  (5, 7),\n",
       "  (8, 10),\n",
       "  (11, 16),\n",
       "  (17, 19),\n",
       "  (20, 23),\n",
       "  (24, 29),\n",
       "  (30, 34),\n",
       "  (35, 39),\n",
       "  (40, 48),\n",
       "  (48, 49),\n",
       "  (0, 0),\n",
       "  (458, 462),\n",
       "  (462, 463),\n",
       "  (464, 470),\n",
       "  (471, 476),\n",
       "  (477, 480),\n",
       "  (481, 487),\n",
       "  (488, 492),\n",
       "  (493, 500),\n",
       "  (500, 502),\n",
       "  (503, 511),\n",
       "  (512, 514),\n",
       "  (515, 520),\n",
       "  (521, 525),\n",
       "  (525, 528),\n",
       "  (528, 531),\n",
       "  (532, 534),\n",
       "  (534, 537),\n",
       "  (537, 541),\n",
       "  (542, 544),\n",
       "  (545, 549),\n",
       "  (549, 550),\n",
       "  (551, 553),\n",
       "  (554, 557),\n",
       "  (558, 561),\n",
       "  (562, 564),\n",
       "  (565, 568),\n",
       "  (569, 573),\n",
       "  (574, 579),\n",
       "  (580, 581),\n",
       "  (581, 584),\n",
       "  (585, 587),\n",
       "  (588, 589),\n",
       "  (590, 596),\n",
       "  (597, 601),\n",
       "  (602, 606),\n",
       "  (607, 615),\n",
       "  (616, 623),\n",
       "  (624, 625),\n",
       "  (626, 633),\n",
       "  (634, 637),\n",
       "  (638, 641),\n",
       "  (642, 646),\n",
       "  (647, 651),\n",
       "  (651, 652),\n",
       "  (652, 653),\n",
       "  (654, 656),\n",
       "  (657, 658),\n",
       "  (659, 665),\n",
       "  (665, 666),\n",
       "  (667, 673),\n",
       "  (674, 679),\n",
       "  (680, 686),\n",
       "  (687, 689),\n",
       "  (690, 694),\n",
       "  (694, 695),\n",
       "  (0, 0)]]"
      ]
     },
     "execution_count": 27,
     "metadata": {},
     "output_type": "execute_result"
    }
   ],
   "source": [
    "inputs['offset_mapping']"
   ]
  },
  {
   "attachments": {},
   "cell_type": "markdown",
   "metadata": {},
   "source": [
    "We can see that it is a list composed of lists of tuples."
   ]
  },
  {
   "cell_type": "code",
   "execution_count": 28,
   "metadata": {},
   "outputs": [
    {
     "name": "stdout",
     "output_type": "stream",
     "text": [
      "Total number of lists: 4\n"
     ]
    }
   ],
   "source": [
    "print(f\"Total number of lists: {len(inputs['offset_mapping'])}\")"
   ]
  },
  {
   "attachments": {},
   "cell_type": "markdown",
   "metadata": {},
   "source": [
    "Basically, the offset_mapping tell us the location of  the start and the end of each token from the **ORIGINAL** samples! Take a look at this:"
   ]
  },
  {
   "cell_type": "code",
   "execution_count": 29,
   "metadata": {},
   "outputs": [
    {
     "name": "stdout",
     "output_type": "stream",
     "text": [
      "[CLS] What is in front of the Notre Dame Main Building? [SEP] Architecturally, the school has a Catholic character. Atop the Main Building's gold dome is a golden statue of the Virgin Mary. Immediately in front of the Main Building and facing it, is a copper statue of Christ with arms upraised with the legend \" Venite Ad Me Omnes \". Next to the Main Building is the Basilica of the Sacred Heart. Immediately behind the basilica is the G [SEP]\n",
      "[(0, 0), (0, 4), (5, 7), (8, 10), (11, 16), (17, 19), (20, 23), (24, 29), (30, 34), (35, 39), (40, 48), (48, 49), (0, 0), (0, 13), (13, 15), (15, 16), (17, 20), (21, 27), (28, 31), (32, 33), (34, 42), (43, 52), (52, 53), (54, 56), (56, 58), (59, 62), (63, 67), (68, 76), (76, 77), (77, 78), (79, 83), (84, 88), (89, 91), (92, 93), (94, 100), (101, 107), (108, 110), (111, 114), (115, 121), (122, 126), (126, 127), (128, 139), (140, 142), (143, 148), (149, 151), (152, 155), (156, 160), (161, 169), (170, 173), (174, 180), (181, 183), (183, 184), (185, 187), (188, 189), (190, 196), (197, 203), (204, 206), (207, 213), (214, 218), (219, 223), (224, 226), (226, 229), (229, 232), (233, 237), (238, 241), (242, 248), (249, 250), (250, 251), (251, 254), (254, 256), (257, 259), (260, 262), (263, 264), (264, 265), (265, 268), (268, 269), (269, 270), (271, 275), (276, 278), (279, 282), (283, 287), (288, 296), (297, 299), (300, 303), (304, 312), (313, 315), (316, 319), (320, 326), (327, 332), (332, 333), (334, 345), (346, 352), (353, 356), (357, 358), (358, 361), (361, 365), (366, 368), (369, 372), (373, 374), (0, 0)]\n"
     ]
    }
   ],
   "source": [
    "print(tokenizer.decode(inputs['input_ids'][0])) # Taking the firts window\n",
    "print(inputs['offset_mapping'][0])"
   ]
  },
  {
   "attachments": {},
   "cell_type": "markdown",
   "metadata": {},
   "source": [
    "Looking at the sentence and the offset_mapping, the (0,0) is for the special tokens. The (0,4) is for the location of the token \"What\", which is composed by 4 chars, so it starts at the position 0 and ends at position 4. The next is the (5, 7) for the location of the token \"is\", which starts at position 5 and ends at position 7, and so on."
   ]
  },
  {
   "attachments": {},
   "cell_type": "markdown",
   "metadata": {},
   "source": [
    "Notice that the word 'original' from the previous text is in bold and upper case. Let's understand why this is important in the next step."
   ]
  },
  {
   "attachments": {},
   "cell_type": "markdown",
   "metadata": {},
   "source": [
    "# **Targets**"
   ]
  },
  {
   "attachments": {},
   "cell_type": "markdown",
   "metadata": {},
   "source": [
    "We have just seen that we can work with long contexts by spliting them into multiple windows, right?"
   ]
  },
  {
   "cell_type": "code",
   "execution_count": 30,
   "metadata": {},
   "outputs": [
    {
     "name": "stdout",
     "output_type": "stream",
     "text": [
      "[CLS] What is in front of the Notre Dame Main Building? [SEP] Architecturally, the school has a Catholic character. Atop the Main Building's gold dome is a golden statue of the Virgin Mary. Immediately in front of the Main Building and facing it, is a copper statue of Christ with arms upraised with the legend \" Venite Ad Me Omnes \". Next to the Main Building is the Basilica of the Sacred Heart. Immediately behind the basilica is the G [SEP]\n",
      "[CLS] What is in front of the Notre Dame Main Building? [SEP] facing it, is a copper statue of Christ with arms upraised with the legend \" Venite Ad Me Omnes \". Next to the Main Building is the Basilica of the Sacred Heart. Immediately behind the basilica is the Grotto, a Marian place of prayer and reflection. It is a replica of the grotto at Lourdes, France where the Virgin Mary reputedly appeared to Saint Bernade [SEP]\n",
      "[CLS] What is in front of the Notre Dame Main Building? [SEP] of the Sacred Heart. Immediately behind the basilica is the Grotto, a Marian place of prayer and reflection. It is a replica of the grotto at Lourdes, France where the Virgin Mary reputedly appeared to Saint Bernadette Soubirous in 1858. At the end of the main drive ( and in a direct line that connects through 3 statues and the Gold Dome ), is a simple, modern [SEP]\n",
      "[CLS] What is in front of the Notre Dame Main Building? [SEP]rdes, France where the Virgin Mary reputedly appeared to Saint Bernadette Soubirous in 1858. At the end of the main drive ( and in a direct line that connects through 3 statues and the Gold Dome ), is a simple, modern stone statue of Mary. [SEP]\n"
     ]
    }
   ],
   "source": [
    "for id in inputs[\"input_ids\"]:\n",
    "    print(tokenizer.decode(id))"
   ]
  },
  {
   "attachments": {},
   "cell_type": "markdown",
   "metadata": {},
   "source": [
    "\n",
    "Well, the thing is that the answer in the dataset comes with a start position, remember?"
   ]
  },
  {
   "cell_type": "code",
   "execution_count": 31,
   "metadata": {},
   "outputs": [
    {
     "name": "stdout",
     "output_type": "stream",
     "text": [
      "{'text': ['a copper statue of Christ'], 'answer_start': [188]}\n"
     ]
    }
   ],
   "source": [
    "answer = squad_train_dataset[index_input]['answers']\n",
    "print(answer)\n",
    "#print(context) # uncoment here to remember the original context"
   ]
  },
  {
   "attachments": {},
   "cell_type": "markdown",
   "metadata": {},
   "source": [
    "But this start position is within the original context that has not been splited yet. After spliting it into windows of context, that position is no longer valid, and for the model, this is exactly the target that it is waiting for. So, we need to align this targets within the windows now, considering that sometimes the answer may not exist in one specific window or only exist in part."
   ]
  },
  {
   "attachments": {},
   "cell_type": "markdown",
   "metadata": {},
   "source": [
    "There's an useful method we can call from the tokenizer from all models (e.g. DistilBERT, bert-base-uncased, etc) which is the sequence_ids method. Let's take a look."
   ]
  },
  {
   "attachments": {},
   "cell_type": "markdown",
   "metadata": {},
   "source": [
    "### **sequence_ids method**"
   ]
  },
  {
   "cell_type": "code",
   "execution_count": 32,
   "metadata": {},
   "outputs": [
    {
     "name": "stdout",
     "output_type": "stream",
     "text": [
      "[None, 0, 0, 0, 0, 0, 0, 0, 0, 0, 0, 0, None, 1, 1, 1, 1, 1, 1, 1, 1, 1, 1, 1, 1, 1, 1, 1, 1, 1, 1, 1, 1, 1, 1, 1, 1, 1, 1, 1, 1, 1, 1, 1, 1, 1, 1, 1, 1, 1, 1, 1, 1, 1, 1, 1, 1, 1, 1, 1, 1, 1, 1, 1, 1, 1, 1, 1, 1, 1, 1, 1, 1, 1, 1, 1, 1, 1, 1, 1, 1, 1, 1, 1, 1, 1, 1, 1, 1, 1, 1, 1, 1, 1, 1, 1, 1, 1, 1, None]\n",
      "[CLS] What is in front of the Notre Dame Main Building? [SEP] Architecturally, the school has a Catholic character. Atop the Main Building's gold dome is a golden statue of the Virgin Mary. Immediately in front of the Main Building and facing it, is a copper statue of Christ with arms upraised with the legend \" Venite Ad Me Omnes \". Next to the Main Building is the Basilica of the Sacred Heart. Immediately behind the basilica is the G [SEP]\n"
     ]
    }
   ],
   "source": [
    "print(inputs.sequence_ids(0)) # Getting the first window\n",
    "print(tokenizer.decode(inputs['input_ids'][0])) # first window context"
   ]
  },
  {
   "attachments": {},
   "cell_type": "markdown",
   "metadata": {},
   "source": [
    "The meaning of each item is what follows:\n",
    "\n",
    "- None: special tokens like [CLS] and [SEP]\n",
    "- 0: is par of the question sentence\n",
    "- 1: is par of the the context sentence\n",
    "\n",
    "So, with this codification, we can now compare the start position of the answer in the original context and the start position of the answer in the windows!"
   ]
  },
  {
   "attachments": {},
   "cell_type": "markdown",
   "metadata": {},
   "source": [
    "### **Finding the answer: Window contexts and original context**"
   ]
  },
  {
   "attachments": {},
   "cell_type": "markdown",
   "metadata": {},
   "source": [
    "Let's see now what is the start index of the answer within the windows."
   ]
  },
  {
   "cell_type": "code",
   "execution_count": 33,
   "metadata": {},
   "outputs": [
    {
     "data": {
      "text/plain": [
       "(13, 98)"
      ]
     },
     "execution_count": 33,
     "metadata": {},
     "output_type": "execute_result"
    }
   ],
   "source": [
    "sequence_ids = inputs.sequence_ids(0) # Getting the first window\n",
    "\n",
    "wind_ctx_start = sequence_ids.index(1) # Getting the first occurence of 1, which means the index where the context begins\n",
    "wind_ctx_end = (len(sequence_ids) - sequence_ids[::-1].index(1) - 1) # Getting the index of the last 1, where the context ends\n",
    "\n",
    "wind_ctx_start, wind_ctx_end"
   ]
  },
  {
   "attachments": {},
   "cell_type": "markdown",
   "metadata": {},
   "source": [
    "And the original start answer position (within the context)"
   ]
  },
  {
   "cell_type": "code",
   "execution_count": 34,
   "metadata": {},
   "outputs": [
    {
     "name": "stdout",
     "output_type": "stream",
     "text": [
      "{'text': ['a copper statue of Christ'], 'answer_start': [188]}\n",
      "(188, 213)\n"
     ]
    }
   ],
   "source": [
    "print(answer)\n",
    "ans_start_char = answer['answer_start'][0]\n",
    "ans_end_char = ans_start_char + len(answer['text'][0]) # the length of the text plus 515 is the final char of the answer\n",
    "\n",
    "print((ans_start_char, ans_end_char))"
   ]
  },
  {
   "attachments": {},
   "cell_type": "markdown",
   "metadata": {},
   "source": [
    "OK! Let's now use the offset mapping since it tells us about the char positions within the context."
   ]
  },
  {
   "cell_type": "code",
   "execution_count": 35,
   "metadata": {},
   "outputs": [],
   "source": [
    "offset = inputs['offset_mapping'][0] # First windows\n",
    "# print(offset) # uncoment to remember the offset\n",
    "# print(tokenizer.decode(inputs['input_ids'][0])) # and how they correspond to the original sentences"
   ]
  },
  {
   "attachments": {},
   "cell_type": "markdown",
   "metadata": {},
   "source": [
    "Since the offset has the original char starts and ends and also the (0,0) for special tokens (in this case, we are focosing in the [SEP] token that tell us where the context starts and ends) in the original context, we can compare if those original indeces match with the window context indices we have."
   ]
  },
  {
   "cell_type": "code",
   "execution_count": 36,
   "metadata": {},
   "outputs": [
    {
     "data": {
      "text/plain": [
       "(53, 57)"
      ]
     },
     "execution_count": 36,
     "metadata": {},
     "output_type": "execute_result"
    }
   ],
   "source": [
    "start_idx = 0\n",
    "end_idx = 0\n",
    "\n",
    "if offset[wind_ctx_start][0] > ans_start_char or offset[wind_ctx_end][1] < ans_end_char:\n",
    "    print(\"target is (0,0)\")\n",
    "else:\n",
    "    i = wind_ctx_start\n",
    "    for start_end_char in offset[wind_ctx_start:]:\n",
    "        start, end = start_end_char\n",
    "        if start == ans_start_char:\n",
    "            start_idx = i\n",
    "\n",
    "        if end == ans_end_char:\n",
    "            end_idx = i \n",
    "            break\n",
    "\n",
    "        i += 1\n",
    "    \n",
    "start_idx, end_idx"
   ]
  },
  {
   "attachments": {},
   "cell_type": "markdown",
   "metadata": {},
   "source": [
    "We need to get this indexes and use in the input_ids from the first sample and then decode it to see if the answers match."
   ]
  },
  {
   "cell_type": "code",
   "execution_count": 37,
   "metadata": {},
   "outputs": [],
   "source": [
    "input_ids = inputs['input_ids'][0]\n",
    "# tokenizer.decode(input_ids) # uncoment to visualize"
   ]
  },
  {
   "cell_type": "code",
   "execution_count": 38,
   "metadata": {},
   "outputs": [
    {
     "name": "stdout",
     "output_type": "stream",
     "text": [
      "[170, 7335, 5921, 1104, 4028]\n",
      "a copper statue of Christ\n"
     ]
    }
   ],
   "source": [
    "# Placing the start_idx and end_idx and decoding.\n",
    "print(input_ids[start_idx:end_idx+1])\n",
    "print(tokenizer.decode(input_ids[start_idx : end_idx + 1]))"
   ]
  },
  {
   "attachments": {},
   "cell_type": "markdown",
   "metadata": {},
   "source": [
    "Real answer"
   ]
  },
  {
   "cell_type": "code",
   "execution_count": 39,
   "metadata": {},
   "outputs": [
    {
     "data": {
      "text/plain": [
       "['a copper statue of Christ']"
      ]
     },
     "execution_count": 39,
     "metadata": {},
     "output_type": "execute_result"
    }
   ],
   "source": [
    "answer['text']"
   ]
  },
  {
   "attachments": {},
   "cell_type": "markdown",
   "metadata": {},
   "source": [
    "Yay! It matches!\n",
    "\n",
    "Now, we just have to turn this into a function."
   ]
  },
  {
   "cell_type": "code",
   "execution_count": 40,
   "metadata": {},
   "outputs": [],
   "source": [
    "def find_asnwer_token_idx(\n",
    "        ctx_start,\n",
    "        ctx_end,\n",
    "        ans_start_char,\n",
    "        ans_end_char,\n",
    "        offset\n",
    "):\n",
    "\n",
    "    start_idx = 0\n",
    "    end_idx = 0\n",
    "\n",
    "    if offset[ctx_start][0] > ans_start_char or offset[ctx_end][1] < ans_end_char:\n",
    "        pass #answer does not exist\n",
    "    else:\n",
    "        i = ctx_start\n",
    "        # aligning the indices of the answers within the context windows\n",
    "        for start_end_char in offset[ctx_start:]:\n",
    "            start, end = start_end_char\n",
    "            if start == ans_start_char:\n",
    "                start_idx = i\n",
    "\n",
    "            if end == ans_end_char:\n",
    "                end_idx = i \n",
    "                break\n",
    "\n",
    "            i += 1\n",
    "    return start_idx, end_idx\n",
    "        "
   ]
  },
  {
   "cell_type": "code",
   "execution_count": 41,
   "metadata": {},
   "outputs": [
    {
     "data": {
      "text/plain": [
       "([53, 17, 0, 0], [57, 21, 0, 0])"
      ]
     },
     "execution_count": 41,
     "metadata": {},
     "output_type": "execute_result"
    }
   ],
   "source": [
    "# now applying to the whole dataset\n",
    "start_idxs = []\n",
    "end_idxs = []\n",
    "\n",
    "for i, offset in enumerate(inputs[\"offset_mapping\"]):\n",
    "    sequence_ids = inputs.sequence_ids(i)\n",
    "\n",
    "    ctx_start = sequence_ids.index(1)\n",
    "    ctx_end = len(sequence_ids) - sequence_ids[::-1].index(1) - 1\n",
    "\n",
    "    start_idx, end_idx = find_asnwer_token_idx(\n",
    "        ctx_start,\n",
    "        ctx_end,\n",
    "        ans_start_char,\n",
    "        ans_end_char,\n",
    "        offset\n",
    "    )\n",
    "\n",
    "    start_idxs.append(start_idx)\n",
    "    end_idxs.append(end_idx)\n",
    "\n",
    "start_idxs, end_idxs"
   ]
  },
  {
   "attachments": {},
   "cell_type": "markdown",
   "metadata": {},
   "source": [
    "They are in this format because of the overlapping, remember?\n",
    "In this input we have 4 windows, which means that for the firts window, the answer starts at index 53 and ends in index 57. Same for the second window. For the third and last windows, the answer does not appear. 😉"
   ]
  },
  {
   "attachments": {},
   "cell_type": "markdown",
   "metadata": {},
   "source": [
    "### Applying the tokenizer"
   ]
  },
  {
   "attachments": {},
   "cell_type": "markdown",
   "metadata": {},
   "source": [
    "One commum issue in this dataset is that some questions are badly formatted and have extra white spaces in the beggining of in the end of it. "
   ]
  },
  {
   "cell_type": "code",
   "execution_count": null,
   "metadata": {},
   "outputs": [
    {
     "name": "stdout",
     "output_type": "stream",
     "text": [
      "In what city and state did Beyonce  grow up? \n",
      " The album, Dangerously in Love  achieved what spot on the Billboard Top 100 chart?\n",
      "Which song did Beyonce sing at the first couple's inaugural ball? \n",
      "What event did Beyoncé perform at one month after Obama's inauguration? \n",
      "Where was the album released? \n",
      "What movie influenced Beyonce towards empowerment themes? \n"
     ]
    }
   ],
   "source": [
    "for q in squad_dataset[\"train\"][\"question\"][:1000]:\n",
    "    if q.strip() != q:\n",
    "        print(q)"
   ]
  },
  {
   "attachments": {},
   "cell_type": "markdown",
   "metadata": {},
   "source": [
    "So, let's define our tokenizer function and add this particular par for dealing with extra white spaces."
   ]
  },
  {
   "cell_type": "code",
   "execution_count": null,
   "metadata": {},
   "outputs": [],
   "source": [
    "# Defining some fixed args\n",
    "max_length = 384 # Indicated by Google\n",
    "stride = 128"
   ]
  },
  {
   "cell_type": "code",
   "execution_count": null,
   "metadata": {},
   "outputs": [],
   "source": [
    "def tokenize_fn_train(batch):\n",
    "    questions = [q.strip() for q in batch['question']]\n",
    "\n",
    "    inputs = tokenizer(\n",
    "        questions, \n",
    "        batch['context'],\n",
    "        max_length=max_length,\n",
    "        truncation=\"only_second\",\n",
    "        stride=stride,\n",
    "        return_overflowing_tokens=True,\n",
    "        return_offsets_mapping=True,\n",
    "        padding=\"max_length\"\n",
    "    )\n",
    "\n",
    "    # We won't use those guys so let's kick them off (remove them)\n",
    "    offset_mapping = inputs.pop(\"offset_mapping\")\n",
    "    orig_sample_idxs = inputs.pop(\"overflow_to_sample_mapping\")\n",
    "\n",
    "    # From the original dataset\n",
    "    answers = batch['answers']\n",
    "    start_idxs, end_idxs = [], []\n",
    "\n",
    "    # Loops we just saw\n",
    "    for i, offset in enumerate(offset_mapping):\n",
    "        sample_idx = orig_sample_idxs[i]\n",
    "        answer = answers[sample_idx]\n",
    "\n",
    "        ans_start_char = answer['answer_start'][0]\n",
    "        ans_end_char = ans_start_char + len(answer['text'][0])\n",
    "\n",
    "        sequence_ids = inputs.sequence_ids(i)\n",
    "\n",
    "        # Aligning the indexes\n",
    "        ctx_start = sequence_ids.index(1)\n",
    "        ctx_end = len(sequence_ids) - sequence_ids[::-1].index(1) - 1\n",
    "\n",
    "        start_idx, end_idx = find_asnwer_token_idx(\n",
    "            ctx_start,\n",
    "            ctx_end,\n",
    "            ans_start_char,\n",
    "            ans_end_char,\n",
    "            offset\n",
    "        )\n",
    "\n",
    "        start_idxs.append(start_idx)\n",
    "        end_idxs.append(end_idx)\n",
    "\n",
    "    inputs[\"start_positions\"] = start_idxs\n",
    "    inputs[\"end_positions\"] = end_idxs\n",
    "\n",
    "    return inputs"
   ]
  },
  {
   "attachments": {},
   "cell_type": "markdown",
   "metadata": {},
   "source": [
    "#### Tokenizing the train dataset"
   ]
  },
  {
   "cell_type": "code",
   "execution_count": null,
   "metadata": {},
   "outputs": [
    {
     "name": "stderr",
     "output_type": "stream",
     "text": [
      "Loading cached processed dataset at C:\\Users\\diasrodr\\.cache\\huggingface\\datasets\\squad\\plain_text\\1.0.0\\d6ec3ceb99ca480ce37cdd35555d6cb2511d223b9150cce08a837ef62ffea453\\cache-6892dbc5cb1b4f59.arrow\n"
     ]
    }
   ],
   "source": [
    "train_dataset = squad_train_dataset.map(\n",
    "    tokenize_fn_train,\n",
    "    batched=True,\n",
    "    remove_columns=squad_train_dataset.column_names\n",
    ")"
   ]
  },
  {
   "cell_type": "code",
   "execution_count": null,
   "metadata": {},
   "outputs": [
    {
     "name": "stdout",
     "output_type": "stream",
     "text": [
      "Processed dataset: 88729\n",
      "Original dataset: 87599\n"
     ]
    }
   ],
   "source": [
    "# The actual train dataset ir a little bit  bigger than the original \n",
    "# Because we've expanded the context in windows\n",
    "print(f'Processed dataset: {len(train_dataset)}\\nOriginal dataset: {len(squad_dataset[\"train\"])}')"
   ]
  },
  {
   "attachments": {},
   "cell_type": "markdown",
   "metadata": {},
   "source": [
    "Creating the same function for the validation dataset"
   ]
  },
  {
   "cell_type": "code",
   "execution_count": null,
   "metadata": {},
   "outputs": [],
   "source": [
    "def tokenize_fn_validation(batch):\n",
    "    questions = [q.strip() for q in batch['question']]\n",
    "\n",
    "    inputs = tokenizer(\n",
    "        questions, \n",
    "        batch['context'],\n",
    "        max_length=max_length,\n",
    "        truncation=\"only_second\",\n",
    "        stride=stride,\n",
    "        return_overflowing_tokens=True,\n",
    "        return_offsets_mapping=True,\n",
    "        padding=\"max_length\"\n",
    "    )\n",
    "\n",
    "    orig_sample_idxs = inputs.pop(\"overflow_to_sample_mapping\")\n",
    "    sample_ids = []\n",
    "\n",
    "    for i in range(len(inputs[\"input_ids\"])):\n",
    "        # Getting the corresponding ID from the original samples (thei identify the questions and contexts remember?) \n",
    "        sample_idx = orig_sample_idxs[i]\n",
    "        sample_ids.append(batch[\"id\"][sample_idx])\n",
    "\n",
    "        sequence_ids = inputs.sequence_ids(i) # 1:context | 0:question | (0,0): special tokens\n",
    "        offset = inputs[\"offset_mapping\"][i] # getting the sequence_ids for this sample\n",
    "\n",
    "        # Modifying the original offset_mapping \n",
    "        # When it is (0,0) or 0 replace with None\n",
    "        # And get just the context\n",
    "        inputs[\"offset_mapping\"][i] = [\n",
    "            x if sequence_ids[j] == 1 else None for j, x in enumerate(offset)\n",
    "        ]\n",
    "\n",
    "    inputs[\"sample_id\"] = sample_ids\n",
    "    return inputs"
   ]
  },
  {
   "cell_type": "code",
   "execution_count": null,
   "metadata": {},
   "outputs": [
    {
     "name": "stderr",
     "output_type": "stream",
     "text": [
      "Loading cached processed dataset at C:\\Users\\diasrodr\\.cache\\huggingface\\datasets\\squad\\plain_text\\1.0.0\\d6ec3ceb99ca480ce37cdd35555d6cb2511d223b9150cce08a837ef62ffea453\\cache-26a9c94ea5e892e5.arrow\n"
     ]
    },
    {
     "name": "stdout",
     "output_type": "stream",
     "text": [
      "Processed dataset: 10822\n",
      "Original dataset: 10570\n"
     ]
    }
   ],
   "source": [
    "validation_dataset = squad_dataset[\"validation\"].map(\n",
    "    tokenize_fn_validation,\n",
    "    batched=True,\n",
    "    remove_columns=squad_dataset[\"validation\"].column_names\n",
    ")\n",
    "\n",
    "print(f'Processed dataset: {len(validation_dataset)}\\nOriginal dataset: {len(squad_dataset[\"validation\"])}')"
   ]
  },
  {
   "attachments": {},
   "cell_type": "markdown",
   "metadata": {},
   "source": [
    "## Metrics and Logits"
   ]
  },
  {
   "attachments": {},
   "cell_type": "markdown",
   "metadata": {},
   "source": [
    "We can load a metric called \"squad\" anduse it in our problem! Let's see how it will work."
   ]
  },
  {
   "cell_type": "code",
   "execution_count": null,
   "metadata": {},
   "outputs": [
    {
     "name": "stderr",
     "output_type": "stream",
     "text": [
      "C:\\Users\\diasrodr\\AppData\\Local\\Temp\\ipykernel_2452\\3146779351.py:1: FutureWarning: load_metric is deprecated and will be removed in the next major version of datasets. Use 'evaluate.load' instead, from the new library 🤗 Evaluate: https://huggingface.co/docs/evaluate\n",
      "  metric = load_metric(\"squad\")\n"
     ]
    }
   ],
   "source": [
    "metric = load_metric(\"squad\")"
   ]
  },
  {
   "cell_type": "code",
   "execution_count": null,
   "metadata": {},
   "outputs": [
    {
     "data": {
      "text/plain": [
       "{'exact_match': 66.66666666666667, 'f1': 66.66666666666667}"
      ]
     },
     "execution_count": 50,
     "metadata": {},
     "output_type": "execute_result"
    }
   ],
   "source": [
    "# making some examples\n",
    "\n",
    "pred_answers = [\n",
    "    {'id': '1', 'prediction_text': 'Strawberry'},\n",
    "    {'id': '2', 'prediction_text': 'Agriculture industry'},\n",
    "    {'id': '3', 'prediction_text': 'Red'}\n",
    "]\n",
    "\n",
    "true_answers = [\n",
    "    {'id': '1', 'answers': {'text': ['Strawberry'], 'answer_start': [80]}},\n",
    "    {'id': '2', 'answers': {'text': ['Agroindustry'], 'answer_start': [65]}},\n",
    "    {'id': '3', 'answers': {'text': ['Red'], 'answer_start': [100]}}\n",
    "]\n",
    "\n",
    "# checking the metrics\n",
    "\n",
    "metric.compute(predictions=pred_answers, references=true_answers)"
   ]
  },
  {
   "attachments": {},
   "cell_type": "markdown",
   "metadata": {},
   "source": [
    "But, before heading to metrics, let's remember that the model outputs are Logits, numbers! We have to make it back to numbers."
   ]
  },
  {
   "attachments": {},
   "cell_type": "markdown",
   "metadata": {},
   "source": [
    "For that, we're donwloading a pretrained question-answering model to get predictions that are not random and use those predictions to learn how to convert the logits into answer strings.\n",
    "\n",
    "With it, we won't need the whole dataset, but just a part of it for learning how to turn them into strings!\n",
    "\n",
    "Let's dive in!"
   ]
  },
  {
   "attachments": {},
   "cell_type": "markdown",
   "metadata": {},
   "source": [
    "##### Learning how to transform logits into answers"
   ]
  },
  {
   "cell_type": "code",
   "execution_count": null,
   "metadata": {},
   "outputs": [],
   "source": [
    "small_validation_dataset = squad_dataset[\"validation\"].select(range(100)) # Getting just the first 100 samples from the validation set \n",
    "trained_checkpoint = \"distilbert-base-cased-distilled-squad\" # model trained in q&a\n",
    "\n",
    "tokenizer2 = AutoTokenizer.from_pretrained(trained_checkpoint) # new tokenizer from distilbert-base-cased-distilled-squad\n",
    "\n",
    "# Here, since the tokenizer is a global variable \n",
    "# And we're training it with another model trained in q&a\n",
    "# We're temporarily exchanging this global variable for the tokenizer2\n",
    "original_tokenizer = tokenizer\n",
    "tokenizer = tokenizer2"
   ]
  },
  {
   "attachments": {},
   "cell_type": "markdown",
   "metadata": {},
   "source": [
    "Now, let's process this small validation dataset"
   ]
  },
  {
   "cell_type": "code",
   "execution_count": null,
   "metadata": {},
   "outputs": [
    {
     "name": "stderr",
     "output_type": "stream",
     "text": [
      "Loading cached processed dataset at C:\\Users\\diasrodr\\.cache\\huggingface\\datasets\\squad\\plain_text\\1.0.0\\d6ec3ceb99ca480ce37cdd35555d6cb2511d223b9150cce08a837ef62ffea453\\cache-42b7eae1b5120632.arrow\n"
     ]
    }
   ],
   "source": [
    "small_validation_processed = small_validation_dataset.map( # Now, we can use this new tokenizer from distilbert-base-cased-distilled-squad\n",
    "    tokenize_fn_validation,                                 # and map it into our small validation dataset using the function tokenize_fn_validation\n",
    "    batched=True,\n",
    "    remove_columns=squad_dataset[\"validation\"].column_names\n",
    ")"
   ]
  },
  {
   "attachments": {},
   "cell_type": "markdown",
   "metadata": {},
   "source": [
    "Once this cell is done, let's just get back with the first and original tokenizer from distilbert-base-cased model"
   ]
  },
  {
   "cell_type": "code",
   "execution_count": null,
   "metadata": {},
   "outputs": [],
   "source": [
    "tokenizer = original_tokenizer"
   ]
  },
  {
   "attachments": {},
   "cell_type": "markdown",
   "metadata": {},
   "source": [
    "Now, it's time to change some things in our small dataset like unsed columns and change to torch format in order to pass the inputs to process in the GPU"
   ]
  },
  {
   "cell_type": "code",
   "execution_count": null,
   "metadata": {},
   "outputs": [],
   "source": [
    "small_model_inputs =  small_validation_processed.remove_columns(['sample_id', 'offset_mapping']) # unused columns\n",
    "small_model_inputs.set_format(\"torch\")"
   ]
  },
  {
   "attachments": {},
   "cell_type": "markdown",
   "metadata": {},
   "source": [
    "#### Setting the GPU"
   ]
  },
  {
   "attachments": {},
   "cell_type": "markdown",
   "metadata": {},
   "source": [
    "Once the previous step is done, it's time to set the GPUas our device and move the inputs (now tensors) to there "
   ]
  },
  {
   "cell_type": "code",
   "execution_count": null,
   "metadata": {},
   "outputs": [],
   "source": [
    "# Setting the GPU as current device \n",
    "device = torch.device(\"cuda\" if torch.cuda.is_available() else \"cpu\")"
   ]
  },
  {
   "cell_type": "code",
   "execution_count": null,
   "metadata": {},
   "outputs": [],
   "source": [
    "small_model_inputs_gpu = {\n",
    "    k: small_model_inputs[k].to(device) for k in small_model_inputs.column_names\n",
    "}\n",
    "# All the data will come from the GPU now"
   ]
  },
  {
   "attachments": {},
   "cell_type": "markdown",
   "metadata": {},
   "source": [
    "Downloading the distilbert-base-cased-distilled-squad model and setting into the GPU"
   ]
  },
  {
   "cell_type": "code",
   "execution_count": null,
   "metadata": {},
   "outputs": [],
   "source": [
    "trained_model =  AutoModelForQuestionAnswering.from_pretrained(trained_checkpoint).to(device)"
   ]
  },
  {
   "attachments": {},
   "cell_type": "markdown",
   "metadata": {},
   "source": [
    "Getting the model's output"
   ]
  },
  {
   "cell_type": "code",
   "execution_count": null,
   "metadata": {},
   "outputs": [],
   "source": [
    "with torch.no_grad(): # This is just saying that we're not using any compution gradient (like we're not training)\n",
    "    outputs = trained_model(**small_model_inputs_gpu) # passing the inputs to distilbert-base-cased-distilled-squad and getting the outputs"
   ]
  },
  {
   "attachments": {},
   "cell_type": "markdown",
   "metadata": {},
   "source": [
    "Great! Let's see those outputs"
   ]
  },
  {
   "cell_type": "code",
   "execution_count": null,
   "metadata": {},
   "outputs": [
    {
     "data": {
      "text/plain": [
       "QuestionAnsweringModelOutput(loss=None, start_logits=tensor([[ -2.2607,  -5.1783,  -5.2709,  ...,  -9.5243,  -9.5183,  -9.5288],\n",
       "        [ -2.5961,  -5.5482,  -5.5313,  ...,  -9.9598,  -9.9533,  -9.9860],\n",
       "        [ -3.7127,  -7.1848,  -8.5388,  ..., -11.6557, -11.6571, -11.6505],\n",
       "        ...,\n",
       "        [ -2.0260,  -4.4167,  -4.4980,  ...,  -8.1479,  -8.1530,  -8.1760],\n",
       "        [ -4.1553,  -5.8304,  -7.1643,  ..., -10.5255, -10.5251, -10.4890],\n",
       "        [ -3.2000,  -5.8162,  -6.7249,  ...,  -9.4935,  -9.5038,  -9.4871]],\n",
       "       device='cuda:0'), end_logits=tensor([[ -0.7353,  -4.9236,  -5.1048,  ...,  -8.8734,  -8.8916,  -8.8550],\n",
       "        [ -1.3056,  -5.3870,  -5.4945,  ...,  -9.4895,  -9.5039,  -9.4959],\n",
       "        [ -2.7649,  -7.2201,  -9.0916,  ..., -11.3106, -11.3414, -11.2702],\n",
       "        ...,\n",
       "        [ -0.0768,  -4.8210,  -4.4374,  ...,  -8.0483,  -8.0502,  -7.9903],\n",
       "        [ -2.7347,  -5.3650,  -7.2549,  ..., -10.0498, -10.0661,  -9.9886],\n",
       "        [ -1.0991,  -4.2569,  -6.1267,  ...,  -8.6882,  -8.6889,  -8.6272]],\n",
       "       device='cuda:0'), hidden_states=None, attentions=None)"
      ]
     },
     "execution_count": 59,
     "metadata": {},
     "output_type": "execute_result"
    }
   ],
   "source": [
    "outputs"
   ]
  },
  {
   "attachments": {},
   "cell_type": "markdown",
   "metadata": {},
   "source": [
    "This kind of QuestionAnsweringModelOutput object is composed with a tuple containing the start_logits and the end_logits."
   ]
  },
  {
   "attachments": {},
   "cell_type": "markdown",
   "metadata": {},
   "source": [
    "#### Turning the logits into IDs"
   ]
  },
  {
   "cell_type": "code",
   "execution_count": null,
   "metadata": {},
   "outputs": [],
   "source": [
    "# Here, we're getting the logits, moving back to CPU and formatting as a numpy array (we don't need them in the tensor format anymore)\n",
    "start_logits = outputs.start_logits.cpu().numpy()\n",
    "end_logits = outputs.end_logits.cpu().numpy()"
   ]
  },
  {
   "attachments": {},
   "cell_type": "markdown",
   "metadata": {},
   "source": [
    "Let's remember how the ID's look like in the small_validation_processed"
   ]
  },
  {
   "cell_type": "code",
   "execution_count": null,
   "metadata": {},
   "outputs": [
    {
     "data": {
      "text/plain": [
       "['56be4db0acb8001400a502ec',\n",
       " '56be4db0acb8001400a502ed',\n",
       " '56be4db0acb8001400a502ee']"
      ]
     },
     "execution_count": 61,
     "metadata": {},
     "output_type": "execute_result"
    }
   ],
   "source": [
    "small_validation_processed[\"sample_id\"][:3] # remember that small_validation_processed was processed by distilbert-base-cased-distilled-squad tokenizer"
   ]
  },
  {
   "attachments": {},
   "cell_type": "markdown",
   "metadata": {},
   "source": [
    "And how they look like in our validation dataset"
   ]
  },
  {
   "cell_type": "code",
   "execution_count": null,
   "metadata": {},
   "outputs": [
    {
     "data": {
      "text/plain": [
       "['56be4db0acb8001400a502ec',\n",
       " '56be4db0acb8001400a502ed',\n",
       " '56be4db0acb8001400a502ee']"
      ]
     },
     "execution_count": 62,
     "metadata": {},
     "output_type": "execute_result"
    }
   ],
   "source": [
    "validation_dataset[\"sample_id\"][:3]"
   ]
  },
  {
   "attachments": {},
   "cell_type": "markdown",
   "metadata": {},
   "source": [
    "Also, they're not unique! Remebember that one ID could come from more than one question-answer input because of the windows? One input could be splitted into 2 or 3 or more windows, but they still form the same input."
   ]
  },
  {
   "cell_type": "code",
   "execution_count": null,
   "metadata": {},
   "outputs": [
    {
     "name": "stdout",
     "output_type": "stream",
     "text": [
      "Total ID's from validation: 10822,\n",
      "Total unique ID's from validation: 10570\n"
     ]
    }
   ],
   "source": [
    "print(f\"Total ID's from validation: {len(validation_dataset['sample_id'])},\\nTotal unique ID's from validation: {len(set(validation_dataset['sample_id']))}\")"
   ]
  },
  {
   "attachments": {},
   "cell_type": "markdown",
   "metadata": {},
   "source": [
    "So, for handling this case, we're building an dict where the key is the ID and the value is going to be an list pointing the indixes taht this ID corresponds in the small_validation_processed. If we have an input that was splited into 3 parts for examples, we want something like this:\n",
    "\n",
    "{'56be4db0acb8001400a502ef': [5, 6, 7]}"
   ]
  },
  {
   "cell_type": "code",
   "execution_count": null,
   "metadata": {},
   "outputs": [],
   "source": [
    "sample_id2idxs = {}\n",
    "\n",
    "for i, id_ in enumerate(small_validation_processed['sample_id']): # looping through all the ID's and enumerating to get the index\n",
    "    if id_ not in sample_id2idxs: # Checking if this ID existis\n",
    "        sample_id2idxs[id_] = [i] # If not, we create an entry with the format we just saw above.\n",
    "    else:\n",
    "        print(\"here\") # If existis,\n",
    "        sample_id2idxs[id_].append(i) # we just append into the existing list"
   ]
  },
  {
   "cell_type": "code",
   "execution_count": null,
   "metadata": {},
   "outputs": [],
   "source": [
    "# sample_id2idxs # uncoment to see the result"
   ]
  },
  {
   "attachments": {},
   "cell_type": "markdown",
   "metadata": {},
   "source": [
    "Great! Now, let's understand how we're turning this into strings."
   ]
  },
  {
   "attachments": {},
   "cell_type": "markdown",
   "metadata": {},
   "source": [
    "Let's check the shape of our logits. We expect them to be in this shape:\n",
    "\n",
    "(number_of_samples, max_length)"
   ]
  },
  {
   "cell_type": "code",
   "execution_count": null,
   "metadata": {},
   "outputs": [
    {
     "data": {
      "text/plain": [
       "((100, 384), (100, 384))"
      ]
     },
     "execution_count": 66,
     "metadata": {},
     "output_type": "execute_result"
    }
   ],
   "source": [
    "start_logits.shape, end_logits.shape # remember that they come from the outputs we got from distilbert-base-cased-distilled-squad"
   ]
  },
  {
   "attachments": {},
   "cell_type": "markdown",
   "metadata": {},
   "source": [
    "We will need to sort the indices of the logits in order to get where the values are stored within this indices.\n",
    "First, we negate the the values by placing a '-' in front of the array. This will sort them in descending order."
   ]
  },
  {
   "cell_type": "code",
   "execution_count": null,
   "metadata": {},
   "outputs": [],
   "source": [
    "# uncoment to see\n",
    "#print(start_logits[0])\n",
    "#print()\n",
    "#print(-start_logits[0])"
   ]
  },
  {
   "attachments": {},
   "cell_type": "markdown",
   "metadata": {},
   "source": [
    "In thsi way, the largest values will be at the front. Then, when we call the argsort method, we organize this array by ascending order, getting this result:"
   ]
  },
  {
   "cell_type": "code",
   "execution_count": null,
   "metadata": {},
   "outputs": [
    {
     "data": {
      "text/plain": [
       "array([ 46,  57,  47,  38,  39,  58,  50,  43,  45,  54,  56,  49,  13,\n",
       "        42,  40,  35,  27,  31,  48,  41,  53,  44,  37,  59,  78,  15,\n",
       "         0,  52,  24,  65,  81,  70,  18,  51,  55,  26,  69,  29,  28,\n",
       "        75,  61,  64,  23,  36,  32,  11, 101,  62,  66,  34,  95,  30,\n",
       "        63,  21,  19,  20,  17,  14,  22,  33,  68,  87, 171,  12,  76,\n",
       "        71,  73,  92, 110,  84, 151,   1,  74,   2,   6,  16,  80,  79,\n",
       "       105,  98,  10,  96, 136, 169, 106, 100,  93, 165,  67, 109,   8,\n",
       "        90,   3, 115,  60,   5,  97,   7, 103, 102,  86,  72, 111,  89,\n",
       "       108,   4,  88,  25, 132,  77, 123, 150, 124, 153,  83, 118,  82,\n",
       "        85, 107, 114, 143, 164, 137, 130, 166, 159, 131,  91,   9, 144,\n",
       "       139, 160,  94, 141, 128, 112, 134, 152, 170, 154, 117, 127, 104,\n",
       "       140, 157, 155, 133, 145, 119, 162, 138, 135, 156, 167, 168, 126,\n",
       "       148, 163, 161, 116,  99, 120, 142, 158, 125, 146, 113, 121, 147,\n",
       "       149, 129, 122, 311, 312, 304, 309, 313, 310, 300, 307, 316, 308,\n",
       "       314, 306, 317, 320, 319, 321, 291, 318, 301, 305, 287, 270, 315,\n",
       "       295, 289, 294, 251, 333, 303, 269, 299, 274, 265, 298, 176, 175,\n",
       "       338, 292, 323, 322, 290, 252, 296, 229, 177, 302, 297, 186, 245,\n",
       "       250, 283, 174, 256, 337, 266, 190, 293, 286, 264, 288, 331, 327,\n",
       "       234, 237, 227, 284, 255, 326, 276, 272, 233, 346, 191, 230, 218,\n",
       "       232, 179, 285, 273, 173, 187, 239, 332, 172, 267, 329, 238, 253,\n",
       "       334, 214, 192, 325, 278, 350, 259, 281, 268, 185, 254, 271, 279,\n",
       "       342, 345, 343, 181, 335, 183, 189, 260, 341, 275, 178, 228, 210,\n",
       "       324, 277, 212, 348, 209, 336, 261, 240, 249, 246, 194, 257, 182,\n",
       "       377, 258, 196, 195, 248, 188, 339, 197, 213, 378, 263, 208, 201,\n",
       "       205, 200, 225, 211, 282, 236, 204, 347, 203, 262, 223, 193, 330,\n",
       "       199, 202, 349, 184, 180, 351, 340, 226, 224, 243, 217, 372, 244,\n",
       "       241, 207, 235, 344, 215, 367, 247, 368, 382, 352, 379, 353, 221,\n",
       "       376, 231, 380, 220, 371, 366, 242, 219, 381, 206, 375, 369, 216,\n",
       "       198, 355, 383, 280, 328, 222, 358, 373, 357, 363, 356, 374, 354,\n",
       "       359, 365, 370, 364, 362, 361, 360], dtype=int64)"
      ]
     },
     "execution_count": 68,
     "metadata": {},
     "output_type": "execute_result"
    }
   ],
   "source": [
    "indices = (-start_logits[0]).argsort() # here, we are taking just the first position for example.\n",
    "indices"
   ]
  },
  {
   "attachments": {},
   "cell_type": "markdown",
   "metadata": {},
   "source": [
    "If we use those indices in the original array, we get this result:"
   ]
  },
  {
   "cell_type": "code",
   "execution_count": null,
   "metadata": {},
   "outputs": [
    {
     "data": {
      "text/plain": [
       "array([10.694438  ,  9.80368   ,  4.459976  ,  4.400484  ,  2.9437778 ,\n",
       "        2.7017336 ,  2.0126412 ,  1.5780765 ,  0.5223689 ,  0.020736  ,\n",
       "       -0.02802774, -0.04971699, -0.38573128, -0.6945384 , -0.797949  ,\n",
       "       -0.867806  , -0.872208  , -1.351689  , -1.370372  , -1.387883  ,\n",
       "       -1.5135096 , -1.7355467 , -1.8827084 , -1.8932893 , -1.9078947 ,\n",
       "       -1.9304968 , -2.2607305 , -2.2983904 , -2.306936  , -2.502742  ,\n",
       "       -2.5100653 , -2.5308402 , -2.539995  , -2.6718123 , -2.7323546 ,\n",
       "       -2.7710214 , -2.7713673 , -2.9521337 , -3.060468  , -3.1706045 ,\n",
       "       -3.2045465 , -3.5693395 , -3.579806  , -3.6668832 , -3.7250621 ,\n",
       "       -3.7498577 , -3.7632182 , -3.9968164 , -4.011329  , -4.0688024 ,\n",
       "       -4.0944867 , -4.1954765 , -4.2383127 , -4.332363  , -4.3524165 ,\n",
       "       -4.3879633 , -4.388612  , -4.396613  , -4.679055  , -4.7030296 ,\n",
       "       -4.775757  , -4.777815  , -4.7882195 , -4.788247  , -4.8221264 ,\n",
       "       -4.8725405 , -4.8849335 , -4.8981485 , -5.0720983 , -5.107876  ,\n",
       "       -5.148638  , -5.178324  , -5.1912103 , -5.2708974 , -5.3146396 ,\n",
       "       -5.3770757 , -5.5316515 , -5.5711308 , -5.6498165 , -5.661308  ,\n",
       "       -5.6778765 , -5.6986117 , -5.7515693 , -5.8426423 , -5.8621526 ,\n",
       "       -5.90769   , -5.909378  , -5.944449  , -5.996893  , -6.00583   ,\n",
       "       -6.047034  , -6.0640087 , -6.0858765 , -6.100559  , -6.2241755 ,\n",
       "       -6.267095  , -6.2752924 , -6.3032966 , -6.3134212 , -6.328805  ,\n",
       "       -6.3306904 , -6.4014845 , -6.4204845 , -6.4361086 , -6.437409  ,\n",
       "       -6.450712  , -6.5314317 , -6.553045  , -6.5630217 , -6.6687956 ,\n",
       "       -6.7266893 , -6.742632  , -6.7442966 , -6.745859  , -6.810874  ,\n",
       "       -6.9216313 , -6.949299  , -6.990767  , -6.9987464 , -7.162261  ,\n",
       "       -7.1673555 , -7.175658  , -7.180562  , -7.1967845 , -7.243596  ,\n",
       "       -7.273346  , -7.276949  , -7.3002214 , -7.300935  , -7.3218603 ,\n",
       "       -7.3976765 , -7.433036  , -7.524845  , -7.5272317 , -7.5322723 ,\n",
       "       -7.5737133 , -7.5982146 , -7.6580973 , -7.659709  , -7.7155733 ,\n",
       "       -7.718405  , -7.740018  , -7.7546515 , -7.8856463 , -7.893764  ,\n",
       "       -7.8943706 , -7.938036  , -7.9582047 , -8.037516  , -8.059217  ,\n",
       "       -8.06391   , -8.104632  , -8.117332  , -8.138486  , -8.145779  ,\n",
       "       -8.221221  , -8.274249  , -8.292224  , -8.293208  , -8.316831  ,\n",
       "       -8.317495  , -8.333998  , -8.466509  , -8.500583  , -8.502034  ,\n",
       "       -8.591034  , -8.612469  , -8.621494  , -8.625212  , -8.625457  ,\n",
       "       -8.814262  , -9.039058  , -9.421057  , -9.434795  , -9.441468  ,\n",
       "       -9.444377  , -9.449848  , -9.450176  , -9.450436  , -9.451043  ,\n",
       "       -9.4520645 , -9.452426  , -9.452514  , -9.454132  , -9.456526  ,\n",
       "       -9.458105  , -9.458342  , -9.458443  , -9.458751  , -9.460877  ,\n",
       "       -9.462074  , -9.462511  , -9.462946  , -9.463791  , -9.463893  ,\n",
       "       -9.465525  , -9.466454  , -9.468562  , -9.468858  , -9.468958  ,\n",
       "       -9.469493  , -9.46952   , -9.470061  , -9.47097   , -9.47114   ,\n",
       "       -9.471288  , -9.471361  , -9.47179   , -9.471893  , -9.47205   ,\n",
       "       -9.472688  , -9.4729595 , -9.473713  , -9.475198  , -9.47661   ,\n",
       "       -9.476765  , -9.47678   , -9.477409  , -9.478313  , -9.478874  ,\n",
       "       -9.47975   , -9.4799185 , -9.480068  , -9.48065   , -9.481192  ,\n",
       "       -9.48147   , -9.4815235 , -9.481525  , -9.481611  , -9.481791  ,\n",
       "       -9.482162  , -9.482851  , -9.483416  , -9.48457   , -9.484708  ,\n",
       "       -9.484896  , -9.485175  , -9.485302  , -9.485718  , -9.485962  ,\n",
       "       -9.486803  , -9.486973  , -9.48763   , -9.487731  , -9.487915  ,\n",
       "       -9.487993  , -9.4883    , -9.488398  , -9.488592  , -9.488802  ,\n",
       "       -9.48896   , -9.4890995 , -9.489489  , -9.489674  , -9.490001  ,\n",
       "       -9.490805  , -9.490837  , -9.490871  , -9.4909    , -9.491138  ,\n",
       "       -9.49126   , -9.491713  , -9.492029  , -9.492165  , -9.492535  ,\n",
       "       -9.492821  , -9.49356   , -9.493635  , -9.493652  , -9.494003  ,\n",
       "       -9.494029  , -9.494391  , -9.495205  , -9.495422  , -9.496532  ,\n",
       "       -9.496604  , -9.497136  , -9.497529  , -9.497562  , -9.497578  ,\n",
       "       -9.497605  , -9.497615  , -9.498015  , -9.498123  , -9.498628  ,\n",
       "       -9.498646  , -9.498771  , -9.49959   , -9.500015  , -9.500345  ,\n",
       "       -9.500422  , -9.500581  , -9.500978  , -9.501001  , -9.501171  ,\n",
       "       -9.501221  , -9.50128   , -9.501436  , -9.501506  , -9.501884  ,\n",
       "       -9.502008  , -9.5025215 , -9.502687  , -9.503565  , -9.503638  ,\n",
       "       -9.503662  , -9.504169  , -9.504553  , -9.505048  , -9.505533  ,\n",
       "       -9.506172  , -9.5066395 , -9.50668   , -9.506756  , -9.506836  ,\n",
       "       -9.507121  , -9.507554  , -9.5077305 , -9.50799   , -9.50805   ,\n",
       "       -9.508083  , -9.508732  , -9.508774  , -9.508862  , -9.509275  ,\n",
       "       -9.509514  , -9.509531  , -9.510822  , -9.511494  , -9.512032  ,\n",
       "       -9.512428  , -9.512822  , -9.513139  , -9.513153  , -9.513192  ,\n",
       "       -9.513242  , -9.513387  , -9.514932  , -9.515438  , -9.51557   ,\n",
       "       -9.516188  , -9.516241  , -9.516349  , -9.516381  , -9.516659  ,\n",
       "       -9.517016  , -9.518314  , -9.518467  , -9.518797  , -9.5190935 ,\n",
       "       -9.520802  , -9.521006  , -9.521193  , -9.521229  , -9.522539  ,\n",
       "       -9.522742  , -9.522884  , -9.523233  , -9.523897  , -9.52433   ,\n",
       "       -9.525377  , -9.52604   , -9.527032  , -9.528472  , -9.528532  ,\n",
       "       -9.5286255 , -9.528761  , -9.52946   , -9.529712  , -9.53137   ,\n",
       "       -9.532366  , -9.532745  , -9.535539  , -9.536648  , -9.537712  ,\n",
       "       -9.538662  , -9.539051  , -9.539339  , -9.540268  , -9.541708  ,\n",
       "       -9.548328  , -9.55448   , -9.557686  , -9.567407  ], dtype=float32)"
      ]
     },
     "execution_count": 69,
     "metadata": {},
     "output_type": "execute_result"
    }
   ],
   "source": [
    "start_logits[0][indices]"
   ]
  },
  {
   "attachments": {},
   "cell_type": "markdown",
   "metadata": {},
   "source": [
    "We have the start_logits showing in descending order!\n",
    "\n",
    "\n",
    "Now, let's really transform the logits into string and you'll understand everything."
   ]
  },
  {
   "cell_type": "code",
   "execution_count": null,
   "metadata": {},
   "outputs": [],
   "source": [
    "n_largest = 20 # Number of start and end logits we want to search\n",
    "max_answer_length = 30 # Max answer length we want to allow\n",
    "predict_answers = [] # List of predicted answers will be stored \n",
    "\n",
    "for sample in small_validation_dataset: # For each sample in the NON-processed (it is not tokenized!) small validation dataset (CTRL+click if you want to remember)\n",
    "    sample_id = sample[\"id\"] # Get the id from this sample\n",
    "    context = sample[\"context\"] # and the context\n",
    "\n",
    "    # Initializing best_score and best_answer (they'll be update in the below looping)\n",
    "    best_score = float(\"-inf\") \n",
    "    best_answer = None\n",
    "\n",
    "    for idx in sample_id2idxs[sample_id]: # For each id in the sample_id2idxs (samples here are tokenized!) in the sample_id as index (remebmer it is a dict)\n",
    "        # Grabbing the start and end logits for this index\n",
    "        start_logit = start_logits[idx] \n",
    "        end_logit = end_logits[idx]\n",
    "        # And also get the offset mapping for this index\n",
    "        offsets = small_validation_processed[idx][\"offset_mapping\"] # note that this offset mapping is the processed, containg None for any position\n",
    "                                                                    # that is not in the context\n",
    "        # Sorting the logits as we saw                                                           \n",
    "        start_indices = (-start_logit).argsort() \n",
    "        end_indices = (-end_logit).argsort()\n",
    "\n",
    "        # Next step is to loop through the n_largest start and end logits\n",
    "        for start_idx in start_indices[:n_largest]:\n",
    "            for end_idx in end_indices[:n_largest]:\n",
    "                # Checking the cases where the answer:\n",
    "                if offsets[start_idx] is None or offsets[end_idx] is None: # Answer is not in the context\n",
    "                    continue\n",
    "                if end_idx < start_idx: # Answer does not exist (since is has negative length)\n",
    "                    continue\n",
    "                if (end_idx - start_idx + 1) > max_answer_length: # Answer is longer than allowed\n",
    "                    continue\n",
    "\n",
    "                # If we have an answer,\n",
    "                score = start_logit[start_idx] + end_logit[end_idx] # Compute the score for this answer\n",
    "                if score > best_score: # Checking if score is better than the current best_score\n",
    "                    best_score = score # If yes, compute\n",
    "\n",
    "                    # Getting the position of the first character and of the last character\n",
    "                    first_ch = offsets[start_idx][0] \n",
    "                    last_ch = offsets[end_idx][1]\n",
    "                    # Retrieving the answer as actual text using the them as indices in the context\n",
    "                    best_answer = context[first_ch:last_ch]\n",
    "        # And finally append to the list        \n",
    "        predict_answers.append({\"id\": sample_id, \"prediction_text\": best_answer})"
   ]
  },
  {
   "attachments": {},
   "cell_type": "markdown",
   "metadata": {},
   "source": [
    "Onde this is done, we just need to format the true answer in the right format for computing the metrcis.\n",
    "\n",
    "To remembem the format, go to the beggining of the \"Metrics and Logits\" outline."
   ]
  },
  {
   "cell_type": "code",
   "execution_count": null,
   "metadata": {},
   "outputs": [],
   "source": [
    "true_answers = [\n",
    "    {\n",
    "    \"id\": x[\"id\"],\n",
    "    \"answers\": x[\"answers\"]\n",
    "    }\n",
    "    for x in small_validation_dataset\n",
    "]"
   ]
  },
  {
   "cell_type": "code",
   "execution_count": null,
   "metadata": {},
   "outputs": [],
   "source": [
    "#true_answers # uncoment to see the result"
   ]
  },
  {
   "attachments": {},
   "cell_type": "markdown",
   "metadata": {},
   "source": [
    "Yay! We can now turn the logits into string and finally compute the metrics!"
   ]
  },
  {
   "cell_type": "code",
   "execution_count": null,
   "metadata": {},
   "outputs": [
    {
     "data": {
      "text/plain": [
       "{'exact_match': 83.0, 'f1': 88.25000000000004}"
      ]
     },
     "execution_count": 73,
     "metadata": {},
     "output_type": "execute_result"
    }
   ],
   "source": [
    "metric.compute(predictions=predict_answers, references=true_answers)"
   ]
  },
  {
   "attachments": {},
   "cell_type": "markdown",
   "metadata": {},
   "source": [
    "Let's turn the whole process into a function called compute_metrics"
   ]
  },
  {
   "attachments": {},
   "cell_type": "markdown",
   "metadata": {},
   "source": [
    "#### Computing metrics"
   ]
  },
  {
   "cell_type": "code",
   "execution_count": null,
   "metadata": {},
   "outputs": [],
   "source": [
    "def compute_metrics(start_logits, end_logits, processed_dataset, orig_dataset):\n",
    "    sample_id2idxs = {}\n",
    "\n",
    "    for i, id_ in enumerate(processed_dataset[\"sample_id\"]):\n",
    "        if id_ not in sample_id2idxs:\n",
    "            sample_id2idxs[id_] = [i]\n",
    "        else:\n",
    "            sample_id2idxs[id_].append(i)\n",
    "\n",
    "    predicted_answers = []\n",
    "    for sample in tqdm(orig_dataset):\n",
    "\n",
    "        sample_id = sample[\"id\"]\n",
    "        context = sample['context']\n",
    "\n",
    "        best_score = float(\"-inf\")\n",
    "        best_answer = None\n",
    "\n",
    "        for idx in sample_id2idxs[sample_id]:\n",
    "            start_logit = start_logits[idx]\n",
    "            end_logit = end_logits[idx]\n",
    "\n",
    "            offsets = processed_dataset[idx][\"offset_mapping\"]\n",
    "\n",
    "            start_indices = (-start_logit).argsort()\n",
    "            end_indices = (-end_logit).argsort()\n",
    "\n",
    "            for start_idx in start_indices[:n_largest]:\n",
    "                for end_idx in end_indices[:n_largest]:\n",
    "                    if offsets[start_idx] is None or offsets[end_idx] is None:\n",
    "                        continue\n",
    "\n",
    "                    if end_idx < start_idx:\n",
    "                        continue\n",
    "\n",
    "                    if (end_idx - start_idx + 1) > max_answer_length:\n",
    "                        continue\n",
    "\n",
    "                    score = start_logit[start_idx] + end_logit[end_idx]\n",
    "                    if score > best_score:\n",
    "                        best_score = score\n",
    "\n",
    "                        first_ch = offsets[start_idx][0] \n",
    "                        last_ch = offsets[end_idx][1]\n",
    "                        best_answer = context[first_ch:last_ch]\n",
    "                \n",
    "        predicted_answers.append({\"id\": sample_id, \"prediction_text\": best_answer})\n",
    "    true_answers = [{\"id\": x[\"id\"], \"answers\": x[\"answers\"]} for x in orig_dataset]\n",
    "    y = metric.compute(predictions=predicted_answers, references=true_answers)\n",
    "    return y\n",
    "    "
   ]
  },
  {
   "attachments": {},
   "cell_type": "markdown",
   "metadata": {},
   "source": [
    "Let's run the function on the small datasets we used earlier"
   ]
  },
  {
   "cell_type": "code",
   "execution_count": null,
   "metadata": {},
   "outputs": [
    {
     "name": "stderr",
     "output_type": "stream",
     "text": [
      "100%|██████████| 100/100 [00:00<00:00, 732.86it/s]\n"
     ]
    },
    {
     "data": {
      "text/plain": [
       "{'exact_match': 83.0, 'f1': 88.25000000000004}"
      ]
     },
     "execution_count": 75,
     "metadata": {},
     "output_type": "execute_result"
    }
   ],
   "source": [
    "compute_metrics(\n",
    "    start_logits,\n",
    "    end_logits,\n",
    "    small_validation_processed,\n",
    "    small_validation_dataset\n",
    ")"
   ]
  },
  {
   "attachments": {},
   "cell_type": "markdown",
   "metadata": {},
   "source": [
    "Great!\n",
    "This function will be used after our training step is done!"
   ]
  },
  {
   "attachments": {},
   "cell_type": "markdown",
   "metadata": {},
   "source": [
    "## **Train**"
   ]
  },
  {
   "cell_type": "code",
   "execution_count": null,
   "metadata": {},
   "outputs": [
    {
     "name": "stderr",
     "output_type": "stream",
     "text": [
      "2023/03/22 21:56:42 INFO mlflow.tracking.fluent: Experiment with name 'BERT Q&A - distilbert-base-cased' does not exist. Creating a new experiment.\n"
     ]
    },
    {
     "data": {
      "text/plain": [
       "<Experiment: artifact_location='file:///c:/Users/diasrodr/Desktop/transformers-nlp/extras/mlruns/515424000856237313', creation_time=1679533002916, experiment_id='515424000856237313', last_update_time=1679533002916, lifecycle_stage='active', name='BERT Q&A - distilbert-base-cased', tags={}>"
      ]
     },
     "execution_count": 76,
     "metadata": {},
     "output_type": "execute_result"
    }
   ],
   "source": [
    "mlflow.end_run()\n",
    "mlflow.set_experiment(\"BERT Q&A - distilbert-base-cased\")"
   ]
  },
  {
   "cell_type": "code",
   "execution_count": null,
   "metadata": {},
   "outputs": [
    {
     "name": "stderr",
     "output_type": "stream",
     "text": [
      "Some weights of the model checkpoint at distilbert-base-cased were not used when initializing DistilBertForQuestionAnswering: ['vocab_projector.bias', 'vocab_layer_norm.bias', 'vocab_transform.weight', 'vocab_layer_norm.weight', 'vocab_transform.bias', 'vocab_projector.weight']\n",
      "- This IS expected if you are initializing DistilBertForQuestionAnswering from the checkpoint of a model trained on another task or with another architecture (e.g. initializing a BertForSequenceClassification model from a BertForPreTraining model).\n",
      "- This IS NOT expected if you are initializing DistilBertForQuestionAnswering from the checkpoint of a model that you expect to be exactly identical (initializing a BertForSequenceClassification model from a BertForSequenceClassification model).\n",
      "Some weights of DistilBertForQuestionAnswering were not initialized from the model checkpoint at distilbert-base-cased and are newly initialized: ['qa_outputs.bias', 'qa_outputs.weight']\n",
      "You should probably TRAIN this model on a down-stream task to be able to use it for predictions and inference.\n"
     ]
    }
   ],
   "source": [
    "model = AutoModelForQuestionAnswering.from_pretrained(model_checkpoint_bbc) # Loading the model we want to fine-tune (distilbert-base-cased)"
   ]
  },
  {
   "attachments": {},
   "cell_type": "markdown",
   "metadata": {},
   "source": [
    "Now it is time to create our TrainingArguments object with all the necssary arguments for the training step"
   ]
  },
  {
   "cell_type": "code",
   "execution_count": null,
   "metadata": {},
   "outputs": [],
   "source": [
    "args = TrainingArguments(\n",
    "    \"finetuned-squad\", # this is a default name for this model and task\n",
    "    evaluation_strategy=\"no\", # No, because we'll compute metrics manually\n",
    "    save_strategy=\"epoch\", # saving for each step (you can use epoch as well)\n",
    "    learning_rate=2e-5, # learnin rate value \n",
    "    num_train_epochs=1, # 3 epoch in total (max is 4 since out inputs are very large, more tha that is not recommended)\n",
    "    weight_decay=0.01, # regularization technique\n",
    "    fp16=True # speed up the process\n",
    ")"
   ]
  },
  {
   "attachments": {},
   "cell_type": "markdown",
   "metadata": {},
   "source": [
    "Now, let's instantiate a trainer object"
   ]
  },
  {
   "cell_type": "code",
   "execution_count": null,
   "metadata": {},
   "outputs": [
    {
     "name": "stderr",
     "output_type": "stream",
     "text": [
      "Using cuda_amp half precision backend\n"
     ]
    }
   ],
   "source": [
    "trainer = Trainer(\n",
    "    model=model, # our model\n",
    "    args=args, # our args\n",
    "    train_dataset=train_dataset, # our datasets\n",
    "    eval_dataset=validation_dataset,\n",
    "    tokenizer=tokenizer # and our tokenizer\n",
    ")"
   ]
  },
  {
   "attachments": {},
   "cell_type": "markdown",
   "metadata": {},
   "source": [
    "Checking if the GPU is available"
   ]
  },
  {
   "cell_type": "code",
   "execution_count": null,
   "metadata": {},
   "outputs": [
    {
     "data": {
      "text/plain": [
       "True"
      ]
     },
     "execution_count": 80,
     "metadata": {},
     "output_type": "execute_result"
    }
   ],
   "source": [
    "torch.cuda.is_available()"
   ]
  },
  {
   "attachments": {},
   "cell_type": "markdown",
   "metadata": {},
   "source": [
    "The time has come! Let's train!"
   ]
  },
  {
   "cell_type": "code",
   "execution_count": null,
   "metadata": {},
   "outputs": [
    {
     "name": "stderr",
     "output_type": "stream",
     "text": [
      "c:\\Users\\diasrodr\\Anaconda3\\envs\\transformers3\\lib\\site-packages\\transformers\\optimization.py:306: FutureWarning: This implementation of AdamW is deprecated and will be removed in a future version. Use the PyTorch implementation torch.optim.AdamW instead, or set `no_deprecation_warning=True` to disable this warning\n",
      "  warnings.warn(\n",
      "***** Running training *****\n",
      "  Num examples = 88729\n",
      "  Num Epochs = 1\n",
      "  Instantaneous batch size per device = 8\n",
      "  Total train batch size (w. parallel, distributed & accumulation) = 8\n",
      "  Gradient Accumulation steps = 1\n",
      "  Total optimization steps = 11092\n",
      "  Number of trainable parameters = 65192450\n",
      "  0%|          | 0/11092 [00:00<?, ?it/s]You're using a DistilBertTokenizerFast tokenizer. Please note that with a fast tokenizer, using the `__call__` method is faster than using a method to encode the text followed by a call to the `pad` method to get a padded encoding.\n",
      "  5%|▍         | 500/11092 [19:44<6:57:43,  2.37s/it]"
     ]
    },
    {
     "name": "stdout",
     "output_type": "stream",
     "text": [
      "{'loss': 3.4464, 'learning_rate': 1.9105661738189687e-05, 'epoch': 0.05}\n"
     ]
    },
    {
     "name": "stderr",
     "output_type": "stream",
     "text": [
      "  9%|▉         | 1000/11092 [39:27<6:32:49,  2.34s/it]"
     ]
    },
    {
     "name": "stdout",
     "output_type": "stream",
     "text": [
      "{'loss': 2.2888, 'learning_rate': 1.8204111071042196e-05, 'epoch': 0.09}\n"
     ]
    },
    {
     "name": "stderr",
     "output_type": "stream",
     "text": [
      " 14%|█▎        | 1500/11092 [58:53<6:13:34,  2.34s/it]"
     ]
    },
    {
     "name": "stdout",
     "output_type": "stream",
     "text": [
      "{'loss': 1.9674, 'learning_rate': 1.7302560403894698e-05, 'epoch': 0.14}\n"
     ]
    },
    {
     "name": "stderr",
     "output_type": "stream",
     "text": [
      " 18%|█▊        | 2000/11092 [1:18:20<5:53:29,  2.33s/it]"
     ]
    },
    {
     "name": "stdout",
     "output_type": "stream",
     "text": [
      "{'loss': 1.7803, 'learning_rate': 1.6401009736747207e-05, 'epoch': 0.18}\n"
     ]
    },
    {
     "name": "stderr",
     "output_type": "stream",
     "text": [
      " 23%|██▎       | 2500/11092 [1:37:47<5:34:28,  2.34s/it]"
     ]
    },
    {
     "name": "stdout",
     "output_type": "stream",
     "text": [
      "{'loss': 1.621, 'learning_rate': 1.5499459069599715e-05, 'epoch': 0.23}\n"
     ]
    },
    {
     "name": "stderr",
     "output_type": "stream",
     "text": [
      " 27%|██▋       | 3000/11092 [1:57:13<5:15:01,  2.34s/it]"
     ]
    },
    {
     "name": "stdout",
     "output_type": "stream",
     "text": [
      "{'loss': 1.5433, 'learning_rate': 1.4599711503786513e-05, 'epoch': 0.27}\n"
     ]
    },
    {
     "name": "stderr",
     "output_type": "stream",
     "text": [
      " 32%|███▏      | 3500/11092 [2:16:40<4:54:40,  2.33s/it]"
     ]
    },
    {
     "name": "stdout",
     "output_type": "stream",
     "text": [
      "{'loss': 1.5198, 'learning_rate': 1.369816083663902e-05, 'epoch': 0.32}\n"
     ]
    },
    {
     "name": "stderr",
     "output_type": "stream",
     "text": [
      " 36%|███▌      | 4000/11092 [2:36:07<4:36:15,  2.34s/it]"
     ]
    },
    {
     "name": "stdout",
     "output_type": "stream",
     "text": [
      "{'loss': 1.472, 'learning_rate': 1.2796610169491526e-05, 'epoch': 0.36}\n"
     ]
    },
    {
     "name": "stderr",
     "output_type": "stream",
     "text": [
      " 41%|████      | 4500/11092 [2:55:34<4:16:40,  2.34s/it]"
     ]
    },
    {
     "name": "stdout",
     "output_type": "stream",
     "text": [
      "{'loss': 1.4817, 'learning_rate': 1.1895059502344033e-05, 'epoch': 0.41}\n"
     ]
    },
    {
     "name": "stderr",
     "output_type": "stream",
     "text": [
      " 45%|████▌     | 5000/11092 [3:15:01<3:56:30,  2.33s/it]"
     ]
    },
    {
     "name": "stdout",
     "output_type": "stream",
     "text": [
      "{'loss': 1.3558, 'learning_rate': 1.0993508835196539e-05, 'epoch': 0.45}\n"
     ]
    },
    {
     "name": "stderr",
     "output_type": "stream",
     "text": [
      " 50%|████▉     | 5500/11092 [3:34:28<3:37:49,  2.34s/it]"
     ]
    },
    {
     "name": "stdout",
     "output_type": "stream",
     "text": [
      "{'loss': 1.3353, 'learning_rate': 1.0091958168049046e-05, 'epoch': 0.5}\n"
     ]
    },
    {
     "name": "stderr",
     "output_type": "stream",
     "text": [
      " 54%|█████▍    | 6000/11092 [3:53:54<3:18:19,  2.34s/it]"
     ]
    },
    {
     "name": "stdout",
     "output_type": "stream",
     "text": [
      "{'loss': 1.3423, 'learning_rate': 9.190407500901551e-06, 'epoch': 0.54}\n"
     ]
    },
    {
     "name": "stderr",
     "output_type": "stream",
     "text": [
      " 59%|█████▊    | 6500/11092 [4:13:21<2:58:42,  2.33s/it]"
     ]
    },
    {
     "name": "stdout",
     "output_type": "stream",
     "text": [
      "{'loss': 1.3001, 'learning_rate': 8.290659935088352e-06, 'epoch': 0.59}\n"
     ]
    },
    {
     "name": "stderr",
     "output_type": "stream",
     "text": [
      " 63%|██████▎   | 7000/11092 [4:32:48<2:39:06,  2.33s/it]"
     ]
    },
    {
     "name": "stdout",
     "output_type": "stream",
     "text": [
      "{'loss': 1.3584, 'learning_rate': 7.38910926794086e-06, 'epoch': 0.63}\n"
     ]
    },
    {
     "name": "stderr",
     "output_type": "stream",
     "text": [
      " 68%|██████▊   | 7500/11092 [4:52:15<2:19:52,  2.34s/it]"
     ]
    },
    {
     "name": "stdout",
     "output_type": "stream",
     "text": [
      "{'loss': 1.3275, 'learning_rate': 6.487558600793366e-06, 'epoch': 0.68}\n"
     ]
    },
    {
     "name": "stderr",
     "output_type": "stream",
     "text": [
      " 72%|███████▏  | 8000/11092 [5:11:41<2:00:19,  2.33s/it]"
     ]
    },
    {
     "name": "stdout",
     "output_type": "stream",
     "text": [
      "{'loss': 1.3106, 'learning_rate': 5.586007933645871e-06, 'epoch': 0.72}\n"
     ]
    },
    {
     "name": "stderr",
     "output_type": "stream",
     "text": [
      " 77%|███████▋  | 8500/11092 [5:31:08<1:40:42,  2.33s/it]"
     ]
    },
    {
     "name": "stdout",
     "output_type": "stream",
     "text": [
      "{'loss': 1.213, 'learning_rate': 4.684457266498378e-06, 'epoch': 0.77}\n"
     ]
    },
    {
     "name": "stderr",
     "output_type": "stream",
     "text": [
      " 81%|████████  | 9000/11092 [5:50:35<1:21:25,  2.34s/it]"
     ]
    },
    {
     "name": "stdout",
     "output_type": "stream",
     "text": [
      "{'loss': 1.2943, 'learning_rate': 3.782906599350884e-06, 'epoch': 0.81}\n"
     ]
    },
    {
     "name": "stderr",
     "output_type": "stream",
     "text": [
      " 86%|████████▌ | 9500/11092 [6:10:02<1:02:01,  2.34s/it]"
     ]
    },
    {
     "name": "stdout",
     "output_type": "stream",
     "text": [
      "{'loss': 1.2567, 'learning_rate': 2.8813559322033903e-06, 'epoch': 0.86}\n"
     ]
    },
    {
     "name": "stderr",
     "output_type": "stream",
     "text": [
      " 90%|█████████ | 10000/11092 [6:29:28<42:24,  2.33s/it] "
     ]
    },
    {
     "name": "stdout",
     "output_type": "stream",
     "text": [
      "{'loss': 1.2279, 'learning_rate': 1.979805265055896e-06, 'epoch': 0.9}\n"
     ]
    },
    {
     "name": "stderr",
     "output_type": "stream",
     "text": [
      " 95%|█████████▍| 10500/11092 [6:48:55<23:02,  2.34s/it]"
     ]
    },
    {
     "name": "stdout",
     "output_type": "stream",
     "text": [
      "{'loss': 1.2164, 'learning_rate': 1.0800576992426976e-06, 'epoch': 0.95}\n"
     ]
    },
    {
     "name": "stderr",
     "output_type": "stream",
     "text": [
      " 99%|█████████▉| 11000/11092 [7:08:22<03:35,  2.34s/it]"
     ]
    },
    {
     "name": "stdout",
     "output_type": "stream",
     "text": [
      "{'loss': 1.25, 'learning_rate': 1.7850703209520379e-07, 'epoch': 0.99}\n"
     ]
    },
    {
     "name": "stderr",
     "output_type": "stream",
     "text": [
      "100%|██████████| 11092/11092 [7:11:55<00:00,  1.75s/it]Saving model checkpoint to finetuned-squad\\checkpoint-11092\n",
      "Configuration saved in finetuned-squad\\checkpoint-11092\\config.json\n",
      "Model weights saved in finetuned-squad\\checkpoint-11092\\pytorch_model.bin\n",
      "tokenizer config file saved in finetuned-squad\\checkpoint-11092\\tokenizer_config.json\n",
      "Special tokens file saved in finetuned-squad\\checkpoint-11092\\special_tokens_map.json\n",
      "\n",
      "\n",
      "Training completed. Do not forget to share your model on huggingface.co/models =)\n",
      "\n",
      "\n",
      "100%|██████████| 11092/11092 [7:11:56<00:00,  2.34s/it]"
     ]
    },
    {
     "name": "stdout",
     "output_type": "stream",
     "text": [
      "{'train_runtime': 25916.8826, 'train_samples_per_second': 3.424, 'train_steps_per_second': 0.428, 'train_loss': 1.5382528803729427, 'epoch': 1.0}\n",
      "Total time for training: 7:11:57.398730\n"
     ]
    },
    {
     "name": "stderr",
     "output_type": "stream",
     "text": [
      "\n"
     ]
    }
   ],
   "source": [
    "mlflow.end_run()\n",
    "start_time_training = datetime.now() # this is for computing the time it take for the training\n",
    "with mlflow.start_run():\n",
    "    trainer.train() \n",
    "print(f'Total time for training: {datetime.now() - start_time_training}')"
   ]
  },
  {
   "attachments": {},
   "cell_type": "markdown",
   "metadata": {},
   "source": [
    "## **Prediction**"
   ]
  },
  {
   "attachments": {},
   "cell_type": "markdown",
   "metadata": {},
   "source": [
    "Now, let's do the evaluation."
   ]
  },
  {
   "cell_type": "code",
   "execution_count": null,
   "metadata": {},
   "outputs": [
    {
     "name": "stderr",
     "output_type": "stream",
     "text": [
      "The following columns in the test set don't have a corresponding argument in `DistilBertForQuestionAnswering.forward` and have been ignored: sample_id, offset_mapping. If sample_id, offset_mapping are not expected by `DistilBertForQuestionAnswering.forward`,  you can safely ignore this message.\n",
      "***** Running Prediction *****\n",
      "  Num examples = 10822\n",
      "  Batch size = 8\n",
      "100%|██████████| 1353/1353 [17:03<00:00,  1.32it/s]\n"
     ]
    },
    {
     "data": {
      "text/plain": [
       "PredictionOutput(predictions=(array([[-3.479, -7.895, -7.637, ..., -9.625, -9.625, -9.63 ],\n",
       "       [-3.326, -7.92 , -7.703, ..., -9.62 , -9.62 , -9.625],\n",
       "       [-3.592, -7.98 , -8.51 , ..., -9.58 , -9.55 , -9.59 ],\n",
       "       ...,\n",
       "       [-2.176, -8.45 , -8.72 , ..., -9.66 , -9.66 , -9.66 ],\n",
       "       [-1.929, -8.4  , -8.305, ..., -9.695, -9.67 , -9.69 ],\n",
       "       [-2.125, -8.48 , -8.71 , ..., -9.625, -9.625, -9.625]],\n",
       "      dtype=float16), array([[-2.965, -8.086, -7.83 , ..., -9.48 , -9.48 , -9.48 ],\n",
       "       [-2.838, -8.086, -7.867, ..., -9.484, -9.484, -9.48 ],\n",
       "       [-3.26 , -8.695, -9.2  , ..., -9.54 , -9.56 , -9.516],\n",
       "       ...,\n",
       "       [-1.45 , -9.336, -9.39 , ..., -9.484, -9.49 , -9.49 ],\n",
       "       [-1.264, -9.32 , -8.73 , ..., -9.41 , -9.44 , -9.41 ],\n",
       "       [-1.39 , -9.24 , -9.3  , ..., -9.5  , -9.51 , -9.5  ]],\n",
       "      dtype=float16)), label_ids=None, metrics={'test_runtime': 1024.4932, 'test_samples_per_second': 10.563, 'test_steps_per_second': 1.321})"
      ]
     },
     "execution_count": 82,
     "metadata": {},
     "output_type": "execute_result"
    }
   ],
   "source": [
    "trainer_prediction = trainer.predict(validation_dataset) # getting the predictions for the validation set\n",
    "trainer_prediction"
   ]
  },
  {
   "attachments": {},
   "cell_type": "markdown",
   "metadata": {},
   "source": [
    "And grab just the prediction values from this objetc"
   ]
  },
  {
   "cell_type": "code",
   "execution_count": null,
   "metadata": {},
   "outputs": [
    {
     "data": {
      "text/plain": [
       "(array([[-3.479, -7.895, -7.637, ..., -9.625, -9.625, -9.63 ],\n",
       "        [-3.326, -7.92 , -7.703, ..., -9.62 , -9.62 , -9.625],\n",
       "        [-3.592, -7.98 , -8.51 , ..., -9.58 , -9.55 , -9.59 ],\n",
       "        ...,\n",
       "        [-2.176, -8.45 , -8.72 , ..., -9.66 , -9.66 , -9.66 ],\n",
       "        [-1.929, -8.4  , -8.305, ..., -9.695, -9.67 , -9.69 ],\n",
       "        [-2.125, -8.48 , -8.71 , ..., -9.625, -9.625, -9.625]],\n",
       "       dtype=float16),\n",
       " array([[-2.965, -8.086, -7.83 , ..., -9.48 , -9.48 , -9.48 ],\n",
       "        [-2.838, -8.086, -7.867, ..., -9.484, -9.484, -9.48 ],\n",
       "        [-3.26 , -8.695, -9.2  , ..., -9.54 , -9.56 , -9.516],\n",
       "        ...,\n",
       "        [-1.45 , -9.336, -9.39 , ..., -9.484, -9.49 , -9.49 ],\n",
       "        [-1.264, -9.32 , -8.73 , ..., -9.41 , -9.44 , -9.41 ],\n",
       "        [-1.39 , -9.24 , -9.3  , ..., -9.5  , -9.51 , -9.5  ]],\n",
       "       dtype=float16))"
      ]
     },
     "execution_count": 83,
     "metadata": {},
     "output_type": "execute_result"
    }
   ],
   "source": [
    "predictions, _, _ = trainer_prediction\n",
    "predictions"
   ]
  },
  {
   "attachments": {},
   "cell_type": "markdown",
   "metadata": {},
   "source": [
    "We have a tuple with two arrays, the start_logits and end_logits!"
   ]
  },
  {
   "cell_type": "code",
   "execution_count": null,
   "metadata": {},
   "outputs": [],
   "source": [
    "start_logits, end_logits = predictions"
   ]
  },
  {
   "attachments": {},
   "cell_type": "markdown",
   "metadata": {},
   "source": [
    "##### Computing the metrics"
   ]
  },
  {
   "cell_type": "code",
   "execution_count": null,
   "metadata": {},
   "outputs": [
    {
     "name": "stderr",
     "output_type": "stream",
     "text": [
      "100%|██████████| 10570/10570 [00:14<00:00, 734.19it/s]\n"
     ]
    },
    {
     "data": {
      "text/plain": [
       "{'exact_match': 74.10596026490066, 'f1': 82.91659877720137}"
      ]
     },
     "execution_count": 85,
     "metadata": {},
     "output_type": "execute_result"
    }
   ],
   "source": [
    "compute_metrics(\n",
    "    start_logits,\n",
    "    end_logits,\n",
    "    validation_dataset,\n",
    "    squad_dataset['validation']\n",
    ")"
   ]
  },
  {
   "attachments": {},
   "cell_type": "markdown",
   "metadata": {},
   "source": [
    "Saving the model for further usage"
   ]
  },
  {
   "cell_type": "code",
   "execution_count": null,
   "metadata": {},
   "outputs": [
    {
     "name": "stderr",
     "output_type": "stream",
     "text": [
      "Saving model checkpoint to distilbert_bertqa\n",
      "Configuration saved in distilbert_bertqa\\config.json\n",
      "Model weights saved in distilbert_bertqa\\pytorch_model.bin\n",
      "tokenizer config file saved in distilbert_bertqa\\tokenizer_config.json\n",
      "Special tokens file saved in distilbert_bertqa\\special_tokens_map.json\n"
     ]
    }
   ],
   "source": [
    "trainer.save_model('distilbert_bertqa')"
   ]
  },
  {
   "attachments": {},
   "cell_type": "markdown",
   "metadata": {},
   "source": [
    "## 😉 **Demonstration**"
   ]
  },
  {
   "attachments": {},
   "cell_type": "markdown",
   "metadata": {},
   "source": [
    "We can create a question-answering pipeline from transformers and pass our model to it."
   ]
  },
  {
   "cell_type": "code",
   "execution_count": null,
   "metadata": {},
   "outputs": [],
   "source": [
    "qa = pipeline(\n",
    "    'question-answering',\n",
    "    model='distilbert_bertqa',\n",
    "    device=0 #GPU\n",
    ")"
   ]
  },
  {
   "attachments": {},
   "cell_type": "markdown",
   "metadata": {},
   "source": [
    "Testing the pipeline"
   ]
  },
  {
   "cell_type": "code",
   "execution_count": null,
   "metadata": {},
   "outputs": [
    {
     "data": {
      "text/plain": [
       "{'score': 0.5578864812850952,\n",
       " 'start': 40,\n",
       " 'end': 62,\n",
       " 'answer': 'a delicious team lunch'}"
      ]
     },
     "execution_count": 3,
     "metadata": {},
     "output_type": "execute_result"
    }
   ],
   "source": [
    "context = \"Tomorrow the Atlântico is going to have a delicious team lunch!\"\n",
    "question = \"What did the Atlântico is going to have tomorrow?\"\n",
    "qa(context=context, question=question)"
   ]
  },
  {
   "cell_type": "code",
   "execution_count": null,
   "metadata": {},
   "outputs": [
    {
     "name": "stdout",
     "output_type": "stream",
     "text": [
      "Total time for full execution: 7:20:57.653861\n"
     ]
    }
   ],
   "source": [
    "print(f' {datetime.now() - start_time_all_execution}')"
   ]
  }
 ],
 "metadata": {
  "kernelspec": {
   "display_name": "transformers",
   "language": "python",
   "name": "python3"
  },
  "language_info": {
   "codemirror_mode": {
    "name": "ipython",
    "version": 3
   },
   "file_extension": ".py",
   "mimetype": "text/x-python",
   "name": "python",
   "nbconvert_exporter": "python",
   "pygments_lexer": "ipython3",
   "version": "3.10.9"
  },
  "orig_nbformat": 4
 },
 "nbformat": 4,
 "nbformat_minor": 2
}
