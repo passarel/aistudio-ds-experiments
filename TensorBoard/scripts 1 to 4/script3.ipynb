{
 "cells": [
  {
   "attachments": {},
   "cell_type": "markdown",
   "metadata": {},
   "source": [
    "# 2D function visualization"
   ]
  },
  {
   "cell_type": "code",
   "execution_count": null,
   "metadata": {},
   "outputs": [],
   "source": [
    "import tensorflow as tf\n",
    "import numpy as np"
   ]
  },
  {
   "cell_type": "code",
   "execution_count": null,
   "metadata": {},
   "outputs": [],
   "source": [
    "# create a summary writer\n",
    "summary_writer = tf.summary.create_file_writer('/home/jovyan/phoenix/experiments/tensorlogs')\n",
    "\n",
    "# define the 2D function (parabola)\n",
    "def f(x, y):\n",
    "    return x**2 + y**2\n",
    "\n",
    "# generate data for visualization\n",
    "x = np.linspace(-5, 5, 100)\n",
    "y = np.linspace(-5, 5, 100)\n",
    "X, Y = np.meshgrid(x, y)\n",
    "Z = f(X, Y)\n",
    "\n",
    "# record metrics in TensorBoard\n",
    "with summary_writer.as_default():\n",
    "    tf.summary.tensor('2D Function', Z, step=0)"
   ]
  }
 ],
 "metadata": {
  "language_info": {
   "name": "python"
  },
  "orig_nbformat": 4
 },
 "nbformat": 4,
 "nbformat_minor": 2
}
