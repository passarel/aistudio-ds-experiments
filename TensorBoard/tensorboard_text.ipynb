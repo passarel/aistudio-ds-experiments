{
 "cells": [
  {
   "cell_type": "code",
   "execution_count": null,
   "metadata": {},
   "outputs": [],
   "source": [
    "import tensorflow as tf\n",
    "import numpy as np\n",
    "from PIL import Image"
   ]
  },
  {
   "cell_type": "code",
   "execution_count": null,
   "metadata": {},
   "outputs": [],
   "source": [
    "test_summary_writer = tf.summary.create_file_writer('/phoenix/tensorboard/tensorlogs')\n",
    "with test_summary_writer.as_default():\n",
    "    tf.summary.text('first_text', 'hello world!', step=0)\n",
    "    tf.summary.text('first_text', 'nice to meet you!', step=1)"
   ]
  }
 ],
 "metadata": {
  "language_info": {
   "name": "python"
  }
 },
 "nbformat": 4,
 "nbformat_minor": 2
}
